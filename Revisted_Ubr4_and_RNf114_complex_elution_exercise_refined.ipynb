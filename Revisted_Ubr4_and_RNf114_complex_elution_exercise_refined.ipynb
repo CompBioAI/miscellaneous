{
 "cells": [
  {
   "cell_type": "markdown",
   "id": "364f9f75",
   "metadata": {},
   "source": [
    "### Imports"
   ]
  },
  {
   "cell_type": "code",
   "execution_count": 1,
   "id": "e54247cc",
   "metadata": {
    "ExecuteTime": {
     "end_time": "2022-10-28T05:25:18.356010Z",
     "start_time": "2022-10-28T05:25:01.103154Z"
    }
   },
   "outputs": [],
   "source": [
    "import numpy as np\n",
    "import pandas as pd\n",
    "import seaborn as sns\n",
    "from matplotlib import pyplot as plt\n",
    "import os\n",
    "from natsort import natsorted\n",
    "from scipy.signal import argrelextrema\n",
    "import statistics\n",
    "from scipy.stats import skew\n",
    "from itertools import chain\n",
    "from itertools import groupby\n",
    "import pubchempy as pcp\n",
    "import math\n",
    "import requests\n",
    "import similaritymeasures as sm\n",
    "from tqdm import tqdm"
   ]
  },
  {
   "cell_type": "markdown",
   "id": "c760af42",
   "metadata": {},
   "source": [
    "### Importing Data from PROMIS experiments"
   ]
  },
  {
   "cell_type": "code",
   "execution_count": 2,
   "id": "dcd78759",
   "metadata": {
    "ExecuteTime": {
     "end_time": "2022-10-28T05:25:24.724881Z",
     "start_time": "2022-10-28T05:25:24.702046Z"
    }
   },
   "outputs": [],
   "source": [
    "#Set initial variables for importing proteomics and metabolomics data\n",
    "plant_names = ['P8', 'P12', 'P15', 'P25', 'P33', 'P45', 'P60', 'P68', 'P71', 'P75', 'P99', 'P101', 'P102', 'P107','P113', 'P116', 'P118', 'P125', 'P126', 'P132', 'P133', 'P136', 'P140', 'P349','P473','P477', 'Control2']\n",
    "\n",
    "n_fracs = [40,54,43,57,43,40,52,44,45,39,57,43,43,39,44,80,50,41,49,43,41,38,41,47,46,47,40]\n",
    "\n",
    "dfp = {}\n",
    "dfm = {}\n",
    "fixed_dfm = {}\n",
    "unique_dfp = {}"
   ]
  },
  {
   "cell_type": "code",
   "execution_count": 3,
   "id": "bfaddaeb",
   "metadata": {
    "ExecuteTime": {
     "end_time": "2022-10-28T05:25:25.700262Z",
     "start_time": "2022-10-28T05:25:25.688210Z"
    }
   },
   "outputs": [
    {
     "name": "stdout",
     "output_type": "stream",
     "text": [
      "27 27\n"
     ]
    }
   ],
   "source": [
    "print(len(n_fracs), len(plant_names))"
   ]
  },
  {
   "cell_type": "code",
   "execution_count": 4,
   "id": "2d21804e",
   "metadata": {
    "ExecuteTime": {
     "end_time": "2022-10-28T05:27:01.220356Z",
     "start_time": "2022-10-28T05:25:27.045141Z"
    }
   },
   "outputs": [
    {
     "name": "stdout",
     "output_type": "stream",
     "text": [
      "P8: dfp = (2205, 40)\n",
      "P12: dfp = (2107, 54)\n",
      "P15: dfp = (3302, 43)\n",
      "P25: dfp = (2998, 57)\n",
      "P33: dfp = (3102, 43)\n",
      "P45: dfp = (2464, 40)\n",
      "P60: dfp = (2743, 52)\n",
      "P68: dfp = (2957, 44)\n",
      "P71: dfp = (3138, 45)\n",
      "P75: dfp = (2984, 39)\n",
      "P99: dfp = (2419, 57)\n",
      "P101: dfp = (3212, 43)\n",
      "P102: dfp = (2407, 43)\n",
      "P107: dfp = (3263, 39)\n",
      "P113: dfp = (2926, 44)\n",
      "P116: dfp = (2820, 80)\n",
      "P118: dfp = (3864, 50)\n",
      "P125: dfp = (2471, 41)\n",
      "P126: dfp = (3709, 49)\n",
      "P132: dfp = (3368, 43)\n",
      "P133: dfp = (4167, 41)\n",
      "P136: dfp = (2573, 38)\n",
      "P140: dfp = (3208, 41)\n",
      "P349: dfp = (2908, 47)\n",
      "P473: dfp = (3028, 46)\n",
      "P477: dfp = (3486, 47)\n",
      "Control2: dfp = (2953, 40)\n"
     ]
    }
   ],
   "source": [
    "frac =[]\n",
    "plant_list = []\n",
    "#first let's get the protein curves for all plants\n",
    "for i,plant in enumerate(plant_names):\n",
    "    #Import raw protein data\n",
    "    #cvl_map = pd.read_csv(os.path.join('data','plate_cvl_mapping.csv'),index_col=0)\n",
    "    cvl_map = pd.read_csv(os.path.join('D:/PROMISed_Data','plate_cvl_mapping.csv'),index_col=0)\n",
    "    cvl_map = cvl_map.loc[cvl_map.plant== plant]\n",
    "    #proteomics_path = './data/' + plant + '/Fragpipe_' + plant + '(R)/'\n",
    "    proteomics_path = 'D:/PROMISed_Data/' + plant + '/Fragpipe_' + plant + '(R)/'\n",
    "    protein_raw_df = pd.read_csv(os.path.join(proteomics_path,'combined_protein.tsv'),sep='\\t')\n",
    "\n",
    "   #filter\n",
    "    protein_raw_df = protein_raw_df[protein_raw_df[\"Protein ID\"].str.contains(\"contam_sp\") == False]\n",
    "    protein_raw_df = protein_raw_df[protein_raw_df[\"Description\"].str.contains(\"Keratin\") == False]\n",
    "    protein_raw_df = protein_raw_df[protein_raw_df[\"Combined Unique Spectral Count\"] >= 2]\n",
    "   \n",
    "    \n",
    "    #Get number of unique peptides\n",
    "    for exp in [f for f in os.listdir(proteomics_path) if f[:3]=='exp']:\n",
    "        frac_df = pd.read_csv(os.path.join(proteomics_path,exp,'protein.tsv'),sep='\\t')\n",
    "        protein_raw_df = pd.merge(protein_raw_df,frac_df[['Protein ID','Unique Peptides']],how='left',on='Protein ID')\n",
    "        protein_raw_df = protein_raw_df.rename(columns={'Unique Peptides':f'{exp}_upeps'})\n",
    "    protein_df = protein_raw_df.copy()\n",
    "    #print('protein_df= ' +str(protein_df.shape))\n",
    "\n",
    "    #Get column names for the protein data frame\n",
    "    exp_cvl = {r[1]['exp']+' Unique Intensity':\n",
    "           r[1]['fraction'] for r in cvl_map.iterrows()}\n",
    "    \n",
    "    # we only want to keep the id column, abundance columns (Unique Intensity)\n",
    "    abundance_cols = [e for e in exp_cvl.keys()]\n",
    "    protein_df = protein_raw_df[['Protein ID']+abundance_cols].set_index('Protein ID')\n",
    "    protein_df = protein_df.rename(columns=exp_cvl)\n",
    "    dfp[plant] = protein_df.copy()\n",
    "    print(str(plant)+ ': dfp ' +\"= \"+str(dfp[plant].shape))\n",
    "    \n",
    "    pl = plant\n",
    "    plant_list.append(pl)\n",
    "    f = dfp[plant].shape[1]\n",
    "    frac.append(f)\n",
    "frac_dict = dict(zip(plant_list, frac))\n"
   ]
  },
  {
   "cell_type": "code",
   "execution_count": 5,
   "id": "05ef5672",
   "metadata": {
    "ExecuteTime": {
     "end_time": "2022-10-28T05:29:58.086821Z",
     "start_time": "2022-10-28T05:27:01.220356Z"
    }
   },
   "outputs": [
    {
     "name": "stderr",
     "output_type": "stream",
     "text": [
      "27it [02:56,  6.54s/it]\n"
     ]
    }
   ],
   "source": [
    "# now let's get the metabolite curves\n",
    "for i,plant in tqdm(enumerate(plant_names)):\n",
    "    #Import raw metabolite data (these data are uploded in the S3 Browser /enveda-data-raw/lcms/kundan/PROMISed_data)\n",
    "    cvl_map = pd.read_csv(os.path.join('D:/PROMISed_Data','plate_cvl_mapping.csv'),index_col=0)\n",
    "    cvl_map = cvl_map.loc[cvl_map.plant== plant]\n",
    "    #metabol_raw_df = pd.read_csv(\"./data/\" + plant +  \"/metabolomics/Height_0_2022.txt\", sep='\\t',skiprows=4)\n",
    "    metabol_raw_df = pd.read_csv(\"D:/PROMISed_Data/\" + plant +  \"/metabolomics/Area.txt\", sep='\\t',skiprows=4)\n",
    "    metabol_raw_df = metabol_raw_df.loc[metabol_raw_df['MS/MS assigned'] == True]\n",
    "    metabol_df = metabol_raw_df.copy()\n",
    "\n",
    "    #Reformat metabol_df data frame\n",
    "    #We only keep the abundance columns and the Metabolites column\n",
    "    abundance_cols_map = {r[1]['meta_cvl'] +'_P':r[1]['fraction'] for r in cvl_map.iterrows()}\n",
    "    metabol_df['Metabolites']= metabol_df[['Alignment ID','Average Rt(min)','Average Mz']].apply(\n",
    "                            lambda x: '_'.join([str(int(x.iloc[0])),str(x.iloc[1]),str(x.iloc[2])]),axis=1)\n",
    "\n",
    "#    metabol_df_spec = metabol_df.set_index_('Alignment ID')\n",
    "    metabol_df = metabol_df[['Metabolites']+list(abundance_cols_map.keys())].set_index('Metabolites')\n",
    "    metabol_df = metabol_df.rename(columns=abundance_cols_map)\n",
    "    \n",
    "    dfm[plant] = metabol_df.copy()\n",
    "    #print(str(plant)+ ': dfm = '+str(dfm[plant].shape))"
   ]
  },
  {
   "cell_type": "code",
   "execution_count": 6,
   "id": "de931c99",
   "metadata": {
    "ExecuteTime": {
     "end_time": "2022-10-28T05:29:58.118117Z",
     "start_time": "2022-10-28T05:29:58.086821Z"
    }
   },
   "outputs": [
    {
     "name": "stdout",
     "output_type": "stream",
     "text": [
      "(2953, 40) (6001, 40)\n"
     ]
    }
   ],
   "source": [
    "print(dfp[plant].shape, dfm[plant].shape)"
   ]
  },
  {
   "cell_type": "code",
   "execution_count": 7,
   "id": "4adf4e98",
   "metadata": {
    "ExecuteTime": {
     "end_time": "2022-10-28T05:29:58.157058Z",
     "start_time": "2022-10-28T05:29:58.122995Z"
    }
   },
   "outputs": [],
   "source": [
    "#Create mapping from columns to cvl mapping\n",
    "all_fracs = ['P{0}_{1}{2}'.format(x,y,z) for x in [1,2] for y in ['A','B','C','D','E'] for z in list(range(1,9))]\n",
    "all_fracs = {v:i for i, v in enumerate(all_fracs)}\n",
    "\n",
    "def get_frac_vector(row, fracs_map):\n",
    "    # row is a series (index are the plate fractions)\n",
    "    # fracs_map is a dict whose keys are the fraction names e.g. Pt1_A8 and values are integers (0-79)\n",
    "    # return a ndarray\n",
    "    vec = np.zeros(len(fracs_map))\n",
    "    blanks = -1*np.ones(len(fracs_map))\n",
    "    for v in row.index:\n",
    "        vec[fracs_map[v]] = row[v]\n",
    "        blanks[fracs_map[v]] = 0\n",
    "    if all(x == 0 for x in vec):\n",
    "        return vec, blanks\n",
    "    else:\n",
    "        #return vec/vec.max(), blanks\n",
    "        return vec, blanks"
   ]
  },
  {
   "cell_type": "code",
   "execution_count": 8,
   "id": "40eea8fc",
   "metadata": {
    "ExecuteTime": {
     "end_time": "2022-10-28T05:35:21.040860Z",
     "start_time": "2022-10-28T05:31:54.113020Z"
    }
   },
   "outputs": [
    {
     "name": "stderr",
     "output_type": "stream",
     "text": [
      "100%|██████████████████████████████████████████████████████████████████████████████████| 27/27 [03:26<00:00,  7.66s/it]\n"
     ]
    }
   ],
   "source": [
    "dfp_80 = {}\n",
    "dfm_80 = {}\n",
    "all_blanks = []\n",
    "\n",
    "for plant in tqdm(plant_names):\n",
    "    #Set initial variables\n",
    "    corrected_fractions = np.zeros((dfp[plant].shape[0], len(all_fracs)))\n",
    "    protein_names = dfp[plant].index.values\n",
    "\n",
    "    #Get 80 fractions for each protein\n",
    "    for i,protein in enumerate(protein_names):\n",
    "        corrected_fractions[i,:] = get_frac_vector(dfp[plant].loc[protein], all_fracs)[0]\n",
    "\n",
    "    #Create new protein data frame with 80 fractions\n",
    "    blanks = get_frac_vector(dfp[plant].loc[protein], all_fracs)[1]\n",
    "    dfp_80[plant] = pd.DataFrame(corrected_fractions)\n",
    "    dfp_80[plant]['Protein ID'] = protein_names\n",
    "    dfp_80[plant] = dfp_80[plant].set_index('Protein ID')\n",
    "\n",
    "    #Set initial variables\n",
    "    corrected_fractions = np.zeros((dfm[plant].shape[0], len(all_fracs)))\n",
    "    metabol_names = dfm[plant].index.values\n",
    "\n",
    "    #Get 80 fractions for each metabolite\n",
    "    for i,metabol in enumerate(metabol_names):\n",
    "        corrected_fractions[i,:] = get_frac_vector(dfm[plant].loc[metabol], all_fracs)[0]\n",
    "    \n",
    "    #Create new metabolite data frame with 80 fractions\n",
    "    dfm_80[plant] = pd.DataFrame(corrected_fractions)\n",
    "    dfm_80[plant]['Metabolite ID'] = metabol_names\n",
    "    dfm_80[plant] = dfm_80[plant].set_index('Metabolite ID')\n",
    "    all_blanks.append(blanks)\n",
    "    \n",
    "#dfp_80['Control'] = control_dfp.copy()\n",
    "\n",
    "#Get protein IDs\n",
    "protein_names = []\n",
    "for i,plant in enumerate(plant_names):\n",
    "    protein_names.append(list(dfp[plant].loc[~(dfp[plant] == 0).all(axis=1)].index.values))"
   ]
  },
  {
   "cell_type": "code",
   "execution_count": 9,
   "id": "08f72d0c",
   "metadata": {
    "ExecuteTime": {
     "end_time": "2022-10-28T05:35:21.056303Z",
     "start_time": "2022-10-28T05:35:21.044147Z"
    }
   },
   "outputs": [
    {
     "name": "stdout",
     "output_type": "stream",
     "text": [
      "P8 (2205, 80)\n",
      "P12 (2107, 80)\n",
      "P15 (3302, 80)\n",
      "P25 (2998, 80)\n",
      "P33 (3102, 80)\n",
      "P45 (2464, 80)\n",
      "P60 (2743, 80)\n",
      "P68 (2957, 80)\n",
      "P71 (3138, 80)\n",
      "P75 (2984, 80)\n",
      "P99 (2419, 80)\n",
      "P101 (3212, 80)\n",
      "P102 (2407, 80)\n",
      "P107 (3263, 80)\n",
      "P113 (2926, 80)\n",
      "P116 (2820, 80)\n",
      "P118 (3864, 80)\n",
      "P125 (2471, 80)\n",
      "P126 (3709, 80)\n",
      "P132 (3368, 80)\n",
      "P133 (4167, 80)\n",
      "P136 (2573, 80)\n",
      "P140 (3208, 80)\n",
      "P349 (2908, 80)\n",
      "P473 (3028, 80)\n",
      "P477 (3486, 80)\n",
      "Control2 (2953, 80)\n"
     ]
    }
   ],
   "source": [
    "for plant in plant_names:\n",
    "    print(plant, dfp_80[plant].shape)"
   ]
  },
  {
   "cell_type": "code",
   "execution_count": 10,
   "id": "81cf54e8",
   "metadata": {
    "ExecuteTime": {
     "end_time": "2022-10-28T05:35:21.273967Z",
     "start_time": "2022-10-28T05:35:21.058562Z"
    }
   },
   "outputs": [],
   "source": [
    "protein_db = pd.read_csv('all_proteomics_db_new.tsv', sep = \"\\t\")"
   ]
  },
  {
   "cell_type": "code",
   "execution_count": 11,
   "id": "636d1f78",
   "metadata": {
    "ExecuteTime": {
     "end_time": "2022-10-28T05:35:21.319354Z",
     "start_time": "2022-10-28T05:35:21.278096Z"
    }
   },
   "outputs": [],
   "source": [
    "protein_db = protein_db.iloc[:,1:]"
   ]
  },
  {
   "cell_type": "code",
   "execution_count": 12,
   "id": "bb613c34",
   "metadata": {
    "ExecuteTime": {
     "end_time": "2022-10-28T05:35:21.357496Z",
     "start_time": "2022-10-28T05:35:21.320384Z"
    }
   },
   "outputs": [
    {
     "data": {
      "text/html": [
       "<div>\n",
       "<style scoped>\n",
       "    .dataframe tbody tr th:only-of-type {\n",
       "        vertical-align: middle;\n",
       "    }\n",
       "\n",
       "    .dataframe tbody tr th {\n",
       "        vertical-align: top;\n",
       "    }\n",
       "\n",
       "    .dataframe thead th {\n",
       "        text-align: right;\n",
       "    }\n",
       "</style>\n",
       "<table border=\"1\" class=\"dataframe\">\n",
       "  <thead>\n",
       "    <tr style=\"text-align: right;\">\n",
       "      <th></th>\n",
       "      <th>Uniprot_ID</th>\n",
       "      <th>Protein_name</th>\n",
       "      <th>Gene_name</th>\n",
       "      <th>Organism_name</th>\n",
       "      <th>Experiment</th>\n",
       "      <th>Study</th>\n",
       "    </tr>\n",
       "  </thead>\n",
       "  <tbody>\n",
       "    <tr>\n",
       "      <th>0</th>\n",
       "      <td>A2AJL3</td>\n",
       "      <td>FGGY carbohydrate kinase domain-containing pro...</td>\n",
       "      <td>Fggy</td>\n",
       "      <td>Mouse</td>\n",
       "      <td>CDAA_NASH</td>\n",
       "      <td>LipQuant</td>\n",
       "    </tr>\n",
       "    <tr>\n",
       "      <th>1</th>\n",
       "      <td>A2AS89</td>\n",
       "      <td>Agmatinase, mitochondrial</td>\n",
       "      <td>Agmat</td>\n",
       "      <td>Mouse</td>\n",
       "      <td>CDAA_NASH</td>\n",
       "      <td>LipQuant</td>\n",
       "    </tr>\n",
       "  </tbody>\n",
       "</table>\n",
       "</div>"
      ],
      "text/plain": [
       "  Uniprot_ID                                       Protein_name Gene_name  \\\n",
       "0     A2AJL3  FGGY carbohydrate kinase domain-containing pro...      Fggy   \n",
       "1     A2AS89                          Agmatinase, mitochondrial     Agmat   \n",
       "\n",
       "  Organism_name Experiment     Study  \n",
       "0         Mouse  CDAA_NASH  LipQuant  \n",
       "1         Mouse  CDAA_NASH  LipQuant  "
      ]
     },
     "execution_count": 12,
     "metadata": {},
     "output_type": "execute_result"
    }
   ],
   "source": [
    "protein_db.head(2)"
   ]
  },
  {
   "cell_type": "code",
   "execution_count": 13,
   "id": "af50ef7f",
   "metadata": {
    "ExecuteTime": {
     "end_time": "2022-10-28T05:35:21.373673Z",
     "start_time": "2022-10-28T05:35:21.358495Z"
    }
   },
   "outputs": [
    {
     "data": {
      "text/plain": [
       "(125508, 6)"
      ]
     },
     "execution_count": 13,
     "metadata": {},
     "output_type": "execute_result"
    }
   ],
   "source": [
    "protein_db.shape"
   ]
  },
  {
   "cell_type": "code",
   "execution_count": 14,
   "id": "fe026e71",
   "metadata": {
    "ExecuteTime": {
     "end_time": "2022-10-28T05:35:21.455168Z",
     "start_time": "2022-10-28T05:35:21.375688Z"
    }
   },
   "outputs": [],
   "source": [
    "protein_list = ['Ubr4', 'Rnf114']\n",
    "protein_list = list(map(str.lower,protein_list))\n",
    "selected_protein_db = protein_db[protein_db['Gene_name'].str.lower().isin(protein_list)]\n",
    "selected_protein_db = selected_protein_db[selected_protein_db['Study'] == 'PROMIS']\n",
    "\n",
    "selected_protein_db_in_plant = selected_protein_db[selected_protein_db['Experiment'].isin(plant_names)]\n",
    "selected_protein_db_control = selected_protein_db[selected_protein_db['Experiment'] == 'Control2']\n",
    "\n",
    "plant_Uniprot_ID_list = list(selected_protein_db_in_plant['Uniprot_ID'])\n",
    "control_Uniprot_ID_list = list(selected_protein_db_control['Uniprot_ID'])"
   ]
  },
  {
   "cell_type": "code",
   "execution_count": 15,
   "id": "3a98a197",
   "metadata": {
    "ExecuteTime": {
     "end_time": "2022-10-28T05:35:49.985879Z",
     "start_time": "2022-10-28T05:35:49.971883Z"
    }
   },
   "outputs": [],
   "source": [
    "plant_only = ['P8', 'P12', 'P33', 'P45', 'P60', 'P68', 'P71', 'P75', 'P99', 'P101', 'P102', 'P107', 'P116', 'P118', 'P125', 'P126', 'P132', 'P133', 'P136', 'P140', 'P349','P473','P477']\n",
    "control_data = ['Control2']"
   ]
  },
  {
   "cell_type": "code",
   "execution_count": 16,
   "id": "0420534e",
   "metadata": {
    "ExecuteTime": {
     "end_time": "2022-10-28T05:35:50.352876Z",
     "start_time": "2022-10-28T05:35:50.337218Z"
    }
   },
   "outputs": [],
   "source": [
    "# excluded plant (P116, P125 for Ubr4) and (P116 for rnf) as they are not in stable fraction\n",
    "plant_names_ubr4 = ['P140', 'P102', 'P136', 'P15', 'P99', 'P126', 'P33', 'P477', 'P133', 'P113', 'P75', 'P132', 'P45', 'P101', 'P25', 'P60', 'P118']\n",
    "plant_names_rnf = ['P140', 'P349', 'P473', 'P136', 'P15', 'P99', 'P33', 'P477', 'P133', 'P75', 'P132', 'P45', 'P101', 'P68', 'P60', 'P118', 'P107']"
   ]
  },
  {
   "cell_type": "code",
   "execution_count": 17,
   "id": "b2d6cf7e",
   "metadata": {
    "ExecuteTime": {
     "end_time": "2022-10-28T05:35:51.413553Z",
     "start_time": "2022-10-28T05:35:51.401528Z"
    }
   },
   "outputs": [
    {
     "name": "stdout",
     "output_type": "stream",
     "text": [
      "17 17\n"
     ]
    }
   ],
   "source": [
    "print(len(plant_names_ubr4), len(plant_names_rnf))"
   ]
  },
  {
   "cell_type": "markdown",
   "id": "1009ecf8",
   "metadata": {},
   "source": [
    "* <b>Analysis strats from here</b> "
   ]
  },
  {
   "cell_type": "markdown",
   "id": "0707c774",
   "metadata": {},
   "source": [
    "### 1st part (in which fraction Ubr4/Rnf114 is present in different plant)"
   ]
  },
  {
   "cell_type": "markdown",
   "id": "3c67cbab",
   "metadata": {},
   "source": [
    "#### Ubr4"
   ]
  },
  {
   "cell_type": "code",
   "execution_count": 395,
   "id": "b11c2550",
   "metadata": {
    "ExecuteTime": {
     "end_time": "2022-10-28T19:23:28.272913Z",
     "start_time": "2022-10-28T19:23:28.150232Z"
    }
   },
   "outputs": [
    {
     "name": "stdout",
     "output_type": "stream",
     "text": [
      "P15 [7, 8, 9, 11, 12, 13, 35]\n",
      "P25 [8, 9, 10, 11, 13, 21]\n",
      "P33 [6, 7, 8, 9, 10, 11]\n",
      "P45 [7, 9, 10]\n",
      "P60 [2, 4, 5, 6, 7, 8, 9, 10, 11, 12, 13]\n",
      "P75 [7, 8, 10, 11]\n",
      "P99 [5, 6, 7, 8, 9, 11]\n",
      "P101 [7, 8, 9, 10, 11, 12, 13]\n",
      "P102 [7, 10]\n",
      "P113 [16, 17, 18, 19, 42]\n",
      "P116 [2, 3, 4, 5, 6, 8, 9]\n",
      "P118 [7, 8, 9, 10, 11, 12, 13, 14, 15, 16]\n",
      "P125 [34, 36, 37]\n",
      "P126 [6, 7, 8, 11, 12, 13]\n",
      "P132 [7, 8, 9, 10, 11, 12, 13, 14, 21, 23, 26, 29]\n",
      "P133 [6, 8, 9, 11, 12]\n",
      "P136 [8, 10, 11, 12]\n",
      "P140 [7, 8, 9, 10, 11, 12, 13, 14]\n",
      "P477 [7, 8, 9, 10, 11, 12, 13]\n"
     ]
    }
   ],
   "source": [
    "## in which fraction Ubr4 is present in different plant\n",
    "for plant in plant_names:\n",
    "    cdf = dfp_80[plant]\n",
    "    if 'A2AN08' in cdf.index:\n",
    "        ndf = cdf.loc[['A2AN08']]\n",
    "        \n",
    "        header = []\n",
    "        for i in range(len(ndf.columns)):\n",
    "            header.append(i+1)\n",
    "        ndf.columns=header\n",
    "        \n",
    "        columns = (ndf != 0).any()\n",
    "        columns_list = columns.index[columns].tolist()\n",
    "        #columns = (x != 0).any()\n",
    "        if len(columns_list) >0:\n",
    "            print(plant, columns_list)\n",
    "    else:\n",
    "        continue"
   ]
  },
  {
   "cell_type": "code",
   "execution_count": 396,
   "id": "9694819f",
   "metadata": {
    "ExecuteTime": {
     "end_time": "2022-10-28T19:23:50.470024Z",
     "start_time": "2022-10-28T19:23:32.336178Z"
    }
   },
   "outputs": [
    {
     "name": "stdout",
     "output_type": "stream",
     "text": [
      "P140 (383, 80)\n",
      "P102 (5, 80)\n",
      "P136 (2, 80)\n",
      "P15 (62, 80)\n",
      "P99 (9, 80)\n",
      "P126 (411, 80)\n",
      "P33 (78, 80)\n",
      "P477 (528, 80)\n",
      "P133 (244, 80)\n",
      "P113 (2800, 80)\n",
      "P75 (5, 80)\n",
      "P132 (526, 80)\n",
      "P45 (10, 80)\n",
      "P101 (443, 80)\n",
      "P25 (460, 80)\n",
      "P60 (519, 80)\n",
      "P118 (726, 80)\n"
     ]
    }
   ],
   "source": [
    "#list get all rows that have proteins across the plants which is **stable in 7-13th column** and save them in restpective dataframe\n",
    "dfp_80_baseline_ubr4 = {}\n",
    "\n",
    "for plant in plant_names_ubr4:\n",
    "    current_df = dfp_80[plant]\n",
    "    base_line = pd.DataFrame([])\n",
    "    #print(plant , current_df.shape)\n",
    "    for val in range(0,len(current_df)):\n",
    "        l = list(current_df.iloc[val])\n",
    "        #size = len(l)\n",
    "        if plant == 'P15' and l[6] >0 and l[7] >0 and l[8] >0 and l[9] ==0 and l[10] >0 and l[11] >0 and l[12] >0:\n",
    "            base_line = base_line.append(current_df.iloc[val])\n",
    "            \n",
    "        if plant == 'P25' and (l[6] ==0 and l[7] >0 and l[8] >0 and l[9] >0 and l[10] >0 and l[11] ==0 and l[12] >0):\n",
    "            base_line = base_line.append(current_df.iloc[val])\n",
    "            \n",
    "        if plant == 'P33' and (l[6] >0 and l[7] >0 and l[8] >0 and l[9] >0 and l[10] >0 and l[11] ==0 and l[12] ==0):\n",
    "            base_line = base_line.append(current_df.iloc[val])\n",
    "            \n",
    "        if plant == 'P45' and (l[6] >0 and l[7] ==0 and l[8] >0 and l[9] >0 and l[10] ==0 and l[11] ==0 and l[12] ==0):\n",
    "            base_line = base_line.append(current_df.iloc[val])\n",
    "            \n",
    "        if plant == 'P60' and (l[6] >0 and l[7] >0 and l[8] >0 and l[9] >0 and l[10] >0 and l[11] >0 and l[12] >0):\n",
    "            base_line = base_line.append(current_df.iloc[val])\n",
    "            \n",
    "        if plant == 'P75' and (l[6] >0 and l[7] >0 and l[8] ==0 and l[9] >0 and l[10] >0 and l[11] ==0 and l[12] ==0):\n",
    "            base_line = base_line.append(current_df.iloc[val])\n",
    "            \n",
    "        if plant == 'P99' and (l[6] >0 and l[7] >0 and l[8] >0 and l[9] ==0 and l[10] >0 and l[11] ==0 and l[12] ==0):\n",
    "            base_line = base_line.append(current_df.iloc[val])\n",
    "            \n",
    "        if plant == 'P101' and (l[6] >0 and l[7] >0 and l[8] >0 and l[9] >0 and l[10] >0 and l[11] >0 and l[12] >0):\n",
    "            base_line = base_line.append(current_df.iloc[val])\n",
    "            \n",
    "        if plant == 'P102' and (l[6] >0 and l[7] ==0 and l[8] ==0 and l[9] >0 and l[10] ==0 and l[11] ==0 and l[12] ==0):\n",
    "            base_line = base_line.append(current_df.iloc[val])\n",
    "            \n",
    "        if plant == 'P113' and (l[6] ==0 and l[7] ==0 and l[8] ==0 and l[9] ==0 and l[10] ==0 and l[11] ==0 and l[12]) ==0:\n",
    "            base_line = base_line.append(current_df.iloc[val])\n",
    "            \n",
    "        if plant == 'P116' and (l[6] ==0 and l[7] >0 and l[8] >0 and l[9] ==0 and l[10] ==0 and l[11] ==0 and l[12] ==0):\n",
    "            base_line = base_line.append(current_df.iloc[val])\n",
    "            \n",
    "        if plant == 'P118' and (l[6] >0 and l[7] >0 and l[8] >0 and l[9] >0 and l[10] >0 and l[11] >0 and l[12] >0):\n",
    "            base_line = base_line.append(current_df.iloc[val])\n",
    "            \n",
    "        if plant == 'P125' and (l[6] ==0 and l[7] ==0 and l[8] ==0 and l[9] ==0 and l[10] ==0 and l[11] ==0 and l[12] ==0):\n",
    "            base_line = base_line.append(current_df.iloc[val])\n",
    "        \n",
    "        if plant == 'P126' and (l[6] >0 and l[7] >0 and l[8] ==0 and l[9] ==0 and l[10] >0 and l[11] >0 and l[12] >0):\n",
    "            base_line = base_line.append(current_df.iloc[val])\n",
    "\n",
    "        if plant == 'P132' and (l[6] >0 and l[7] >0 and l[8] >0 and l[9] >0 and l[10] >0 and l[11] >0 and l[12] >0):\n",
    "            base_line = base_line.append(current_df.iloc[val])\n",
    "\n",
    "        if plant == 'P133' and (l[6] ==0 and l[7] >0 and l[8] >0 and l[9] ==0 and l[10] >0 and l[11] >0 and l[12] ==0):\n",
    "            base_line = base_line.append(current_df.iloc[val])\n",
    "\n",
    "        if plant == 'P136' and (l[6] ==0 and l[7] >0 and l[8] ==0 and l[9] >0 and l[10] >0 and l[11] >0 and l[12] ==0):\n",
    "            base_line = base_line.append(current_df.iloc[val])\n",
    "\n",
    "        if plant == 'P140' and (l[6] >0 and l[7] >0 and l[8] >0 and l[9] >0 and l[10] >0 and l[11] >0 and l[12] >0):\n",
    "            base_line = base_line.append(current_df.iloc[val])\n",
    "\n",
    "        if plant == 'P477' and (l[6] >0 and l[7] >0 and l[8] >0 and l[9] >0 and l[10] >0 and l[11] >0 and l[12] >0):\n",
    "            base_line = base_line.append(current_df.iloc[val])\n",
    "            \n",
    "            \n",
    "        else:\n",
    "            continue\n",
    "    dfp_80_baseline_ubr4[plant] = base_line.copy()\n",
    "    print(plant, dfp_80_baseline_ubr4[plant].shape)\n",
    "\n"
   ]
  },
  {
   "cell_type": "markdown",
   "id": "252d1863",
   "metadata": {},
   "source": [
    "##### check"
   ]
  },
  {
   "cell_type": "code",
   "execution_count": 397,
   "id": "b403aa09",
   "metadata": {
    "ExecuteTime": {
     "end_time": "2022-10-28T19:24:02.676330Z",
     "start_time": "2022-10-28T19:24:02.665317Z"
    }
   },
   "outputs": [],
   "source": [
    "#check ok\n",
    "\n",
    "#for plant in plant_names_ubr4:\n",
    "#    if 'A2AN08' in dfp_80_baseline_ubr4[plant].index:\n",
    "#        print('true')\n",
    "#    else:\n",
    "#        print('false')"
   ]
  },
  {
   "cell_type": "code",
   "execution_count": 398,
   "id": "0e7c85a2",
   "metadata": {
    "ExecuteTime": {
     "end_time": "2022-10-28T19:24:03.127898Z",
     "start_time": "2022-10-28T19:24:03.115527Z"
    }
   },
   "outputs": [],
   "source": [
    "#check ok\n",
    "\n",
    "#for plant in plant_names_ubr4:\n",
    "#    tdf = dfp_80[plant]\n",
    "#    if 'A2AN08' in tdf.index:\n",
    "#        ndf = tdf.loc[['A2AN08']]\n",
    "#        ndf.T.plot()   "
   ]
  },
  {
   "cell_type": "markdown",
   "id": "17ad8ef1",
   "metadata": {},
   "source": [
    "##### output"
   ]
  },
  {
   "cell_type": "code",
   "execution_count": 399,
   "id": "4317c010",
   "metadata": {
    "ExecuteTime": {
     "end_time": "2022-10-28T19:24:04.340174Z",
     "start_time": "2022-10-28T19:24:04.321125Z"
    }
   },
   "outputs": [
    {
     "data": {
      "text/plain": [
       "2931"
      ]
     },
     "execution_count": 399,
     "metadata": {},
     "output_type": "execute_result"
    }
   ],
   "source": [
    "#list all the proteins across the plants which is *** stable in 6-12th column ***\n",
    "ubr4_stable = []\n",
    "for plant in plant_names_ubr4:\n",
    "    lst= list(dfp_80_baseline_ubr4[plant].index)\n",
    "    ubr4_stable.extend(lst)\n",
    "\n",
    "ubr4_stable = set(ubr4_stable)\n",
    "len(ubr4_stable)"
   ]
  },
  {
   "cell_type": "code",
   "execution_count": 400,
   "id": "2740ba58",
   "metadata": {
    "ExecuteTime": {
     "end_time": "2022-10-28T19:24:04.962811Z",
     "start_time": "2022-10-28T19:24:04.944991Z"
    }
   },
   "outputs": [],
   "source": [
    "with open('revised_ubr4_stable.txt', 'w') as f:\n",
    "    for i in ubr4_stable:\n",
    "        f.writelines(i+'\\n')"
   ]
  },
  {
   "cell_type": "markdown",
   "id": "b0635cb7",
   "metadata": {},
   "source": [
    "#### Rnf114"
   ]
  },
  {
   "cell_type": "code",
   "execution_count": 401,
   "id": "f3c87ae8",
   "metadata": {
    "ExecuteTime": {
     "end_time": "2022-10-28T19:24:06.789181Z",
     "start_time": "2022-10-28T19:24:06.710278Z"
    }
   },
   "outputs": [
    {
     "name": "stdout",
     "output_type": "stream",
     "text": [
      "P15 [33, 36, 37, 38, 45]\n",
      "P33 [34, 35, 36, 37, 38]\n",
      "P45 [8, 10, 12, 13, 16, 17, 18, 19, 21, 33, 36]\n",
      "P60 [33, 34, 35, 36, 37]\n",
      "P68 [6, 31, 35, 36, 37, 38, 39, 40, 43, 52]\n",
      "P75 [36, 37]\n",
      "P99 [34, 37]\n",
      "P101 [26, 33, 34, 35, 36, 37]\n",
      "P107 [36, 37, 38]\n",
      "P116 [8, 10]\n",
      "P118 [33, 35, 36, 37, 38, 39, 40]\n",
      "P132 [34, 35, 37, 38]\n",
      "P133 [8, 11, 13, 16, 34, 35, 36, 38, 39, 40, 41, 43, 45]\n",
      "P136 [35, 36, 37, 38]\n",
      "P140 [34, 35, 36, 37, 38]\n",
      "P349 [35, 36]\n",
      "P473 [34, 35, 37, 39]\n",
      "P477 [34, 37, 38]\n",
      "Control2 [34, 35, 37, 38]\n"
     ]
    }
   ],
   "source": [
    "## in which fraction Rnf114 is present in different plant\n",
    "for plant in plant_names:\n",
    "    cdf = dfp_80[plant]\n",
    "    if 'Q9ET26' in cdf.index:\n",
    "        ndf = cdf.loc[['Q9ET26']]\n",
    "        \n",
    "        header = []\n",
    "        for i in range(len(ndf.columns)):\n",
    "            header.append(i+1)\n",
    "        ndf.columns=header\n",
    "        \n",
    "        columns = (ndf != 0).any()\n",
    "        columns_list = columns.index[columns].tolist()\n",
    "        #columns = (x != 0).any()\n",
    "        if len(columns_list) >0:\n",
    "            print(plant, columns_list)\n",
    "    else:\n",
    "        continue"
   ]
  },
  {
   "cell_type": "code",
   "execution_count": 402,
   "id": "f7fea3c9",
   "metadata": {
    "ExecuteTime": {
     "end_time": "2022-10-28T19:24:13.600638Z",
     "start_time": "2022-10-28T19:24:07.602181Z"
    }
   },
   "outputs": [
    {
     "name": "stdout",
     "output_type": "stream",
     "text": [
      "P140 (42, 80)\n",
      "P349 (1, 80)\n",
      "P473 (2, 80)\n",
      "P136 (42, 80)\n",
      "P15 (5, 80)\n",
      "P99 (13, 80)\n",
      "P33 (36, 80)\n",
      "P477 (1, 80)\n",
      "P133 (4, 80)\n",
      "P75 (11, 80)\n",
      "P132 (9, 80)\n",
      "P45 (4, 80)\n",
      "P101 (99, 80)\n",
      "P68 (64, 80)\n",
      "P60 (30, 80)\n",
      "P118 (10, 80)\n",
      "P107 (54, 80)\n"
     ]
    }
   ],
   "source": [
    "#list get all rows that have proteins across the plants which is ** stable in 32-37th column ** and save them in restpective dataframe\n",
    "dfp_80_baseline_rnf = {}\n",
    "\n",
    "for plant in plant_names_rnf:\n",
    "    current_df = dfp_80[plant]\n",
    "    base_line = pd.DataFrame([])\n",
    "    #print(plant , current_df.shape)\n",
    "    for val in range(0,len(current_df)):\n",
    "        l = list(current_df.iloc[val])\n",
    "        #size = len(l)\n",
    "        if plant == 'P15' and (l[32] >0 and l[33] ==0 and l[34] ==0 and l[35] >0 and l[36] >0 and l[37] >0):\n",
    "            base_line = base_line.append(current_df.iloc[val])\n",
    "            \n",
    "        if plant == 'P33' and (l[32] ==0 and l[33] >0 and l[34] >0 and l[35] >0 and l[36] >0 and l[37] >0):\n",
    "            base_line = base_line.append(current_df.iloc[val])\n",
    "            \n",
    "        if plant == 'P45' and (l[32] >0 and l[33] ==0 and l[34] ==0 and l[35] >0 and l[36] ==0 and l[37] ==0):\n",
    "            base_line = base_line.append(current_df.iloc[val])\n",
    "            \n",
    "        if plant == 'P60' and (l[32] >0 and l[33] >0 and l[34] >0 and l[35] >0 and l[36] >0 and l[37] ==0):\n",
    "            base_line = base_line.append(current_df.iloc[val])\n",
    "            \n",
    "        if plant == 'P68' and (l[32] ==0 and l[33] ==0 and l[34] >0 and l[35] >0 and l[36] >0 and l[37] >0):\n",
    "            base_line = base_line.append(current_df.iloc[val])\n",
    "            \n",
    "        if plant == 'P75' and (l[32] ==0 and l[33] ==0 and l[34] ==0 and l[35] >0 and l[36] >0 and l[37] ==0):\n",
    "            base_line = base_line.append(current_df.iloc[val])\n",
    "            \n",
    "        if plant == 'P99' and (l[32] ==0 and l[33] >0 and l[34] ==0 and l[35] ==0 and l[36] >0 and l[37] ==0):\n",
    "            base_line = base_line.append(current_df.iloc[val])\n",
    "            \n",
    "        if plant == 'P101' and (l[32] >0 and l[33] >0 and l[34] >0 and l[35] >0 and l[36] >0 and l[37] ==0):\n",
    "            base_line = base_line.append(current_df.iloc[val])\n",
    "            \n",
    "        if plant == 'P107' and (l[32] ==0 and l[33] ==0 and l[34] ==0 and l[35] >0 and l[36] >0 and l[37] >0):\n",
    "            base_line = base_line.append(current_df.iloc[val])\n",
    "            \n",
    "        if plant == 'P116' and (l[32] ==0 and l[33] ==0 and l[34] ==0 and l[35] ==0 and l[36] ==0 and l[37] ==0):\n",
    "            base_line = base_line.append(current_df.iloc[val])\n",
    "            \n",
    "        if plant == 'P118' and (l[32] >0 and l[33] ==0 and l[34] >0 and l[35] >0 and l[36] >0 and l[37] >0):\n",
    "            base_line = base_line.append(current_df.iloc[val])\n",
    "\n",
    "        if plant == 'P132' and (l[32] ==0 and l[33] >0 and l[34] >0 and l[35] ==0 and l[36] >0 and l[37] >0):\n",
    "            base_line = base_line.append(current_df.iloc[val])\n",
    "            \n",
    "        if plant == 'P133' and (l[32] ==0 and l[33] >0 and l[34] >0 and l[35] >0 and l[36] ==0 and l[37] >0):\n",
    "            base_line = base_line.append(current_df.iloc[val])\n",
    "            \n",
    "        if plant == 'P136' and (l[32] ==0 and l[33] ==0 and l[34] >0 and l[35] >0 and l[36] >0 and l[37] >0):\n",
    "            base_line = base_line.append(current_df.iloc[val])\n",
    "\n",
    "        if plant == 'P140' and (l[32] ==0 and l[33] >0 and l[34] >0 and l[35] >0 and l[36] >0 and l[37] >0):\n",
    "            base_line = base_line.append(current_df.iloc[val])\n",
    "            \n",
    "        if plant == 'P349' and (l[32] ==0 and l[33] ==0 and l[34] >0 and l[35] >0 and l[36] ==0 and l[37] ==0):\n",
    "            base_line = base_line.append(current_df.iloc[val])\n",
    "            \n",
    "        if plant == 'P473' and (l[32] ==0 and l[33] >0 and l[34] >0 and l[35] ==0 and l[36] >0 and l[37] >0):\n",
    "            base_line = base_line.append(current_df.iloc[val])\n",
    "            \n",
    "        if plant == 'P477' and (l[32] ==0 and l[33] >0 and l[34] ==0 and l[35] ==0 and l[36] >0 and l[37] >0):\n",
    "            base_line = base_line.append(current_df.iloc[val])           \n",
    "            \n",
    "        else:\n",
    "            continue\n",
    "    dfp_80_baseline_rnf[plant] = base_line.copy()\n",
    "    print(plant, dfp_80_baseline_rnf[plant].shape)\n",
    "\n"
   ]
  },
  {
   "cell_type": "markdown",
   "id": "397f4154",
   "metadata": {},
   "source": [
    "##### check"
   ]
  },
  {
   "cell_type": "code",
   "execution_count": 403,
   "id": "c7cec2e2",
   "metadata": {
    "ExecuteTime": {
     "end_time": "2022-10-28T19:24:15.076578Z",
     "start_time": "2022-10-28T19:24:15.063567Z"
    }
   },
   "outputs": [],
   "source": [
    "#check ok\n",
    "#for plant in plant_names_rnf:\n",
    "#    if 'Q9ET26' in dfp_80_baseline_rnf[plant].index:\n",
    "#        print('true')\n",
    "#    else:\n",
    "#        print('false')"
   ]
  },
  {
   "cell_type": "code",
   "execution_count": 404,
   "id": "d688c5a0",
   "metadata": {
    "ExecuteTime": {
     "end_time": "2022-10-28T19:24:15.666606Z",
     "start_time": "2022-10-28T19:24:15.659458Z"
    }
   },
   "outputs": [],
   "source": [
    "#check ok\n",
    "\n",
    "#for plant in plant_names_ubr4:\n",
    "#    tdf = dfp_80[plant]\n",
    "#    if 'Q9ET26' in tdf.index:\n",
    "#        ndf = tdf.loc[['Q9ET26']]\n",
    "#        ndf.T.plot()   "
   ]
  },
  {
   "cell_type": "markdown",
   "id": "04572aab",
   "metadata": {},
   "source": [
    "##### output"
   ]
  },
  {
   "cell_type": "code",
   "execution_count": 405,
   "id": "2f8d88e5",
   "metadata": {
    "ExecuteTime": {
     "end_time": "2022-10-28T19:24:16.652441Z",
     "start_time": "2022-10-28T19:24:16.637328Z"
    }
   },
   "outputs": [
    {
     "data": {
      "text/plain": [
       "316"
      ]
     },
     "execution_count": 405,
     "metadata": {},
     "output_type": "execute_result"
    }
   ],
   "source": [
    "#list all the proteins across the plants which is *** stable in 32-30th column ***\n",
    "rnf_stable = []\n",
    "for plant in plant_names_rnf:\n",
    "    lst= list(dfp_80_baseline_rnf[plant].index)\n",
    "    rnf_stable.extend(lst)\n",
    "\n",
    "rnf_stable = set(rnf_stable)\n",
    "len(rnf_stable)"
   ]
  },
  {
   "cell_type": "code",
   "execution_count": 406,
   "id": "2ec2bcdb",
   "metadata": {
    "ExecuteTime": {
     "end_time": "2022-10-28T19:24:17.188982Z",
     "start_time": "2022-10-28T19:24:17.175449Z"
    }
   },
   "outputs": [],
   "source": [
    "with open('revised_rnf_stable.txt', 'w') as f:\n",
    "    for i in rnf_stable:\n",
    "        f.writelines(i+'\\n')"
   ]
  },
  {
   "cell_type": "markdown",
   "id": "9c9f7275",
   "metadata": {},
   "source": [
    "#### Control"
   ]
  },
  {
   "cell_type": "code",
   "execution_count": 407,
   "id": "554cdb81",
   "metadata": {
    "ExecuteTime": {
     "end_time": "2022-10-28T19:24:18.304605Z",
     "start_time": "2022-10-28T19:24:18.291605Z"
    }
   },
   "outputs": [
    {
     "name": "stdout",
     "output_type": "stream",
     "text": [
      "A2AN08 []\n",
      "Q9ET26 [34, 35, 37, 38]\n"
     ]
    }
   ],
   "source": [
    "# column for elutions of Ubr4 and rnf114 in the cotrol data\n",
    "for gene in ['A2AN08', 'Q9ET26']:\n",
    "    x = dfp_80['Control2'].loc[[gene]]\n",
    "    \n",
    "    header = []\n",
    "    for i in range(len(x.columns)):\n",
    "        header.append(i+1)\n",
    "    x.columns=header\n",
    "    \n",
    "    columns = (x != 0).any()\n",
    "    columns_list = columns.index[columns].tolist()\n",
    "    print(gene, columns_list)\n"
   ]
  },
  {
   "cell_type": "code",
   "execution_count": 408,
   "id": "1479c6b4",
   "metadata": {
    "ExecuteTime": {
     "end_time": "2022-10-28T19:24:18.853469Z",
     "start_time": "2022-10-28T19:24:18.826817Z"
    }
   },
   "outputs": [
    {
     "data": {
      "text/html": [
       "<div>\n",
       "<style scoped>\n",
       "    .dataframe tbody tr th:only-of-type {\n",
       "        vertical-align: middle;\n",
       "    }\n",
       "\n",
       "    .dataframe tbody tr th {\n",
       "        vertical-align: top;\n",
       "    }\n",
       "\n",
       "    .dataframe thead th {\n",
       "        text-align: right;\n",
       "    }\n",
       "</style>\n",
       "<table border=\"1\" class=\"dataframe\">\n",
       "  <thead>\n",
       "    <tr style=\"text-align: right;\">\n",
       "      <th></th>\n",
       "      <th>30</th>\n",
       "      <th>31</th>\n",
       "      <th>32</th>\n",
       "      <th>33</th>\n",
       "      <th>34</th>\n",
       "      <th>35</th>\n",
       "      <th>36</th>\n",
       "      <th>37</th>\n",
       "      <th>38</th>\n",
       "      <th>39</th>\n",
       "    </tr>\n",
       "    <tr>\n",
       "      <th>Protein ID</th>\n",
       "      <th></th>\n",
       "      <th></th>\n",
       "      <th></th>\n",
       "      <th></th>\n",
       "      <th></th>\n",
       "      <th></th>\n",
       "      <th></th>\n",
       "      <th></th>\n",
       "      <th></th>\n",
       "      <th></th>\n",
       "    </tr>\n",
       "  </thead>\n",
       "  <tbody>\n",
       "    <tr>\n",
       "      <th>Q9ET26</th>\n",
       "      <td>0.0</td>\n",
       "      <td>0.0</td>\n",
       "      <td>0.0</td>\n",
       "      <td>37085448.0</td>\n",
       "      <td>26902316.0</td>\n",
       "      <td>0.0</td>\n",
       "      <td>85466280.0</td>\n",
       "      <td>87729416.0</td>\n",
       "      <td>0.0</td>\n",
       "      <td>0.0</td>\n",
       "    </tr>\n",
       "  </tbody>\n",
       "</table>\n",
       "</div>"
      ],
      "text/plain": [
       "             30   31   32          33          34   35          36  \\\n",
       "Protein ID                                                           \n",
       "Q9ET26      0.0  0.0  0.0  37085448.0  26902316.0  0.0  85466280.0   \n",
       "\n",
       "                    37   38   39  \n",
       "Protein ID                        \n",
       "Q9ET26      87729416.0  0.0  0.0  "
      ]
     },
     "execution_count": 408,
     "metadata": {},
     "output_type": "execute_result"
    }
   ],
   "source": [
    "dfp_80['Control2'].loc[['Q9ET26']].iloc[:,30:40]"
   ]
  },
  {
   "cell_type": "code",
   "execution_count": 409,
   "id": "c0f91c55",
   "metadata": {
    "ExecuteTime": {
     "end_time": "2022-10-28T19:24:20.148620Z",
     "start_time": "2022-10-28T19:24:19.834218Z"
    }
   },
   "outputs": [
    {
     "name": "stdout",
     "output_type": "stream",
     "text": [
      "(10, 80)\n",
      "(10, 80)\n"
     ]
    }
   ],
   "source": [
    "#get all rows that have proteins across the plants which is ** stable ** in the column in which ubr4 and rnf114 is eluting in the control data\n",
    "\n",
    "dfp_80_baseline_control = {}\n",
    "\n",
    "for plant in control_data:\n",
    "    current_df = dfp_80[plant]\n",
    "    rnf_base_line_in_control = pd.DataFrame([])\n",
    "    for val in range(0,len(current_df)):\n",
    "        l = list(current_df.iloc[val])\n",
    "        #size = len(l)\n",
    "        #if l[33] >0 and l[34] >0 and l[35] ==0 and l[36] >0 and l[37] >0: OR\n",
    "        if all(item > 0 for item in l[33:35]) and l[35] ==0 and all(item > 0 for item in l[36:38]):\n",
    "            rnf_base_line_in_control = rnf_base_line_in_control.append(current_df.iloc[val])\n",
    "        else:\n",
    "            continue\n",
    "    dfp_80_baseline_control[plant] = rnf_base_line_in_control.copy()\n",
    "\n",
    "print(rnf_base_line_in_control.shape)\n",
    "print(dfp_80_baseline_control[plant].shape)\n",
    "\n"
   ]
  },
  {
   "cell_type": "markdown",
   "id": "5f2c4802",
   "metadata": {},
   "source": [
    "##### check"
   ]
  },
  {
   "cell_type": "code",
   "execution_count": 410,
   "id": "6812b794",
   "metadata": {
    "ExecuteTime": {
     "end_time": "2022-10-28T19:24:22.356643Z",
     "start_time": "2022-10-28T19:24:22.339363Z"
    }
   },
   "outputs": [],
   "source": [
    "#check ok\n",
    "#for plant in plant_names_rnf:\n",
    "#    if 'Q9ET26' in dfp_80_baseline_control['Control2'].index:\n",
    "#        print('true')\n",
    "#    else:\n",
    "#        print('false')"
   ]
  },
  {
   "cell_type": "code",
   "execution_count": 411,
   "id": "1463c0ef",
   "metadata": {
    "ExecuteTime": {
     "end_time": "2022-10-28T19:24:22.980674Z",
     "start_time": "2022-10-28T19:24:22.969561Z"
    }
   },
   "outputs": [],
   "source": [
    "#check ok\n",
    "\n",
    "#for plant in control_data:\n",
    "#    tdf = dfp_80[plant]\n",
    "#    if 'Q9ET26' in tdf.index:\n",
    "#        ndf = tdf.loc[['Q9ET26']]\n",
    "#        ndf.T.plot()  "
   ]
  },
  {
   "cell_type": "markdown",
   "id": "832bc363",
   "metadata": {},
   "source": [
    "##### output"
   ]
  },
  {
   "cell_type": "code",
   "execution_count": 412,
   "id": "21e833e9",
   "metadata": {
    "ExecuteTime": {
     "end_time": "2022-10-28T19:24:24.069281Z",
     "start_time": "2022-10-28T19:24:24.054636Z"
    }
   },
   "outputs": [
    {
     "data": {
      "text/plain": [
       "10"
      ]
     },
     "execution_count": 412,
     "metadata": {},
     "output_type": "execute_result"
    }
   ],
   "source": [
    "#list all the proteins in the control data which is stable with rnf in different column\n",
    "rnf_stable_in_control = []\n",
    "\n",
    "rnf_stable_in_control = list(rnf_base_line_in_control.index)\n",
    "\n",
    "rnf_stable_in_control = set(rnf_stable_in_control)\n",
    "\n",
    "len(rnf_stable_in_control)"
   ]
  },
  {
   "cell_type": "code",
   "execution_count": 413,
   "id": "2ea85bc2",
   "metadata": {
    "ExecuteTime": {
     "end_time": "2022-10-28T19:24:24.596415Z",
     "start_time": "2022-10-28T19:24:24.582781Z"
    }
   },
   "outputs": [],
   "source": [
    "with open('revised_rnf_stable_in_control.txt', 'w') as f:\n",
    "    for i in rnf_stable_in_control:\n",
    "        f.writelines(i+'\\n')"
   ]
  },
  {
   "cell_type": "markdown",
   "id": "0689c899",
   "metadata": {},
   "source": [
    "### 2nd part"
   ]
  },
  {
   "cell_type": "code",
   "execution_count": 414,
   "id": "d3d72b83",
   "metadata": {
    "ExecuteTime": {
     "end_time": "2022-10-28T19:24:25.546226Z",
     "start_time": "2022-10-28T19:24:25.534230Z"
    }
   },
   "outputs": [],
   "source": [
    "# Compile list of all proteins that are present in plants P133, P116, P45, P101 (where Rnf114, UBR4 fractions have moved/appear,\n",
    "# 2A) and NOT in Control  Lysate (where RNf114, Ubr4; 2B). Subtracted list 2A- (1+2B) = 2C (your output list of proteins).\n",
    "#Output 0"
   ]
  },
  {
   "cell_type": "markdown",
   "id": "3366f867",
   "metadata": {},
   "source": [
    "##### ubr4"
   ]
  },
  {
   "cell_type": "code",
   "execution_count": 415,
   "id": "fd587feb",
   "metadata": {
    "ExecuteTime": {
     "end_time": "2022-10-28T19:24:27.431610Z",
     "start_time": "2022-10-28T19:24:27.413955Z"
    }
   },
   "outputs": [
    {
     "name": "stdout",
     "output_type": "stream",
     "text": [
      "P116 [1, 2, 3, 4, 5, 7, 8]\n",
      "P125 [33, 35, 36]\n",
      "P126 [5, 6, 7, 10, 11, 12]\n",
      "P132 [6, 7, 8, 9, 10, 11, 12, 13, 20, 22, 25, 28]\n",
      "P133 [5, 7, 8, 10, 11]\n"
     ]
    }
   ],
   "source": [
    "## in which fraction ubr4 is present in moving plant\n",
    "for plant in ['P116', 'P125', 'P126', 'P132', 'P133']:\n",
    "    cdf = dfp_80[plant]\n",
    "    if 'A2AN08' in cdf.index:\n",
    "        ndf = cdf.loc[['A2AN08']]\n",
    "        \n",
    "#        header = []\n",
    "#        for i in range(len(ndf.columns)):\n",
    "#            header.append(i+1)\n",
    "#        ndf.columns=header\n",
    "        \n",
    "        columns = (ndf != 0).any()\n",
    "        columns_list = columns.index[columns].tolist()\n",
    "        #columns = (x != 0).any()\n",
    "        if len(columns_list) >0:\n",
    "            print(plant, columns_list)\n",
    "    else:\n",
    "        continue"
   ]
  },
  {
   "cell_type": "code",
   "execution_count": 549,
   "id": "6c3b6221",
   "metadata": {
    "ExecuteTime": {
     "end_time": "2022-10-29T07:50:25.363325Z",
     "start_time": "2022-10-29T07:50:17.608939Z"
    }
   },
   "outputs": [
    {
     "name": "stdout",
     "output_type": "stream",
     "text": [
      "P116 (573, 80)\n",
      "P125 (331, 80)\n",
      "P126 (1066, 80)\n",
      "P132 (269, 80)\n",
      "P133 (1269, 80)\n"
     ]
    }
   ],
   "source": [
    "## moved in with ubr4, present in ** moved ** fractions\n",
    "\n",
    "dfp_80_moved_ubr4 = {}\n",
    "\n",
    "for plant in ['P116', 'P125', 'P126', 'P132', 'P133']:\n",
    "    current_df = dfp_80[plant]\n",
    "    moved_protein = pd.DataFrame([])\n",
    "    #print(plant , current_df.shape)\n",
    "    for val in range(0,len(current_df)):\n",
    "        l = list(current_df.iloc[val])\n",
    "        #size = len(l)\n",
    "        #if plant == 'P116' and l[0] ==0 and all(item > 0 for item in l[1:6]) and l[6] ==0 and all(item > 0 for item in l[7:9]) and all(item == 0 for item in l[9:80]):\n",
    "        if plant == 'P116' and all(item > 0 for item in l[1:6]) and all(item > 0 for item in l[7:9]):\n",
    "            moved_protein = moved_protein.append(current_df.iloc[val])\n",
    "            \n",
    "        #elif plant == 'P125' and all(item == 0 for item in l[0:33]) and l[33] >0 and l[34] ==0 and all(item > 0 for item in l[35:37]) and all(item == 0 for item in l[37:80]):\n",
    "        elif plant == 'P125' and l[33] >0 and all(item > 0 for item in l[35:37]):\n",
    "            moved_protein = moved_protein.append(current_df.iloc[val])\n",
    "            \n",
    "        #elif plant == 'P126' and all(item == 0 for item in l[0:10]) and all(item > 0 for item in l[10:13]) and all(item == 0 for item in l[13:80]):\n",
    "        elif plant == 'P126' and all(item > 0 for item in l[10:13]):\n",
    "            moved_protein = moved_protein.append(current_df.iloc[val])\n",
    "            \n",
    "        #elif plant == 'P132' and all(item == 0 for item in l[0:20]) and l[20] >0  and l[21] ==0 and l[22] >0 and l[23] ==0 and l[24] ==0 and l[25] >0 and l[26] ==0 and l[27] ==0 and l[28] >0 and all(item == 0 for item in l[29:80]):            \n",
    "        elif plant == 'P132' and l[20] >0 and l[22] >0 and l[25] >0 and l[28] >0:\n",
    "            moved_protein = moved_protein.append(current_df.iloc[val])\n",
    "        #elif plant == 'P133' and all(item == 0 for item in l[0:10]) and l[10] >0 and l[11] >0 and all(item == 0 for item in l[12:80]):\n",
    "        elif plant == 'P133' and l[10] >0 and l[11] >0:\n",
    "            moved_protein = moved_protein.append(current_df.iloc[val])\n",
    "            \n",
    "        else:\n",
    "            continue\n",
    "    dfp_80_moved_ubr4[plant] = moved_protein.copy()\n",
    "\n",
    "    print(plant, dfp_80_moved_ubr4[plant].shape)\n"
   ]
  },
  {
   "cell_type": "code",
   "execution_count": 448,
   "id": "2a46bd26",
   "metadata": {
    "ExecuteTime": {
     "end_time": "2022-10-28T19:29:35.008331Z",
     "start_time": "2022-10-28T19:29:33.444352Z"
    },
    "scrolled": true
   },
   "outputs": [
    {
     "name": "stdout",
     "output_type": "stream",
     "text": [
      "P116 (2, 80)\n",
      "P125 (1, 80)\n",
      "P126 (1, 80)\n",
      "P132 (1, 80)\n",
      "P133 (49, 80)\n"
     ]
    }
   ],
   "source": [
    "\"\"\"\n",
    "## moved in with ubr4, present in ** moved ** fractions\n",
    "\n",
    "dfp_80_moved_ubr4 = {}\n",
    "\n",
    "for plant in ['P116', 'P125', 'P126', 'P132', 'P133']:\n",
    "    current_df = dfp_80[plant]\n",
    "    moved_protein = pd.DataFrame([])\n",
    "    #print(plant , current_df.shape)\n",
    "    for val in range(0,len(current_df)):\n",
    "        l = list(current_df.iloc[val])\n",
    "        #size = len(l)\n",
    "        if plant == 'P116' and l[0] ==0 and all(item > 0 for item in l[1:6]) and l[6] ==0 and all(item > 0 for item in l[7:9]) and all(item == 0 for item in l[9:80]):\n",
    "        #if plant == 'P116' and all(item > 0 for item in l[1:6]) and all(item > 0 for item in l[7:9]):\n",
    "            moved_protein = moved_protein.append(current_df.iloc[val])\n",
    "            \n",
    "        elif plant == 'P125' and all(item == 0 for item in l[0:33]) and l[33] >0 and l[34] ==0 and all(item > 0 for item in l[35:37]) and all(item == 0 for item in l[37:80]):\n",
    "        #elif plant == 'P125' and l[33] >0 and all(item > 0 for item in l[35:37]):\n",
    "            moved_protein = moved_protein.append(current_df.iloc[val])\n",
    "            \n",
    "        elif plant == 'P126' and all(item == 0 for item in l[0:5]) and all(item > 0 for item in l[5:8]) and l[8] ==0 and l[9] ==0 and all(item > 0 for item in l[10:13]) and all(item == 0 for item in l[13:80]):\n",
    "        #elif plant == 'P126' and all(item > 0 for item in l[5:8]) and all(item > 0 for item in l[10:13]):\n",
    "            moved_protein = moved_protein.append(current_df.iloc[val])\n",
    "            \n",
    "        elif plant == 'P132' and all(item == 0 for item in l[0:6]) and all(item > 0 for item in l[6:14]) and all(item == 0 for item in l[14:20]) and l[20] >0  and l[21] ==0 and l[22] >0 and l[23] ==0 and l[24] ==0 and l[25] >0 and l[26] ==0 and l[27] ==0 and l[28] >0 and all(item == 0 for item in l[29:80]):            \n",
    "        #elif plant == 'P132' and all(item > 0 for item in l[6:14]) and l[20] >0 and l[25] >0 and l[28] >0:\n",
    "            moved_protein = moved_protein.append(current_df.iloc[val])\n",
    "        elif plant == 'P133' and all(item == 0 for item in l[0:5]) and l[5] >0 and l[6] ==0 and l[7] >0 and l[8] >0 and l[9] ==0 and l[10] >0 and l[11] >0 and all(item == 0 for item in l[12:80]):\n",
    "        #elif plant == 'P133' and l[5] >0 and l[7] >0 and l[8] >0 and l[10] >0 and l[11] >0:\n",
    "            moved_protein = moved_protein.append(current_df.iloc[val])\n",
    "            \n",
    "        else:\n",
    "            continue\n",
    "    dfp_80_moved_ubr4[plant] = moved_protein.copy()\n",
    "\n",
    "    print(plant, dfp_80_moved_ubr4[plant].shape)\n",
    "\"\"\""
   ]
  },
  {
   "cell_type": "markdown",
   "id": "45dcb181",
   "metadata": {},
   "source": [
    "###### check"
   ]
  },
  {
   "cell_type": "code",
   "execution_count": 550,
   "id": "d95c5c71",
   "metadata": {
    "ExecuteTime": {
     "end_time": "2022-10-29T07:50:31.896233Z",
     "start_time": "2022-10-29T07:50:31.888287Z"
    }
   },
   "outputs": [
    {
     "name": "stdout",
     "output_type": "stream",
     "text": [
      "P116 true\n",
      "P125 true\n",
      "P126 true\n",
      "P132 true\n",
      "P133 true\n"
     ]
    }
   ],
   "source": [
    "#check ok\n",
    "for plant in ['P116', 'P125', 'P126', 'P132', 'P133']:\n",
    "    if 'A2AN08' in dfp_80_moved_ubr4[plant].index:\n",
    "        print(plant, 'true')\n",
    "    else:\n",
    "        print(plant, 'false')"
   ]
  },
  {
   "cell_type": "code",
   "execution_count": 551,
   "id": "36aa70d5",
   "metadata": {
    "ExecuteTime": {
     "end_time": "2022-10-29T07:50:37.622807Z",
     "start_time": "2022-10-29T07:50:37.608746Z"
    }
   },
   "outputs": [],
   "source": [
    "#check ok\n",
    "\n",
    "#for plant in dfp_80_moved_ubr4:\n",
    "#    tdf = dfp_80[plant]\n",
    "#    if 'A2AN08' in tdf.index:\n",
    "#        ndf = tdf.loc[['A2AN08']]\n",
    "#        ndf.T.plot() "
   ]
  },
  {
   "cell_type": "markdown",
   "id": "aed3098f",
   "metadata": {},
   "source": [
    "###### output"
   ]
  },
  {
   "cell_type": "code",
   "execution_count": 552,
   "id": "f417aae7",
   "metadata": {
    "ExecuteTime": {
     "end_time": "2022-10-29T07:50:40.993600Z",
     "start_time": "2022-10-29T07:50:40.984662Z"
    }
   },
   "outputs": [
    {
     "data": {
      "text/plain": [
       "1767"
      ]
     },
     "execution_count": 552,
     "metadata": {},
     "output_type": "execute_result"
    }
   ],
   "source": [
    "#list all the proteins across the plants which is moved with Ubr4 in different column\n",
    "ubr4_moved = []\n",
    "for plant in (['P116', 'P125', 'P126', 'P132', 'P133']):\n",
    "    lst= list(dfp_80_moved_ubr4[plant].index)\n",
    "    ubr4_moved.extend(lst)\n",
    "\n",
    "ubr4_moved = set(ubr4_moved)\n",
    "len(ubr4_moved)"
   ]
  },
  {
   "cell_type": "code",
   "execution_count": 553,
   "id": "c1b562fc",
   "metadata": {
    "ExecuteTime": {
     "end_time": "2022-10-29T07:50:53.868045Z",
     "start_time": "2022-10-29T07:50:53.840332Z"
    }
   },
   "outputs": [],
   "source": [
    "with open('revised_ubr4_moved.txt', 'w') as f:\n",
    "    for i in ubr4_moved:\n",
    "        f.writelines(i+'\\n')"
   ]
  },
  {
   "cell_type": "markdown",
   "id": "f72202b4",
   "metadata": {},
   "source": [
    "##### Rnf114"
   ]
  },
  {
   "cell_type": "code",
   "execution_count": 523,
   "id": "410d4bc1",
   "metadata": {
    "ExecuteTime": {
     "end_time": "2022-10-29T07:13:28.094435Z",
     "start_time": "2022-10-29T07:13:28.075142Z"
    }
   },
   "outputs": [
    {
     "name": "stdout",
     "output_type": "stream",
     "text": [
      "P45 [7, 9, 11, 12, 15, 16, 17, 18, 20, 32, 35]\n",
      "P68 [5, 30, 34, 35, 36, 37, 38, 39, 42, 51]\n",
      "P116 [7, 9]\n",
      "P133 [7, 10, 12, 15, 33, 34, 35, 37, 38, 39, 40, 42, 44]\n"
     ]
    }
   ],
   "source": [
    "## in which fraction ubr4 is present in moving plant\n",
    "for plant in ['P45', 'P68', 'P116', 'P133']:\n",
    "    cdf = dfp_80[plant]\n",
    "    if 'Q9ET26' in cdf.index:\n",
    "        ndf = cdf.loc[['Q9ET26']]\n",
    "        \n",
    "#        header = []\n",
    "#        for i in range(len(ndf.columns)):\n",
    "#            header.append(i+1)\n",
    "#        ndf.columns=header\n",
    "        \n",
    "        columns = (ndf != 0).any()\n",
    "        columns_list = columns.index[columns].tolist()\n",
    "        #columns = (x != 0).any()\n",
    "        if len(columns_list) >0:\n",
    "            print(plant, columns_list)\n",
    "    else:\n",
    "        continue"
   ]
  },
  {
   "cell_type": "code",
   "execution_count": 554,
   "id": "57f8e6b4",
   "metadata": {
    "ExecuteTime": {
     "end_time": "2022-10-29T07:59:15.449455Z",
     "start_time": "2022-10-29T07:59:11.930821Z"
    }
   },
   "outputs": [
    {
     "name": "stdout",
     "output_type": "stream",
     "text": [
      "P45 (168, 80)\n",
      "P68 (336, 80)\n",
      "P116 (786, 80)\n",
      "P133 (42, 80)\n"
     ]
    }
   ],
   "source": [
    "## moved in with rnf114, present in ** moved ** fractions\n",
    "## uncomment the if and elif condition statement and comment out the current ones to get the exclusive results\n",
    "dfp_80_moved_rnf = {}\n",
    "\n",
    "for plant in ['P45', 'P68', 'P116', 'P133']:\n",
    "    current_df = dfp_80[plant]\n",
    "    moved_protein = pd.DataFrame([])\n",
    "    #print(plant , current_df.shape)\n",
    "    for val in range(0,len(current_df)):\n",
    "        l = list(current_df.iloc[val])\n",
    "        #size = len(l)\n",
    "        #if plant == 'P45' and all(item == 0 for item in l[0:7]) and l[7] >0 and l[8] ==0 and l[9] >0 and l[10] ==0 and all(item > 0 for item in l[11:13]) and all(item == 0 for item in l[13:15]) and all(item > 0 for item in l[15:19]) and l[19] ==0 and l[20] >0 and all(item == 0 for item in l[21:80]):\n",
    "        if plant == 'P45' and l[7] >0 and l[9] >0 and all(item > 0 for item in l[11:13]) and all(item > 0 for item in l[15:19]) and l[20] >0:\n",
    "            moved_protein = moved_protein.append(current_df.iloc[val])\n",
    "        #elif plant == 'P68' and all(item == 0 for item in l[0:5]) and l[5] >0 and all(item == 0 for item in l[6:41]) ==0 and l[42] >0 and all(item == 0 for item in l[43:51]) and l[51] >0 and all(item == 0 for item in l[52:80]):\n",
    "        elif plant == 'P68' and l[5] >0 and l[42] >0 and l[51] >0:\n",
    "            moved_protein = moved_protein.append(current_df.iloc[val])\n",
    "        #elif plant == 'P116' and all(item == 0 for item in l[0:7]) and l[7] >0 and l[8] ==0 and l[9] >0 and all(item == 0 for item in l[10:80]):\n",
    "        elif plant == 'P116' and l[7] >0 and l[9] >0:\n",
    "            moved_protein = moved_protein.append(current_df.iloc[val])\n",
    "        #elif plant == 'P133' and all(item == 0 for item in l[0:7]) and l[7] >0 and l[8] ==0 and l[9] ==0 and l[10] >0 and l[11] ==0 and l[12] >0 and l[13] ==0 and l[14] ==0 and l[15] >0 and all(item == 0 for item in l[16:80]):\n",
    "        elif plant == 'P133' and l[7] >0 and l[10] >0 and l[12] >0 and l[15] >0 and l[42] >0 and l[44] >0:\n",
    "            moved_protein = moved_protein.append(current_df.iloc[val])\n",
    "            \n",
    "        else:\n",
    "            continue\n",
    "    dfp_80_moved_rnf[plant] = moved_protein.copy()\n",
    "    \n",
    "    print(plant, dfp_80_moved_rnf[plant].shape)\n",
    "\n"
   ]
  },
  {
   "cell_type": "code",
   "execution_count": 454,
   "id": "d9b4136d",
   "metadata": {
    "ExecuteTime": {
     "end_time": "2022-10-28T19:35:27.774668Z",
     "start_time": "2022-10-28T19:35:26.471658Z"
    }
   },
   "outputs": [
    {
     "name": "stdout",
     "output_type": "stream",
     "text": [
      "P45 (1, 80)\n",
      "P68 (1, 80)\n",
      "P116 (1, 80)\n",
      "P133 (1, 80)\n"
     ]
    }
   ],
   "source": [
    "\"\"\"\n",
    "## moved in with rnf114, present in ** moved ** fractions\n",
    "\n",
    "dfp_80_moved_rnf = {}\n",
    "\n",
    "for plant in ['P45', 'P68', 'P116', 'P133']:\n",
    "    current_df = dfp_80[plant]\n",
    "    moved_protein = pd.DataFrame([])\n",
    "    #print(plant , current_df.shape)\n",
    "    for val in range(0,len(current_df)):\n",
    "        l = list(current_df.iloc[val])\n",
    "        #size = len(l)\n",
    "        if plant == 'P45' and all(item == 0 for item in l[0:7]) and l[7] >0 and l[8] ==0 and l[9] >0 and l[10] ==0 and all(item > 0 for item in l[11:13]) and all(item == 0 for item in l[13:15]) and all(item > 0 for item in l[15:19]) and l[19] ==0 and l[20] >0 and all(item == 0 for item in l[21:32]) and l[32] >0 and l[33] ==0 and l[34] ==0 and l[35] >0 and all(item == 0 for item in l[36:80]):\n",
    "        #if plant == 'P45' and l[7] >0 and l[9] >0 and all(item > 0 for item in l[11:13]) and all(item > 0 for item in l[15:19]) and l[20] >0 and l[32] >0 and l[35] >0:\n",
    "            moved_protein = moved_protein.append(current_df.iloc[val])\n",
    "        elif plant == 'P68' and all(item == 0 for item in l[0:5]) and l[5] >0 and all(item == 0 for item in l[6:30]) and l[30] >0 and all(item == 0 for item in l[31:34]) and all(item > 0 for item in l[34:40]) and l[40] ==0 and l[41] ==0 and l[42] >0 and all(item == 0 for item in l[43:51]) and l[51] >0 and all(item == 0 for item in l[52:80]):\n",
    "        #elif plant == 'P68' and l[5] >0 and l[30] >0 and all(item > 0 for item in l[34:40]) and l[42] >0 and l[51] >0:\n",
    "            moved_protein = moved_protein.append(current_df.iloc[val])\n",
    "        elif plant == 'P116' and all(item == 0 for item in l[0:7]) and l[7] >0 and l[8] ==0 and l[9] >0 and all(item == 0 for item in l[10:80]):\n",
    "        #elif plant == 'P116' and l[7] >0 and l[9] >0:\n",
    "            moved_protein = moved_protein.append(current_df.iloc[val])\n",
    "        elif plant == 'P133' and all(item == 0 for item in l[0:7]) and l[7] >0 and l[8] ==0 and l[9] ==0 and l[10] >0 and l[11] ==0 and l[12] >0 and l[13] ==0 and l[14] ==0 and l[15] >0 and all(item == 0 for item in l[16:33]) and all(item > 0 for item in l[33:36]) and l[36] ==0 and all(item > 0 for item in l[37:41]) and l[41] ==0 and l[42] >0 and l[43] ==0 and l[44] >0 and all(item == 0 for item in l[45:80]):\n",
    "        #elif plant == 'P133' and l[7] >0 and l[10] >0 and l[12] >0 and l[15] >0 and all(item > 0 for item in l[33:36]) and all(item > 0 for item in l[37:41]) and l[42] >0 and l[44] >0:\n",
    "            moved_protein = moved_protein.append(current_df.iloc[val])\n",
    "            \n",
    "        else:\n",
    "            continue\n",
    "    dfp_80_moved_rnf[plant] = moved_protein.copy()\n",
    "    \n",
    "    print(plant, dfp_80_moved_rnf[plant].shape)\n",
    "\n",
    "\"\"\""
   ]
  },
  {
   "cell_type": "markdown",
   "id": "3948dd98",
   "metadata": {
    "ExecuteTime": {
     "end_time": "2022-10-28T10:47:30.957131Z",
     "start_time": "2022-10-28T10:47:30.954096Z"
    }
   },
   "source": [
    "###### check"
   ]
  },
  {
   "cell_type": "code",
   "execution_count": 555,
   "id": "53502a77",
   "metadata": {
    "ExecuteTime": {
     "end_time": "2022-10-29T07:59:20.680632Z",
     "start_time": "2022-10-29T07:59:20.666997Z"
    }
   },
   "outputs": [
    {
     "name": "stdout",
     "output_type": "stream",
     "text": [
      "P45 true\n",
      "P68 true\n",
      "P116 true\n",
      "P133 true\n"
     ]
    }
   ],
   "source": [
    "#check ok\n",
    "for plant in ['P45', 'P68', 'P116', 'P133']:\n",
    "    if 'Q9ET26' in dfp_80_moved_rnf[plant].index:\n",
    "        print(plant, 'true')\n",
    "    else:\n",
    "        print(plant, 'false')"
   ]
  },
  {
   "cell_type": "code",
   "execution_count": 556,
   "id": "147729d4",
   "metadata": {
    "ExecuteTime": {
     "end_time": "2022-10-29T07:59:22.951152Z",
     "start_time": "2022-10-29T07:59:22.936037Z"
    }
   },
   "outputs": [],
   "source": [
    "#check ok\n",
    "\n",
    "#for plant in ['P45', 'P68', 'P116', 'P133']:\n",
    "#    tdf = dfp_80[plant]\n",
    "#    if 'Q9ET26' in tdf.index:\n",
    "#        ndf = tdf.loc[['Q9ET26']]\n",
    "#        ndf.T.plot()"
   ]
  },
  {
   "cell_type": "markdown",
   "id": "882650df",
   "metadata": {},
   "source": [
    "###### output"
   ]
  },
  {
   "cell_type": "code",
   "execution_count": 557,
   "id": "9f44d71b",
   "metadata": {
    "ExecuteTime": {
     "end_time": "2022-10-29T07:59:25.762376Z",
     "start_time": "2022-10-29T07:59:25.756305Z"
    }
   },
   "outputs": [
    {
     "data": {
      "text/plain": [
       "986"
      ]
     },
     "execution_count": 557,
     "metadata": {},
     "output_type": "execute_result"
    }
   ],
   "source": [
    "#list all the proteins across the plants which is moved with rnf in different column\n",
    "rnf_moved = []\n",
    "for plant in (['P45', 'P68', 'P116', 'P133']):\n",
    "    lst= list(dfp_80_moved_rnf[plant].index)\n",
    "    rnf_moved.extend(lst)\n",
    "\n",
    "rnf_moved = set(rnf_moved)\n",
    "len(rnf_moved)"
   ]
  },
  {
   "cell_type": "code",
   "execution_count": 558,
   "id": "8a03d880",
   "metadata": {
    "ExecuteTime": {
     "end_time": "2022-10-29T07:59:29.662777Z",
     "start_time": "2022-10-29T07:59:29.640919Z"
    }
   },
   "outputs": [],
   "source": [
    "with open('revised_rnf_moved.txt', 'w') as f:\n",
    "    for i in rnf_moved:\n",
    "        f.writelines(i+'\\n')"
   ]
  },
  {
   "cell_type": "markdown",
   "id": "99aa5bc5",
   "metadata": {},
   "source": [
    "##### Subtraction"
   ]
  },
  {
   "cell_type": "code",
   "execution_count": 564,
   "id": "0a937164",
   "metadata": {
    "ExecuteTime": {
     "end_time": "2022-10-29T07:59:52.073255Z",
     "start_time": "2022-10-29T07:59:52.063895Z"
    }
   },
   "outputs": [
    {
     "data": {
      "text/plain": [
       "848"
      ]
     },
     "execution_count": 564,
     "metadata": {},
     "output_type": "execute_result"
    }
   ],
   "source": [
    "# list 2A \n",
    "# 1 = list of proteins stable with rnf/ubr4 in all plant\n",
    "# 2A = list of proteins moved with rnf/ubr4 in all plants\n",
    "# 2B = list of proteins stable with rnf/ubr4 in control\n",
    "#2C = desired proteins\n",
    "#implement 2A- (1+2B)\n",
    "\n",
    "set2c_rnf = rnf_moved.difference(rnf_stable.union(rnf_stable_in_control))\n",
    "len(set2c_rnf)"
   ]
  },
  {
   "cell_type": "code",
   "execution_count": 565,
   "id": "d77aee8d",
   "metadata": {
    "ExecuteTime": {
     "end_time": "2022-10-29T07:59:52.667449Z",
     "start_time": "2022-10-29T07:59:52.654170Z"
    }
   },
   "outputs": [],
   "source": [
    "with open('revised_subtracted_for_rnf.txt', 'w') as f:\n",
    "    for i in set2c_rnf:\n",
    "        f.writelines(i+'\\n')"
   ]
  },
  {
   "cell_type": "code",
   "execution_count": 566,
   "id": "50b44231",
   "metadata": {
    "ExecuteTime": {
     "end_time": "2022-10-29T07:59:53.039100Z",
     "start_time": "2022-10-29T07:59:53.029481Z"
    }
   },
   "outputs": [
    {
     "data": {
      "text/plain": [
       "194"
      ]
     },
     "execution_count": 566,
     "metadata": {},
     "output_type": "execute_result"
    }
   ],
   "source": [
    "#ubr4_stable_in_control = 0 as not ubr4 in control data\n",
    "\n",
    "set2c_ubr4 = ubr4_moved.difference(ubr4_stable)\n",
    "len(set2c_ubr4)"
   ]
  },
  {
   "cell_type": "code",
   "execution_count": 567,
   "id": "34bd396d",
   "metadata": {
    "ExecuteTime": {
     "end_time": "2022-10-29T07:59:53.356628Z",
     "start_time": "2022-10-29T07:59:53.336770Z"
    }
   },
   "outputs": [],
   "source": [
    "with open('revised_subtracted_for_ubr4.txt', 'w') as f:\n",
    "    for i in set2c_ubr4:\n",
    "        f.writelines(i+'\\n')"
   ]
  },
  {
   "cell_type": "markdown",
   "id": "b22ac23a",
   "metadata": {},
   "source": [
    "### 4th Part"
   ]
  },
  {
   "cell_type": "code",
   "execution_count": 499,
   "id": "84582a57",
   "metadata": {
    "ExecuteTime": {
     "end_time": "2022-10-29T06:59:40.540707Z",
     "start_time": "2022-10-29T06:59:22.204227Z"
    }
   },
   "outputs": [
    {
     "name": "stderr",
     "output_type": "stream",
     "text": [
      "C:\\Users\\kunda\\anaconda3\\lib\\site-packages\\IPython\\core\\interactiveshell.py:3165: DtypeWarning: Columns (5) have mixed types.Specify dtype option on import or set low_memory=False.\n",
      "  has_raised = await self.run_ast_nodes(code_ast.body, cell_name,\n"
     ]
    }
   ],
   "source": [
    "E3_substrate_data = pd.read_csv('M.musculus.E3.txt', sep='\\t')"
   ]
  },
  {
   "cell_type": "code",
   "execution_count": 533,
   "id": "83a4b788",
   "metadata": {
    "ExecuteTime": {
     "end_time": "2022-10-29T07:14:13.849702Z",
     "start_time": "2022-10-29T07:14:13.842783Z"
    },
    "scrolled": true
   },
   "outputs": [
    {
     "data": {
      "text/plain": [
       "(9058544, 18)"
      ]
     },
     "execution_count": 533,
     "metadata": {},
     "output_type": "execute_result"
    }
   ],
   "source": [
    "E3_substrate_data.shape"
   ]
  },
  {
   "cell_type": "code",
   "execution_count": 534,
   "id": "12db1d2d",
   "metadata": {
    "ExecuteTime": {
     "end_time": "2022-10-29T07:14:15.828454Z",
     "start_time": "2022-10-29T07:14:15.807462Z"
    }
   },
   "outputs": [
    {
     "data": {
      "text/html": [
       "<div>\n",
       "<style scoped>\n",
       "    .dataframe tbody tr th:only-of-type {\n",
       "        vertical-align: middle;\n",
       "    }\n",
       "\n",
       "    .dataframe tbody tr th {\n",
       "        vertical-align: top;\n",
       "    }\n",
       "\n",
       "    .dataframe thead th {\n",
       "        text-align: right;\n",
       "    }\n",
       "</style>\n",
       "<table border=\"1\" class=\"dataframe\">\n",
       "  <thead>\n",
       "    <tr style=\"text-align: right;\">\n",
       "      <th></th>\n",
       "      <th>enyz</th>\n",
       "      <th>sub</th>\n",
       "      <th>go</th>\n",
       "      <th>goScore</th>\n",
       "      <th>goLR</th>\n",
       "      <th>domain</th>\n",
       "      <th>domainScore</th>\n",
       "      <th>domainLR</th>\n",
       "      <th>motif</th>\n",
       "      <th>motifScore</th>\n",
       "      <th>motifLR</th>\n",
       "      <th>net</th>\n",
       "      <th>netScore</th>\n",
       "      <th>netLR</th>\n",
       "      <th>interLR</th>\n",
       "      <th>interScore</th>\n",
       "      <th>type</th>\n",
       "      <th>Pvalue</th>\n",
       "    </tr>\n",
       "  </thead>\n",
       "  <tbody>\n",
       "    <tr>\n",
       "      <th>0</th>\n",
       "      <td>Q8C0J2</td>\n",
       "      <td>O35526</td>\n",
       "      <td>GO:0051020 GO:0044877</td>\n",
       "      <td>6.38</td>\n",
       "      <td>1.84</td>\n",
       "      <td>NaN</td>\n",
       "      <td>1.0</td>\n",
       "      <td>1.0</td>\n",
       "      <td>G..R</td>\n",
       "      <td>12.730321</td>\n",
       "      <td>1.00</td>\n",
       "      <td>0</td>\n",
       "      <td>0.0</td>\n",
       "      <td>1.0</td>\n",
       "      <td>1.84</td>\n",
       "      <td>0.56582</td>\n",
       "      <td>E3</td>\n",
       "      <td>0.668744</td>\n",
       "    </tr>\n",
       "    <tr>\n",
       "      <th>1</th>\n",
       "      <td>Q8C0J2</td>\n",
       "      <td>Q3UH99</td>\n",
       "      <td>NaN</td>\n",
       "      <td>1.00</td>\n",
       "      <td>1.00</td>\n",
       "      <td>NaN</td>\n",
       "      <td>1.0</td>\n",
       "      <td>1.0</td>\n",
       "      <td>AA.A..A</td>\n",
       "      <td>30.012846</td>\n",
       "      <td>2.28</td>\n",
       "      <td>0</td>\n",
       "      <td>0.0</td>\n",
       "      <td>1.0</td>\n",
       "      <td>2.28</td>\n",
       "      <td>0.58854</td>\n",
       "      <td>E3</td>\n",
       "      <td>0.470734</td>\n",
       "    </tr>\n",
       "  </tbody>\n",
       "</table>\n",
       "</div>"
      ],
      "text/plain": [
       "     enyz     sub                     go  goScore  goLR domain  domainScore  \\\n",
       "0  Q8C0J2  O35526  GO:0051020 GO:0044877     6.38  1.84    NaN          1.0   \n",
       "1  Q8C0J2  Q3UH99                    NaN     1.00  1.00    NaN          1.0   \n",
       "\n",
       "   domainLR    motif  motifScore  motifLR  net  netScore  netLR  interLR  \\\n",
       "0       1.0     G..R   12.730321     1.00    0       0.0    1.0     1.84   \n",
       "1       1.0  AA.A..A   30.012846     2.28    0       0.0    1.0     2.28   \n",
       "\n",
       "   interScore type    Pvalue  \n",
       "0     0.56582   E3  0.668744  \n",
       "1     0.58854   E3  0.470734  "
      ]
     },
     "execution_count": 534,
     "metadata": {},
     "output_type": "execute_result"
    }
   ],
   "source": [
    "E3_substrate_data.head(2)"
   ]
  },
  {
   "cell_type": "markdown",
   "id": "3c3ffb56",
   "metadata": {},
   "source": [
    "#### Ubr4"
   ]
  },
  {
   "cell_type": "code",
   "execution_count": 571,
   "id": "5fc59e28",
   "metadata": {
    "ExecuteTime": {
     "end_time": "2022-10-29T08:00:53.684812Z",
     "start_time": "2022-10-29T08:00:52.863191Z"
    }
   },
   "outputs": [
    {
     "data": {
      "text/plain": [
       "830"
      ]
     },
     "execution_count": 571,
     "metadata": {},
     "output_type": "execute_result"
    }
   ],
   "source": [
    "Ubr4_moved_protein_in_complex = E3_substrate_data[E3_substrate_data['sub'].isin(ubr4_moved)]\n",
    "Ubr4_substrate = Ubr4_moved_protein_in_complex[Ubr4_moved_protein_in_complex['enyz'].isin(['A2AN08'])]\n",
    "Ubr4_substrate.to_csv('revised_Ubr4_substrate.csv')\n",
    "len(Ubr4_substrate)"
   ]
  },
  {
   "cell_type": "code",
   "execution_count": 572,
   "id": "b7b87a8c",
   "metadata": {
    "ExecuteTime": {
     "end_time": "2022-10-29T08:00:56.369664Z",
     "start_time": "2022-10-29T08:00:53.686396Z"
    }
   },
   "outputs": [
    {
     "name": "stderr",
     "output_type": "stream",
     "text": [
      "100%|███████████████████████████████████████████████████████████████████████████████| 830/830 [00:02<00:00, 313.67it/s]\n"
     ]
    }
   ],
   "source": [
    "# uniprot id, plant, fraction mapping for Ubr4_substrate\n",
    "\n",
    "mapped_plant_ubr4 = []\n",
    "mapped_uid_ubr4 = []\n",
    "mapped_fractions_ubr4 = []\n",
    "\n",
    "for uid in tqdm(Ubr4_substrate['sub'].tolist()):\n",
    "    for plant in ['P116', 'P125', 'P126', 'P132', 'P133']:     # moved plant\n",
    "        current_df = dfp_80_moved_ubr4[plant]\n",
    "        \n",
    "        header = []\n",
    "        for i in range(len(current_df.columns)):\n",
    "            header.append(i+1)        \n",
    "        current_df.columns=header\n",
    "        \n",
    "        if uid in current_df.index:\n",
    "            xy = current_df.loc[[uid]]\n",
    "            columns = (xy != 0).any()\n",
    "            columns_list = columns.index[columns].tolist()\n",
    "            \n",
    "            if len(columns_list) >0:\n",
    "                mapped_plant_ubr4.append(plant)\n",
    "                mapped_uid_ubr4.append(uid)\n",
    "                mapped_fractions_ubr4.append(columns_list)\n",
    "            else:\n",
    "                continue\n",
    "        else:\n",
    "            continue\n",
    "\n",
    "        \n",
    "        \n",
    "substrate_ubr4_plant_fraction = pd.DataFrame(zip(mapped_uid_ubr4, mapped_plant_ubr4, mapped_fractions_ubr4),\n",
    "                           columns =['uniprot_id', 'mapped_plant', 'mapped_fractions'])                 \n",
    "                \n",
    "\n",
    "substrate_ubr4_plant_fraction.to_csv('revised_substrate_ubr4_plant_fraction.csv')"
   ]
  },
  {
   "cell_type": "markdown",
   "id": "72169aff",
   "metadata": {},
   "source": [
    "#### Rnf114"
   ]
  },
  {
   "cell_type": "code",
   "execution_count": 573,
   "id": "fa4af33f",
   "metadata": {
    "ExecuteTime": {
     "end_time": "2022-10-29T08:00:58.202361Z",
     "start_time": "2022-10-29T08:00:57.420739Z"
    }
   },
   "outputs": [
    {
     "data": {
      "text/plain": [
       "771"
      ]
     },
     "execution_count": 573,
     "metadata": {},
     "output_type": "execute_result"
    }
   ],
   "source": [
    "rnf_moved_protein_in_complex = E3_substrate_data[E3_substrate_data['sub'].isin(rnf_moved)]\n",
    "rnf_substrate = rnf_moved_protein_in_complex[rnf_moved_protein_in_complex['enyz'].isin(['Q9ET26'])]\n",
    "rnf_substrate.to_csv('revised_rnf_substrate.csv')\n",
    "len(rnf_substrate)"
   ]
  },
  {
   "cell_type": "code",
   "execution_count": 574,
   "id": "13c38c60",
   "metadata": {
    "ExecuteTime": {
     "end_time": "2022-10-29T08:01:07.388132Z",
     "start_time": "2022-10-29T08:01:05.621078Z"
    }
   },
   "outputs": [
    {
     "name": "stderr",
     "output_type": "stream",
     "text": [
      "100%|███████████████████████████████████████████████████████████████████████████████| 771/771 [00:01<00:00, 446.33it/s]\n"
     ]
    }
   ],
   "source": [
    "# uniprot id, plant, fraction mapping for rnf_substrate\n",
    "\n",
    "mapped_plant_rnf = []\n",
    "mapped_uid_rnf = []\n",
    "mapped_fractions_rnf = []\n",
    "\n",
    "for uid in tqdm(rnf_substrate['sub'].tolist()):\n",
    "    for plant in ['P45', 'P68', 'P116', 'P133']:     # moved plant\n",
    "        current_df = dfp_80_moved_rnf[plant]\n",
    "        \n",
    "        header = []\n",
    "        for i in range(len(current_df.columns)):\n",
    "            header.append(i+1)        \n",
    "        current_df.columns=header\n",
    "        \n",
    "        if uid in current_df.index:\n",
    "            xy = current_df.loc[[uid]]\n",
    "            columns = (xy != 0).any()\n",
    "            columns_list = columns.index[columns].tolist()\n",
    "            \n",
    "            if len(columns_list) >0:\n",
    "                mapped_plant_rnf.append(plant)\n",
    "                mapped_uid_rnf.append(uid)\n",
    "                mapped_fractions_rnf.append(columns_list)\n",
    "            else:\n",
    "                continue\n",
    "        else:\n",
    "            continue\n",
    "\n",
    "        \n",
    "        \n",
    "substrate_rnf_plant_fraction = pd.DataFrame(zip(mapped_uid_rnf, mapped_plant_rnf, mapped_fractions_rnf),\n",
    "                           columns =['uniprot_id', 'mapped_plant', 'mapped_fractions'])                 \n",
    "                \n",
    "\n",
    "substrate_rnf_plant_fraction.to_csv('revised_substrate_rnf_plant_fraction.csv')"
   ]
  },
  {
   "cell_type": "code",
   "execution_count": null,
   "id": "4541386d",
   "metadata": {},
   "outputs": [],
   "source": []
  },
  {
   "cell_type": "code",
   "execution_count": null,
   "id": "72205d1b",
   "metadata": {},
   "outputs": [],
   "source": []
  },
  {
   "cell_type": "markdown",
   "id": "f70a97d8",
   "metadata": {},
   "source": [
    "### 3rd part"
   ]
  },
  {
   "cell_type": "code",
   "execution_count": 575,
   "id": "ce9d4aaa",
   "metadata": {
    "ExecuteTime": {
     "end_time": "2022-10-29T08:01:11.965680Z",
     "start_time": "2022-10-29T08:01:11.842383Z"
    }
   },
   "outputs": [],
   "source": [
    "corum_db = pd.read_csv('allComplexes/allComplexes.txt', sep='\\t')"
   ]
  },
  {
   "cell_type": "code",
   "execution_count": 576,
   "id": "1a866c57",
   "metadata": {
    "ExecuteTime": {
     "end_time": "2022-10-29T08:01:12.299871Z",
     "start_time": "2022-10-29T08:01:12.293781Z"
    }
   },
   "outputs": [],
   "source": [
    "corum_db_mouse = corum_db[corum_db['Organism'] == 'Mouse']"
   ]
  },
  {
   "cell_type": "code",
   "execution_count": 577,
   "id": "0bb56efd",
   "metadata": {
    "ExecuteTime": {
     "end_time": "2022-10-29T08:01:13.063670Z",
     "start_time": "2022-10-29T08:01:13.054763Z"
    }
   },
   "outputs": [
    {
     "data": {
      "text/plain": [
       "(847, 20)"
      ]
     },
     "execution_count": 577,
     "metadata": {},
     "output_type": "execute_result"
    }
   ],
   "source": [
    "corum_db_mouse.shape"
   ]
  },
  {
   "cell_type": "code",
   "execution_count": 578,
   "id": "9d4d5fa0",
   "metadata": {
    "ExecuteTime": {
     "end_time": "2022-10-29T08:01:13.777635Z",
     "start_time": "2022-10-29T08:01:13.760326Z"
    }
   },
   "outputs": [
    {
     "data": {
      "text/html": [
       "<div>\n",
       "<style scoped>\n",
       "    .dataframe tbody tr th:only-of-type {\n",
       "        vertical-align: middle;\n",
       "    }\n",
       "\n",
       "    .dataframe tbody tr th {\n",
       "        vertical-align: top;\n",
       "    }\n",
       "\n",
       "    .dataframe thead th {\n",
       "        text-align: right;\n",
       "    }\n",
       "</style>\n",
       "<table border=\"1\" class=\"dataframe\">\n",
       "  <thead>\n",
       "    <tr style=\"text-align: right;\">\n",
       "      <th></th>\n",
       "      <th>ComplexID</th>\n",
       "      <th>ComplexName</th>\n",
       "      <th>Organism</th>\n",
       "      <th>Synonyms</th>\n",
       "      <th>Cell line</th>\n",
       "      <th>subunits(UniProt IDs)</th>\n",
       "      <th>subunits(Entrez IDs)</th>\n",
       "      <th>Protein complex purification method</th>\n",
       "      <th>GO ID</th>\n",
       "      <th>GO description</th>\n",
       "      <th>FunCat ID</th>\n",
       "      <th>FunCat description</th>\n",
       "      <th>PubMed ID</th>\n",
       "      <th>Complex comment</th>\n",
       "      <th>Disease comment</th>\n",
       "      <th>Subunits comment</th>\n",
       "      <th>SWISSPROT organism</th>\n",
       "      <th>subunits(Protein name)</th>\n",
       "      <th>subunits(Gene name)</th>\n",
       "      <th>subunits(Gene name syn)</th>\n",
       "    </tr>\n",
       "  </thead>\n",
       "  <tbody>\n",
       "    <tr>\n",
       "      <th>4</th>\n",
       "      <td>9</td>\n",
       "      <td>6S-nuclear aryl hydrocarbon (Ah) receptor liga...</td>\n",
       "      <td>Mouse</td>\n",
       "      <td>None</td>\n",
       "      <td>None</td>\n",
       "      <td>P30561;P53762</td>\n",
       "      <td>11622;11863</td>\n",
       "      <td>MI:0019-coimmunoprecipitation</td>\n",
       "      <td>GO:2001141;GO:0006355;GO:0003677;GO:0023052;GO...</td>\n",
       "      <td>regulation of RNA biosynthetic process;regulat...</td>\n",
       "      <td>11.02.03.04;16.03.01;30.01;34.11.03;70.10</td>\n",
       "      <td>transcriptional control;DNA binding;cellular s...</td>\n",
       "      <td>1317062</td>\n",
       "      <td>Arnt contains a basic helix-loop-helix motif, ...</td>\n",
       "      <td>None</td>\n",
       "      <td>None</td>\n",
       "      <td>Mus musculus (Mouse);Mus musculus (Mouse)</td>\n",
       "      <td>Aryl hydrocarbon receptor;Aryl hydrocarbon rec...</td>\n",
       "      <td>Ahr;Arnt</td>\n",
       "      <td>None;None</td>\n",
       "    </tr>\n",
       "    <tr>\n",
       "      <th>9</th>\n",
       "      <td>14</td>\n",
       "      <td>BLOC-2 (biogenesis of lysosome-related organel...</td>\n",
       "      <td>Mouse</td>\n",
       "      <td>None</td>\n",
       "      <td>None</td>\n",
       "      <td>P59438;Q8BLY7;Q91VB4</td>\n",
       "      <td>246694;20170;12807</td>\n",
       "      <td>MI:0019-coimmunoprecipitation;MI:0029-cosedime...</td>\n",
       "      <td>GO:0007032;GO:0007040;GO:0007033</td>\n",
       "      <td>endosome organization;lysosome organization;va...</td>\n",
       "      <td>42.22;42.25</td>\n",
       "      <td>endosome;vacuole or lysosome</td>\n",
       "      <td>14718540</td>\n",
       "      <td>The results indicate that the Hps3, Hps5, and ...</td>\n",
       "      <td>HPS1-7 are involved in Hermansky-Pudlak syndro...</td>\n",
       "      <td>None</td>\n",
       "      <td>Mus musculus (Mouse);Mus musculus (Mouse);Mus ...</td>\n",
       "      <td>Hermansky-Pudlak syndrome 5 protein homolog ;H...</td>\n",
       "      <td>Hps5;Hps6;Hps3</td>\n",
       "      <td>Ru2;Ru;Coa</td>\n",
       "    </tr>\n",
       "  </tbody>\n",
       "</table>\n",
       "</div>"
      ],
      "text/plain": [
       "   ComplexID                                        ComplexName Organism  \\\n",
       "4          9  6S-nuclear aryl hydrocarbon (Ah) receptor liga...    Mouse   \n",
       "9         14  BLOC-2 (biogenesis of lysosome-related organel...    Mouse   \n",
       "\n",
       "  Synonyms Cell line subunits(UniProt IDs) subunits(Entrez IDs)  \\\n",
       "4     None      None         P30561;P53762          11622;11863   \n",
       "9     None      None  P59438;Q8BLY7;Q91VB4   246694;20170;12807   \n",
       "\n",
       "                 Protein complex purification method  \\\n",
       "4                      MI:0019-coimmunoprecipitation   \n",
       "9  MI:0019-coimmunoprecipitation;MI:0029-cosedime...   \n",
       "\n",
       "                                               GO ID  \\\n",
       "4  GO:2001141;GO:0006355;GO:0003677;GO:0023052;GO...   \n",
       "9                   GO:0007032;GO:0007040;GO:0007033   \n",
       "\n",
       "                                      GO description  \\\n",
       "4  regulation of RNA biosynthetic process;regulat...   \n",
       "9  endosome organization;lysosome organization;va...   \n",
       "\n",
       "                                   FunCat ID  \\\n",
       "4  11.02.03.04;16.03.01;30.01;34.11.03;70.10   \n",
       "9                                42.22;42.25   \n",
       "\n",
       "                                  FunCat description  PubMed ID  \\\n",
       "4  transcriptional control;DNA binding;cellular s...    1317062   \n",
       "9                       endosome;vacuole or lysosome   14718540   \n",
       "\n",
       "                                     Complex comment  \\\n",
       "4  Arnt contains a basic helix-loop-helix motif, ...   \n",
       "9  The results indicate that the Hps3, Hps5, and ...   \n",
       "\n",
       "                                     Disease comment Subunits comment  \\\n",
       "4                                               None             None   \n",
       "9  HPS1-7 are involved in Hermansky-Pudlak syndro...             None   \n",
       "\n",
       "                                  SWISSPROT organism  \\\n",
       "4          Mus musculus (Mouse);Mus musculus (Mouse)   \n",
       "9  Mus musculus (Mouse);Mus musculus (Mouse);Mus ...   \n",
       "\n",
       "                              subunits(Protein name) subunits(Gene name)  \\\n",
       "4  Aryl hydrocarbon receptor;Aryl hydrocarbon rec...            Ahr;Arnt   \n",
       "9  Hermansky-Pudlak syndrome 5 protein homolog ;H...      Hps5;Hps6;Hps3   \n",
       "\n",
       "  subunits(Gene name syn)  \n",
       "4               None;None  \n",
       "9              Ru2;Ru;Coa  "
      ]
     },
     "execution_count": 578,
     "metadata": {},
     "output_type": "execute_result"
    }
   ],
   "source": [
    "corum_db_mouse.head(2)"
   ]
  },
  {
   "cell_type": "markdown",
   "id": "43b59a10",
   "metadata": {},
   "source": [
    "#### Ubr4"
   ]
  },
  {
   "cell_type": "code",
   "execution_count": 579,
   "id": "58d9139c",
   "metadata": {
    "ExecuteTime": {
     "end_time": "2022-10-29T08:01:20.570710Z",
     "start_time": "2022-10-29T08:01:20.529226Z"
    }
   },
   "outputs": [
    {
     "name": "stdout",
     "output_type": "stream",
     "text": [
      "(27, 20)\n"
     ]
    },
    {
     "data": {
      "text/html": [
       "<div>\n",
       "<style scoped>\n",
       "    .dataframe tbody tr th:only-of-type {\n",
       "        vertical-align: middle;\n",
       "    }\n",
       "\n",
       "    .dataframe tbody tr th {\n",
       "        vertical-align: top;\n",
       "    }\n",
       "\n",
       "    .dataframe thead th {\n",
       "        text-align: right;\n",
       "    }\n",
       "</style>\n",
       "<table border=\"1\" class=\"dataframe\">\n",
       "  <thead>\n",
       "    <tr style=\"text-align: right;\">\n",
       "      <th></th>\n",
       "      <th>ComplexID</th>\n",
       "      <th>ComplexName</th>\n",
       "      <th>Organism</th>\n",
       "      <th>Synonyms</th>\n",
       "      <th>Cell line</th>\n",
       "      <th>subunits(UniProt IDs)</th>\n",
       "      <th>subunits(Entrez IDs)</th>\n",
       "      <th>Protein complex purification method</th>\n",
       "      <th>GO ID</th>\n",
       "      <th>GO description</th>\n",
       "      <th>FunCat ID</th>\n",
       "      <th>FunCat description</th>\n",
       "      <th>PubMed ID</th>\n",
       "      <th>Complex comment</th>\n",
       "      <th>Disease comment</th>\n",
       "      <th>Subunits comment</th>\n",
       "      <th>SWISSPROT organism</th>\n",
       "      <th>subunits(Protein name)</th>\n",
       "      <th>subunits(Gene name)</th>\n",
       "      <th>subunits(Gene name syn)</th>\n",
       "    </tr>\n",
       "  </thead>\n",
       "  <tbody>\n",
       "    <tr>\n",
       "      <th>371</th>\n",
       "      <td>496</td>\n",
       "      <td>TFIID complex</td>\n",
       "      <td>Mouse</td>\n",
       "      <td>None</td>\n",
       "      <td>None</td>\n",
       "      <td>P29037;Q62311;Q80UV9;Q8C092;Q8C176;Q8K0H5;Q8VE...</td>\n",
       "      <td>21374;21343;270627;226182;319944;24075;66464;1...</td>\n",
       "      <td>MI:0004-affinity chromatography technology</td>\n",
       "      <td>GO:0006352;GO:2001141;GO:0006355;GO:0003677;GO...</td>\n",
       "      <td>DNA-templated transcription, initiation;regula...</td>\n",
       "      <td>11.02.03.01.01;11.02.03.04;16.03.01;70.10</td>\n",
       "      <td>transcription initiation;transcriptional contr...</td>\n",
       "      <td>10438527</td>\n",
       "      <td>None</td>\n",
       "      <td>None</td>\n",
       "      <td>None</td>\n",
       "      <td>Mus musculus (Mouse);Mus musculus (Mouse);Mus ...</td>\n",
       "      <td>TATA-box-binding protein;Transcription initiat...</td>\n",
       "      <td>Tbp;Taf6;Taf1;Taf5;Taf2;Taf10;Taf12;Taf9;Taf4;...</td>\n",
       "      <td>Tfiid;Taf2e;Ccg1;None;;Taf2h Tafii30;;Taf2g;Ta...</td>\n",
       "    </tr>\n",
       "    <tr>\n",
       "      <th>448</th>\n",
       "      <td>582</td>\n",
       "      <td>Ikaros complex</td>\n",
       "      <td>Mouse</td>\n",
       "      <td>2 MD complex</td>\n",
       "      <td>None</td>\n",
       "      <td>O08900;O09106;P70288;P81183;P97496;Q03267;Q3TK...</td>\n",
       "      <td>22780;433759;15182;22779;20588;22778;20586;196...</td>\n",
       "      <td>MI:0007-anti tag coimmunoprecipitation</td>\n",
       "      <td>GO:0009117;GO:0006265;GO:0045892;GO:0032774;GO...</td>\n",
       "      <td>nucleotide metabolic process;DNA topological c...</td>\n",
       "      <td>01.03;10.01.09.05;11.02.03.04.03;11.02;14.07.0...</td>\n",
       "      <td>nucleotide/nucleoside/nucleobase metabolism;DN...</td>\n",
       "      <td>10204490</td>\n",
       "      <td>None</td>\n",
       "      <td>None</td>\n",
       "      <td>At the time of annotation, the additional memb...</td>\n",
       "      <td>Mus musculus (Mouse);Mus musculus (Mouse);Mus ...</td>\n",
       "      <td>Zinc finger protein Aiolos;Histone deacetylase...</td>\n",
       "      <td>Ikzf3;Hdac1;Hdac2;Ikzf2;Smarcc1;Ikzf1;Smarca4;...</td>\n",
       "      <td>Zfpn1a3 Znfn1a3;None;Yy1bp;Helios Zfpn1a2 Znfn...</td>\n",
       "    </tr>\n",
       "  </tbody>\n",
       "</table>\n",
       "</div>"
      ],
      "text/plain": [
       "     ComplexID     ComplexName Organism      Synonyms Cell line  \\\n",
       "371        496   TFIID complex    Mouse          None      None   \n",
       "448        582  Ikaros complex    Mouse  2 MD complex      None   \n",
       "\n",
       "                                 subunits(UniProt IDs)  \\\n",
       "371  P29037;Q62311;Q80UV9;Q8C092;Q8C176;Q8K0H5;Q8VE...   \n",
       "448  O08900;O09106;P70288;P81183;P97496;Q03267;Q3TK...   \n",
       "\n",
       "                                  subunits(Entrez IDs)  \\\n",
       "371  21374;21343;270627;226182;319944;24075;66464;1...   \n",
       "448  22780;433759;15182;22779;20588;22778;20586;196...   \n",
       "\n",
       "            Protein complex purification method  \\\n",
       "371  MI:0004-affinity chromatography technology   \n",
       "448      MI:0007-anti tag coimmunoprecipitation   \n",
       "\n",
       "                                                 GO ID  \\\n",
       "371  GO:0006352;GO:2001141;GO:0006355;GO:0003677;GO...   \n",
       "448  GO:0009117;GO:0006265;GO:0045892;GO:0032774;GO...   \n",
       "\n",
       "                                        GO description  \\\n",
       "371  DNA-templated transcription, initiation;regula...   \n",
       "448  nucleotide metabolic process;DNA topological c...   \n",
       "\n",
       "                                             FunCat ID  \\\n",
       "371          11.02.03.01.01;11.02.03.04;16.03.01;70.10   \n",
       "448  01.03;10.01.09.05;11.02.03.04.03;11.02;14.07.0...   \n",
       "\n",
       "                                    FunCat description  PubMed ID  \\\n",
       "371  transcription initiation;transcriptional contr...   10438527   \n",
       "448  nucleotide/nucleoside/nucleobase metabolism;DN...   10204490   \n",
       "\n",
       "    Complex comment Disease comment  \\\n",
       "371            None            None   \n",
       "448            None            None   \n",
       "\n",
       "                                      Subunits comment  \\\n",
       "371                                               None   \n",
       "448  At the time of annotation, the additional memb...   \n",
       "\n",
       "                                    SWISSPROT organism  \\\n",
       "371  Mus musculus (Mouse);Mus musculus (Mouse);Mus ...   \n",
       "448  Mus musculus (Mouse);Mus musculus (Mouse);Mus ...   \n",
       "\n",
       "                                subunits(Protein name)  \\\n",
       "371  TATA-box-binding protein;Transcription initiat...   \n",
       "448  Zinc finger protein Aiolos;Histone deacetylase...   \n",
       "\n",
       "                                   subunits(Gene name)  \\\n",
       "371  Tbp;Taf6;Taf1;Taf5;Taf2;Taf10;Taf12;Taf9;Taf4;...   \n",
       "448  Ikzf3;Hdac1;Hdac2;Ikzf2;Smarcc1;Ikzf1;Smarca4;...   \n",
       "\n",
       "                               subunits(Gene name syn)  \n",
       "371  Tfiid;Taf2e;Ccg1;None;;Taf2h Tafii30;;Taf2g;Ta...  \n",
       "448  Zfpn1a3 Znfn1a3;None;Yy1bp;Helios Zfpn1a2 Znfn...  "
      ]
     },
     "execution_count": 579,
     "metadata": {},
     "output_type": "execute_result"
    }
   ],
   "source": [
    "# complex having ubr4 subtracted protein\n",
    "ubr4_subtracted_protein_in_corum_db_mouse_as_complex = corum_db_mouse[corum_db_mouse['subunits(UniProt IDs)'].str.contains('|'.join(set2c_ubr4))]\n",
    "print(ubr4_subtracted_protein_in_corum_db_mouse_as_complex.shape)\n",
    "ubr4_subtracted_protein_in_corum_db_mouse_as_complex.to_csv('revised_ubr4_subtracted_protein_in_corum_db_mouse_as_complex.csv')\n",
    "ubr4_subtracted_protein_in_corum_db_mouse_as_complex.head(2)"
   ]
  },
  {
   "cell_type": "code",
   "execution_count": 580,
   "id": "cca49f18",
   "metadata": {
    "ExecuteTime": {
     "end_time": "2022-10-29T08:01:41.341172Z",
     "start_time": "2022-10-29T08:01:27.963166Z"
    }
   },
   "outputs": [
    {
     "name": "stderr",
     "output_type": "stream",
     "text": [
      "100%|████████████████████████████████████████████████████████████████████████████████| 194/194 [00:13<00:00, 14.55it/s]"
     ]
    },
    {
     "name": "stdout",
     "output_type": "stream",
     "text": [
      "18\n"
     ]
    },
    {
     "name": "stderr",
     "output_type": "stream",
     "text": [
      "\n"
     ]
    }
   ],
   "source": [
    "# ubr4_subtracted_protein_in_corum_db_mouse (complex)\n",
    "\n",
    "ubr4_subtracted_protein_in_corum_db_mouse = []\n",
    "for uid in tqdm(set2c_ubr4):\n",
    "    for index, row in corum_db_mouse.iterrows():\n",
    "        if uid in row['subunits(UniProt IDs)']:\n",
    "            ubr4_subtracted_protein_in_corum_db_mouse.append(uid)\n",
    "        else:\n",
    "            continue\n",
    "            \n",
    "ubr4_subtracted_protein_in_corum_db_mouse = set(ubr4_subtracted_protein_in_corum_db_mouse)\n",
    "print(len(ubr4_subtracted_protein_in_corum_db_mouse))\n",
    "\n",
    "with open('revised_ubr4_subtracted_protein_in_corum_db_mouse.txt', 'w') as f:\n",
    "    for i in ubr4_subtracted_protein_in_corum_db_mouse:\n",
    "        f.writelines(i+'\\n')\n"
   ]
  },
  {
   "cell_type": "code",
   "execution_count": 581,
   "id": "597226aa",
   "metadata": {
    "ExecuteTime": {
     "end_time": "2022-10-29T08:01:41.601773Z",
     "start_time": "2022-10-29T08:01:41.342440Z"
    }
   },
   "outputs": [
    {
     "name": "stderr",
     "output_type": "stream",
     "text": [
      "100%|██████████████████████████████████████████████████████████████████████████████████| 18/18 [00:00<00:00, 77.34it/s]"
     ]
    },
    {
     "name": "stdout",
     "output_type": "stream",
     "text": [
      "(35, 6)\n"
     ]
    },
    {
     "name": "stderr",
     "output_type": "stream",
     "text": [
      "\n"
     ]
    }
   ],
   "source": [
    "# uniprot id, plant, fraction, complex mapping for ubr4_subtracted_protein_in_corum_db_mouse (complex)\n",
    "\n",
    "mapped_plant_ubr4 = []\n",
    "mapped_uid_ubr4 = []\n",
    "mapped_fractions_ubr4 = []\n",
    "#ubr4_uniprot = []\n",
    "ubr4_complex = []\n",
    "ubr4_ComplexName = []\n",
    "ubr4_subunits = []\n",
    "\n",
    "\n",
    "for uid in tqdm(ubr4_subtracted_protein_in_corum_db_mouse):\n",
    "    for plant in ['P116', 'P125', 'P126', 'P132', 'P133']:     # moved plant\n",
    "        current_df = dfp_80_moved_ubr4[plant]\n",
    "        \n",
    "        header = []\n",
    "        for i in range(len(current_df.columns)):\n",
    "            header.append(i+1)        \n",
    "        current_df.columns=header\n",
    "\n",
    "        \n",
    "        for index, row in ubr4_subtracted_protein_in_corum_db_mouse_as_complex.iterrows():\n",
    "            if uid in row['subunits(UniProt IDs)'] and uid in current_df.index:\n",
    "                \n",
    "                xy = current_df.loc[[uid]]\n",
    "                columns = (xy != 0).any()\n",
    "                columns_list = columns.index[columns].tolist()\n",
    "\n",
    "                \n",
    "                if len(columns_list) >0:\n",
    "                    #print(uid, plant, columns_list)\n",
    "                    mapped_plant_ubr4.append(plant)\n",
    "                    mapped_uid_ubr4.append(uid)\n",
    "                    mapped_fractions_ubr4.append(columns_list)\n",
    "                    \n",
    "                    Complex = row['subunits(UniProt IDs)']\n",
    "                    ubr4_complex.append(Complex)\n",
    "                    \n",
    "                    ComplexName = row['ComplexName']\n",
    "                    ubr4_ComplexName.append(ComplexName)\n",
    "                    \n",
    "                    subunits = row['subunits(Gene name)']\n",
    "                    ubr4_subunits.append(subunits)\n",
    "\n",
    "                \n",
    "                else:\n",
    "                    continue            \n",
    "                               \n",
    "            else:\n",
    "                continue\n",
    "                \n",
    "\n",
    "ubr4_plant_fraction_complex = pd.DataFrame(zip(mapped_uid_ubr4, mapped_plant_ubr4, mapped_fractions_ubr4, ubr4_complex, ubr4_ComplexName ,ubr4_subunits),\n",
    "                           columns =['uniprot_id', 'mapped_plant', 'mapped_fractions' , 'ubr4_complex', 'ComplexName', 'subunits'])                 \n",
    "                \n",
    "\n",
    "print(ubr4_plant_fraction_complex.shape)\n",
    "ubr4_plant_fraction_complex.to_csv('revised_check_ubr4_plant_fraction.csv')"
   ]
  },
  {
   "cell_type": "markdown",
   "id": "3fca85b1",
   "metadata": {},
   "source": [
    "#### Rnf114"
   ]
  },
  {
   "cell_type": "code",
   "execution_count": 582,
   "id": "0470a5a0",
   "metadata": {
    "ExecuteTime": {
     "end_time": "2022-10-29T08:01:46.424567Z",
     "start_time": "2022-10-29T08:01:46.326028Z"
    }
   },
   "outputs": [
    {
     "name": "stdout",
     "output_type": "stream",
     "text": [
      "(124, 20)\n"
     ]
    },
    {
     "data": {
      "text/html": [
       "<div>\n",
       "<style scoped>\n",
       "    .dataframe tbody tr th:only-of-type {\n",
       "        vertical-align: middle;\n",
       "    }\n",
       "\n",
       "    .dataframe tbody tr th {\n",
       "        vertical-align: top;\n",
       "    }\n",
       "\n",
       "    .dataframe thead th {\n",
       "        text-align: right;\n",
       "    }\n",
       "</style>\n",
       "<table border=\"1\" class=\"dataframe\">\n",
       "  <thead>\n",
       "    <tr style=\"text-align: right;\">\n",
       "      <th></th>\n",
       "      <th>ComplexID</th>\n",
       "      <th>ComplexName</th>\n",
       "      <th>Organism</th>\n",
       "      <th>Synonyms</th>\n",
       "      <th>Cell line</th>\n",
       "      <th>subunits(UniProt IDs)</th>\n",
       "      <th>subunits(Entrez IDs)</th>\n",
       "      <th>Protein complex purification method</th>\n",
       "      <th>GO ID</th>\n",
       "      <th>GO description</th>\n",
       "      <th>FunCat ID</th>\n",
       "      <th>FunCat description</th>\n",
       "      <th>PubMed ID</th>\n",
       "      <th>Complex comment</th>\n",
       "      <th>Disease comment</th>\n",
       "      <th>Subunits comment</th>\n",
       "      <th>SWISSPROT organism</th>\n",
       "      <th>subunits(Protein name)</th>\n",
       "      <th>subunits(Gene name)</th>\n",
       "      <th>subunits(Gene name syn)</th>\n",
       "    </tr>\n",
       "  </thead>\n",
       "  <tbody>\n",
       "    <tr>\n",
       "      <th>13</th>\n",
       "      <td>25</td>\n",
       "      <td>9S-cytosolic aryl hydrocarbon (Ah) receptor no...</td>\n",
       "      <td>Mouse</td>\n",
       "      <td>None</td>\n",
       "      <td>None</td>\n",
       "      <td>O08915;P07901;P11499;P30561</td>\n",
       "      <td>11632;15519;15516;11622</td>\n",
       "      <td>MI:0019-coimmunoprecipitation;MI:0030-cross-li...</td>\n",
       "      <td>GO:0006950;GO:0009593;GO:0042221;GO:0005737</td>\n",
       "      <td>response to stress;detection of chemical stimu...</td>\n",
       "      <td>32.01;34.11.03;70.03</td>\n",
       "      <td>stress response;chemoperception and response;c...</td>\n",
       "      <td>1310021</td>\n",
       "      <td>The authors propose that the AhR exists in cyt...</td>\n",
       "      <td>None</td>\n",
       "      <td>None</td>\n",
       "      <td>Mus musculus (Mouse);Mus musculus (Mouse);Mus ...</td>\n",
       "      <td>AH receptor-interacting protein;Heat shock pro...</td>\n",
       "      <td>Aip;Hsp90aa1;Hsp90ab1;Ahr</td>\n",
       "      <td>None;Hsp86 Hsp86-1 Hspca;Hsp84 Hsp84-1 Hspcb;None</td>\n",
       "    </tr>\n",
       "    <tr>\n",
       "      <th>24</th>\n",
       "      <td>38</td>\n",
       "      <td>20S proteasome</td>\n",
       "      <td>Mouse</td>\n",
       "      <td>proteasome</td>\n",
       "      <td>None</td>\n",
       "      <td>O09061;O55234;O70435;P49722;P70195;P99026;Q606...</td>\n",
       "      <td>19170;19173;19167;19166;19177;19172;19175;2644...</td>\n",
       "      <td>MI:0019-coimmunoprecipitation</td>\n",
       "      <td>GO:0016485;GO:0043161;GO:0006511;GO:0006950;GO...</td>\n",
       "      <td>protein processing;proteasome-mediated ubiquit...</td>\n",
       "      <td>14.07.11;14.13.01.01;32.01;70.03;70.10</td>\n",
       "      <td>protein processing (proteolytic);proteasomal d...</td>\n",
       "      <td>10436176</td>\n",
       "      <td>The proteasome is an essential component of th...</td>\n",
       "      <td>None</td>\n",
       "      <td>None</td>\n",
       "      <td>Mus musculus (Mouse);Mus musculus (Mouse);Mus ...</td>\n",
       "      <td>Proteasome subunit beta type-1;Proteasome subu...</td>\n",
       "      <td>Psmb1;Psmb5;Psma3;Psma2;Psmb7;Psmb4;Psmb6;Psma...</td>\n",
       "      <td>None;;None;Lmpc3;Mmc14;Lmp3;Lmp19;None;None;No...</td>\n",
       "    </tr>\n",
       "  </tbody>\n",
       "</table>\n",
       "</div>"
      ],
      "text/plain": [
       "    ComplexID                                        ComplexName Organism  \\\n",
       "13         25  9S-cytosolic aryl hydrocarbon (Ah) receptor no...    Mouse   \n",
       "24         38                                     20S proteasome    Mouse   \n",
       "\n",
       "      Synonyms Cell line                              subunits(UniProt IDs)  \\\n",
       "13        None      None                        O08915;P07901;P11499;P30561   \n",
       "24  proteasome      None  O09061;O55234;O70435;P49722;P70195;P99026;Q606...   \n",
       "\n",
       "                                 subunits(Entrez IDs)  \\\n",
       "13                            11632;15519;15516;11622   \n",
       "24  19170;19173;19167;19166;19177;19172;19175;2644...   \n",
       "\n",
       "                  Protein complex purification method  \\\n",
       "13  MI:0019-coimmunoprecipitation;MI:0030-cross-li...   \n",
       "24                      MI:0019-coimmunoprecipitation   \n",
       "\n",
       "                                                GO ID  \\\n",
       "13        GO:0006950;GO:0009593;GO:0042221;GO:0005737   \n",
       "24  GO:0016485;GO:0043161;GO:0006511;GO:0006950;GO...   \n",
       "\n",
       "                                       GO description  \\\n",
       "13  response to stress;detection of chemical stimu...   \n",
       "24  protein processing;proteasome-mediated ubiquit...   \n",
       "\n",
       "                                 FunCat ID  \\\n",
       "13                    32.01;34.11.03;70.03   \n",
       "24  14.07.11;14.13.01.01;32.01;70.03;70.10   \n",
       "\n",
       "                                   FunCat description  PubMed ID  \\\n",
       "13  stress response;chemoperception and response;c...    1310021   \n",
       "24  protein processing (proteolytic);proteasomal d...   10436176   \n",
       "\n",
       "                                      Complex comment Disease comment  \\\n",
       "13  The authors propose that the AhR exists in cyt...            None   \n",
       "24  The proteasome is an essential component of th...            None   \n",
       "\n",
       "   Subunits comment                                 SWISSPROT organism  \\\n",
       "13             None  Mus musculus (Mouse);Mus musculus (Mouse);Mus ...   \n",
       "24             None  Mus musculus (Mouse);Mus musculus (Mouse);Mus ...   \n",
       "\n",
       "                               subunits(Protein name)  \\\n",
       "13  AH receptor-interacting protein;Heat shock pro...   \n",
       "24  Proteasome subunit beta type-1;Proteasome subu...   \n",
       "\n",
       "                                  subunits(Gene name)  \\\n",
       "13                          Aip;Hsp90aa1;Hsp90ab1;Ahr   \n",
       "24  Psmb1;Psmb5;Psma3;Psma2;Psmb7;Psmb4;Psmb6;Psma...   \n",
       "\n",
       "                              subunits(Gene name syn)  \n",
       "13  None;Hsp86 Hsp86-1 Hspca;Hsp84 Hsp84-1 Hspcb;None  \n",
       "24  None;;None;Lmpc3;Mmc14;Lmp3;Lmp19;None;None;No...  "
      ]
     },
     "execution_count": 582,
     "metadata": {},
     "output_type": "execute_result"
    }
   ],
   "source": [
    "# complex having rnf subtracted protein\n",
    "rnf_subtracted_protein_in_corum_db_mouse_as_complex = corum_db_mouse[corum_db_mouse['subunits(UniProt IDs)'].str.contains('|'.join(set2c_rnf))]\n",
    "print(rnf_subtracted_protein_in_corum_db_mouse_as_complex.shape)\n",
    "rnf_subtracted_protein_in_corum_db_mouse_as_complex.to_csv('revised_rnf_subtracted_protein_in_corum_db_mouse_as_complex.csv')\n",
    "rnf_subtracted_protein_in_corum_db_mouse_as_complex.head(2)"
   ]
  },
  {
   "cell_type": "code",
   "execution_count": 583,
   "id": "0127e80c",
   "metadata": {
    "ExecuteTime": {
     "end_time": "2022-10-29T08:03:19.019015Z",
     "start_time": "2022-10-29T08:01:57.824884Z"
    }
   },
   "outputs": [
    {
     "name": "stderr",
     "output_type": "stream",
     "text": [
      "100%|████████████████████████████████████████████████████████████████████████████████| 848/848 [01:21<00:00, 10.45it/s]"
     ]
    },
    {
     "name": "stdout",
     "output_type": "stream",
     "text": [
      "139\n"
     ]
    },
    {
     "name": "stderr",
     "output_type": "stream",
     "text": [
      "\n"
     ]
    }
   ],
   "source": [
    "# rnf_subtracted_protein_in_corum_db_mouse (complex)\n",
    "\n",
    "rnf_subtracted_protein_in_corum_db_mouse = []\n",
    "for uid in tqdm(set2c_rnf):\n",
    "    for index, row in corum_db_mouse.iterrows():\n",
    "        if uid in row['subunits(UniProt IDs)']:\n",
    "            rnf_subtracted_protein_in_corum_db_mouse.append(uid)\n",
    "        else:\n",
    "            continue\n",
    "            \n",
    "rnf_subtracted_protein_in_corum_db_mouse = set(rnf_subtracted_protein_in_corum_db_mouse)\n",
    "print(len(rnf_subtracted_protein_in_corum_db_mouse))\n",
    "\n",
    "\n",
    "with open('revised_rnf_subtracted_protein_in_corum_db_mouse.txt', 'w') as f:\n",
    "    for i in rnf_subtracted_protein_in_corum_db_mouse:\n",
    "        f.writelines(i+'\\n')\n"
   ]
  },
  {
   "cell_type": "code",
   "execution_count": 585,
   "id": "dea88835",
   "metadata": {
    "ExecuteTime": {
     "end_time": "2022-10-29T08:03:56.938777Z",
     "start_time": "2022-10-29T08:03:38.291758Z"
    }
   },
   "outputs": [
    {
     "name": "stderr",
     "output_type": "stream",
     "text": [
      "100%|████████████████████████████████████████████████████████████████████████████████| 139/139 [00:18<00:00,  7.49it/s]"
     ]
    },
    {
     "name": "stdout",
     "output_type": "stream",
     "text": [
      "(359, 6)\n"
     ]
    },
    {
     "name": "stderr",
     "output_type": "stream",
     "text": [
      "\n"
     ]
    }
   ],
   "source": [
    "# uniprot id, plant, fraction, complex mapping for ubr4_subtracted_protein_in_corum_db_mouse (complex)\n",
    "\n",
    "mapped_plant_rnf = []\n",
    "mapped_uid_rnf = []\n",
    "mapped_fractions_rnf = []\n",
    "#rnf_uniprot = []\n",
    "rnf_complex = []\n",
    "rnf_ComplexName = []\n",
    "rnf_subunits = []\n",
    "\n",
    "\n",
    "for uid in tqdm(rnf_subtracted_protein_in_corum_db_mouse):\n",
    "    for plant in ['P45', 'P68', 'P116', 'P133']:     # moved plant\n",
    "        current_df = dfp_80_moved_rnf[plant]\n",
    "        \n",
    "        header = []\n",
    "        for i in range(len(current_df.columns)):\n",
    "            header.append(i+1)        \n",
    "        current_df.columns=header\n",
    "\n",
    "        \n",
    "        for index, row in rnf_subtracted_protein_in_corum_db_mouse_as_complex.iterrows():\n",
    "            if uid in row['subunits(UniProt IDs)'] and uid in current_df.index:\n",
    "                \n",
    "                xy = current_df.loc[[uid]]\n",
    "                columns = (xy != 0).any()\n",
    "                columns_list = columns.index[columns].tolist()\n",
    "\n",
    "                \n",
    "                if len(columns_list) >0:\n",
    "                    #print(uid, plant, columns_list)\n",
    "                    mapped_plant_rnf.append(plant)\n",
    "                    mapped_uid_rnf.append(uid)\n",
    "                    mapped_fractions_rnf.append(columns_list)\n",
    "                    \n",
    "                    Complex = row['subunits(UniProt IDs)']\n",
    "                    rnf_complex.append(Complex)\n",
    "                    \n",
    "                    ComplexName = row['ComplexName']\n",
    "                    rnf_ComplexName.append(ComplexName)\n",
    "                    \n",
    "                    subunits = row['subunits(Gene name)']\n",
    "                    rnf_subunits.append(subunits)\n",
    "                else:\n",
    "                    continue            \n",
    "                               \n",
    "            else:\n",
    "                continue\n",
    "                \n",
    "\n",
    "rnf_plant_fraction_complex = pd.DataFrame(zip(mapped_uid_rnf, mapped_plant_rnf, mapped_fractions_rnf, rnf_complex, rnf_ComplexName ,rnf_subunits),\n",
    "                           columns =['uniprot_id', 'mapped_plant', 'mapped_fractions' , 'rnf_complex', 'ComplexName', 'subunits'])                 \n",
    "                \n",
    "print(rnf_plant_fraction_complex.shape)\n",
    "rnf_plant_fraction_complex.to_csv('revised_check_rnf_plant_fraction.csv')\n"
   ]
  },
  {
   "cell_type": "code",
   "execution_count": null,
   "id": "f80460b2",
   "metadata": {},
   "outputs": [],
   "source": []
  },
  {
   "cell_type": "markdown",
   "id": "e5af1ad2",
   "metadata": {},
   "source": [
    "### Human to Mouse ID Mapping"
   ]
  },
  {
   "cell_type": "code",
   "execution_count": 371,
   "id": "b870f0ff",
   "metadata": {
    "ExecuteTime": {
     "end_time": "2022-10-28T19:16:44.242918Z",
     "start_time": "2022-10-28T19:16:44.219874Z"
    },
    "scrolled": true
   },
   "outputs": [
    {
     "data": {
      "text/html": [
       "<div>\n",
       "<style scoped>\n",
       "    .dataframe tbody tr th:only-of-type {\n",
       "        vertical-align: middle;\n",
       "    }\n",
       "\n",
       "    .dataframe tbody tr th {\n",
       "        vertical-align: top;\n",
       "    }\n",
       "\n",
       "    .dataframe thead th {\n",
       "        text-align: right;\n",
       "    }\n",
       "</style>\n",
       "<table border=\"1\" class=\"dataframe\">\n",
       "  <thead>\n",
       "    <tr style=\"text-align: right;\">\n",
       "      <th></th>\n",
       "      <th>ComplexID</th>\n",
       "      <th>ComplexName</th>\n",
       "      <th>Organism</th>\n",
       "      <th>Synonyms</th>\n",
       "      <th>Cell line</th>\n",
       "      <th>subunits(UniProt IDs)</th>\n",
       "      <th>subunits(Entrez IDs)</th>\n",
       "      <th>Protein complex purification method</th>\n",
       "      <th>GO ID</th>\n",
       "      <th>GO description</th>\n",
       "      <th>FunCat ID</th>\n",
       "      <th>FunCat description</th>\n",
       "      <th>PubMed ID</th>\n",
       "      <th>Complex comment</th>\n",
       "      <th>Disease comment</th>\n",
       "      <th>Subunits comment</th>\n",
       "      <th>SWISSPROT organism</th>\n",
       "      <th>subunits(Protein name)</th>\n",
       "      <th>subunits(Gene name)</th>\n",
       "      <th>subunits(Gene name syn)</th>\n",
       "    </tr>\n",
       "  </thead>\n",
       "  <tbody>\n",
       "    <tr>\n",
       "      <th>1829</th>\n",
       "      <td>3013</td>\n",
       "      <td>EB1-APC-mDia1 complex</td>\n",
       "      <td>Mouse</td>\n",
       "      <td>None</td>\n",
       "      <td>brain</td>\n",
       "      <td>O08808;Q61166;Q61315</td>\n",
       "      <td>13367;13589;11789</td>\n",
       "      <td>MI:0006-anti bait coimmunoprecipitation</td>\n",
       "      <td>GO:0016477;GO:0000226;GO:0015630</td>\n",
       "      <td>cell migration;microtubule cytoskeleton organi...</td>\n",
       "      <td>34.05.01;42.04.05;70.04.05</td>\n",
       "      <td>cell migration;microtubule cytoskeleton;microt...</td>\n",
       "      <td>15311282</td>\n",
       "      <td>The authors showed that EB1 and APC interacted...</td>\n",
       "      <td>None</td>\n",
       "      <td>None</td>\n",
       "      <td>Mus musculus (Mouse);Mus musculus (Mouse);Mus ...</td>\n",
       "      <td>Protein diaphanous homolog 1 ;Microtubule-asso...</td>\n",
       "      <td>Diaph1;Mapre1;Apc</td>\n",
       "      <td>Diap1;None;</td>\n",
       "    </tr>\n",
       "    <tr>\n",
       "      <th>3382</th>\n",
       "      <td>6887</td>\n",
       "      <td>Ragulator-AXIN/LKB1-AMPK complex</td>\n",
       "      <td>Mouse</td>\n",
       "      <td>None</td>\n",
       "      <td>Mouse Embryonic Fibroblasts (MEFs)</td>\n",
       "      <td>O35625;O54950;O88653;Q5EG47;Q8CF66;Q9CQ22;Q9D1...</td>\n",
       "      <td>12005;19082;56692;105787;66096;66508;68576;834...</td>\n",
       "      <td>MI:0019-coimmunoprecipitation</td>\n",
       "      <td>GO:0042149;GO:0005770</td>\n",
       "      <td>cellular response to glucose starvation;late e...</td>\n",
       "      <td>None</td>\n",
       "      <td>None</td>\n",
       "      <td>25002183</td>\n",
       "      <td>Glucose starvation induces Ragulator-AXIN/LKB1...</td>\n",
       "      <td>None</td>\n",
       "      <td>Since the authors did not specify AMPK, we use...</td>\n",
       "      <td>Mus musculus (Mouse);Mus musculus (Mouse);Mus ...</td>\n",
       "      <td>Axin-1;5'-AMP-activated protein kinase subunit...</td>\n",
       "      <td>Axin1;Prkag1;Lamtor3;Prkaa1;Lamtor4;Lamtor1;La...</td>\n",
       "      <td>Axin Fu;Prkaac;Map2k1ip1, Mapbp, Mapksp1;None;...</td>\n",
       "    </tr>\n",
       "    <tr>\n",
       "      <th>3415</th>\n",
       "      <td>6924</td>\n",
       "      <td>Fak-Pde4d5-Rack1 complex</td>\n",
       "      <td>Mouse</td>\n",
       "      <td>Pde4d-Ptk2-Rack1 complex</td>\n",
       "      <td>squamous cell carcinomas (SCCs)</td>\n",
       "      <td>P34152;P68040;Q01063</td>\n",
       "      <td>14083;14694;238871</td>\n",
       "      <td>MI:0096-pull down;MI:0416-fluorescence microscopy</td>\n",
       "      <td>GO:0030010;GO:0034446;GO:0005925</td>\n",
       "      <td>establishment of cell polarity;substrate adhes...</td>\n",
       "      <td>None</td>\n",
       "      <td>None</td>\n",
       "      <td>20493699</td>\n",
       "      <td>Fak-Pde4d5-Rack1 complex is a \\u2018direction-...</td>\n",
       "      <td>None</td>\n",
       "      <td>None</td>\n",
       "      <td>Mus musculus (Mouse);Mus musculus (Mouse);Mus ...</td>\n",
       "      <td>Focal adhesion kinase 1;Receptor of activated ...</td>\n",
       "      <td>Ptk2;Rack1;Pde4d</td>\n",
       "      <td>Fadk Fak Fak1 Kiaa4203;Gnb2l1;None</td>\n",
       "    </tr>\n",
       "    <tr>\n",
       "      <th>3417</th>\n",
       "      <td>6926</td>\n",
       "      <td>FAK-p120RasGAP-p190RhoGAP complex</td>\n",
       "      <td>Mouse</td>\n",
       "      <td>Ptk2-Rasa1-Rasgrf1 complex</td>\n",
       "      <td>mouse embryonic fibroblasts</td>\n",
       "      <td>P27671;P34152;Q91YX7</td>\n",
       "      <td>19417;14083;218397</td>\n",
       "      <td>MI:0019-coimmunoprecipitation</td>\n",
       "      <td>GO:1903689</td>\n",
       "      <td>regulation of wound healing, spreading of epid...</td>\n",
       "      <td>None</td>\n",
       "      <td>None</td>\n",
       "      <td>19435801</td>\n",
       "      <td>None</td>\n",
       "      <td>None</td>\n",
       "      <td>None</td>\n",
       "      <td>Mus musculus (Mouse);Mus musculus (Mouse);Mus ...</td>\n",
       "      <td>Ras-specific guanine nucleotide-releasing fact...</td>\n",
       "      <td>Rasgrf1;Ptk2;Rasa1</td>\n",
       "      <td>Cdc25,Grf1;Fadk Fak Fak1 Kiaa4203;None</td>\n",
       "    </tr>\n",
       "    <tr>\n",
       "      <th>3429</th>\n",
       "      <td>6938</td>\n",
       "      <td>c-Src immune complex</td>\n",
       "      <td>Mouse</td>\n",
       "      <td>None</td>\n",
       "      <td>LbetaT2 cells</td>\n",
       "      <td>P05213;P05480;P16054;P20444;P28867;P34152;P498...</td>\n",
       "      <td>22143;20779;18754;18750;18753;14083;12389;2641...</td>\n",
       "      <td>MI:0019-coimmunoprecipitation;MI:0416-fluoresc...</td>\n",
       "      <td>GO:0016477;GO:0097210</td>\n",
       "      <td>cell migration;response to gonadotropin-releas...</td>\n",
       "      <td>34.05.01</td>\n",
       "      <td>cell migration</td>\n",
       "      <td>19628583</td>\n",
       "      <td>The authors propose that the role of this comp...</td>\n",
       "      <td>None</td>\n",
       "      <td>None</td>\n",
       "      <td>Mus musculus (Mouse);Mus musculus (Mouse);Mus ...</td>\n",
       "      <td>Tubulin alpha-1B chain;Neuronal proto-oncogene...</td>\n",
       "      <td>Tuba1b;Src;Prkce;Prkca;Prkcd;Ptk2;Cav1;Mapk1;T...</td>\n",
       "      <td>Tuba2;pp60c-src;Pkce,Pkcea;Pkca;Pkcd;Fadk Fak ...</td>\n",
       "    </tr>\n",
       "  </tbody>\n",
       "</table>\n",
       "</div>"
      ],
      "text/plain": [
       "      ComplexID                        ComplexName Organism  \\\n",
       "1829       3013              EB1-APC-mDia1 complex    Mouse   \n",
       "3382       6887   Ragulator-AXIN/LKB1-AMPK complex    Mouse   \n",
       "3415       6924           Fak-Pde4d5-Rack1 complex    Mouse   \n",
       "3417       6926  FAK-p120RasGAP-p190RhoGAP complex    Mouse   \n",
       "3429       6938               c-Src immune complex    Mouse   \n",
       "\n",
       "                        Synonyms                           Cell line  \\\n",
       "1829                        None                               brain   \n",
       "3382                        None  Mouse Embryonic Fibroblasts (MEFs)   \n",
       "3415    Pde4d-Ptk2-Rack1 complex     squamous cell carcinomas (SCCs)   \n",
       "3417  Ptk2-Rasa1-Rasgrf1 complex         mouse embryonic fibroblasts   \n",
       "3429                        None                       LbetaT2 cells   \n",
       "\n",
       "                                  subunits(UniProt IDs)  \\\n",
       "1829                               O08808;Q61166;Q61315   \n",
       "3382  O35625;O54950;O88653;Q5EG47;Q8CF66;Q9CQ22;Q9D1...   \n",
       "3415                               P34152;P68040;Q01063   \n",
       "3417                               P27671;P34152;Q91YX7   \n",
       "3429  P05213;P05480;P16054;P20444;P28867;P34152;P498...   \n",
       "\n",
       "                                   subunits(Entrez IDs)  \\\n",
       "1829                                  13367;13589;11789   \n",
       "3382  12005;19082;56692;105787;66096;66508;68576;834...   \n",
       "3415                                 14083;14694;238871   \n",
       "3417                                 19417;14083;218397   \n",
       "3429  22143;20779;18754;18750;18753;14083;12389;2641...   \n",
       "\n",
       "                    Protein complex purification method  \\\n",
       "1829            MI:0006-anti bait coimmunoprecipitation   \n",
       "3382                      MI:0019-coimmunoprecipitation   \n",
       "3415  MI:0096-pull down;MI:0416-fluorescence microscopy   \n",
       "3417                      MI:0019-coimmunoprecipitation   \n",
       "3429  MI:0019-coimmunoprecipitation;MI:0416-fluoresc...   \n",
       "\n",
       "                                 GO ID  \\\n",
       "1829  GO:0016477;GO:0000226;GO:0015630   \n",
       "3382             GO:0042149;GO:0005770   \n",
       "3415  GO:0030010;GO:0034446;GO:0005925   \n",
       "3417                        GO:1903689   \n",
       "3429             GO:0016477;GO:0097210   \n",
       "\n",
       "                                         GO description  \\\n",
       "1829  cell migration;microtubule cytoskeleton organi...   \n",
       "3382  cellular response to glucose starvation;late e...   \n",
       "3415  establishment of cell polarity;substrate adhes...   \n",
       "3417  regulation of wound healing, spreading of epid...   \n",
       "3429  cell migration;response to gonadotropin-releas...   \n",
       "\n",
       "                       FunCat ID  \\\n",
       "1829  34.05.01;42.04.05;70.04.05   \n",
       "3382                        None   \n",
       "3415                        None   \n",
       "3417                        None   \n",
       "3429                    34.05.01   \n",
       "\n",
       "                                     FunCat description  PubMed ID  \\\n",
       "1829  cell migration;microtubule cytoskeleton;microt...   15311282   \n",
       "3382                                               None   25002183   \n",
       "3415                                               None   20493699   \n",
       "3417                                               None   19435801   \n",
       "3429                                     cell migration   19628583   \n",
       "\n",
       "                                        Complex comment Disease comment  \\\n",
       "1829  The authors showed that EB1 and APC interacted...            None   \n",
       "3382  Glucose starvation induces Ragulator-AXIN/LKB1...            None   \n",
       "3415  Fak-Pde4d5-Rack1 complex is a \\u2018direction-...            None   \n",
       "3417                                               None            None   \n",
       "3429  The authors propose that the role of this comp...            None   \n",
       "\n",
       "                                       Subunits comment  \\\n",
       "1829                                               None   \n",
       "3382  Since the authors did not specify AMPK, we use...   \n",
       "3415                                               None   \n",
       "3417                                               None   \n",
       "3429                                               None   \n",
       "\n",
       "                                     SWISSPROT organism  \\\n",
       "1829  Mus musculus (Mouse);Mus musculus (Mouse);Mus ...   \n",
       "3382  Mus musculus (Mouse);Mus musculus (Mouse);Mus ...   \n",
       "3415  Mus musculus (Mouse);Mus musculus (Mouse);Mus ...   \n",
       "3417  Mus musculus (Mouse);Mus musculus (Mouse);Mus ...   \n",
       "3429  Mus musculus (Mouse);Mus musculus (Mouse);Mus ...   \n",
       "\n",
       "                                 subunits(Protein name)  \\\n",
       "1829  Protein diaphanous homolog 1 ;Microtubule-asso...   \n",
       "3382  Axin-1;5'-AMP-activated protein kinase subunit...   \n",
       "3415  Focal adhesion kinase 1;Receptor of activated ...   \n",
       "3417  Ras-specific guanine nucleotide-releasing fact...   \n",
       "3429  Tubulin alpha-1B chain;Neuronal proto-oncogene...   \n",
       "\n",
       "                                    subunits(Gene name)  \\\n",
       "1829                                  Diaph1;Mapre1;Apc   \n",
       "3382  Axin1;Prkag1;Lamtor3;Prkaa1;Lamtor4;Lamtor1;La...   \n",
       "3415                                   Ptk2;Rack1;Pde4d   \n",
       "3417                                 Rasgrf1;Ptk2;Rasa1   \n",
       "3429  Tuba1b;Src;Prkce;Prkca;Prkcd;Ptk2;Cav1;Mapk1;T...   \n",
       "\n",
       "                                subunits(Gene name syn)  \n",
       "1829                                        Diap1;None;  \n",
       "3382  Axin Fu;Prkaac;Map2k1ip1, Mapbp, Mapksp1;None;...  \n",
       "3415                 Fadk Fak Fak1 Kiaa4203;Gnb2l1;None  \n",
       "3417             Cdc25,Grf1;Fadk Fak Fak1 Kiaa4203;None  \n",
       "3429  Tuba2;pp60c-src;Pkce,Pkcea;Pkca;Pkcd;Fadk Fak ...  "
      ]
     },
     "execution_count": 371,
     "metadata": {},
     "output_type": "execute_result"
    }
   ],
   "source": [
    "ubr4_subtracted_protein_in_corum_db_mouse_as_complex"
   ]
  },
  {
   "cell_type": "code",
   "execution_count": 372,
   "id": "72e45d50",
   "metadata": {
    "ExecuteTime": {
     "end_time": "2022-10-28T19:16:45.060075Z",
     "start_time": "2022-10-28T19:16:45.052995Z"
    }
   },
   "outputs": [],
   "source": [
    "# pip install indra\n",
    "import indra\n",
    "from indra.sources import bel"
   ]
  },
  {
   "cell_type": "code",
   "execution_count": 373,
   "id": "c34ca9bf",
   "metadata": {
    "ExecuteTime": {
     "end_time": "2022-10-28T19:16:45.686750Z",
     "start_time": "2022-10-28T19:16:45.674761Z"
    }
   },
   "outputs": [],
   "source": [
    "corum_db_human = corum_db[corum_db['Organism'] == 'Human']"
   ]
  },
  {
   "cell_type": "code",
   "execution_count": 374,
   "id": "1929258d",
   "metadata": {
    "ExecuteTime": {
     "end_time": "2022-10-28T19:16:46.129644Z",
     "start_time": "2022-10-28T19:16:46.098128Z"
    }
   },
   "outputs": [
    {
     "name": "stdout",
     "output_type": "stream",
     "text": [
      "(3637, 20)\n"
     ]
    },
    {
     "data": {
      "text/html": [
       "<div>\n",
       "<style scoped>\n",
       "    .dataframe tbody tr th:only-of-type {\n",
       "        vertical-align: middle;\n",
       "    }\n",
       "\n",
       "    .dataframe tbody tr th {\n",
       "        vertical-align: top;\n",
       "    }\n",
       "\n",
       "    .dataframe thead th {\n",
       "        text-align: right;\n",
       "    }\n",
       "</style>\n",
       "<table border=\"1\" class=\"dataframe\">\n",
       "  <thead>\n",
       "    <tr style=\"text-align: right;\">\n",
       "      <th></th>\n",
       "      <th>ComplexID</th>\n",
       "      <th>ComplexName</th>\n",
       "      <th>Organism</th>\n",
       "      <th>Synonyms</th>\n",
       "      <th>Cell line</th>\n",
       "      <th>subunits(UniProt IDs)</th>\n",
       "      <th>subunits(Entrez IDs)</th>\n",
       "      <th>Protein complex purification method</th>\n",
       "      <th>GO ID</th>\n",
       "      <th>GO description</th>\n",
       "      <th>FunCat ID</th>\n",
       "      <th>FunCat description</th>\n",
       "      <th>PubMed ID</th>\n",
       "      <th>Complex comment</th>\n",
       "      <th>Disease comment</th>\n",
       "      <th>Subunits comment</th>\n",
       "      <th>SWISSPROT organism</th>\n",
       "      <th>subunits(Protein name)</th>\n",
       "      <th>subunits(Gene name)</th>\n",
       "      <th>subunits(Gene name syn)</th>\n",
       "    </tr>\n",
       "  </thead>\n",
       "  <tbody>\n",
       "    <tr>\n",
       "      <th>0</th>\n",
       "      <td>1</td>\n",
       "      <td>BCL6-HDAC4 complex</td>\n",
       "      <td>Human</td>\n",
       "      <td>None</td>\n",
       "      <td>U2OS osteosarcoma-derived UTA-L cells</td>\n",
       "      <td>P41182;P56524</td>\n",
       "      <td>604;9759</td>\n",
       "      <td>MI:0007-anti tag coimmunoprecipitation</td>\n",
       "      <td>GO:0006265;GO:0045892;GO:0051276;GO:0030183;GO...</td>\n",
       "      <td>DNA topological change;negative regulation of ...</td>\n",
       "      <td>10.01.09.05;11.02.03.04.03;42.10.03;43.03.07.0...</td>\n",
       "      <td>DNA conformation modification (e.g. chromatin)...</td>\n",
       "      <td>11929873</td>\n",
       "      <td>Transcriptional repression by BCL6 is thought ...</td>\n",
       "      <td>None</td>\n",
       "      <td>None</td>\n",
       "      <td>Homo sapiens (Human);Homo sapiens (Human)</td>\n",
       "      <td>B-cell lymphoma 6 protein;Histone deacetylase 4</td>\n",
       "      <td>BCL6;HDAC4</td>\n",
       "      <td>BCL5 LAZ3 ZBTB27 ZNF51;KIAA0288</td>\n",
       "    </tr>\n",
       "    <tr>\n",
       "      <th>1</th>\n",
       "      <td>2</td>\n",
       "      <td>BCL6-HDAC5 complex</td>\n",
       "      <td>Human</td>\n",
       "      <td>None</td>\n",
       "      <td>U2OS osteosarcoma-derived UTA-L cells</td>\n",
       "      <td>P41182;Q9UQL6</td>\n",
       "      <td>604;10014</td>\n",
       "      <td>MI:0007-anti tag coimmunoprecipitation</td>\n",
       "      <td>GO:0006265;GO:0045892;GO:0051276;GO:0030183;GO...</td>\n",
       "      <td>DNA topological change;negative regulation of ...</td>\n",
       "      <td>10.01.09.05;11.02.03.04.03;42.10.03;43.03.07.0...</td>\n",
       "      <td>DNA conformation modification (e.g. chromatin)...</td>\n",
       "      <td>11929873</td>\n",
       "      <td>Transcriptional repression by BCL6 is thought ...</td>\n",
       "      <td>None</td>\n",
       "      <td>None</td>\n",
       "      <td>Homo sapiens (Human);Homo sapiens (Human)</td>\n",
       "      <td>B-cell lymphoma 6 protein;Histone deacetylase 5</td>\n",
       "      <td>BCL6;HDAC5</td>\n",
       "      <td>BCL5 LAZ3 ZBTB27 ZNF51;KIAA0600</td>\n",
       "    </tr>\n",
       "  </tbody>\n",
       "</table>\n",
       "</div>"
      ],
      "text/plain": [
       "   ComplexID         ComplexName Organism Synonyms  \\\n",
       "0          1  BCL6-HDAC4 complex    Human     None   \n",
       "1          2  BCL6-HDAC5 complex    Human     None   \n",
       "\n",
       "                               Cell line subunits(UniProt IDs)  \\\n",
       "0  U2OS osteosarcoma-derived UTA-L cells         P41182;P56524   \n",
       "1  U2OS osteosarcoma-derived UTA-L cells         P41182;Q9UQL6   \n",
       "\n",
       "  subunits(Entrez IDs)     Protein complex purification method  \\\n",
       "0             604;9759  MI:0007-anti tag coimmunoprecipitation   \n",
       "1            604;10014  MI:0007-anti tag coimmunoprecipitation   \n",
       "\n",
       "                                               GO ID  \\\n",
       "0  GO:0006265;GO:0045892;GO:0051276;GO:0030183;GO...   \n",
       "1  GO:0006265;GO:0045892;GO:0051276;GO:0030183;GO...   \n",
       "\n",
       "                                      GO description  \\\n",
       "0  DNA topological change;negative regulation of ...   \n",
       "1  DNA topological change;negative regulation of ...   \n",
       "\n",
       "                                           FunCat ID  \\\n",
       "0  10.01.09.05;11.02.03.04.03;42.10.03;43.03.07.0...   \n",
       "1  10.01.09.05;11.02.03.04.03;42.10.03;43.03.07.0...   \n",
       "\n",
       "                                  FunCat description  PubMed ID  \\\n",
       "0  DNA conformation modification (e.g. chromatin)...   11929873   \n",
       "1  DNA conformation modification (e.g. chromatin)...   11929873   \n",
       "\n",
       "                                     Complex comment Disease comment  \\\n",
       "0  Transcriptional repression by BCL6 is thought ...            None   \n",
       "1  Transcriptional repression by BCL6 is thought ...            None   \n",
       "\n",
       "  Subunits comment                         SWISSPROT organism  \\\n",
       "0             None  Homo sapiens (Human);Homo sapiens (Human)   \n",
       "1             None  Homo sapiens (Human);Homo sapiens (Human)   \n",
       "\n",
       "                            subunits(Protein name) subunits(Gene name)  \\\n",
       "0  B-cell lymphoma 6 protein;Histone deacetylase 4          BCL6;HDAC4   \n",
       "1  B-cell lymphoma 6 protein;Histone deacetylase 5          BCL6;HDAC5   \n",
       "\n",
       "           subunits(Gene name syn)  \n",
       "0  BCL5 LAZ3 ZBTB27 ZNF51;KIAA0288  \n",
       "1  BCL5 LAZ3 ZBTB27 ZNF51;KIAA0600  "
      ]
     },
     "execution_count": 374,
     "metadata": {},
     "output_type": "execute_result"
    }
   ],
   "source": [
    "print(corum_db_human.shape)\n",
    "corum_db_human.head(2)"
   ]
  },
  {
   "cell_type": "code",
   "execution_count": 375,
   "id": "b7d8703a",
   "metadata": {
    "ExecuteTime": {
     "end_time": "2022-10-28T19:16:46.776197Z",
     "start_time": "2022-10-28T19:16:46.753077Z"
    }
   },
   "outputs": [],
   "source": [
    "human_uniprot = corum_db_human[['subunits(UniProt IDs)']]"
   ]
  },
  {
   "cell_type": "code",
   "execution_count": 376,
   "id": "2c21aa68",
   "metadata": {
    "ExecuteTime": {
     "end_time": "2022-10-28T19:16:47.133409Z",
     "start_time": "2022-10-28T19:16:47.060056Z"
    }
   },
   "outputs": [],
   "source": [
    "#change the column name \n",
    "#human_uniprot.rename(columns = {'subunits(UniProt IDs)':'UniProt_IDs'}, inplace = True)\n",
    "human_uniprot.columns = ['UniProt_IDs']\n",
    "human_uniprot = human_uniprot.UniProt_IDs.str.split(\";\", expand =True)"
   ]
  },
  {
   "cell_type": "code",
   "execution_count": 377,
   "id": "0ed7c0d2",
   "metadata": {
    "ExecuteTime": {
     "end_time": "2022-10-28T19:16:47.581471Z",
     "start_time": "2022-10-28T19:16:47.503864Z"
    }
   },
   "outputs": [
    {
     "name": "stdout",
     "output_type": "stream",
     "text": [
      "4464\n"
     ]
    }
   ],
   "source": [
    "human_uniprot_list = []\n",
    "for i in range(0,(human_uniprot.shape[1]-1)):\n",
    "    lst = human_uniprot[i].tolist()\n",
    "    res = [itm for itm in lst if itm is not None]\n",
    "    human_uniprot_list.extend(res)\n",
    "    \n",
    "human_uniprot_list = set(human_uniprot_list) \n",
    "print(len(human_uniprot_list))\n",
    "\n",
    "with open('human_uniprot_list.txt', 'w') as f:\n",
    "    for i in human_uniprot_list:\n",
    "        f.writelines(i+'\\n')"
   ]
  },
  {
   "cell_type": "code",
   "execution_count": 378,
   "id": "ad8a97cd",
   "metadata": {
    "ExecuteTime": {
     "end_time": "2022-10-28T19:16:48.796238Z",
     "start_time": "2022-10-28T19:16:48.722597Z"
    }
   },
   "outputs": [
    {
     "name": "stdout",
     "output_type": "stream",
     "text": [
      "4223\n"
     ]
    }
   ],
   "source": [
    "human_to_mouse_list = []\n",
    "for hid in human_uniprot_list:\n",
    "    mouse_id = indra.databases.uniprot_client.get_mouse_id(hid)\n",
    "    if mouse_id is not None:\n",
    "        human_to_mouse_list.append(mouse_id)\n",
    "    else:\n",
    "        continue\n",
    "\n",
    "human_to_mouse_list = set(human_to_mouse_list)\n",
    "print(len(human_to_mouse_list))\n",
    "\n",
    "with open('human_to_mouse_list.txt', 'w') as f:\n",
    "    for i in human_to_mouse_list:\n",
    "        if i is not None:\n",
    "            f.writelines(i+'\\n')"
   ]
  },
  {
   "cell_type": "code",
   "execution_count": null,
   "id": "140ee926",
   "metadata": {},
   "outputs": [],
   "source": []
  },
  {
   "cell_type": "code",
   "execution_count": 379,
   "id": "7ead5e9b",
   "metadata": {
    "ExecuteTime": {
     "end_time": "2022-10-28T19:16:50.698685Z",
     "start_time": "2022-10-28T19:16:50.683429Z"
    }
   },
   "outputs": [],
   "source": [
    "# Now map back human_to_mouse_list into the corum db"
   ]
  },
  {
   "cell_type": "code",
   "execution_count": 380,
   "id": "a909b7d0",
   "metadata": {
    "ExecuteTime": {
     "end_time": "2022-10-28T19:16:51.588386Z",
     "start_time": "2022-10-28T19:16:51.499927Z"
    }
   },
   "outputs": [
    {
     "name": "stdout",
     "output_type": "stream",
     "text": [
      "(162, 20)\n"
     ]
    },
    {
     "data": {
      "text/html": [
       "<div>\n",
       "<style scoped>\n",
       "    .dataframe tbody tr th:only-of-type {\n",
       "        vertical-align: middle;\n",
       "    }\n",
       "\n",
       "    .dataframe tbody tr th {\n",
       "        vertical-align: top;\n",
       "    }\n",
       "\n",
       "    .dataframe thead th {\n",
       "        text-align: right;\n",
       "    }\n",
       "</style>\n",
       "<table border=\"1\" class=\"dataframe\">\n",
       "  <thead>\n",
       "    <tr style=\"text-align: right;\">\n",
       "      <th></th>\n",
       "      <th>ComplexID</th>\n",
       "      <th>ComplexName</th>\n",
       "      <th>Organism</th>\n",
       "      <th>Synonyms</th>\n",
       "      <th>Cell line</th>\n",
       "      <th>subunits(UniProt IDs)</th>\n",
       "      <th>subunits(Entrez IDs)</th>\n",
       "      <th>Protein complex purification method</th>\n",
       "      <th>GO ID</th>\n",
       "      <th>GO description</th>\n",
       "      <th>FunCat ID</th>\n",
       "      <th>FunCat description</th>\n",
       "      <th>PubMed ID</th>\n",
       "      <th>Complex comment</th>\n",
       "      <th>Disease comment</th>\n",
       "      <th>Subunits comment</th>\n",
       "      <th>SWISSPROT organism</th>\n",
       "      <th>subunits(Protein name)</th>\n",
       "      <th>subunits(Gene name)</th>\n",
       "      <th>subunits(Gene name syn)</th>\n",
       "    </tr>\n",
       "  </thead>\n",
       "  <tbody>\n",
       "    <tr>\n",
       "      <th>13</th>\n",
       "      <td>25</td>\n",
       "      <td>9S-cytosolic aryl hydrocarbon (Ah) receptor no...</td>\n",
       "      <td>Mouse</td>\n",
       "      <td>None</td>\n",
       "      <td>None</td>\n",
       "      <td>O08915;P07901;P11499;P30561</td>\n",
       "      <td>11632;15519;15516;11622</td>\n",
       "      <td>MI:0019-coimmunoprecipitation;MI:0030-cross-li...</td>\n",
       "      <td>GO:0006950;GO:0009593;GO:0042221;GO:0005737</td>\n",
       "      <td>response to stress;detection of chemical stimu...</td>\n",
       "      <td>32.01;34.11.03;70.03</td>\n",
       "      <td>stress response;chemoperception and response;c...</td>\n",
       "      <td>1310021</td>\n",
       "      <td>The authors propose that the AhR exists in cyt...</td>\n",
       "      <td>None</td>\n",
       "      <td>None</td>\n",
       "      <td>Mus musculus (Mouse);Mus musculus (Mouse);Mus ...</td>\n",
       "      <td>AH receptor-interacting protein;Heat shock pro...</td>\n",
       "      <td>Aip;Hsp90aa1;Hsp90ab1;Ahr</td>\n",
       "      <td>None;Hsp86 Hsp86-1 Hspca;Hsp84 Hsp84-1 Hspcb;None</td>\n",
       "    </tr>\n",
       "    <tr>\n",
       "      <th>24</th>\n",
       "      <td>38</td>\n",
       "      <td>20S proteasome</td>\n",
       "      <td>Mouse</td>\n",
       "      <td>proteasome</td>\n",
       "      <td>None</td>\n",
       "      <td>O09061;O55234;O70435;P49722;P70195;P99026;Q606...</td>\n",
       "      <td>19170;19173;19167;19166;19177;19172;19175;2644...</td>\n",
       "      <td>MI:0019-coimmunoprecipitation</td>\n",
       "      <td>GO:0016485;GO:0043161;GO:0006511;GO:0006950;GO...</td>\n",
       "      <td>protein processing;proteasome-mediated ubiquit...</td>\n",
       "      <td>14.07.11;14.13.01.01;32.01;70.03;70.10</td>\n",
       "      <td>protein processing (proteolytic);proteasomal d...</td>\n",
       "      <td>10436176</td>\n",
       "      <td>The proteasome is an essential component of th...</td>\n",
       "      <td>None</td>\n",
       "      <td>None</td>\n",
       "      <td>Mus musculus (Mouse);Mus musculus (Mouse);Mus ...</td>\n",
       "      <td>Proteasome subunit beta type-1;Proteasome subu...</td>\n",
       "      <td>Psmb1;Psmb5;Psma3;Psma2;Psmb7;Psmb4;Psmb6;Psma...</td>\n",
       "      <td>None;;None;Lmpc3;Mmc14;Lmp3;Lmp19;None;None;No...</td>\n",
       "    </tr>\n",
       "  </tbody>\n",
       "</table>\n",
       "</div>"
      ],
      "text/plain": [
       "    ComplexID                                        ComplexName Organism  \\\n",
       "13         25  9S-cytosolic aryl hydrocarbon (Ah) receptor no...    Mouse   \n",
       "24         38                                     20S proteasome    Mouse   \n",
       "\n",
       "      Synonyms Cell line                              subunits(UniProt IDs)  \\\n",
       "13        None      None                        O08915;P07901;P11499;P30561   \n",
       "24  proteasome      None  O09061;O55234;O70435;P49722;P70195;P99026;Q606...   \n",
       "\n",
       "                                 subunits(Entrez IDs)  \\\n",
       "13                            11632;15519;15516;11622   \n",
       "24  19170;19173;19167;19166;19177;19172;19175;2644...   \n",
       "\n",
       "                  Protein complex purification method  \\\n",
       "13  MI:0019-coimmunoprecipitation;MI:0030-cross-li...   \n",
       "24                      MI:0019-coimmunoprecipitation   \n",
       "\n",
       "                                                GO ID  \\\n",
       "13        GO:0006950;GO:0009593;GO:0042221;GO:0005737   \n",
       "24  GO:0016485;GO:0043161;GO:0006511;GO:0006950;GO...   \n",
       "\n",
       "                                       GO description  \\\n",
       "13  response to stress;detection of chemical stimu...   \n",
       "24  protein processing;proteasome-mediated ubiquit...   \n",
       "\n",
       "                                 FunCat ID  \\\n",
       "13                    32.01;34.11.03;70.03   \n",
       "24  14.07.11;14.13.01.01;32.01;70.03;70.10   \n",
       "\n",
       "                                   FunCat description  PubMed ID  \\\n",
       "13  stress response;chemoperception and response;c...    1310021   \n",
       "24  protein processing (proteolytic);proteasomal d...   10436176   \n",
       "\n",
       "                                      Complex comment Disease comment  \\\n",
       "13  The authors propose that the AhR exists in cyt...            None   \n",
       "24  The proteasome is an essential component of th...            None   \n",
       "\n",
       "   Subunits comment                                 SWISSPROT organism  \\\n",
       "13             None  Mus musculus (Mouse);Mus musculus (Mouse);Mus ...   \n",
       "24             None  Mus musculus (Mouse);Mus musculus (Mouse);Mus ...   \n",
       "\n",
       "                               subunits(Protein name)  \\\n",
       "13  AH receptor-interacting protein;Heat shock pro...   \n",
       "24  Proteasome subunit beta type-1;Proteasome subu...   \n",
       "\n",
       "                                  subunits(Gene name)  \\\n",
       "13                          Aip;Hsp90aa1;Hsp90ab1;Ahr   \n",
       "24  Psmb1;Psmb5;Psma3;Psma2;Psmb7;Psmb4;Psmb6;Psma...   \n",
       "\n",
       "                              subunits(Gene name syn)  \n",
       "13  None;Hsp86 Hsp86-1 Hspca;Hsp84 Hsp84-1 Hspcb;None  \n",
       "24  None;;None;Lmpc3;Mmc14;Lmp3;Lmp19;None;None;No...  "
      ]
     },
     "execution_count": 380,
     "metadata": {},
     "output_type": "execute_result"
    }
   ],
   "source": [
    "ubr4_moved_protein_in_corum_db_mouse_as_complex_human = corum_db_mouse[corum_db_mouse['subunits(UniProt IDs)'].str.contains('|'.join(ubr4_moved))]\n",
    "print(ubr4_moved_protein_in_corum_db_mouse_as_complex_human.shape)\n",
    "ubr4_moved_protein_in_corum_db_mouse_as_complex_human.head(2)\n"
   ]
  },
  {
   "cell_type": "code",
   "execution_count": null,
   "id": "3a92cafd",
   "metadata": {},
   "outputs": [],
   "source": []
  },
  {
   "cell_type": "markdown",
   "id": "9a0a0595",
   "metadata": {},
   "source": [
    "### Quick Questions"
   ]
  },
  {
   "cell_type": "code",
   "execution_count": 381,
   "id": "bc144df0",
   "metadata": {
    "ExecuteTime": {
     "end_time": "2022-10-28T19:16:54.068877Z",
     "start_time": "2022-10-28T19:16:54.054858Z"
    }
   },
   "outputs": [],
   "source": [
    "# TRAF6, p62, aPKC all\n",
    "# TRAF6 - P70196\n",
    "# p62 - Q62074\n",
    "# aPKC - Q64337\n",
    "Uniprot_IDs = ['P70196', 'Q62074', 'Q64337']"
   ]
  },
  {
   "cell_type": "code",
   "execution_count": 382,
   "id": "afd483b2",
   "metadata": {
    "ExecuteTime": {
     "end_time": "2022-10-28T19:16:54.344207Z",
     "start_time": "2022-10-28T19:16:54.328742Z"
    }
   },
   "outputs": [],
   "source": [
    "tplant = ['P116', 'P133']"
   ]
  },
  {
   "cell_type": "code",
   "execution_count": 383,
   "id": "3509c4fe",
   "metadata": {
    "ExecuteTime": {
     "end_time": "2022-10-28T19:16:54.623596Z",
     "start_time": "2022-10-28T19:16:54.608458Z"
    }
   },
   "outputs": [
    {
     "name": "stdout",
     "output_type": "stream",
     "text": [
      "P116 P70196 False\n",
      "P116 Q62074 False\n",
      "P116 Q64337 True\n",
      "P133 P70196 True\n",
      "P133 Q62074 False\n",
      "P133 Q64337 True\n"
     ]
    }
   ],
   "source": [
    "for x in tplant:\n",
    "    for i in Uniprot_IDs:\n",
    "        print(x, i, i in dfp_80[x].index)"
   ]
  },
  {
   "cell_type": "code",
   "execution_count": 384,
   "id": "6481a10b",
   "metadata": {
    "ExecuteTime": {
     "end_time": "2022-10-28T19:16:54.990021Z",
     "start_time": "2022-10-28T19:16:54.974255Z"
    }
   },
   "outputs": [],
   "source": [
    "# Rnf114 - Q9ET26 in P116"
   ]
  },
  {
   "cell_type": "code",
   "execution_count": 385,
   "id": "02564391",
   "metadata": {
    "ExecuteTime": {
     "end_time": "2022-10-28T19:16:55.520154Z",
     "start_time": "2022-10-28T19:16:55.511071Z"
    }
   },
   "outputs": [],
   "source": [
    "rnf_p116 = dfp_80['P116'].loc[['Q9ET26']]\n",
    "aPKC_p116 =  dfp_80['P116'].loc[['Q64337']]\n",
    "rnf_aPKC_p116 = pd.concat([rnf_p116, aPKC_p116])"
   ]
  },
  {
   "cell_type": "code",
   "execution_count": 386,
   "id": "1898f5d9",
   "metadata": {
    "ExecuteTime": {
     "end_time": "2022-10-28T19:16:55.872001Z",
     "start_time": "2022-10-28T19:16:55.856384Z"
    }
   },
   "outputs": [],
   "source": [
    "header = []\n",
    "for i in range(len(rnf_aPKC_p116.columns)):\n",
    "    header.append(i+1)\n",
    "rnf_aPKC_p116.columns=header"
   ]
  },
  {
   "cell_type": "code",
   "execution_count": 387,
   "id": "20a082f5",
   "metadata": {
    "ExecuteTime": {
     "end_time": "2022-10-28T19:16:56.518794Z",
     "start_time": "2022-10-28T19:16:56.172954Z"
    }
   },
   "outputs": [
    {
     "data": {
      "text/plain": [
       "<AxesSubplot:>"
      ]
     },
     "execution_count": 387,
     "metadata": {},
     "output_type": "execute_result"
    },
    {
     "data": {
      "image/png": "[encoded data removed]",
      "text/plain": [
       "<Figure size 432x288 with 1 Axes>"
      ]
     },
     "metadata": {
      "needs_background": "light"
     },
     "output_type": "display_data"
    }
   ],
   "source": [
    "rnf_aPKC_p116.T.plot()"
   ]
  },
  {
   "cell_type": "code",
   "execution_count": 388,
   "id": "9a859405",
   "metadata": {
    "ExecuteTime": {
     "end_time": "2022-10-28T19:16:56.704980Z",
     "start_time": "2022-10-28T19:16:56.689050Z"
    }
   },
   "outputs": [
    {
     "name": "stdout",
     "output_type": "stream",
     "text": [
      "P116 Q9ET26 [8, 10]\n",
      "P116 Q64337 [1, 2, 3, 4, 5, 6, 7, 8, 9, 10, 11, 14, 17, 23, 24, 25, 26, 36]\n"
     ]
    }
   ],
   "source": [
    "for uid in ['Q9ET26', 'Q64337']:\n",
    "    if uid in rnf_aPKC_p116.index:\n",
    "        xy = rnf_aPKC_p116.loc[[uid]]\n",
    "        columns = (xy != 0).any()\n",
    "        columns_list = columns.index[columns].tolist()\n",
    "        \n",
    "        if len(columns_list) >0:\n",
    "            print('P116', uid, columns_list)"
   ]
  },
  {
   "cell_type": "code",
   "execution_count": null,
   "id": "115f32be",
   "metadata": {},
   "outputs": [],
   "source": []
  },
  {
   "cell_type": "code",
   "execution_count": 389,
   "id": "594e4fdf",
   "metadata": {
    "ExecuteTime": {
     "end_time": "2022-10-28T19:16:57.571340Z",
     "start_time": "2022-10-28T19:16:57.555464Z"
    }
   },
   "outputs": [],
   "source": [
    "# Rnf114 - Q9ET26 in P133"
   ]
  },
  {
   "cell_type": "code",
   "execution_count": 390,
   "id": "ef083a57",
   "metadata": {
    "ExecuteTime": {
     "end_time": "2022-10-28T19:16:58.038071Z",
     "start_time": "2022-10-28T19:16:58.005984Z"
    }
   },
   "outputs": [],
   "source": [
    "rnf_p133 = dfp_80['P133'].loc[['Q9ET26']]\n",
    "aPKC_p133 =  dfp_80['P133'].loc[['Q64337']]\n",
    "TRAF6_p133 =  dfp_80['P133'].loc[['P70196']]\n",
    "rnf_aPKC_p133 = pd.concat([rnf_p133, aPKC_p133, TRAF6_p133])"
   ]
  },
  {
   "cell_type": "code",
   "execution_count": 391,
   "id": "180720da",
   "metadata": {
    "ExecuteTime": {
     "end_time": "2022-10-28T19:16:58.613591Z",
     "start_time": "2022-10-28T19:16:58.574444Z"
    }
   },
   "outputs": [
    {
     "data": {
      "text/html": [
       "<div>\n",
       "<style scoped>\n",
       "    .dataframe tbody tr th:only-of-type {\n",
       "        vertical-align: middle;\n",
       "    }\n",
       "\n",
       "    .dataframe tbody tr th {\n",
       "        vertical-align: top;\n",
       "    }\n",
       "\n",
       "    .dataframe thead th {\n",
       "        text-align: right;\n",
       "    }\n",
       "</style>\n",
       "<table border=\"1\" class=\"dataframe\">\n",
       "  <thead>\n",
       "    <tr style=\"text-align: right;\">\n",
       "      <th></th>\n",
       "      <th>0</th>\n",
       "      <th>1</th>\n",
       "      <th>2</th>\n",
       "      <th>3</th>\n",
       "      <th>4</th>\n",
       "      <th>5</th>\n",
       "      <th>6</th>\n",
       "      <th>7</th>\n",
       "      <th>8</th>\n",
       "      <th>9</th>\n",
       "      <th>...</th>\n",
       "      <th>70</th>\n",
       "      <th>71</th>\n",
       "      <th>72</th>\n",
       "      <th>73</th>\n",
       "      <th>74</th>\n",
       "      <th>75</th>\n",
       "      <th>76</th>\n",
       "      <th>77</th>\n",
       "      <th>78</th>\n",
       "      <th>79</th>\n",
       "    </tr>\n",
       "    <tr>\n",
       "      <th>Protein ID</th>\n",
       "      <th></th>\n",
       "      <th></th>\n",
       "      <th></th>\n",
       "      <th></th>\n",
       "      <th></th>\n",
       "      <th></th>\n",
       "      <th></th>\n",
       "      <th></th>\n",
       "      <th></th>\n",
       "      <th></th>\n",
       "      <th></th>\n",
       "      <th></th>\n",
       "      <th></th>\n",
       "      <th></th>\n",
       "      <th></th>\n",
       "      <th></th>\n",
       "      <th></th>\n",
       "      <th></th>\n",
       "      <th></th>\n",
       "      <th></th>\n",
       "      <th></th>\n",
       "    </tr>\n",
       "  </thead>\n",
       "  <tbody>\n",
       "    <tr>\n",
       "      <th>Q9ET26</th>\n",
       "      <td>0.0</td>\n",
       "      <td>0.0</td>\n",
       "      <td>0.0</td>\n",
       "      <td>0.0</td>\n",
       "      <td>0.0</td>\n",
       "      <td>0.0</td>\n",
       "      <td>0.0</td>\n",
       "      <td>64400000.0</td>\n",
       "      <td>0.0</td>\n",
       "      <td>0.0</td>\n",
       "      <td>...</td>\n",
       "      <td>0.0</td>\n",
       "      <td>0.0</td>\n",
       "      <td>0.0</td>\n",
       "      <td>0.0</td>\n",
       "      <td>0.0</td>\n",
       "      <td>0.0</td>\n",
       "      <td>0.0</td>\n",
       "      <td>0.0</td>\n",
       "      <td>0.0</td>\n",
       "      <td>0.0</td>\n",
       "    </tr>\n",
       "    <tr>\n",
       "      <th>Q64337</th>\n",
       "      <td>0.0</td>\n",
       "      <td>0.0</td>\n",
       "      <td>0.0</td>\n",
       "      <td>0.0</td>\n",
       "      <td>0.0</td>\n",
       "      <td>0.0</td>\n",
       "      <td>0.0</td>\n",
       "      <td>0.0</td>\n",
       "      <td>45800000.0</td>\n",
       "      <td>0.0</td>\n",
       "      <td>...</td>\n",
       "      <td>0.0</td>\n",
       "      <td>0.0</td>\n",
       "      <td>0.0</td>\n",
       "      <td>0.0</td>\n",
       "      <td>0.0</td>\n",
       "      <td>0.0</td>\n",
       "      <td>0.0</td>\n",
       "      <td>0.0</td>\n",
       "      <td>0.0</td>\n",
       "      <td>0.0</td>\n",
       "    </tr>\n",
       "    <tr>\n",
       "      <th>P70196</th>\n",
       "      <td>0.0</td>\n",
       "      <td>0.0</td>\n",
       "      <td>0.0</td>\n",
       "      <td>0.0</td>\n",
       "      <td>0.0</td>\n",
       "      <td>0.0</td>\n",
       "      <td>0.0</td>\n",
       "      <td>0.0</td>\n",
       "      <td>0.0</td>\n",
       "      <td>0.0</td>\n",
       "      <td>...</td>\n",
       "      <td>0.0</td>\n",
       "      <td>0.0</td>\n",
       "      <td>0.0</td>\n",
       "      <td>0.0</td>\n",
       "      <td>0.0</td>\n",
       "      <td>0.0</td>\n",
       "      <td>0.0</td>\n",
       "      <td>0.0</td>\n",
       "      <td>0.0</td>\n",
       "      <td>0.0</td>\n",
       "    </tr>\n",
       "  </tbody>\n",
       "</table>\n",
       "<p>3 rows × 80 columns</p>\n",
       "</div>"
      ],
      "text/plain": [
       "             0    1    2    3    4    5    6           7           8    9   \\\n",
       "Protein ID                                                                   \n",
       "Q9ET26      0.0  0.0  0.0  0.0  0.0  0.0  0.0  64400000.0         0.0  0.0   \n",
       "Q64337      0.0  0.0  0.0  0.0  0.0  0.0  0.0         0.0  45800000.0  0.0   \n",
       "P70196      0.0  0.0  0.0  0.0  0.0  0.0  0.0         0.0         0.0  0.0   \n",
       "\n",
       "            ...   70   71   72   73   74   75   76   77   78   79  \n",
       "Protein ID  ...                                                    \n",
       "Q9ET26      ...  0.0  0.0  0.0  0.0  0.0  0.0  0.0  0.0  0.0  0.0  \n",
       "Q64337      ...  0.0  0.0  0.0  0.0  0.0  0.0  0.0  0.0  0.0  0.0  \n",
       "P70196      ...  0.0  0.0  0.0  0.0  0.0  0.0  0.0  0.0  0.0  0.0  \n",
       "\n",
       "[3 rows x 80 columns]"
      ]
     },
     "execution_count": 391,
     "metadata": {},
     "output_type": "execute_result"
    }
   ],
   "source": [
    "rnf_aPKC_p133"
   ]
  },
  {
   "cell_type": "code",
   "execution_count": 392,
   "id": "74b3f52e",
   "metadata": {
    "ExecuteTime": {
     "end_time": "2022-10-28T19:16:59.041977Z",
     "start_time": "2022-10-28T19:16:59.026373Z"
    }
   },
   "outputs": [],
   "source": [
    "header = []\n",
    "for i in range(len(rnf_aPKC_p133.columns)):\n",
    "    header.append(i+1)\n",
    "rnf_aPKC_p133.columns=header\n"
   ]
  },
  {
   "cell_type": "code",
   "execution_count": 393,
   "id": "05e3afd2",
   "metadata": {
    "ExecuteTime": {
     "end_time": "2022-10-28T19:16:59.749644Z",
     "start_time": "2022-10-28T19:16:59.532809Z"
    }
   },
   "outputs": [
    {
     "data": {
      "text/plain": [
       "<AxesSubplot:>"
      ]
     },
     "execution_count": 393,
     "metadata": {},
     "output_type": "execute_result"
    },
    {
     "data": {
      "image/png": "[encoded data removed]",
      "text/plain": [
       "<Figure size 432x288 with 1 Axes>"
      ]
     },
     "metadata": {
      "needs_background": "light"
     },
     "output_type": "display_data"
    }
   ],
   "source": [
    "rnf_aPKC_p133.T.plot()"
   ]
  },
  {
   "cell_type": "code",
   "execution_count": 394,
   "id": "acb7554b",
   "metadata": {
    "ExecuteTime": {
     "end_time": "2022-10-28T19:16:59.974278Z",
     "start_time": "2022-10-28T19:16:59.957134Z"
    }
   },
   "outputs": [
    {
     "name": "stdout",
     "output_type": "stream",
     "text": [
      "P133 Q9ET26 [8, 11, 13, 16, 34, 35, 36, 38, 39, 40, 41, 43, 45]\n",
      "P133 P70196 [18]\n",
      "P133 Q64337 [9, 12, 14]\n"
     ]
    }
   ],
   "source": [
    "for uid in ['Q9ET26', 'P70196', 'Q64337']:\n",
    "    if uid in rnf_aPKC_p133.index:\n",
    "        xy = rnf_aPKC_p133.loc[[uid]]\n",
    "        columns = (xy != 0).any()\n",
    "        columns_list = columns.index[columns].tolist()\n",
    "        \n",
    "        if len(columns_list) >0:\n",
    "            print('P133', uid, columns_list)\n"
   ]
  },
  {
   "cell_type": "code",
   "execution_count": null,
   "id": "719df500",
   "metadata": {},
   "outputs": [],
   "source": []
  },
  {
   "cell_type": "code",
   "execution_count": null,
   "id": "a1451312",
   "metadata": {},
   "outputs": [],
   "source": []
  },
  {
   "cell_type": "code",
   "execution_count": null,
   "id": "ebb9837a",
   "metadata": {},
   "outputs": [],
   "source": []
  }
 ],
 "metadata": {
  "kernelspec": {
   "display_name": "Python 3 (ipykernel)",
   "language": "python",
   "name": "python3"
  },
  "language_info": {
   "codemirror_mode": {
    "name": "ipython",
    "version": 3
   },
   "file_extension": ".py",
   "mimetype": "text/x-python",
   "name": "python",
   "nbconvert_exporter": "python",
   "pygments_lexer": "ipython3",
   "version": "3.10.9"
  },
  "toc": {
   "base_numbering": 1,
   "nav_menu": {},
   "number_sections": true,
   "sideBar": true,
   "skip_h1_title": false,
   "title_cell": "Table of Contents",
   "title_sidebar": "Contents",
   "toc_cell": false,
   "toc_position": {},
   "toc_section_display": true,
   "toc_window_display": true
  }
 },
 "nbformat": 4,
 "nbformat_minor": 5
}
