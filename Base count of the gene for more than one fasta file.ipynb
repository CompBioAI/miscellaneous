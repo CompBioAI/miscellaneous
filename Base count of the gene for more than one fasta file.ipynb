{
 "cells": [
  {
   "cell_type": "code",
   "execution_count": null,
   "id": "1dbe619f",
   "metadata": {},
   "outputs": [],
   "source": [
    "## Gene base count of more than one fasta file"
   ]
  },
  {
   "cell_type": "code",
   "execution_count": 1,
   "id": "dd7bc5c6",
   "metadata": {
    "ExecuteTime": {
     "end_time": "2023-12-30T16:39:11.361185Z",
     "start_time": "2023-12-30T16:39:11.290997Z"
    }
   },
   "outputs": [],
   "source": [
    "import os "
   ]
  },
  {
   "cell_type": "code",
   "execution_count": 2,
   "id": "5ffb2938",
   "metadata": {
    "ExecuteTime": {
     "end_time": "2023-12-30T16:39:12.120854Z",
     "start_time": "2023-12-30T16:39:12.108995Z"
    }
   },
   "outputs": [],
   "source": [
    "# get the list of the file in the dirctory\n",
    "list_of_files = os.listdir(\"C:/Users/Kundan/Desktop/insulin/gene\")\n",
    "#print(list_of_files)\n",
    "\n",
    "# Read location of the each file and save them to a list.\n",
    "file_loc = []\n",
    "for i in list_of_files:\n",
    "    f = \"C:/Users/Kundan/Desktop/insulin/gene/\"+i\n",
    "    file_loc.append(f)\n",
    "#print(file_loc)"
   ]
  },
  {
   "cell_type": "code",
   "execution_count": 3,
   "id": "242cb0c7",
   "metadata": {
    "ExecuteTime": {
     "end_time": "2023-12-30T16:39:12.810086Z",
     "start_time": "2023-12-30T16:39:12.797447Z"
    }
   },
   "outputs": [],
   "source": [
    "# Define a function to get the identifier and sequence of the gene.fna\n",
    "def read_file(file_loc):\n",
    "    identifier = ''\n",
    "    sequence = ''\n",
    "    \n",
    "    with open(file_loc, \"r\") as f:\n",
    "        for line in f:\n",
    "            if line[0]!='>':\n",
    "                sequence += line.rstrip()\n",
    "            elif line[0]=='>':\n",
    "                identifier = line\n",
    "            else:\n",
    "                continue\n",
    "                               \n",
    "    #return sequence\n",
    "    return [identifier, sequence]"
   ]
  },
  {
   "cell_type": "code",
   "execution_count": 4,
   "id": "35961818",
   "metadata": {
    "ExecuteTime": {
     "end_time": "2023-12-30T16:39:13.589544Z",
     "start_time": "2023-12-30T16:39:13.571675Z"
    }
   },
   "outputs": [],
   "source": [
    "# Define the function to get the base count\n",
    "def base_count(ab): # ab is file location\n",
    "    # get the sequence using the above difined function\n",
    "    info = read_file(ab)\n",
    "    \n",
    "    identifier = info[0]\n",
    "    sequence = info[1]\n",
    "    \n",
    "    \n",
    "    A = 0\n",
    "    T = 0 \n",
    "    C = 0\n",
    "    G = 0\n",
    "    n = 0\n",
    "    for base in sequence:\n",
    "        if base == 'A':\n",
    "            A = A+1\n",
    "        elif base == 'T':\n",
    "            T = T+1\n",
    "        elif base == 'G':\n",
    "            G = G+1\n",
    "        elif base == 'C':\n",
    "            C = C+1\n",
    "        else:\n",
    "            n = n+1\n",
    "            \n",
    "    words = identifier.split()\n",
    "\n",
    "            \n",
    "    #print(\"Idntifire :\" +identifier)\n",
    "\n",
    "    print(\"Gene_name: \",words[1]) # as gene name is second word of the identifier line\n",
    "    \n",
    "    print(\"Total base count = :\", len(sequence),\"\\n\",\n",
    "          \"Total A :\", A,\"\\n\",\n",
    "          \"Total T :\", T,\"\\n\",\n",
    "          \"Total G :\", G,\"\\n\",\n",
    "          \"Total C :\", C,\"\\n\",\n",
    "          \"Total Unknown :\", n,\"\\n\\n\"\n",
    "         )\n",
    "\n",
    "    return [identifier, len(sequence), A, T, G, C, n]\n"
   ]
  },
  {
   "cell_type": "code",
   "execution_count": 5,
   "id": "e423a057",
   "metadata": {
    "ExecuteTime": {
     "end_time": "2023-12-30T16:39:15.554802Z",
     "start_time": "2023-12-30T16:39:15.200774Z"
    }
   },
   "outputs": [
    {
     "name": "stdout",
     "output_type": "stream",
     "text": [
      "Gene_name:  Igf1r\n",
      "Total base count = : 281931 \n",
      " Total A : 69786 \n",
      " Total T : 81429 \n",
      " Total G : 67479 \n",
      " Total C : 63237 \n",
      " Total Unknown : 0 \n",
      "\n",
      "\n",
      "Gene_name:  IRS1\n",
      "Total base count = : 137049 \n",
      " Total A : 37733 \n",
      " Total T : 43256 \n",
      " Total G : 28535 \n",
      " Total C : 27525 \n",
      " Total Unknown : 0 \n",
      "\n",
      "\n",
      "Gene_name:  LOC105186969\n",
      "Total base count = : 10372 \n",
      " Total A : 2970 \n",
      " Total T : 3384 \n",
      " Total G : 1936 \n",
      " Total C : 2082 \n",
      " Total Unknown : 0 \n",
      "\n",
      "\n",
      "Gene_name:  LOC105257619\n",
      "Total base count = : 4346 \n",
      " Total A : 1298 \n",
      " Total T : 1456 \n",
      " Total G : 832 \n",
      " Total C : 760 \n",
      " Total Unknown : 0 \n",
      "\n",
      "\n",
      "Gene_name:  LOC105263394\n",
      "Total base count = : 3007 \n",
      " Total A : 933 \n",
      " Total T : 927 \n",
      " Total G : 575 \n",
      " Total C : 572 \n",
      " Total Unknown : 0 \n",
      "\n",
      "\n",
      "Gene_name:  LOC105319755\n",
      "Total base count = : 3947 \n",
      " Total A : 1285 \n",
      " Total T : 1297 \n",
      " Total G : 700 \n",
      " Total C : 665 \n",
      " Total Unknown : 0 \n",
      "\n",
      "\n",
      "Gene_name:  LOC107123376\n",
      "Total base count = : 7196 \n",
      " Total A : 1850 \n",
      " Total T : 1933 \n",
      " Total G : 1704 \n",
      " Total C : 1709 \n",
      " Total Unknown : 0 \n",
      "\n",
      "\n",
      "Gene_name:  LOC111234582\n",
      "Total base count = : 1046 \n",
      " Total A : 224 \n",
      " Total T : 317 \n",
      " Total G : 186 \n",
      " Total C : 319 \n",
      " Total Unknown : 0 \n",
      "\n",
      "\n",
      "Gene_name:  PIN\n",
      "Total base count = : 75720 \n",
      " Total A : 14816 \n",
      " Total T : 15171 \n",
      " Total G : 10009 \n",
      " Total C : 10436 \n",
      " Total Unknown : 25288 \n",
      "\n",
      "\n"
     ]
    }
   ],
   "source": [
    "# get the base count as list\n",
    "for i in file_loc:\n",
    "    results = base_count(i)"
   ]
  },
  {
   "cell_type": "code",
   "execution_count": null,
   "id": "6a6013c0",
   "metadata": {},
   "outputs": [],
   "source": []
  }
 ],
 "metadata": {
  "kernelspec": {
   "display_name": "Python 3 (ipykernel)",
   "language": "python",
   "name": "python3"
  },
  "language_info": {
   "codemirror_mode": {
    "name": "ipython",
    "version": 3
   },
   "file_extension": ".py",
   "mimetype": "text/x-python",
   "name": "python",
   "nbconvert_exporter": "python",
   "pygments_lexer": "ipython3",
   "version": "3.10.9"
  },
  "toc": {
   "base_numbering": 1,
   "nav_menu": {},
   "number_sections": true,
   "sideBar": true,
   "skip_h1_title": false,
   "title_cell": "Table of Contents",
   "title_sidebar": "Contents",
   "toc_cell": false,
   "toc_position": {},
   "toc_section_display": true,
   "toc_window_display": false
  }
 },
 "nbformat": 4,
 "nbformat_minor": 5
}
