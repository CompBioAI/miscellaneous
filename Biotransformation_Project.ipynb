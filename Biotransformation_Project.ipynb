{
 "cells": [
  {
   "cell_type": "markdown",
   "id": "2f6dfc34",
   "metadata": {},
   "source": [
    "# Biotransformation Project"
   ]
  },
  {
   "cell_type": "code",
   "execution_count": 80,
   "id": "1671585c",
   "metadata": {
    "ExecuteTime": {
     "end_time": "2023-01-08T09:53:09.692335Z",
     "start_time": "2023-01-08T09:53:08.601547Z"
    }
   },
   "outputs": [],
   "source": [
    "import os\n",
    "import sys\n",
    "import pandas as pd\n",
    "import numpy as np\n",
    "from matchms.importing import load_from_mgf\n",
    "from matchms.filtering import default_filters\n",
    "from matchms.filtering import normalize_intensities\n",
    "from matchms import calculate_scores\n",
    "from matchms.similarity import CosineGreedy\n",
    "from matchms.exporting import save_as_mgf\n",
    "from typing import List\n",
    "import pyteomics.mgf as py_mgf\n",
    "from matchms.Spectrum import Spectrum\n",
    "from matchms import Scores, Spectrum\n",
    "from matchms import filtering, similarity\n",
    "from tqdm.auto import tqdm\n",
    "import itertools\n",
    "import matplotlib.pyplot as plt\n",
    "import seaborn as sns"
   ]
  },
  {
   "cell_type": "markdown",
   "id": "8863d7c1",
   "metadata": {},
   "source": [
    "# Processing area file"
   ]
  },
  {
   "cell_type": "code",
   "execution_count": 2,
   "id": "1fdc704c",
   "metadata": {
    "ExecuteTime": {
     "end_time": "2023-01-06T08:14:17.785866Z",
     "start_time": "2023-01-06T08:14:17.408465Z"
    }
   },
   "outputs": [],
   "source": [
    "#read the msdial output for both positive and negative mode data.\n",
    "df_n = pd.read_csv(\"./MSDIAL_OUTPUT/P2_N/Area_0_202110261855.txt\", sep='\\t',skiprows=4)\n",
    "df_p = pd.read_csv(\"./MSDIAL_OUTPUT/P2_P/Area_0_20211026163.txt\", sep='\\t',skiprows=4)"
   ]
  },
  {
   "cell_type": "code",
   "execution_count": 3,
   "id": "f2578160",
   "metadata": {
    "ExecuteTime": {
     "end_time": "2023-01-06T08:14:20.656588Z",
     "start_time": "2023-01-06T08:14:20.614244Z"
    }
   },
   "outputs": [
    {
     "data": {
      "text/html": [
       "<div>\n",
       "<style scoped>\n",
       "    .dataframe tbody tr th:only-of-type {\n",
       "        vertical-align: middle;\n",
       "    }\n",
       "\n",
       "    .dataframe tbody tr th {\n",
       "        vertical-align: top;\n",
       "    }\n",
       "\n",
       "    .dataframe thead th {\n",
       "        text-align: right;\n",
       "    }\n",
       "</style>\n",
       "<table border=\"1\" class=\"dataframe\">\n",
       "  <thead>\n",
       "    <tr style=\"text-align: right;\">\n",
       "      <th></th>\n",
       "      <th>BLANK_N1</th>\n",
       "      <th>CVL2091_N1</th>\n",
       "      <th>CVL2092_N1</th>\n",
       "      <th>CVL2103_N1</th>\n",
       "      <th>CVL2106_N1</th>\n",
       "      <th>CVL2276_N1</th>\n",
       "      <th>CVL2277-N1</th>\n",
       "      <th>B_N1</th>\n",
       "      <th>P2_1ug_lm</th>\n",
       "      <th>P2_100ug_lm</th>\n",
       "      <th>P2-P_C1-LM</th>\n",
       "      <th>Control-2: (-)STD + LM</th>\n",
       "      <th>B</th>\n",
       "      <th>B_N1.1</th>\n",
       "      <th>P2_1ug_lm.1</th>\n",
       "      <th>P2_100ug_lm.1</th>\n",
       "      <th>P2-P_C1-LM.1</th>\n",
       "      <th>Control-2: (-)STD + LM.1</th>\n",
       "      <th>B.1</th>\n",
       "    </tr>\n",
       "  </thead>\n",
       "  <tbody>\n",
       "    <tr>\n",
       "      <th>0</th>\n",
       "      <td>0</td>\n",
       "      <td>0</td>\n",
       "      <td>0</td>\n",
       "      <td>138779</td>\n",
       "      <td>0</td>\n",
       "      <td>0</td>\n",
       "      <td>0</td>\n",
       "      <td>0.000000</td>\n",
       "      <td>0.000000e+00</td>\n",
       "      <td>0.0</td>\n",
       "      <td>1.387793e+05</td>\n",
       "      <td>0.0</td>\n",
       "      <td>0.000000e+00</td>\n",
       "      <td>0</td>\n",
       "      <td>0</td>\n",
       "      <td>0</td>\n",
       "      <td>0</td>\n",
       "      <td>0</td>\n",
       "      <td>0.000000e+00</td>\n",
       "    </tr>\n",
       "    <tr>\n",
       "      <th>1</th>\n",
       "      <td>0</td>\n",
       "      <td>0</td>\n",
       "      <td>0</td>\n",
       "      <td>6915653</td>\n",
       "      <td>0</td>\n",
       "      <td>21759608</td>\n",
       "      <td>25438520</td>\n",
       "      <td>0.000000</td>\n",
       "      <td>0.000000e+00</td>\n",
       "      <td>0.0</td>\n",
       "      <td>6.915653e+06</td>\n",
       "      <td>0.0</td>\n",
       "      <td>2.359906e+07</td>\n",
       "      <td>0</td>\n",
       "      <td>0</td>\n",
       "      <td>0</td>\n",
       "      <td>0</td>\n",
       "      <td>0</td>\n",
       "      <td>2.601384e+06</td>\n",
       "    </tr>\n",
       "    <tr>\n",
       "      <th>2</th>\n",
       "      <td>0</td>\n",
       "      <td>335623936</td>\n",
       "      <td>270704064</td>\n",
       "      <td>0</td>\n",
       "      <td>327437408</td>\n",
       "      <td>0</td>\n",
       "      <td>0</td>\n",
       "      <td>0.000000</td>\n",
       "      <td>3.356239e+08</td>\n",
       "      <td>270704064.0</td>\n",
       "      <td>0.000000e+00</td>\n",
       "      <td>327437408.0</td>\n",
       "      <td>0.000000e+00</td>\n",
       "      <td>0</td>\n",
       "      <td>0</td>\n",
       "      <td>0</td>\n",
       "      <td>0</td>\n",
       "      <td>0</td>\n",
       "      <td>0.000000e+00</td>\n",
       "    </tr>\n",
       "    <tr>\n",
       "      <th>3</th>\n",
       "      <td>0</td>\n",
       "      <td>0</td>\n",
       "      <td>0</td>\n",
       "      <td>598750</td>\n",
       "      <td>0</td>\n",
       "      <td>0</td>\n",
       "      <td>140051</td>\n",
       "      <td>0.000000</td>\n",
       "      <td>0.000000e+00</td>\n",
       "      <td>0.0</td>\n",
       "      <td>5.987500e+05</td>\n",
       "      <td>0.0</td>\n",
       "      <td>7.002541e+04</td>\n",
       "      <td>0</td>\n",
       "      <td>0</td>\n",
       "      <td>0</td>\n",
       "      <td>0</td>\n",
       "      <td>0</td>\n",
       "      <td>9.903088e+04</td>\n",
       "    </tr>\n",
       "    <tr>\n",
       "      <th>4</th>\n",
       "      <td>124556</td>\n",
       "      <td>2106189</td>\n",
       "      <td>0</td>\n",
       "      <td>0</td>\n",
       "      <td>0</td>\n",
       "      <td>0</td>\n",
       "      <td>0</td>\n",
       "      <td>124556.046875</td>\n",
       "      <td>2.106189e+06</td>\n",
       "      <td>0.0</td>\n",
       "      <td>0.000000e+00</td>\n",
       "      <td>0.0</td>\n",
       "      <td>0.000000e+00</td>\n",
       "      <td>0</td>\n",
       "      <td>0</td>\n",
       "      <td>0</td>\n",
       "      <td>0</td>\n",
       "      <td>0</td>\n",
       "      <td>0.000000e+00</td>\n",
       "    </tr>\n",
       "  </tbody>\n",
       "</table>\n",
       "</div>"
      ],
      "text/plain": [
       "   BLANK_N1  CVL2091_N1  CVL2092_N1  CVL2103_N1  CVL2106_N1  CVL2276_N1  \\\n",
       "0         0           0           0      138779           0           0   \n",
       "1         0           0           0     6915653           0    21759608   \n",
       "2         0   335623936   270704064           0   327437408           0   \n",
       "3         0           0           0      598750           0           0   \n",
       "4    124556     2106189           0           0           0           0   \n",
       "\n",
       "   CVL2277-N1           B_N1     P2_1ug_lm  P2_100ug_lm    P2-P_C1-LM  \\\n",
       "0           0       0.000000  0.000000e+00          0.0  1.387793e+05   \n",
       "1    25438520       0.000000  0.000000e+00          0.0  6.915653e+06   \n",
       "2           0       0.000000  3.356239e+08  270704064.0  0.000000e+00   \n",
       "3      140051       0.000000  0.000000e+00          0.0  5.987500e+05   \n",
       "4           0  124556.046875  2.106189e+06          0.0  0.000000e+00   \n",
       "\n",
       "   Control-2: (-)STD + LM             B  B_N1.1  P2_1ug_lm.1  P2_100ug_lm.1  \\\n",
       "0                     0.0  0.000000e+00       0            0              0   \n",
       "1                     0.0  2.359906e+07       0            0              0   \n",
       "2             327437408.0  0.000000e+00       0            0              0   \n",
       "3                     0.0  7.002541e+04       0            0              0   \n",
       "4                     0.0  0.000000e+00       0            0              0   \n",
       "\n",
       "   P2-P_C1-LM.1  Control-2: (-)STD + LM.1           B.1  \n",
       "0             0                         0  0.000000e+00  \n",
       "1             0                         0  2.601384e+06  \n",
       "2             0                         0  0.000000e+00  \n",
       "3             0                         0  9.903088e+04  \n",
       "4             0                         0  0.000000e+00  "
      ]
     },
     "execution_count": 3,
     "metadata": {},
     "output_type": "execute_result"
    }
   ],
   "source": [
    "df_n.iloc[0:5,32:51]"
   ]
  },
  {
   "cell_type": "code",
   "execution_count": 4,
   "id": "e99704e1",
   "metadata": {
    "ExecuteTime": {
     "end_time": "2023-01-06T08:14:21.913976Z",
     "start_time": "2023-01-06T08:14:21.899910Z"
    }
   },
   "outputs": [
    {
     "name": "stdout",
     "output_type": "stream",
     "text": [
      "(9300, 51) (13145, 51)\n"
     ]
    }
   ],
   "source": [
    "print(df_n.shape, df_p.shape)"
   ]
  },
  {
   "cell_type": "code",
   "execution_count": 5,
   "id": "cb0a2cc8",
   "metadata": {
    "ExecuteTime": {
     "end_time": "2023-01-06T08:14:23.250765Z",
     "start_time": "2023-01-06T08:14:23.184564Z"
    }
   },
   "outputs": [
    {
     "name": "stdout",
     "output_type": "stream",
     "text": [
      "(3321, 51) (3811, 51)\n"
     ]
    }
   ],
   "source": [
    "df_ms2_n = df_n.loc[df_n['MS/MS assigned'] == True]   # select features with MS/MS assigned in H-column\n",
    "df_ms2_p = df_p.loc[df_p['MS/MS assigned'] == True]   # select features with MS/MS assigned in H-column\n",
    "print(df_ms2_n.shape, df_ms2_p.shape)"
   ]
  },
  {
   "cell_type": "code",
   "execution_count": 6,
   "id": "dd77fce3",
   "metadata": {
    "ExecuteTime": {
     "end_time": "2023-01-06T08:14:24.575800Z",
     "start_time": "2023-01-06T08:14:24.553353Z"
    }
   },
   "outputs": [
    {
     "data": {
      "text/html": [
       "<div>\n",
       "<style scoped>\n",
       "    .dataframe tbody tr th:only-of-type {\n",
       "        vertical-align: middle;\n",
       "    }\n",
       "\n",
       "    .dataframe tbody tr th {\n",
       "        vertical-align: top;\n",
       "    }\n",
       "\n",
       "    .dataframe thead th {\n",
       "        text-align: right;\n",
       "    }\n",
       "</style>\n",
       "<table border=\"1\" class=\"dataframe\">\n",
       "  <thead>\n",
       "    <tr style=\"text-align: right;\">\n",
       "      <th></th>\n",
       "      <th>Alignment ID</th>\n",
       "      <th>Average Rt(min)</th>\n",
       "      <th>Average Mz</th>\n",
       "      <th>Metabolite name</th>\n",
       "      <th>Adduct type</th>\n",
       "      <th>Post curation result</th>\n",
       "      <th>Fill %</th>\n",
       "      <th>MS/MS assigned</th>\n",
       "      <th>Reference RT</th>\n",
       "      <th>Reference m/z</th>\n",
       "      <th>...</th>\n",
       "      <th>P2_100ug_lm</th>\n",
       "      <th>P2-P_C1-LM</th>\n",
       "      <th>Control-2: (-)STD + LM</th>\n",
       "      <th>B</th>\n",
       "      <th>B_N1.1</th>\n",
       "      <th>P2_1ug_lm.1</th>\n",
       "      <th>P2_100ug_lm.1</th>\n",
       "      <th>P2-P_C1-LM.1</th>\n",
       "      <th>Control-2: (-)STD + LM.1</th>\n",
       "      <th>B.1</th>\n",
       "    </tr>\n",
       "  </thead>\n",
       "  <tbody>\n",
       "    <tr>\n",
       "      <th>1</th>\n",
       "      <td>1</td>\n",
       "      <td>1.366</td>\n",
       "      <td>100.94583</td>\n",
       "      <td>Unknown</td>\n",
       "      <td>[M-H]-</td>\n",
       "      <td>found in higher mz's MsMs_574</td>\n",
       "      <td>0.429</td>\n",
       "      <td>True</td>\n",
       "      <td>NaN</td>\n",
       "      <td>NaN</td>\n",
       "      <td>...</td>\n",
       "      <td>0.0</td>\n",
       "      <td>6915653.0</td>\n",
       "      <td>0.0</td>\n",
       "      <td>23599064.0</td>\n",
       "      <td>0</td>\n",
       "      <td>0</td>\n",
       "      <td>0</td>\n",
       "      <td>0</td>\n",
       "      <td>0</td>\n",
       "      <td>2.601384e+06</td>\n",
       "    </tr>\n",
       "    <tr>\n",
       "      <th>2</th>\n",
       "      <td>2</td>\n",
       "      <td>1.201</td>\n",
       "      <td>101.02414</td>\n",
       "      <td>L-(+)-Erythrulose</td>\n",
       "      <td>[M-H]-</td>\n",
       "      <td>found in higher mz's MsMs_301; adduct linked t...</td>\n",
       "      <td>0.429</td>\n",
       "      <td>True</td>\n",
       "      <td>NaN</td>\n",
       "      <td>101.0244</td>\n",
       "      <td>...</td>\n",
       "      <td>270704064.0</td>\n",
       "      <td>0.0</td>\n",
       "      <td>327437408.0</td>\n",
       "      <td>0.0</td>\n",
       "      <td>0</td>\n",
       "      <td>0</td>\n",
       "      <td>0</td>\n",
       "      <td>0</td>\n",
       "      <td>0</td>\n",
       "      <td>0.000000e+00</td>\n",
       "    </tr>\n",
       "  </tbody>\n",
       "</table>\n",
       "<p>2 rows × 51 columns</p>\n",
       "</div>"
      ],
      "text/plain": [
       "   Alignment ID  Average Rt(min)  Average Mz    Metabolite name Adduct type  \\\n",
       "1             1            1.366   100.94583            Unknown      [M-H]-   \n",
       "2             2            1.201   101.02414  L-(+)-Erythrulose      [M-H]-   \n",
       "\n",
       "                                Post curation result  Fill %  MS/MS assigned  \\\n",
       "1                      found in higher mz's MsMs_574   0.429            True   \n",
       "2  found in higher mz's MsMs_301; adduct linked t...   0.429            True   \n",
       "\n",
       "   Reference RT  Reference m/z  ...  P2_100ug_lm  P2-P_C1-LM  \\\n",
       "1           NaN            NaN  ...          0.0   6915653.0   \n",
       "2           NaN       101.0244  ...  270704064.0         0.0   \n",
       "\n",
       "  Control-2: (-)STD + LM           B  B_N1.1  P2_1ug_lm.1  P2_100ug_lm.1  \\\n",
       "1                    0.0  23599064.0       0            0              0   \n",
       "2            327437408.0         0.0       0            0              0   \n",
       "\n",
       "   P2-P_C1-LM.1  Control-2: (-)STD + LM.1           B.1  \n",
       "1             0                         0  2.601384e+06  \n",
       "2             0                         0  0.000000e+00  \n",
       "\n",
       "[2 rows x 51 columns]"
      ]
     },
     "execution_count": 6,
     "metadata": {},
     "output_type": "execute_result"
    }
   ],
   "source": [
    "df_ms2_n.head(2)"
   ]
  },
  {
   "cell_type": "code",
   "execution_count": 7,
   "id": "9693c3d2",
   "metadata": {
    "ExecuteTime": {
     "end_time": "2023-01-06T08:14:25.260965Z",
     "start_time": "2023-01-06T08:14:25.247978Z"
    }
   },
   "outputs": [],
   "source": [
    "#pd.Series(list(df.columns))"
   ]
  },
  {
   "cell_type": "code",
   "execution_count": 8,
   "id": "8d005b20",
   "metadata": {
    "ExecuteTime": {
     "end_time": "2023-01-06T08:14:26.128566Z",
     "start_time": "2023-01-06T08:14:26.116598Z"
    }
   },
   "outputs": [
    {
     "name": "stdout",
     "output_type": "stream",
     "text": [
      "(438, 51) (992, 51)\n"
     ]
    }
   ],
   "source": [
    "df_a_n = df_ms2_n.loc[df_ms2_n['BLANK_N1']!=0]   # step a; select all the spectra from System blank, 'AG' or 'AN' column, select non-zero.\n",
    "df_a_p = df_ms2_p.loc[df_ms2_p['BLANK_P1']!=0]   # step a; select all the spectra from System blank, 'AG' or 'AN' column, select non-zero.\n",
    "\n",
    "print(df_a_n.shape, df_a_p.shape)"
   ]
  },
  {
   "cell_type": "code",
   "execution_count": 9,
   "id": "55fc99fb",
   "metadata": {
    "ExecuteTime": {
     "end_time": "2023-01-06T08:14:26.783313Z",
     "start_time": "2023-01-06T08:14:26.760602Z"
    }
   },
   "outputs": [
    {
     "name": "stdout",
     "output_type": "stream",
     "text": [
      "(1053, 51) (1561, 51)\n"
     ]
    }
   ],
   "source": [
    "df_b_n = df_ms2_n.loc[df_ms2_n['B']!=0]          # step b; select all the spectra from Extraction blank, 'AS' column, select non-zero.\n",
    "df_b_p = df_ms2_p.loc[df_ms2_p['B']!=0]          # step b; select all the spectra from Extraction blank, 'AS' column, select non-zero.\n",
    "\n",
    "print(df_b_n.shape, df_b_p.shape)"
   ]
  },
  {
   "cell_type": "code",
   "execution_count": 73,
   "id": "476f8172",
   "metadata": {
    "ExecuteTime": {
     "end_time": "2023-01-08T08:59:47.522366Z",
     "start_time": "2023-01-08T08:59:47.143594Z"
    }
   },
   "outputs": [
    {
     "name": "stdout",
     "output_type": "stream",
     "text": [
      "(1512, 51) (1750, 51)\n"
     ]
    }
   ],
   "source": [
    "df_c_n = df_ms2_n.loc[df_ms2_n['Control-2: (-)STD + LM']!=0] # step c; select all the spectra from Liver only(negative contol), 'AK' or AR' column, select non-zero.\n",
    "df_c_p = df_ms2_p.loc[df_ms2_p['Control-2: (-)STD + LM']!=0] # step c; select all the spectra from Liver only(negative contol), 'AK' or AR' column, select non-zero.\n",
    "\n",
    "print(df_c_n.shape, df_c_p.shape)"
   ]
  },
  {
   "cell_type": "code",
   "execution_count": 11,
   "id": "76d9e370",
   "metadata": {
    "ExecuteTime": {
     "end_time": "2023-01-06T08:14:32.493050Z",
     "start_time": "2023-01-06T08:14:32.459035Z"
    }
   },
   "outputs": [
    {
     "name": "stdout",
     "output_type": "stream",
     "text": [
      "(3003, 51) (4303, 51)\n"
     ]
    }
   ],
   "source": [
    "noise_df_n = pd.concat([df_a_n, df_b_n, df_c_n])          # step d; pool the spectra from step a, b and c to get the noise spectra\n",
    "noise_df_p = pd.concat([df_a_p, df_b_p, df_c_p])          # step d; pool the spectra from step a, b and c to get the noise spectra\n",
    "\n",
    "print(noise_df_n.shape, noise_df_p.shape)"
   ]
  },
  {
   "cell_type": "code",
   "execution_count": 12,
   "id": "6020cd0d",
   "metadata": {
    "ExecuteTime": {
     "end_time": "2023-01-06T08:18:05.093792Z",
     "start_time": "2023-01-06T08:18:05.001864Z"
    }
   },
   "outputs": [
    {
     "name": "stdout",
     "output_type": "stream",
     "text": [
      "(2358, 51) (3073, 51)\n"
     ]
    }
   ],
   "source": [
    "df_d_n = noise_df_n.drop_duplicates(keep='first')      # remove the duplicates from the noise.\n",
    "df_d_p = noise_df_p.drop_duplicates(keep='first')      # remove the duplicates from the noise.\n",
    "\n",
    "print(df_d_n.shape, df_d_p.shape)"
   ]
  },
  {
   "cell_type": "code",
   "execution_count": 13,
   "id": "8062863a",
   "metadata": {
    "ExecuteTime": {
     "end_time": "2023-01-06T08:18:05.983588Z",
     "start_time": "2023-01-06T08:18:05.972070Z"
    }
   },
   "outputs": [
    {
     "name": "stdout",
     "output_type": "stream",
     "text": [
      "(2159, 51) (2264, 51)\n"
     ]
    }
   ],
   "source": [
    "df_e_n = df_ms2_n.loc[(df_ms2_n['P2_1ug_lm']!=0) | (df_ms2_n['P2_100ug_lm']!=0)] #step e; select all the spectra from yyy and hepatic (present in either of two concn.), ('AH' or AO') and ('AI', AP') column, select non-zero.\n",
    "df_e_p = df_ms2_p.loc[(df_ms2_p['P2_1ug_lm']!=0) | (df_ms2_p['P2_100ug_lm']!=0)] #step e; select all the spectra from yyy and hepatic (present in either of two concn.), ('AH' or AO') and ('AI', AP') column, select non-zero.\n",
    "\n",
    "print(df_e_n.shape, df_e_p.shape) "
   ]
  },
  {
   "cell_type": "code",
   "execution_count": 14,
   "id": "d26fe5eb",
   "metadata": {
    "ExecuteTime": {
     "end_time": "2023-01-06T08:18:06.372763Z",
     "start_time": "2023-01-06T08:18:06.351716Z"
    }
   },
   "outputs": [
    {
     "name": "stdout",
     "output_type": "stream",
     "text": [
      "(999, 51) (1472, 51)\n"
     ]
    }
   ],
   "source": [
    "df_f_n = df_ms2_n.loc[df_ms2_n['P2-P_C1-LM']!=0]   # step f; yyy only spectra, select the non-zero form 'AJ' or 'AQ' column \n",
    "df_f_p = df_ms2_p.loc[df_ms2_p['P2-P_C1-LM']!=0]   # step f; yyy only spectra, select the non-zero form 'AJ' or 'AQ' column \n",
    "\n",
    "print(df_f_n.shape, df_f_p.shape)                               "
   ]
  },
  {
   "cell_type": "markdown",
   "id": "c4742dbe",
   "metadata": {},
   "source": [
    "## Summary of source of spectra"
   ]
  },
  {
   "cell_type": "code",
   "execution_count": 74,
   "id": "2981509d",
   "metadata": {
    "ExecuteTime": {
     "end_time": "2023-01-08T09:48:33.933257Z",
     "start_time": "2023-01-08T09:48:33.827485Z"
    }
   },
   "outputs": [
    {
     "name": "stdout",
     "output_type": "stream",
     "text": [
      "(7, 2) (7, 2)\n"
     ]
    }
   ],
   "source": [
    "spectra_summary_n = {'Source':['Total_MS2_Features', 'Sysem_blank(a)', 'Extraction_blank(b)', 'hepatic(c)', 'Combined_noise(d)', 'yyy_and_liver(e)', 'yyy_only(f)'], 'Number': [df_ms2_n.shape[0], df_a_n.shape[0], df_b_n.shape[0], df_c_n.shape[0], df_d_n.shape[0], df_e_n.shape[0], df_f_n.shape[0]]}\n",
    "spectra_summary_p = {'Source':['Total_MS2_Features', 'Sysem_blank(a)', 'Extraction_blank(b)', 'hepatic(c)', 'Combined_noise(d)', 'yyy_and_liver(e)', 'yyy_only(f)'], 'Number': [df_ms2_p.shape[0], df_a_p.shape[0], df_b_p.shape[0], df_c_p.shape[0], df_d_p.shape[0], df_e_p.shape[0], df_f_p.shape[0]]}\n",
    "\n",
    "spectra_summary_df_n = pd.DataFrame(spectra_summary_n)\n",
    "spectra_summary_df_p = pd.DataFrame(spectra_summary_p)\n",
    "\n",
    "print(spectra_summary_df_n.shape, spectra_summary_df_p.shape)"
   ]
  },
  {
   "cell_type": "code",
   "execution_count": 2,
   "id": "dd1bb895",
   "metadata": {
    "ExecuteTime": {
     "end_time": "2023-01-08T09:55:42.350435Z",
     "start_time": "2023-01-08T09:55:41.962247Z"
    },
    "scrolled": true
   },
   "outputs": [],
   "source": [
    "sns.barplot(data=spectra_summary_df_n.set_index('Source').T, palette=\"Set1\")\n",
    "plt.xticks(rotation=35)\n",
    "plt.tick_params(labelsize=26)\n",
    "plt.title('Feature Summary P2_N', fontsize=26, weight='bold', color='red')\n",
    "plt.xlabel(\"Study groups\", size=26, weight='bold')    \n",
    "plt.ylabel(\"Number of features\", size=26, fontweight='bold')\n",
    "plt.grid(True, alpha=0.3, linestyle=\"--\")\n",
    "plt.rcParams[\"figure.figsize\"] = (12, 12)"
   ]
  },
  {
   "cell_type": "code",
   "execution_count": 1,
   "id": "e34a0450",
   "metadata": {
    "ExecuteTime": {
     "end_time": "2023-01-08T09:55:52.639321Z",
     "start_time": "2023-01-08T09:55:52.303602Z"
    }
   },
   "outputs": [],
   "source": [
    "#spectra_summary_df_n.set_index('Source').T.plot.bar()\n",
    "#spectra_summary_df_p.set_index('Source').T.plot.bar()\n",
    "\n",
    "sns.barplot(data=spectra_summary_df_p.set_index('Source').T, palette=\"Set1\")\n",
    "plt.xticks(rotation=35)\n",
    "plt.tick_params(labelsize=26)\n",
    "plt.title('Feature Summary P2_P', fontsize=26, weight='bold', color='red')\n",
    "plt.xlabel(\"Study groups\", size=26, weight='bold')    \n",
    "plt.ylabel(\"Number of features\", size=26, fontweight='bold')\n",
    "plt.grid(True, alpha=0.3, linestyle=\"--\")\n",
    "plt.rcParams[\"figure.figsize\"] = (12, 12)"
   ]
  },
  {
   "cell_type": "markdown",
   "id": "983d707c",
   "metadata": {},
   "source": [
    "## Spectra metadata reformating"
   ]
  },
  {
   "cell_type": "code",
   "execution_count": 17,
   "id": "c1fa2d22",
   "metadata": {
    "ExecuteTime": {
     "end_time": "2023-01-06T08:18:09.872587Z",
     "start_time": "2023-01-06T08:18:09.864523Z"
    }
   },
   "outputs": [],
   "source": [
    "## Function for reading the spectra from the mgf file of MSDIAL output.\n",
    "# define a function to retrive spectra information from MS-DIAL output\n",
    "def row_to_spec(row):\n",
    "    mzs, intensities = list(zip(*[mzint.split(':')\n",
    "                            for mzint in row['MS/MS spectrum'].rstrip().split(' ')]))\n",
    "\n",
    "    metadata = {}\n",
    "    for key in row.index[0:5]: #first five column index as metadata\n",
    "        metadata[key] = row.get(key)\n",
    "    metadata['precursor_mz'] = metadata.pop('Average Mz')\n",
    "    metadata['retentiontime'] = metadata.pop('Average Rt(min)')\n",
    "    metadata['compound_name'] = metadata.pop('Metabolite name') \n",
    "    metadata['precursortype'] = metadata.pop('Adduct type')\n",
    "    #print(metadata)\n",
    "\n",
    "    return Spectrum(mz=np.array(mzs, float),\n",
    "                    intensities=np.array(intensities, float),\n",
    "                    metadata=metadata\n",
    "                   )\n"
   ]
  },
  {
   "cell_type": "code",
   "execution_count": 18,
   "id": "740595c6",
   "metadata": {
    "ExecuteTime": {
     "end_time": "2023-01-06T08:18:10.573816Z",
     "start_time": "2023-01-06T08:18:10.565438Z"
    }
   },
   "outputs": [],
   "source": [
    "#df_d_spectra[0].metadata"
   ]
  },
  {
   "cell_type": "code",
   "execution_count": 19,
   "id": "366b1272",
   "metadata": {
    "ExecuteTime": {
     "end_time": "2023-01-06T08:18:11.896857Z",
     "start_time": "2023-01-06T08:18:10.944089Z"
    }
   },
   "outputs": [
    {
     "name": "stdout",
     "output_type": "stream",
     "text": [
      "2358 3073\n"
     ]
    }
   ],
   "source": [
    "# all noise spectra\n",
    "df_d_n_spectra = df_d_n.apply(row_to_spec, axis=1).values\n",
    "df_d_p_spectra = df_d_p.apply(row_to_spec, axis=1).values\n",
    "\n",
    "print(len(df_d_n_spectra), len(df_d_p_spectra))"
   ]
  },
  {
   "cell_type": "code",
   "execution_count": 20,
   "id": "eb099df1",
   "metadata": {
    "ExecuteTime": {
     "end_time": "2023-01-06T08:18:12.863370Z",
     "start_time": "2023-01-06T08:18:11.898687Z"
    }
   },
   "outputs": [
    {
     "name": "stdout",
     "output_type": "stream",
     "text": [
      "2159 2264\n"
     ]
    }
   ],
   "source": [
    "# spectra from yyy and hepatic\n",
    "df_e_n_spectra = df_e_n.apply(row_to_spec, axis=1).values\n",
    "df_e_p_spectra = df_e_p.apply(row_to_spec, axis=1).values\n",
    "\n",
    "print(len(df_e_n_spectra), len(df_e_p_spectra))"
   ]
  },
  {
   "cell_type": "code",
   "execution_count": 21,
   "id": "af2f7031",
   "metadata": {
    "ExecuteTime": {
     "end_time": "2023-01-06T08:18:13.268856Z",
     "start_time": "2023-01-06T08:18:12.865957Z"
    }
   },
   "outputs": [
    {
     "name": "stdout",
     "output_type": "stream",
     "text": [
      "999 1472\n"
     ]
    }
   ],
   "source": [
    "# spectra from yyy only\n",
    "df_f_n_spectra = df_f_n.apply(row_to_spec, axis=1).values\n",
    "df_f_p_spectra = df_f_p.apply(row_to_spec, axis=1).values\n",
    "\n",
    "print(len(df_f_n_spectra), len(df_f_p_spectra))"
   ]
  },
  {
   "cell_type": "markdown",
   "id": "43adebf4",
   "metadata": {},
   "source": [
    "# Cosine Score"
   ]
  },
  {
   "cell_type": "markdown",
   "id": "6ccf3fc0",
   "metadata": {},
   "source": [
    "## Define Score"
   ]
  },
  {
   "cell_type": "code",
   "execution_count": 22,
   "id": "a68cbb71",
   "metadata": {
    "ExecuteTime": {
     "end_time": "2023-01-06T08:18:13.938908Z",
     "start_time": "2023-01-06T08:18:13.909788Z"
    }
   },
   "outputs": [],
   "source": [
    "from typing import List, Optional, Tuple\n",
    "from collections import namedtuple\n",
    "import numba as nb\n",
    "import numpy as np\n",
    "from matchms.Spectrum import Spectrum\n",
    "import math\n",
    "\n",
    "SpectrumTuple = namedtuple(\n",
    "    \"SpectrumTuple\", [\"precursor_mz\", \"precursor_charge\", \"mz\", \"intensity\"]\n",
    ")\n",
    "\n",
    "def norm_int(intensity):\n",
    "    norm = np.linalg.norm(intensity)\n",
    "    return intensity if math.isclose(norm, 1) else np.copy(intensity) / norm\n",
    "\n",
    "def cosine(\n",
    "    spec: Spectrum,\n",
    "    spec_other: Spectrum,\n",
    "    fragment_mz_tolerance: float,\n",
    "    allow_shift: bool,\n",
    "):\n",
    "\n",
    "    spec1 = SpectrumTuple(\n",
    "        spec.metadata[\"precursor_mz\"],\n",
    "        spec.metadata[\"charge\"],\n",
    "        spec.peaks.mz,\n",
    "        norm_int(spec.peaks.intensities),\n",
    "    )\n",
    "    spec2 = SpectrumTuple(\n",
    "        spec_other.metadata[\"precursor_mz\"],\n",
    "        spec_other.metadata[\"charge\"],\n",
    "        spec_other.peaks.mz,\n",
    "        norm_int(spec_other.peaks.intensities),\n",
    "    )\n",
    "\n",
    "    return _cosine(\n",
    "        spec1,\n",
    "        spec2,\n",
    "        fragment_mz_tolerance,\n",
    "        allow_shift,\n",
    "    )\n",
    "\n",
    "\n",
    "@nb.njit\n",
    "def _cosine(\n",
    "    spec: SpectrumTuple,\n",
    "    spec_other: SpectrumTuple,\n",
    "    fragment_mz_tolerance: float,\n",
    "    allow_shift: bool,\n",
    ") -> Tuple[float, List[Tuple[int, int]]]:\n",
    "    \"\"\"\n",
    "    Compute the cosine similarity between the given spectra.\n",
    "    Parameters\n",
    "    ----------\n",
    "    spec : SpectrumTuple\n",
    "        Numba-compatible tuple containing information from the first spectrum.\n",
    "    spec_other : SpectrumTuple\n",
    "        Numba-compatible tuple containing information from the second spectrum.\n",
    "    fragment_mz_tolerance : float\n",
    "        The fragment m/z tolerance used to match peaks in both spectra with\n",
    "        each other.\n",
    "    allow_shift : bool\n",
    "        Boolean flag indicating whether to allow peak shifts or not.\n",
    "    Returns\n",
    "    -------\n",
    "    Tuple[float, List[Tuple[int, int]]]\n",
    "        A tuple consisting of (i) the cosine similarity between both spectra,\n",
    "        and (ii) the indexes of matching peaks in both spectra.\n",
    "    \"\"\"\n",
    "\n",
    "    # Find the matching peaks between both spectra, optionally allowing for\n",
    "    # shifted peaks.\n",
    "    # Candidate peak indices depend on whether we allow shifts\n",
    "    # (check all shifted peaks as well) or not.\n",
    "    # Account for unknown precursor charge (default: 1).\n",
    "    precursor_charge = max(abs(spec.precursor_charge), 1)\n",
    "    precursor_mass_diff = (\n",
    "        spec.precursor_mz - spec_other.precursor_mz\n",
    "    ) * precursor_charge\n",
    "    # Only take peak shifts into account if the mass difference is relevant.\n",
    "    num_shifts = 1\n",
    "    if allow_shift and abs(precursor_mass_diff) >= fragment_mz_tolerance:\n",
    "        num_shifts += precursor_charge\n",
    "    other_peak_index = np.zeros(num_shifts, np.uint16)\n",
    "    mass_diff = np.zeros(num_shifts, np.float32)\n",
    "    for charge in range(1, num_shifts):\n",
    "        mass_diff[charge] = precursor_mass_diff / charge\n",
    "\n",
    "    # Find the matching peaks between both spectra.\n",
    "    peak_match_scores, peak_match_idx = [], []\n",
    "    for peak_index, (peak_mz, peak_intensity) in enumerate(\n",
    "        zip(spec.mz, spec.intensity)\n",
    "    ):\n",
    "        # Advance while there is an excessive mass difference.\n",
    "        for cpi in range(num_shifts):\n",
    "            while other_peak_index[cpi] < len(spec_other.mz) - 1 and (\n",
    "                peak_mz - fragment_mz_tolerance\n",
    "                > spec_other.mz[other_peak_index[cpi]] + mass_diff[cpi]\n",
    "            ):\n",
    "                other_peak_index[cpi] += 1\n",
    "        # Match the peaks within the fragment mass window if possible.\n",
    "        for cpi in range(num_shifts):\n",
    "            index = 0\n",
    "            other_peak_i = other_peak_index[cpi] + index\n",
    "            while (\n",
    "                other_peak_i < len(spec_other.mz)\n",
    "                and abs(\n",
    "                    peak_mz - (spec_other.mz[other_peak_i] + mass_diff[cpi])\n",
    "                )\n",
    "                <= fragment_mz_tolerance\n",
    "            ):\n",
    "                peak_match_scores.append(\n",
    "                    peak_intensity * spec_other.intensity[other_peak_i]\n",
    "                )\n",
    "                peak_match_idx.append((peak_index, other_peak_i))\n",
    "                index += 1\n",
    "                other_peak_i = other_peak_index[cpi] + index\n",
    "\n",
    "    score, peak_matches = 0.0, []\n",
    "    if len(peak_match_scores) > 0:\n",
    "        # Use the most prominent peak matches to compute the score (sort in\n",
    "        # descending order).\n",
    "        peak_match_scores_arr = np.asarray(peak_match_scores)\n",
    "        peak_match_order = np.argsort(peak_match_scores_arr)[::-1]\n",
    "        peak_match_scores_arr = peak_match_scores_arr[peak_match_order]\n",
    "        peak_match_idx_arr = np.asarray(peak_match_idx)[peak_match_order]\n",
    "        peaks_used, other_peaks_used = set(), set()\n",
    "        for peak_match_score, peak_i, other_peak_i in zip(\n",
    "            peak_match_scores_arr,\n",
    "            peak_match_idx_arr[:, 0],\n",
    "            peak_match_idx_arr[:, 1],\n",
    "        ):\n",
    "            if (\n",
    "                peak_i not in peaks_used\n",
    "                and other_peak_i not in other_peaks_used\n",
    "            ):\n",
    "                score += peak_match_score\n",
    "                # Save the matched peaks.\n",
    "                peak_matches.append((peak_i, other_peak_i))\n",
    "                # Make sure these peaks are not used anymore.\n",
    "                peaks_used.add(peak_i)\n",
    "                other_peaks_used.add(other_peak_i)\n",
    "\n",
    "    return score, peak_matches"
   ]
  },
  {
   "cell_type": "code",
   "execution_count": 23,
   "id": "b58cb6a2",
   "metadata": {
    "ExecuteTime": {
     "end_time": "2023-01-06T08:18:15.499742Z",
     "start_time": "2023-01-06T08:18:15.485054Z"
    }
   },
   "outputs": [],
   "source": [
    "#query_spectra[0].metadata"
   ]
  },
  {
   "cell_type": "markdown",
   "id": "1ab287d9",
   "metadata": {},
   "source": [
    "## Define spectra dictionary"
   ]
  },
  {
   "cell_type": "code",
   "execution_count": 24,
   "id": "65f9364f",
   "metadata": {
    "ExecuteTime": {
     "end_time": "2023-01-06T08:18:16.139989Z",
     "start_time": "2023-01-06T08:18:16.130960Z"
    }
   },
   "outputs": [],
   "source": [
    "def to_dict(query):\n",
    "    return {\"m/z array\": query.peaks.mz,\n",
    "            \"intensity array\": query.peaks.intensities,\n",
    "            \"params\": query.metadata}"
   ]
  },
  {
   "cell_type": "markdown",
   "id": "a84a18ba",
   "metadata": {},
   "source": [
    "# Match P2+LM (e) with the sopectra obtained from noise(d)"
   ]
  },
  {
   "cell_type": "markdown",
   "id": "89396783",
   "metadata": {
    "ExecuteTime": {
     "end_time": "2023-01-05T06:50:48.315680Z",
     "start_time": "2023-01-05T06:50:48.302501Z"
    }
   },
   "source": [
    "Mathod:Fast(er) Comparison; Greedy cosine with precursor windows"
   ]
  },
  {
   "cell_type": "markdown",
   "id": "d13ab75b",
   "metadata": {},
   "source": [
    "## Spectra data normalization"
   ]
  },
  {
   "cell_type": "code",
   "execution_count": 25,
   "id": "0b60adf3",
   "metadata": {
    "ExecuteTime": {
     "end_time": "2023-01-06T08:18:28.263565Z",
     "start_time": "2023-01-06T08:18:19.150351Z"
    }
   },
   "outputs": [
    {
     "name": "stdout",
     "output_type": "stream",
     "text": [
      "Added cleaned compound name: Mesaconate\n",
      "Added cleaned compound name: 4-Hydroxybenzoic acid\n",
      "Added cleaned compound name: 4-Hydroxybenzoic acid\n",
      "Added cleaned compound name: DL-Phenylalanine\n",
      "Removed formula CH2F3O4P from compound name.\n",
      "Added formula CH2F3O4P to metadata.\n",
      "Added cleaned compound name: w/o MS2:PFAP-PAP\n",
      "Removed formula CH2F3O4P from compound name.\n",
      "Added formula CH2F3O4P to metadata.\n",
      "Added cleaned compound name: w/o MS2:PFAP-PAP\n",
      "Removed formula CH2F3O4P from compound name.\n",
      "Added formula CH2F3O4P to metadata.\n",
      "Added cleaned compound name: w/o MS2:PFAP-PAP\n",
      "Added cleaned compound name: L-Sorbose\n",
      "Added cleaned compound name: Hydroxysebacic acid\n",
      "Added cleaned compound name: Butanedioic acid, 2-(4,4-dimethyl-2-methylenepentyl)-\n",
      "Added cleaned compound name: 6,7,8-trimethoxychromen-2-one [IIN-based: Match]\n",
      "Added cleaned compound name: 3-(1-hydroxy-2-oxobutylidene)-6-[(E)-prop-1-enyl]pyran-2,4-dione\n",
      "Removed formula C6H2F8O2 from compound name.\n",
      "Added formula C6H2F8O2 to metadata.\n",
      "Added cleaned compound name: w/o MS2:PFCA-perfluoroalkyl_Hsubstituted_1DB\n",
      "Removed formula C5HF9O2 from compound name.\n",
      "Added formula C5HF9O2 to metadata.\n",
      "Added cleaned compound name: w/o MS2:PFCA-perfluoroalkyl_branched\n",
      "Added cleaned compound name: (13S,17S)-17-hydroxy-13-methyl-2,6,7,8,14,15,16,17-octahydro-1H-cyclopenta[a]phenanthren-3-one\n",
      "Added cleaned compound name: 3-phenylbenzo[f]chromen-1-one\n",
      "Added cleaned compound name: DUBINIDINE\n",
      "Removed formula C6H3F9O2 from compound name.\n",
      "Added formula C6H3F9O2 to metadata.\n",
      "Added cleaned compound name: w/o MS2:FT-PFCA\n",
      "Removed formula C6H3F9O2 from compound name.\n",
      "Added formula C6H3F9O2 to metadata.\n",
      "Added cleaned compound name: w/o MS2:FT-PFCA\n",
      "Added cleaned compound name: [(1R)-2-adenin-9-yl-1-methyl-ethoxy]methylphosphonic acid\n",
      "Added cleaned compound name: 3,6-diphenylcyclohexane-1,2-diol [IIN-based on: CCMSLIB00000845865]\n",
      "Added cleaned compound name: Pregna-4,16-diene-3,20-dione\n",
      "Added cleaned compound name: PRI_303.1340_15.8\n",
      "Added cleaned compound name: 2,4-dihydroxyheptadec-16-enyl acetate [IIN-based on: CCMSLIB00000848387]\n",
      "Added cleaned compound name: Dodecylbenzenesulfonic acid\n",
      "Added cleaned compound name: Ajmaline4360-12-7\n",
      "Added cleaned compound name: w/o MS2: Monopalmitolein (9c)\n",
      "Added cleaned compound name: 5-hydroxy-2,2-dimethyl-10-(2-methylbut-3-en-2-yl)pyrano[3,2-g]chromen-8-one [IIN-based on: CCMSLIB00000846817]\n",
      "Added cleaned compound name: (E)-3-(4-hydroxy-3-methoxyphenyl)-N-[2-(4-hydroxyphenyl)ethyl]prop-2-enamide [IIN-based on: CCMSLIB00000845924]\n",
      "Removed formula C8H4F10O3 from compound name.\n",
      "Added formula C8H4F10O3 to metadata.\n",
      "Added cleaned compound name: w/o MS2:PFCA-H\n",
      "Removed adduct [M-H]- from compound name.\n",
      "Added adduct [M-H]- to metadata.\n",
      "Added cleaned compound name: 53FTA; LC-ESI-QQ; MS2; CE10\n",
      "Removed formula C6H2F10O3S from compound name.\n",
      "Added formula C6H2F10O3S to metadata.\n",
      "Added cleaned compound name: w/o MS2:PFSA-H\n",
      "Removed formula C7H2F12O2 from compound name.\n",
      "Added formula C7H2F12O2 to metadata.\n",
      "Added cleaned compound name: w/o MS2:PFCA-H\n",
      "Removed formula C7H2F12O2 from compound name.\n",
      "Added formula C7H2F12O2 to metadata.\n",
      "Added cleaned compound name: w/o MS2:PFCA-H\n",
      "Added cleaned compound name: 7-hydroxy-3-[4-hydroxy-3-(3-methylbut-2-enyl)phenyl]chromen-4-one [IIN-based on: CCMSLIB00000848834]\n",
      "Added cleaned compound name: w/o MS2: Tyr-Tyr\n",
      "Added cleaned compound name: w/o MS2: Tyr-Tyr\n",
      "Added cleaned compound name: 8-hydroxy-8-(3-octyloxiran-2-yl)octanoic acid [IIN-based on: CCMSLIB00000846585]\n",
      "Added cleaned compound name: 8-hydroxy-8-(3-octyloxiran-2-yl)octanoic acid [IIN-based on: CCMSLIB00000846585]\n",
      "Removed formula C8H2F12O2 from compound name.\n",
      "Added formula C8H2F12O2 to metadata.\n",
      "Added cleaned compound name: PFCA-perfluoroalkyl_Hsubstituted_1DB\n",
      "Removed formula C8H5F11O3 from compound name.\n",
      "Added formula C8H5F11O3 to metadata.\n",
      "Added cleaned compound name: w/o MS2:PFCA-H\n",
      "Added cleaned compound name: 7-[[2-azaniumyl-2-(4-hydroxyphenyl)acetyl]amino]-3-methyl-8-oxo-5-thia-1-azabicyclo[4.2.0]oct-2-ene-2-carboxylate\n",
      "Added cleaned compound name: 7-[(6-hydroxy-2,5,5,8a-tetramethyl-1,4,4a,6,7,8-hexahydronaphthalen-1-yl)methoxy]chromen-2-one\n",
      "Added cleaned compound name: 5-[5-hydroxy-3-(hydroxymethyl)pentyl]-8a-(hydroxymethyl)-5,6-dimethyl-3,4,4a,6,7,8-hexahydronaphthalene-1-carboxylic acid\n",
      "Added cleaned compound name: 5-[5-hydroxy-3-(hydroxymethyl)pentyl]-8a-(hydroxymethyl)-5,6-dimethyl-3,4,4a,6,7,8-hexahydronaphthalene-1-carboxylic acid [IIN-based on: CCMSLIB00000847958]\n",
      "Removed adduct [M-H]- from compound name.\n",
      "Added adduct [M-H]- to metadata.\n",
      "Added cleaned compound name: 62FTA; LC-ESI-QQ; MS2; CE20\n",
      "Removed adduct [M-H]- from compound name.\n",
      "Added adduct [M-H]- to metadata.\n",
      "Added cleaned compound name: 62FTA; LC-ESI-QQ; MS2; CE20\n",
      "Removed adduct [M-H]- from compound name.\n",
      "Added adduct [M-H]- to metadata.\n",
      "Added cleaned compound name: 62FTA; LC-ESI-QQ; MS2; CE20\n",
      "Added cleaned compound name: (2E,4E)-12-hydroxy-13-(hydroxymethyl)-14-methoxy-3,5,7-trimethyl-14-oxotetradeca-2,4-dienoic acid [IIN-based on: CCMSLIB00000847297]\n",
      "Removed formula C5HF12O4P from compound name.\n",
      "Added formula C5HF12O4P to metadata.\n",
      "Added cleaned compound name: w/o MS2:PFAP-diPAP\n",
      "Added cleaned compound name: Cyclopentaneacetic acid, 3-(hexopyranosyloxy)-2-[(2Z)-2-penten-1-yl]-\n",
      "Added cleaned compound name: 4-hydroxy-7-methoxy-2,3,8-trimethyl-3-(4-methylpent-3-enyl)-2H-benzo[g][1]benzofuran-6,9-dione [IIN-based on: CCMSLIB00000849091]\n",
      "Added cleaned compound name: methyl 2-(difluoromethyl)-5-(4,5-dihydro-1,3-thiazol-2-yl)-4-(2-methylpropyl)-6-(trifluoromethyl)pyridine-3-carboxylate\n",
      "Added cleaned compound name: 4-(4-Hydroxy-2,6,6-trimethyl-1-cyclohexen-1-yl)-2-butanyl beta-D-glucopyranoside\n",
      "Added cleaned compound name: 4-(4-Hydroxy-2,6,6-trimethyl-1-cyclohexen-1-yl)-2-butanyl beta-D-glucopyranoside\n",
      "Added cleaned compound name: R-(+)-DIOA\n",
      "Added cleaned compound name: (2S)-1-(4,5-dimethoxy-3-oxo-1H-2-benzofuran-1-yl)-5-oxo-N-(oxolan-2-ylmethyl)pyrrolidine-2-carboxamide\"\n",
      "Added cleaned compound name: [1-(3,4-dihydroxy-5-methoxyphenyl)-7-(3,4-dihydroxyphenyl)heptan-3-yl] acetate\n",
      "Added cleaned compound name: 3-(5-hydroxy-2,2,7,8-tetramethyl-6-oxo-7,8-dihydropyrano[3,2-g]chromen-10-yl)hexanoic acid [IIN-based on: CCMSLIB00000848449]\n",
      "Added cleaned compound name: 3-(5-hydroxy-2,2,7,8-tetramethyl-6-oxo-7,8-dihydropyrano[3,2-g]chromen-10-yl)hexanoic acid [IIN-based on: CCMSLIB00000848449]\n",
      "Added cleaned compound name: 1-Phenanthrenecarboxylic acid, 10-(acetyloxy)-1,2,3,4,4a,9,10,10a-octahydro-5,9-dihydroxy-1,4a-dimethyl-7-(1-methylethyl)-4-oxo-, methyl ester\n",
      "Added cleaned compound name: Dioctyl sulfosuccinate\n",
      "Added cleaned compound name: Dioctyl sulfosuccinate\n",
      "Removed formula C6HF13O5S from compound name.\n",
      "Added formula C6HF13O5S to metadata.\n",
      "Added cleaned compound name: w/o MS2:PFSA-ether\n",
      "Added cleaned compound name: (2S)-2-[[(2S)-2-(1,2-dihydroimidazo[1,2-a]benzimidazole-3-carbonylamino)-3-methylbutanoyl]amino]-2-phenylacetic acid\"\n",
      "Removed formula C10H4F14O3 from compound name.\n",
      "Added formula C10H4F14O3 to metadata.\n",
      "Added cleaned compound name: w/o MS2:PFCA-H\n",
      "Removed adduct [M-H]- from compound name.\n",
      "Added adduct [M-H]- to metadata.\n",
      "Added cleaned compound name: 73FTA; LC-ESI-QQ; MS2; CE30\n",
      "Removed adduct [M-H]- from compound name.\n",
      "Added adduct [M-H]- to metadata.\n",
      "Added cleaned compound name: 73FTA; LC-ESI-QQ; MS2; CE30\n",
      "Added cleaned compound name: Mitragynine\n",
      "Removed formula C9H2F16O2 from compound name.\n",
      "Added formula C9H2F16O2 to metadata.\n",
      "Added cleaned compound name: w/o MS2:PFCA-H\n",
      "Added cleaned compound name: N-[2-[7-methoxy-6-[(Z)-(1-methyl-2,4,6-trioxo-1,3-diazinan-5-ylidene)methyl]-1,3-benzodioxol-5-yl]ethyl]-N-methylbenzamide\"\n",
      "Added cleaned compound name: nefazodone\n",
      "Removed formula C8HF15O4S from compound name.\n",
      "Added formula C8HF15O4S to metadata.\n",
      "Added cleaned compound name: w/o MS2:PFSA-carbonyl\n",
      "Added cleaned compound name: 1-(9Z-Octadecenoyl)-sn-glycero-3-phosphoethanolamine\n",
      "Added cleaned compound name: \n",
      "Added cleaned compound name: [4-[3,4,5-trihydroxy-6-(hydroxymethyl)oxan-2-yl]oxyphenyl]methyl 2,3-dihydroxy-2-[(4-hydroxyphenyl)methyl]butanoate\n",
      "Removed formula C10H2F18O2 from compound name.\n",
      "Added formula C10H2F18O2 to metadata.\n",
      "Added cleaned compound name: PFCA-H\n",
      "Removed formula C8HF17O3S from compound name.\n",
      "Added formula C8HF17O3S to metadata.\n",
      "Added cleaned compound name: PFSA-perfluoroalkyl_branched_C3\n",
      "Added cleaned compound name: 3,4-Dihydroxy-5-[(6-O-{[4-(2-hydroxy-2-propanyl)-1-cyclohexen-1-yl]carbonyl}-beta-D-glucopyranosyl)oxy]benzoic acid\n",
      "Added cleaned compound name: Oxireno[4',5']pyrano[4',3':5,6]naphth[2,1-c]oxepin-3,10,12(1H,5aH,10aH)-trione, 8-(3-furanyl)-5b,6,7,7a,8,11b,13,13a-octahydro-1,1,5a,7a,11b-pentamethyl-, (5aR,7aS,8S,10aS,11aR,11bR)-\n",
      "Added cleaned compound name: [2-(4-hydroxy-3-methoxyphenyl)-4-[(4-hydroxy-3-methoxyphenyl)methyl]oxolan-3-yl]methyl (E)-3-(4-hydroxyphenyl)prop-2-enoate\n"
     ]
    },
    {
     "name": "stdout",
     "output_type": "stream",
     "text": [
      "Added cleaned compound name: 1,2-Dioleoyl-sn-glycero-3-phosphoethanolamine-N,N-dimethyl\n",
      "Added cleaned compound name: w/o MS2: 1,2-Dioleoyl-sn-glycero-3-phosphoethanolamine-N,N-dimethyl\n",
      "Added cleaned compound name: w/o MS2: 1,2-Dioleoyl-sn-glycero-3-phosphoethanolamine-N,N-dimethyl\n",
      "Added cleaned compound name: [2-(4-hydroxy-3-methoxyphenyl)-4-[(4-hydroxy-3-methoxyphenyl)methyl]oxolan-3-yl]methyl (E)-3-(4-hydroxyphenyl)prop-2-enoate\n",
      "Added cleaned compound name: 4,6-dihydroxy-3-(6-hydroxy-1-oxo-3-pentylisochromen-8-yl)oxy-2-pentylbenzoic acid\n",
      "Added cleaned compound name: [4-[3,4,5-trihydroxy-6-(hydroxymethyl)oxan-2-yl]oxyphenyl]methyl 3-acetyloxy-2-hydroxy-2-[(4-hydroxyphenyl)methyl]butanoate [IIN-based: Match]\n",
      "Added cleaned compound name: 9-Hydroxy-9-[({(2E)-2-(hydroxymethyl)-3-[3-(hydroxymethyl)-6-isopropyl-2-cyclohexen-1-yl]-2-propenoyl}oxy)methyl]-6-isopropyl-1-oxo-1,3,5a,6,7,8,9,9a-octahydro-2-benzoxepine-4-carboxylic acid\n",
      "Added cleaned compound name: [1-[3-(3-hydroxy-2,2-dimethyl-1,2'-dioxospiro[3aH-imidazo[1,2-a]indole-4,5'-oxolane]-3'-yl)-4-oxoquinazolin-2-yl]-2-methylpropyl] acetate\"\n",
      "Added cleaned compound name: [1-[3-(3-hydroxy-2,2-dimethyl-1,2'-dioxospiro[3aH-imidazo[1,2-a]indole-4,5'-oxolane]-3'-yl)-4-oxoquinazolin-2-yl]-2-methylpropyl] acetate\"\n",
      "Added cleaned compound name: Methyl (2S)-[(5S,6S,10S,12S,13R,15S,19S)-6-(3-furyl)-15,18-dihydroxy-1,5,16-trimethyl-8,14-dioxo-7,11-dioxahexacyclo[14.2.1.0~2,12~.0~5,10~.0~10,12~.0~13,18~]nonadec-19-yl](hydroxy)acetate\n",
      "Added cleaned compound name: \n",
      "Added cleaned compound name: Phillyrin\n",
      "Added cleaned compound name: [(2S,3R,4S,5R,6R)-3,5-dihydroxy-2-[[5-hydroxy-2-(4-hydroxyphenyl)-4-oxo-2,3-dihydrochromen-7-yl]oxy]-6-(hydroxymethyl)oxan-4-yl] (E)-3-(4-hydroxyphenyl)prop-2-enoate\n",
      "Added cleaned compound name: Benzyl beta-D-glucopyranosyl-(1->2)-[beta-D-xylopyranosyl-(1->6)]-beta-D-glucopyranoside\n",
      "Added cleaned compound name: \n",
      "Added cleaned compound name: \n",
      "Added cleaned compound name: (6E)-heptadeca-6,16-diene-1,2,4-triol [IIN-based on: CCMSLIB00000846358]\n",
      "Added cleaned compound name: \n",
      "Added cleaned compound name: 2-(hydroxymethyl)-1-methoxy-3-[(2S,3R,4S,5S,6R)-3,4,5-trihydroxy-6-[[(2S,3R,4S,5R)-3,4,5-trihydroxyoxan-2-yl]oxymethyl]oxan-2-yl]oxyanthracene-9,10-dione\n",
      "Added cleaned compound name: (3R)-4-[6-[(2S,4aS,5aR,9R,9aR,10aR)-2,9-dimethyl-3-oxo-4,4a,5a,6,7,9,9a,10a-octahydrodipyrano[4,2-a:4',3'-e][1,4]dioxin-7-yl]-1,5-dihydroxy-9,10-dioxoanthracen-2-yl]-3-hydroxy-3-methylbutanoic acid\n",
      "Added cleaned compound name: [(2R,3S,4R,5R,6R)-6-[2-(3,4-dihydroxyphenyl)ethoxy]-4,5-dihydroxy-2-[[(2R,3R,4R,5R,6S)-3,4,5-trihydroxy-6-methyloxan-2-yl]oxymethyl]oxan-3-yl] (E)-3-(3,4-dihydroxyphenyl)prop-2-enoate\n",
      "Added cleaned compound name: \n",
      "Added cleaned compound name: \n",
      "Added cleaned compound name: [(2R,3S,4S,5R,6R)-6-[1,7-bis(4-hydroxyphenyl)-5-oxoheptan-3-yl]oxy-3,4,5-trihydroxyoxan-2-yl]methyl (E)-3-(4-hydroxyphenyl)prop-2-enoate [IIN-based: Match]\n",
      "Added cleaned compound name: 7-[(2S,3R,4S,5S,6R)-4,5-dihydroxy-6-(hydroxymethyl)-3-[(2S,3R,4R,5R,6S)-3,4,5-trihydroxy-6-methyloxan-2-yl]oxyoxan-2-yl]oxy-5-hydroxy-2-(4-hydroxy-3-methoxyphenyl)-2,3-dihydrochromen-4-one\n",
      "Removed formula C9HF23O3S2 from compound name.\n",
      "Added formula C9HF23O3S2 to metadata.\n",
      "Added cleaned compound name: w/o MS2:PFSA-pentafluorosulfide\n",
      "Removed formula C9HF23O3S2 from compound name.\n",
      "Added formula C9HF23O3S2 to metadata.\n",
      "Added cleaned compound name: w/o MS2:PFSA-pentafluorosulfide\n",
      "Added cleaned compound name: (5R,13S,14R,15R)-15,22-Dihydroxy-5-methoxy-14,16-dimethyl-3-oxo-2-azabicyclo[18.3.1]tetracosa-1(24),6,8,10,16,20,22-heptaen-13-yl N-(cyclohexylcarbonyl)-D-alaninate\n",
      "Added cleaned compound name: w/o MS2:LQB00017 Cer[NP] t38:0\n",
      "Added cleaned compound name: w/o MS2:LQB00017 Cer[NP] t38:0\n",
      "Added cleaned compound name: w/o MS2:LQB00017 Cer[NP] t38:0\n",
      "Added cleaned compound name: [(1R,2R,3aR,5R,6E,10R,11S,13R,13aS)-1,2,3a,10,11-pentaacetyloxy-2,5,8,8-tetramethyl-12-methylidene-4,9-dioxo-3,5,10,11,13,13a-hexahydro-1H-cyclopenta[12]annulen-13-yl] acetate [IIN-based on: CCMSLIB00000847967]\n",
      "Added cleaned compound name: (2E,6E)-3,7,11,15,19,23,27,31,35-nonamethylhexatriaconta-2,6,34-triene-1,10,11,15,19,23,27,31-octol [IIN-based on: CCMSLIB00000847513]\n",
      "Added cleaned compound name: (2E,6E)-3,7,11,15,19,23,27,31,35-nonamethylhexatriaconta-2,6,34-triene-1,10,11,15,19,23,27,31-octol [IIN-based on: CCMSLIB00000847513]\n",
      "Added cleaned compound name: alpha-D-Glucopyranoside, 4-O-acetyl-6-O-(2-methyl-1-oxobutyl)-1-O-(3-methyl-1-oxobutyl)-beta-D-fructofuranosyl 2-O-[(2E)-2-methyl-1-oxo-2-buten-1-yl]-, 6-acetate\n",
      "Added cleaned compound name: alpha-D-Glucopyranoside, 4-O-acetyl-6-O-(2-methyl-1-oxobutyl)-1-O-(3-methyl-1-oxobutyl)-beta-D-fructofuranosyl 2-O-[(2E)-2-methyl-1-oxo-2-buten-1-yl]-, 6-acetate\n",
      "Added cleaned compound name: (5R)-5-hydroxy-1-(4-hydroxy-3-methoxyphenyl)tetradecan-3-one [IIN-based on: CCMSLIB00000848859]\n",
      "Added cleaned compound name: Syrosingopine\n",
      "Added cleaned compound name: Syrosingopine\n",
      "Added cleaned compound name: 4-[1-hydroxy-2-[2-methoxy-4-[(E)-prop-1-enyl]phenoxy]propyl]-2-methoxyphenol [IIN-based on: CCMSLIB00000845840]\n",
      "Added cleaned compound name: w/o MS2:BML00234 {3,4,5-triacetyloxy-6-[5-acetyloxy-3-(4-methoxyphenyl)-4-oxochromen-6-yloxy]-2 H-3,4,5,6-tetrahydropyran-2-yl}methyl acetate\n",
      "Added cleaned compound name: LQB00175 PE 34:1\n",
      "Added cleaned compound name: (2S,4R,9beta,16alpha,17xi,23E)-2-(beta-D-Glucopyranosyloxy)-16,20-dihydroxy-9,10,14-trimethyl-1,11,22-trioxo-4,9-cyclo-9,10-secocholesta-5,23-dien-25-yl acetate\n",
      "Added cleaned compound name: 2-[6-(2-methylbut-3-en-2-yl)-7-oxo-2,3-dihydrofuro[3,2-g]chromen-2-yl]propan-2-yl acetate [IIN-based on: CCMSLIB00000848402]\n",
      "Added cleaned compound name: Kaempferol-hexoside-dirhamnoside\n",
      "Added cleaned compound name: Carda-5,20(22)-dienolide, 3-[(2-O-beta-D-glucopyranosyl-beta-D-glucopyranosyl)oxy]-14-hydroxy-, (3beta)-\n",
      "Added cleaned compound name: (2S,3R,4R,5R,6S)-2-[(2S,3R,4S,5S,6R)-4,5-dihydroxy-2-[4-[3-(4-hydroxy-3,5-dimethoxyphenyl)-1,3,3a,4,6,6a-hexahydrofuro[3,4-c]furan-6-yl]-2,6-dimethoxyphenoxy]-6-(hydroxymethyl)oxan-3-yl]oxy-6-methyloxane-3,4,5-triol [IIN-based: Match]\n",
      "Added cleaned compound name: 1-(1Z-Octadecenyl)-2-(5Z,8Z,11Z,14Z-eicosatetraenoyl)-sn-glycero-3-phosphoethanolamine\n",
      "Added cleaned compound name: (2S)-8-[(E)-3-hydroxy-3-methylbut-1-enyl]-5,7-dimethoxy-2-phenyl-2,3-dihydrochromen-4-one [IIN-based on: CCMSLIB00000848309]\n",
      "Added cleaned compound name: 1-Octadecanoyl-2-(5Z,8Z,11Z,14Z-eicosatetraenoyl)-sn-glycero-3-phosphoethanolamine\n",
      "Added cleaned compound name: 1-Octadecanoyl-2-(5Z,8Z,11Z,14Z-eicosatetraenoyl)-sn-glycero-3-phosphoethanolamine\n",
      "Added cleaned compound name: 1-Octadecanoyl-2-(5Z,8Z,11Z,14Z-eicosatetraenoyl)-sn-glycero-3-phosphoethanolamine\n",
      "Added cleaned compound name: 1-Octadecanoyl-2-(5Z,8Z,11Z,14Z-eicosatetraenoyl)-sn-glycero-3-phosphoethanolamine\n",
      "Added cleaned compound name: 1-Octadecanoyl-2-(5Z,8Z,11Z,14Z-eicosatetraenoyl)-sn-glycero-3-phosphoethanolamine\n",
      "Added cleaned compound name: [(2R,3S,4S,5R,6R)-3,4,5-trihydroxy-6-[(2S,3S,4R,5R)-4-hydroxy-3-[(E)-3-(4-hydroxy-3,5-dimethoxyphenyl)prop-2-enoyl]oxy-2,5-bis(hydroxymethyl)oxolan-2-yl]oxyoxan-2-yl]methyl (E)-3-(4-hydroxy-3,5-dimethoxyphenyl)prop-2-enoate\n",
      "Added cleaned compound name: methyl 3-ethenyl-4-(2-oxoethyl)-2-[3,4,5-trihydroxy-6-(hydroxymethyl)oxan-2-yl]oxy-3,4-dihydro-2H-pyran-5-carboxylate [IIN-based on: CCMSLIB00000848585]\n",
      "Added cleaned compound name: Epimedin A\n",
      "Added cleaned compound name: Ergost-24-en-26-one, 3-[[4-O-(6-deoxyhexopyranosyl)hexopyranosyl]oxy]-6,7:22,26-diepoxy-1,5,16-trihydroxy-\n",
      "Added cleaned compound name: 1-Octadecanoyl-2-(5Z,8Z,11Z,14Z-eicosatetraenoyl)-sn-glycero-3-phospho-(1'-myo-inositol)\n",
      "Added cleaned compound name: 1-Octadecanoyl-2-(5Z,8Z,11Z,14Z-eicosatetraenoyl)-sn-glycero-3-phospho-(1'-myo-inositol)\n",
      "Added cleaned compound name: 1-Octadecanoyl-2-(5Z,8Z,11Z,14Z-eicosatetraenoyl)-sn-glycero-3-phospho-(1'-myo-inositol)\n",
      "Added cleaned compound name: 1-Octadecanoyl-2-(5Z,8Z,11Z,14Z-eicosatetraenoyl)-sn-glycero-3-phospho-(1'-myo-inositol)\n",
      "Added cleaned compound name: (1S,4R,7S,10S,13S,16S)-10-(4-Methoxybenzyl)-4,7,9,13,15,29-hexamethyl-2,5,8,11,14,30-hexaoxo-22-oxa-3,6,9,12,15,29-hexaazatetracyclo[14.12.2.2~18,21~.1~23,27~]tritriaconta-18,20,23(31),24,26,32-hexaen-24-yl beta-D-glucopyranoside\n",
      "Added cleaned compound name: 1-O-[(3beta,5xi,9xi)-3-{[6-Deoxy-alpha-L-mannopyranosyl-(1->3)-beta-D-xylopyranosyl-(1->2)-beta-D-glucopyranuronosyl]oxy}-28-oxoolean-12-en-28-yl]-beta-D-glucopyranose\n",
      "Removed adduct [M+H]+; from compound name.\n",
      "Added adduct [M+H]+; to metadata.\n",
      "Added cleaned compound name: w/o MS2:2,6,8-Trimethyl-3-Amino-9-Benzyl-9-Methoxynonanoic Acid-CoA; (Acyl-CoA)\n",
      "Added cleaned compound name: dimethyl (2E,6E,11Z)-19-(2-amino-2-oxoethyl)-9,13-dihydroxy-8-methoxy-10,12,14-trimethyl-15-oxohenicosa-2,6,11-trienedioate [IIN-based on: CCMSLIB00000846980]\n",
      "Removed formula C4H3F5O2 from compound name.\n",
      "Added formula C4H3F5O2 to metadata.\n",
      "Added cleaned compound name: FT-PFCA\n",
      "Removed formula C5H2F6O2 from compound name.\n",
      "Added formula C5H2F6O2 to metadata.\n",
      "Added cleaned compound name: w/o MS2:PFCA-perfluoroalkyl_Hsubstituted_1DB\n"
     ]
    },
    {
     "name": "stdout",
     "output_type": "stream",
     "text": [
      "Removed formula C6H2F8O2 from compound name.\n",
      "Added formula C6H2F8O2 to metadata.\n",
      "Added cleaned compound name: w/o MS2:PFCA-perfluoroalkyl_Hsubstituted_1DB\n",
      "Removed formula C5HF9O2 from compound name.\n",
      "Added formula C5HF9O2 to metadata.\n",
      "Added cleaned compound name: w/o MS2:PFCA-perfluoroalkyl_branched\n",
      "Removed formula C6H3F9O2 from compound name.\n",
      "Added formula C6H3F9O2 to metadata.\n",
      "Added cleaned compound name: w/o MS2:FT-PFCA\n",
      "Removed formula C6H3F9O2 from compound name.\n",
      "Added formula C6H3F9O2 to metadata.\n",
      "Added cleaned compound name: w/o MS2:FT-PFCA\n",
      "Removed formula C6H3F9O2 from compound name.\n",
      "Added formula C6H3F9O2 to metadata.\n",
      "Added cleaned compound name: w/o MS2:FT-PFCA\n",
      "Added cleaned compound name: Pregna-4,16-diene-3,20-dione\n",
      "Removed adduct [M-H]- from compound name.\n",
      "Added adduct [M-H]- to metadata.\n",
      "Added cleaned compound name: 53FTA; LC-ESI-QQ; MS2; CE10\n",
      "Removed adduct [M-H]- from compound name.\n",
      "Added adduct [M-H]- to metadata.\n",
      "Added cleaned compound name: 53FTA; LC-ESI-QQ; MS2; CE10\n",
      "Removed adduct [M-H]- from compound name.\n",
      "Added adduct [M-H]- to metadata.\n",
      "Added cleaned compound name: 53FTA; LC-ESI-QQ; MS2; CE10\n",
      "Removed formula C7H2F12O2 from compound name.\n",
      "Added formula C7H2F12O2 to metadata.\n",
      "Added cleaned compound name: w/o MS2:PFCA-H\n",
      "Added cleaned compound name: (13aR)-2,3,9,10-tetramethoxy-6,8,13,13a-tetrahydro-5H-isoquinolino[2,1-b]isoquinoline\n",
      "Removed formula C8H2F12O2 from compound name.\n",
      "Added formula C8H2F12O2 to metadata.\n",
      "Added cleaned compound name: w/o MS2:PFCA-perfluoroalkyl_Hsubstituted_1DB\n",
      "Removed formula C8H5F11O3 from compound name.\n",
      "Added formula C8H5F11O3 to metadata.\n",
      "Added cleaned compound name: w/o MS2:PFCA-H\n",
      "Removed adduct [M-H]- from compound name.\n",
      "Added adduct [M-H]- to metadata.\n",
      "Added cleaned compound name: 62FTA; LC-ESI-QQ; MS2; CE20\n",
      "Added cleaned compound name: w/o MS2:BML01746 6-Bromo-2-naphthyl-beta-D-galactopyranoside\n",
      "Removed formula C9H4F12O3 from compound name.\n",
      "Added formula C9H4F12O3 to metadata.\n",
      "Added cleaned compound name: w/o MS2:PFCA-H\n",
      "Removed formula C8H2F14O2 from compound name.\n",
      "Added formula C8H2F14O2 to metadata.\n",
      "Added cleaned compound name: w/o MS2:PFCA-H\n",
      "Removed formula C8H2F14O2 from compound name.\n",
      "Added formula C8H2F14O2 to metadata.\n",
      "Added cleaned compound name: w/o MS2:PFCA-H\n",
      "Removed formula C9H2F14O2 from compound name.\n",
      "Added formula C9H2F14O2 to metadata.\n",
      "Added cleaned compound name: w/o MS2:PFCA-perfluoroalkyl_Hsubstituted_1DB\n",
      "Removed formula C9H5F13O3 from compound name.\n",
      "Added formula C9H5F13O3 to metadata.\n",
      "Added cleaned compound name: w/o MS2:PFCA-H\n",
      "Added cleaned compound name: Cyanidin 3-xyloside\n",
      "Added cleaned compound name: 16-hydroxy-4,4,8,10,14-pentamethyl-17-(4,5,6-trihydroxy-6-methylheptan-2-yl)-1,2,5,6,7,9,11,12,15,16-decahydrocyclopenta[a]phenanthren-3-one [IIN-based on: CCMSLIB00000848752]\n",
      "Removed adduct [M-H]- from compound name.\n",
      "Added adduct [M-H]- to metadata.\n",
      "Added cleaned compound name: 73FTA; LC-ESI-QQ; MS2; CE30\n",
      "Added cleaned compound name: 2-Hydroxycyclohexyl 2-O-[(2E)-3-(4-hydroxyphenyl)-2-propenoyl]-beta-D-glucopyranoside\n",
      "Added cleaned compound name: 3-[(5-methyl-1,3,4-thiadiazol-2-yl)sulfanylmethyl]-8-oxo-7-[[2-(tetrazol-1-yl)acetyl]amino]-5-thia-1-azabicyclo[4.2.0]oct-2-ene-2-carboxylic acid\n",
      "Added cleaned compound name: [4-[3,4,5-trihydroxy-6-(hydroxymethyl)oxan-2-yl]oxyphenyl]methyl 2,3-dihydroxy-2-[(4-hydroxyphenyl)methyl]butanoate\n",
      "Added cleaned compound name: Irilone 4'-O-beta-d-glucoside-6''-O-malonate\n",
      "Added cleaned compound name: w/o MS2:LQB00440 Cer[NS] d34:2\n",
      "Added cleaned compound name: Biochanin A beta-d-diglucoside\n",
      "Removed formula C9HF23O3S2 from compound name.\n",
      "Added formula C9HF23O3S2 to metadata.\n",
      "Added cleaned compound name: w/o MS2:PFSA-pentafluorosulfide\n",
      "Added cleaned compound name: 13-Deacetyl baccatin VI\n",
      "Added cleaned compound name: 4-Hydroxybenzoic acid\n",
      "Removed formula CH2F3O4P from compound name.\n",
      "Added formula CH2F3O4P to metadata.\n",
      "Added cleaned compound name: w/o MS2:PFAP-PAP\n",
      "Removed formula CH2F3O4P from compound name.\n",
      "Added formula CH2F3O4P to metadata.\n",
      "Added cleaned compound name: w/o MS2:PFAP-PAP\n",
      "Removed formula CH2F3O4P from compound name.\n",
      "Added formula CH2F3O4P to metadata.\n",
      "Added cleaned compound name: w/o MS2:PFAP-PAP\n",
      "Added cleaned compound name: L-Sorbose\n",
      "Added cleaned compound name: Butanedioic acid, 2-(4,4-dimethyl-2-methylenepentyl)-\n",
      "Added cleaned compound name: 3-(1-hydroxy-2-oxobutylidene)-6-[(E)-prop-1-enyl]pyran-2,4-dione\n",
      "Removed formula C6H3F9O2 from compound name.\n",
      "Added formula C6H3F9O2 to metadata.\n",
      "Added cleaned compound name: w/o MS2:FT-PFCA\n",
      "Removed formula C6H3F9O2 from compound name.\n",
      "Added formula C6H3F9O2 to metadata.\n",
      "Added cleaned compound name: w/o MS2:FT-PFCA\n",
      "Added cleaned compound name: [(1R)-2-adenin-9-yl-1-methyl-ethoxy]methylphosphonic acid\n",
      "Removed formula C8HF11O2 from compound name.\n",
      "Added formula C8HF11O2 to metadata.\n",
      "Added cleaned compound name: w/o MS2:PFCA-unsaturated\n",
      "Removed formula C7H2F12O2 from compound name.\n",
      "Added formula C7H2F12O2 to metadata.\n",
      "Added cleaned compound name: w/o MS2:PFCA-H\n",
      "Removed formula C7H2F12O2 from compound name.\n",
      "Added formula C7H2F12O2 to metadata.\n",
      "Added cleaned compound name: w/o MS2:PFCA-H\n",
      "Removed formula C10H10F10O2 from compound name.\n",
      "Added formula C10H10F10O2 to metadata.\n",
      "Added cleaned compound name: w/o MS2:PFCA-H\n",
      "Removed adduct [M-H]- from compound name.\n",
      "Added adduct [M-H]- to metadata.\n",
      "Added cleaned compound name: 62FTA; LC-ESI-QQ; MS2; CE20\n",
      "Removed formula C8H2F14O2 from compound name.\n",
      "Added formula C8H2F14O2 to metadata.\n",
      "Added cleaned compound name: w/o MS2:PFCA-H\n",
      "Added cleaned compound name: Cyanidin 3-xyloside\n",
      "Removed adduct [M-H]- from compound name.\n",
      "Added adduct [M-H]- to metadata.\n",
      "Added cleaned compound name: 73FTA; LC-ESI-QQ; MS2; CE30\n",
      "Added cleaned compound name: \n",
      "Added cleaned compound name: 2-(3,4-dihydroxyphenyl)ethyl 4-[2-[2-(3,4-dihydroxyphenyl)ethoxy]-2-oxoethyl]-5-hydroxy-4a,5,7,7a-tetrahydro-4H-furo[3,4-b]pyran-3-carboxylate [IIN-based: Match]\n",
      "Added cleaned compound name: Oxireno[4',5']pyrano[4',3':5,6]naphth[2,1-c]oxepin-3,10,12(1H,5aH,10aH)-trione, 8-(3-furanyl)-5b,6,7,7a,8,11b,13,13a-octahydro-1,1,5a,7a,11b-pentamethyl-, (5aR,7aS,8S,10aS,11aR,11bR)-\n",
      "Added cleaned compound name: [2-(4-hydroxy-3-methoxyphenyl)-4-[(4-hydroxy-3-methoxyphenyl)methyl]oxolan-3-yl]methyl (E)-3-(4-hydroxyphenyl)prop-2-enoate\n",
      "Added cleaned compound name: 4,6-dihydroxy-3-(6-hydroxy-1-oxo-3-pentylisochromen-8-yl)oxy-2-pentylbenzoic acid\n",
      "Added cleaned compound name: [4-[3,4,5-trihydroxy-6-(hydroxymethyl)oxan-2-yl]oxyphenyl]methyl 3-acetyloxy-2-hydroxy-2-[(4-hydroxyphenyl)methyl]butanoate [IIN-based: Match]\n",
      "Added cleaned compound name: \n",
      "Added cleaned compound name: [1-[3-(3-hydroxy-2,2-dimethyl-1,2'-dioxospiro[3aH-imidazo[1,2-a]indole-4,5'-oxolane]-3'-yl)-4-oxoquinazolin-2-yl]-2-methylpropyl] acetate\"\n",
      "Added cleaned compound name: Methyl (2S)-[(5S,6S,10S,12S,13R,15S,19S)-6-(3-furyl)-15,18-dihydroxy-1,5,16-trimethyl-8,14-dioxo-7,11-dioxahexacyclo[14.2.1.0~2,12~.0~5,10~.0~10,12~.0~13,18~]nonadec-19-yl](hydroxy)acetate\n",
      "Added cleaned compound name: Methyl (2S)-[(5S,6S,10S,12S,13R,15S,19S)-6-(3-furyl)-15,18-dihydroxy-1,5,16-trimethyl-8,14-dioxo-7,11-dioxahexacyclo[14.2.1.0~2,12~.0~5,10~.0~10,12~.0~13,18~]nonadec-19-yl](hydroxy)acetate\n",
      "Added cleaned compound name: Phillyrin\n",
      "Added cleaned compound name: 2-(hydroxymethyl)-1-methoxy-3-[(2S,3R,4S,5S,6R)-3,4,5-trihydroxy-6-[[(2S,3R,4S,5R)-3,4,5-trihydroxyoxan-2-yl]oxymethyl]oxan-2-yl]oxyanthracene-9,10-dione\n",
      "Added cleaned compound name: (3R)-4-[6-[(2S,4aS,5aR,9R,9aR,10aR)-2,9-dimethyl-3-oxo-4,4a,5a,6,7,9,9a,10a-octahydrodipyrano[4,2-a:4',3'-e][1,4]dioxin-7-yl]-1,5-dihydroxy-9,10-dioxoanthracen-2-yl]-3-hydroxy-3-methylbutanoic acid\n",
      "Added cleaned compound name: Biochanin A beta-d-diglucoside\n",
      "Added cleaned compound name: Biochanin A beta-d-diglucoside\n",
      "Added cleaned compound name: [(2R,3S,4R,5R,6R)-6-[2-(3,4-dihydroxyphenyl)ethoxy]-4,5-dihydroxy-2-[[(2R,3R,4R,5R,6S)-3,4,5-trihydroxy-6-methyloxan-2-yl]oxymethyl]oxan-3-yl] (E)-3-(3,4-dihydroxyphenyl)prop-2-enoate\n",
      "Added cleaned compound name: (3S)-8-hydroxy-3-methyl-3,4-dihydro-2H-benzo[a]anthracene-1,7,12-trione [IIN-based on: CCMSLIB00000848009]\n",
      "Added cleaned compound name: 5-hydroxy-2-(4-methoxyphenyl)-3-[(2S,3R,4S,5S,6R)-3,4,5-trihydroxy-6-(hydroxymethyl)oxan-2-yl]oxy-7-[(2S,3R,4R,5R,6S)-3,4,5-trihydroxy-6-methyloxan-2-yl]oxychromen-4-one\n",
      "Removed formula C9HF23O3S2 from compound name.\n",
      "Added formula C9HF23O3S2 to metadata.\n",
      "Added cleaned compound name: w/o MS2:PFSA-pentafluorosulfide\n",
      "Added cleaned compound name: 13-Deacetyl baccatin VI\n",
      "Added cleaned compound name: (2E,6E)-3,7,11,15,19,23,27,31,35-nonamethylhexatriaconta-2,6,34-triene-1,10,11,15,19,23,27,31-octol [IIN-based on: CCMSLIB00000847513]\n",
      "Added cleaned compound name: (2E,6E)-3,7,11,15,19,23,27,31,35-nonamethylhexatriaconta-2,6,34-triene-1,10,11,15,19,23,27,31-octol [IIN-based on: CCMSLIB00000847513]\n",
      "Added cleaned compound name: (2E,6E)-3,7,11,15,19,23,27,31,35-nonamethylhexatriaconta-2,6,34-triene-1,10,11,15,19,23,27,31-octol [IIN-based on: CCMSLIB00000847513]\n",
      "Removed formula C15H4F24O3 from compound name.\n",
      "Added formula C15H4F24O3 to metadata.\n",
      "Added cleaned compound name: w/o MS2:PFCA-H\n",
      "Added cleaned compound name: w/o MS2:BML00234 {3,4,5-triacetyloxy-6-[5-acetyloxy-3-(4-methoxyphenyl)-4-oxochromen-6-yloxy]-2 H-3,4,5,6-tetrahydropyran-2-yl}methyl acetate\n"
     ]
    },
    {
     "name": "stdout",
     "output_type": "stream",
     "text": [
      "Added cleaned compound name: w/o MS2:2-BAHLIA [DMED-FAHFA]; [22:0-(2-O-24:0)]\n",
      "Added cleaned compound name: w/o MS2:2-TTRAHLIA [DMED-FAHFA]; [24:3-(2-O-24:0)]\n",
      "Added cleaned compound name: w/o MS2: N-Tetracosanoyl-4-sphingenyl-1-O-phosphorylcholine\n",
      "Removed adduct [M+H]+; from compound name.\n",
      "Added adduct [M+H]+; to metadata.\n",
      "Added cleaned compound name: w/o MS2:2,6,8-Trimethyl-3-Amino-9-Benzyl-9-Methoxynonanoic Acid-CoA; (Acyl-CoA)\n",
      "Added cleaned compound name: Mesaconate\n",
      "Added cleaned compound name: DL-Phenylalanine\n",
      "Removed formula CH2F3O4P from compound name.\n",
      "Added formula CH2F3O4P to metadata.\n",
      "Added cleaned compound name: w/o MS2:PFAP-PAP\n",
      "Removed formula CH2F3O4P from compound name.\n",
      "Added formula CH2F3O4P to metadata.\n",
      "Added cleaned compound name: w/o MS2:PFAP-PAP\n",
      "Removed formula C2HF6O4P from compound name.\n",
      "Added formula C2HF6O4P to metadata.\n",
      "Added cleaned compound name: w/o MS2:PFAP-diPAP\n",
      "Added cleaned compound name: 6,7,8-trimethoxychromen-2-one [IIN-based: Match]\n",
      "Added cleaned compound name: (13S,17S)-17-hydroxy-13-methyl-2,6,7,8,14,15,16,17-octahydro-1H-cyclopenta[a]phenanthren-3-one\n",
      "Added cleaned compound name: 3-phenylbenzo[f]chromen-1-one\n",
      "Added cleaned compound name: DUBINIDINE\n",
      "Added cleaned compound name: 3,6-diphenylcyclohexane-1,2-diol [IIN-based on: CCMSLIB00000845865]\n",
      "Removed formula C4H2F9O4P from compound name.\n",
      "Added formula C4H2F9O4P to metadata.\n",
      "Added cleaned compound name: w/o MS2:PFAP-PAP\n",
      "Added cleaned compound name: w/o MS2: Monopalmitolein (9c)\n",
      "Removed formula C8H4F10O3 from compound name.\n",
      "Added formula C8H4F10O3 to metadata.\n",
      "Added cleaned compound name: w/o MS2:PFCA-H\n",
      "Removed adduct [M-H]- from compound name.\n",
      "Added adduct [M-H]- to metadata.\n",
      "Added cleaned compound name: 53FTA; LC-ESI-QQ; MS2; CE10\n",
      "Removed formula C7H2F12O2 from compound name.\n",
      "Added formula C7H2F12O2 to metadata.\n",
      "Added cleaned compound name: w/o MS2:PFCA-H\n",
      "Added cleaned compound name: 7-hydroxy-3-[4-hydroxy-3-(3-methylbut-2-enyl)phenyl]chromen-4-one [IIN-based on: CCMSLIB00000848834]\n",
      "Added cleaned compound name: w/o MS2: Tyr-Tyr\n",
      "Added cleaned compound name: w/o MS2: Tyr-Tyr\n",
      "Added cleaned compound name: 8-hydroxy-8-(3-octyloxiran-2-yl)octanoic acid [IIN-based on: CCMSLIB00000846585]\n",
      "Removed formula C8H2F12O2 from compound name.\n",
      "Added formula C8H2F12O2 to metadata.\n",
      "Added cleaned compound name: PFCA-perfluoroalkyl_Hsubstituted_1DB\n",
      "Added cleaned compound name: 5-[5-hydroxy-3-(hydroxymethyl)pentyl]-8a-(hydroxymethyl)-5,6-dimethyl-3,4,4a,6,7,8-hexahydronaphthalene-1-carboxylic acid\n",
      "Added cleaned compound name: (2E,4E)-12-hydroxy-13-(hydroxymethyl)-14-methoxy-3,5,7-trimethyl-14-oxotetradeca-2,4-dienoic acid [IIN-based on: CCMSLIB00000847297]\n",
      "Removed formula C5HF12O4P from compound name.\n",
      "Added formula C5HF12O4P to metadata.\n",
      "Added cleaned compound name: w/o MS2:PFAP-diPAP\n",
      "Added cleaned compound name: methyl 2-(difluoromethyl)-5-(4,5-dihydro-1,3-thiazol-2-yl)-4-(2-methylpropyl)-6-(trifluoromethyl)pyridine-3-carboxylate\n",
      "Added cleaned compound name: 4-(4-Hydroxy-2,6,6-trimethyl-1-cyclohexen-1-yl)-2-butanyl beta-D-glucopyranoside\n",
      "Added cleaned compound name: R-(+)-DIOA\n",
      "Added cleaned compound name: [1-(3,4-dihydroxy-5-methoxyphenyl)-7-(3,4-dihydroxyphenyl)heptan-3-yl] acetate\n",
      "Added cleaned compound name: 3-(5-hydroxy-2,2,7,8-tetramethyl-6-oxo-7,8-dihydropyrano[3,2-g]chromen-10-yl)hexanoic acid [IIN-based on: CCMSLIB00000848449]\n",
      "Added cleaned compound name: 1-Phenanthrenecarboxylic acid, 10-(acetyloxy)-1,2,3,4,4a,9,10,10a-octahydro-5,9-dihydroxy-1,4a-dimethyl-7-(1-methylethyl)-4-oxo-, methyl ester\n",
      "Added cleaned compound name: Dioctyl sulfosuccinate\n",
      "Removed formula C6HF13O5S from compound name.\n",
      "Added formula C6HF13O5S to metadata.\n",
      "Added cleaned compound name: w/o MS2:PFSA-ether\n",
      "Added cleaned compound name: (2S)-2-[[(2S)-2-(1,2-dihydroimidazo[1,2-a]benzimidazole-3-carbonylamino)-3-methylbutanoyl]amino]-2-phenylacetic acid\"\n",
      "Added cleaned compound name: Mitragynine\n",
      "Added cleaned compound name: nefazodone\n",
      "Removed formula C8HF15O4S from compound name.\n",
      "Added formula C8HF15O4S to metadata.\n",
      "Added cleaned compound name: w/o MS2:PFSA-carbonyl\n",
      "Added cleaned compound name: 1-(9Z-Octadecenoyl)-sn-glycero-3-phosphoethanolamine\n",
      "Added cleaned compound name: [2-(4-hydroxy-3-methoxyphenyl)-4-[(4-hydroxy-3-methoxyphenyl)methyl]oxolan-3-yl]methyl (E)-3-(4-hydroxyphenyl)prop-2-enoate\n",
      "Added cleaned compound name: 4,6-dihydroxy-3-(6-hydroxy-1-oxo-3-pentylisochromen-8-yl)oxy-2-pentylbenzoic acid\n",
      "Added cleaned compound name: [1-[3-(3-hydroxy-2,2-dimethyl-1,2'-dioxospiro[3aH-imidazo[1,2-a]indole-4,5'-oxolane]-3'-yl)-4-oxoquinazolin-2-yl]-2-methylpropyl] acetate\"\n",
      "Added cleaned compound name: Benzyl beta-D-glucopyranosyl-(1->2)-[beta-D-xylopyranosyl-(1->6)]-beta-D-glucopyranoside\n",
      "Added cleaned compound name: \n",
      "Added cleaned compound name: \n",
      "Added cleaned compound name: \n",
      "Added cleaned compound name: \n",
      "Added cleaned compound name: [(2R,3S,4S,5R,6R)-6-[1,7-bis(4-hydroxyphenyl)-5-oxoheptan-3-yl]oxy-3,4,5-trihydroxyoxan-2-yl]methyl (E)-3-(4-hydroxyphenyl)prop-2-enoate [IIN-based: Match]\n",
      "Added cleaned compound name: (5R,13S,14R,15R)-15,22-Dihydroxy-5-methoxy-14,16-dimethyl-3-oxo-2-azabicyclo[18.3.1]tetracosa-1(24),6,8,10,16,20,22-heptaen-13-yl N-(cyclohexylcarbonyl)-D-alaninate\n",
      "Added cleaned compound name: w/o MS2:LQB00017 Cer[NP] t38:0\n",
      "Added cleaned compound name: w/o MS2:LQB00017 Cer[NP] t38:0\n",
      "Added cleaned compound name: [(1R,2R,3aR,5R,6E,10R,11S,13R,13aS)-1,2,3a,10,11-pentaacetyloxy-2,5,8,8-tetramethyl-12-methylidene-4,9-dioxo-3,5,10,11,13,13a-hexahydro-1H-cyclopenta[12]annulen-13-yl] acetate [IIN-based on: CCMSLIB00000847967]\n",
      "Added cleaned compound name: (2E,6E)-3,7,11,15,19,23,27,31,35-nonamethylhexatriaconta-2,6,34-triene-1,10,11,15,19,23,27,31-octol [IIN-based on: CCMSLIB00000847513]\n",
      "Added cleaned compound name: (2E,6E)-3,7,11,15,19,23,27,31,35-nonamethylhexatriaconta-2,6,34-triene-1,10,11,15,19,23,27,31-octol [IIN-based on: CCMSLIB00000847513]\n",
      "Added cleaned compound name: Syrosingopine\n",
      "Added cleaned compound name: Kaempferol-hexoside-dirhamnoside\n",
      "Added cleaned compound name: Carda-5,20(22)-dienolide, 3-[(2-O-beta-D-glucopyranosyl-beta-D-glucopyranosyl)oxy]-14-hydroxy-, (3beta)-\n",
      "Added cleaned compound name: 1-Octadecanoyl-2-(5Z,8Z,11Z,14Z-eicosatetraenoyl)-sn-glycero-3-phosphoethanolamine\n",
      "Added cleaned compound name: [(2R,3S,4S,5R,6R)-3,4,5-trihydroxy-6-[(2S,3S,4R,5R)-4-hydroxy-3-[(E)-3-(4-hydroxy-3,5-dimethoxyphenyl)prop-2-enoyl]oxy-2,5-bis(hydroxymethyl)oxolan-2-yl]oxyoxan-2-yl]methyl (E)-3-(4-hydroxy-3,5-dimethoxyphenyl)prop-2-enoate\n",
      "Added cleaned compound name: methyl 3-ethenyl-4-(2-oxoethyl)-2-[3,4,5-trihydroxy-6-(hydroxymethyl)oxan-2-yl]oxy-3,4-dihydro-2H-pyran-5-carboxylate [IIN-based on: CCMSLIB00000848585]\n",
      "Added cleaned compound name: Epimedin A\n",
      "Added cleaned compound name: 1-Octadecanoyl-2-(5Z,8Z,11Z,14Z-eicosatetraenoyl)-sn-glycero-3-phospho-(1'-myo-inositol)\n",
      "Added cleaned compound name: 1-Octadecanoyl-2-(5Z,8Z,11Z,14Z-eicosatetraenoyl)-sn-glycero-3-phospho-(1'-myo-inositol)\n",
      "Added cleaned compound name: 1-Octadecanoyl-2-(5Z,8Z,11Z,14Z-eicosatetraenoyl)-sn-glycero-3-phospho-(1'-myo-inositol)\n",
      "Added cleaned compound name: 1-O-[(3beta,5xi,9xi)-3-{[6-Deoxy-alpha-L-mannopyranosyl-(1->3)-beta-D-xylopyranosyl-(1->2)-beta-D-glucopyranuronosyl]oxy}-28-oxoolean-12-en-28-yl]-beta-D-glucopyranose\n",
      "Added cleaned compound name: dimethyl (2E,6E,11Z)-19-(2-amino-2-oxoethyl)-9,13-dihydroxy-8-methoxy-10,12,14-trimethyl-15-oxohenicosa-2,6,11-trienedioate [IIN-based on: CCMSLIB00000846980]\n",
      "Added cleaned compound name: Diaminomethylideneurea\n",
      "Added cleaned compound name: Indole-3-carboxaldehyde\n",
      "Added cleaned compound name: Diethyl phthalate\n",
      "Added cleaned compound name: Ethanol, 2-(2-butoxyethoxy)-  [IIN-based on: CCMSLIB00003135965]\n",
      "Added cleaned compound name: L-Tyrosine\n",
      "Added cleaned compound name: w/o MS2:[Precursor mass wrong]  Lauric acid leelamide\n",
      "Added cleaned compound name: DMSA\n",
      "Added cleaned compound name: Val-Pro\n",
      "Added cleaned compound name: Ser-Leu\n",
      "Added cleaned compound name: Diethyl phthalate  [IIN-based: Match]\n",
      "Added cleaned compound name: Ile-Pro\n",
      "Added cleaned compound name: Val-Ile\n",
      "Added cleaned compound name: Thr-Leu\n",
      "Added cleaned compound name: 2-(7-hydroxy-6-methyloctyl)-2H-furan-5-one\n",
      "Added cleaned compound name: 3-(3,4-dichlorophenyl)-1-methoxy-1-methylurea\n",
      "Added cleaned compound name: Chlorhexidine dihydrochloride3697-42-5\n",
      "Added cleaned compound name: (E)-3-(3,4,5-trimethoxyphenyl)prop-2-enoic acid\n",
      "Added cleaned compound name: N-(1-hydroxy-3-phenylpropan-2-yl)benzamide [IIN-based: Match]\n",
      "Added cleaned compound name: Palmitamide\n",
      "Added cleaned compound name: 2-[[(2R)-2,3-dihydroxypropoxy]-hydroxyphosphoryl]oxyeth\n",
      "Added cleaned compound name: 2-(6-methyl-7-oxooctyl)-2H-furan-5-one [IIN-based on: CCMSLIB00000848756]\n",
      "Added cleaned compound name: Phe-Pro\n",
      "Added cleaned compound name: Phe-Pro\n",
      "Added cleaned compound name: Phe-Val\n",
      "Added cleaned compound name: Thr-Phe\n",
      "Added cleaned compound name: 41372-20-7\n",
      "Added cleaned compound name: 41372-20-7\n",
      "Added cleaned compound name: His-Ile\n",
      "Added cleaned compound name: N-Fructosyl isoleucine\n",
      "Added cleaned compound name: Homatropine\n",
      "Added cleaned compound name: Triphenylphosphine oxide  [IIN-based on: CCMSLIB00003136800]\n",
      "Added cleaned compound name: Phe-Leu\n",
      "Added cleaned compound name: Phe-Leu\n",
      "Added cleaned compound name: 9(10)-EpOME\n",
      "Added cleaned compound name: 4-hydroxy-5-(1,2,3-trihydroxy-3-phenylpropyl)oxolan-2-one\n"
     ]
    },
    {
     "name": "stdout",
     "output_type": "stream",
     "text": [
      "Added cleaned compound name: Arg-Ile\n",
      "Added cleaned compound name: w/o MS2:Catechin\n",
      "Added cleaned compound name: w/o MS2:Catechin\n",
      "Added cleaned compound name: 2-[2-methyl-3-(trifluoromethyl)anilino]pyridine-3-carboxylic acid\n",
      "Added cleaned compound name: Phe-Met\n",
      "Added cleaned compound name: Phe-Met\n",
      "Added cleaned compound name: Met-Phe\n",
      "Added cleaned compound name: 12(13)-Epoxy-9Z-octadecenoic acid\n",
      "Added cleaned compound name: Conjugated linoleic Acid (10E,12Z)  [IIN-based on: CCMSLIB00003136426]\n",
      "Added cleaned compound name: Palmitoyl ethanolamide\n",
      "Added cleaned compound name: 3,4,5,6-tetrachlorophthalic acid\n",
      "Added cleaned compound name: 2-Phenylethyl beta-D-glucopyranoside\n",
      "Added cleaned compound name: Benzyldodecyldimethylammonium\n",
      "Added cleaned compound name: 1-Hexadecylpyridinium\n",
      "Added cleaned compound name: 1-Hexadecylpyridinium\n",
      "Added cleaned compound name: Convolvamine\n",
      "Added cleaned compound name: N-Acetylphenylalanylvaline\n",
      "Added cleaned compound name: w/o MS2: Pentapropylene glycol\n",
      "Added cleaned compound name: w/o MS2: 3-Hydroxy-6,2',3'-trimethoxyflavone\n",
      "Added cleaned compound name: Pentanoic acid, 3-methyl-, 5-hydroxy-3-(hydroxymethyl)-6-(1-methylethyl)-2-oxo-3-cyclohexen-1-yl ester\n",
      "Added cleaned compound name: \n",
      "Added cleaned compound name: tolterodine\n",
      "Added cleaned compound name: w/o MS2: Chlorothalonil-TP R417888|2-carbamoyl-3,5,6-trichloro-4-cyanobenzenesulfonic acid\n",
      "Added cleaned compound name: w/o MS2: Chlorothalonil-TP R417888|2-carbamoyl-3,5,6-trichloro-4-cyanobenzenesulfonic acid\n",
      "Added cleaned compound name: 3-(2,4-dihydroxypentyl)-6,8-dimethoxyisochromen-1-one [IIN-based on: CCMSLIB00000847759]\n",
      "Added cleaned compound name: dicyclohexyl benzene-1,2-dicarboxylate\n",
      "Added cleaned compound name: 2-[2-[(2-acetamido-4-methylpentanoyl)amino]propanoylamino]-3-hydroxypropanoic acid [IIN-based: Match]\n",
      "Removed adduct Cat from compound name.\n",
      "Added adduct [Cat] to metadata.\n",
      "Added cleaned compound name: Benzyltetradecyldimethylammonium\n",
      "Added cleaned compound name: Trp-Met\n",
      "Added cleaned compound name: 3-[4-(5-tert-butyl-2-keto-1,3,4-oxadiazol-3-yl)-3-chloro-phenyl]-1,1-dimethyl-urea\n",
      "Added cleaned compound name: 8-hydroxy-8-(3-octyloxiran-2-yl)octanoic acid [IIN-based on: CCMSLIB00000846585]\n",
      "Removed formula C6H2F10O3S from compound name.\n",
      "Added formula C6H2F10O3S to metadata.\n",
      "Added cleaned compound name: w/o MS2:PFSA-H\n",
      "Added cleaned compound name: Lauramidopropyl betaine|3-(Dodecanoylamino)propyl(carboxymethyl)dimethylammonium|carboxymethyl-[3-(dodecanoylamino)propyl]-dimethylazanium M\n",
      "Added cleaned compound name: \n",
      "Added cleaned compound name: Lactulose\n",
      "Added cleaned compound name: benzyl-hexadecyl-dimethylazanium\n",
      "Added cleaned compound name: (7E,13E)-9,15-dihydroxy-4,10,16-trimethyl-1,5,11-trioxacyclohexadeca-7,13-diene-2,6,12-trione [IIN-based on: CCMSLIB00000848984]\n",
      "Added cleaned compound name: Cyclopentasiloxane, decamethyl-\n",
      "Added cleaned compound name: 5-[5-hydroxy-3-(hydroxymethyl)pentyl]-8a-(hydroxymethyl)-5,6-dimethyl-3,4,4a,6,7,8-hexahydronaphthalene-1-carboxylic acid\n",
      "Added cleaned compound name: 3-hexadecyl-4-methoxy-5-methyloxolan-2-one\n",
      "Added cleaned compound name: Methylprednisolone\n",
      "Added cleaned compound name: (-)-Riboflavin\n",
      "Added cleaned compound name: (7E,13E)-9,15-dihydroxy-4,10,16-trimethyl-1,5,11-trioxacyclohexadeca-7,13-diene-2,6,12-trione [IIN-based on: CCMSLIB00000848984]\n",
      "Added cleaned compound name: (2R,2'R,4a'S,6'S,7'R,8a'S)-4,6',7'-Trihydroxy-2',5',5',8a'-tetramethyl-3',4',4a',5',6',7,7',8,8',8a'-decahydro-2'H-spiro[furo[2,3-e]isoindole-2,1'-naphthalen]-6(3H)-one\n",
      "Added cleaned compound name: w/o MS2: Gln-Ile-Lys\n",
      "Added cleaned compound name: Dioctyl phthalate\n",
      "Added cleaned compound name: (2Z)-2-[(E)-6-(hydroxymethyl)-2,4,8,10-tetramethyldodec-2-enylidene]-4-methylpentanedioic acid [IIN-based: Match]\n",
      "Added cleaned compound name: (3S,3aR,6S,6aR)-3,6-bis(3,4-dimethoxyphenyl)-1,3,3a,4,6,6a-hexahydrofuro[3,4-c]furan\n",
      "Added cleaned compound name: (2E,4E,14E)-13-hydroperoxy-1-piperidin-1-ylicosa-2,4,14-trien-1-one\n",
      "Added cleaned compound name: (2E,4E,14E)-13-hydroperoxy-1-piperidin-1-ylicosa-2,4,14-trien-1-one\n",
      "Added cleaned compound name: 6-[3-[(3,4-dimethoxyphenyl)methyl]-4-methoxy-2-(methoxymethyl)butyl]-4-methoxy-1,3-benzodioxole\n",
      "Added cleaned compound name: 6-[3-[(3,4-dimethoxyphenyl)methyl]-4-methoxy-2-(methoxymethyl)butyl]-4-methoxy-1,3-benzodioxole\n",
      "Added cleaned compound name: Oleoyl L-carnitine\n",
      "Added cleaned compound name: 6-[3-[(3,4-dimethoxyphenyl)methyl]-4-methoxy-2-(methoxymethyl)butyl]-4-methoxy-1,3-benzodioxole [IIN-based on: CCMSLIB00000848625]\n",
      "Added cleaned compound name: 6-[3-[(3,4-dimethoxyphenyl)methyl]-4-methoxy-2-(methoxymethyl)butyl]-4-methoxy-1,3-benzodioxole [IIN-based on: CCMSLIB00000848625]\n",
      "Added cleaned compound name: Nonaethylene glycol  [IIN-based on: CCMSLIB00003135822]\n",
      "Added cleaned compound name: 2H-Oxireno[1,10a]phenanthro[3,2-b]furan-10(11bH)-one, 5,7-bis(acetyloxy)-3,3a,4,5,6,7,7a,7b,8,8a-decahydro-4,4,7a,11-tetramethyl-, (1aS,3aR,5S,7S,7aR,7bS,8aR,11bR)- [IIN-based on: CCMSLIB00000853048]\n",
      "Added cleaned compound name: 2H-Oxireno[1,10a]phenanthro[3,2-b]furan-10(11bH)-one, 5,7-bis(acetyloxy)-3,3a,4,5,6,7,7a,7b,8,8a-decahydro-4,4,7a,11-tetramethyl-, (1aS,3aR,5S,7S,7aR,7bS,8aR,11bR)- [IIN-based on: CCMSLIB00000853048]\n",
      "Added cleaned compound name: Nonaethylene glycol  [IIN-based on: CCMSLIB00003137287]\n",
      "Added cleaned compound name: 3-[4-({2-[(2E)-2-Buten-2-yl]-6,8-dimethyl-1,2,4a,5,6,7,8,8a-octahydro-1-naphthalenyl}carbonyl)-3-hydroxy-5-oxo-2,5-dihydro-1H-pyrrol-2-yl]-2-hydroxy-2-methylpropanoic acid\n",
      "Added cleaned compound name: \n",
      "Added cleaned compound name: 2-azaniumylethyl [(2R)-3-hexadecanoyloxy-2-hydroxypropyl] phosphate\n",
      "Added cleaned compound name: 4-[[[2-[(4,8,8-trimethyl-2-oxo-9,10-dihydropyrano[2,3-h]chromen-5-yl)oxy]acetyl]amino]methyl]cyclohexane-1-carboxylic acid\"\n",
      "Added cleaned compound name: 4-[3-methyl-5-(5,6,7-trihydroxy-1,2,4a,5-tetramethyl-3,4,6,7,8,8a-hexahydro-2H-naphthalen-1-yl)pentoxy]-4-oxobutanoic acid\n",
      "Added cleaned compound name: 4-[3-methyl-5-(5,6,7-trihydroxy-1,2,4a,5-tetramethyl-3,4,6,7,8,8a-hexahydro-2H-naphthalen-1-yl)pentoxy]-4-oxobutanoic acid [IIN-based: Match]\n",
      "Added cleaned compound name: beta-D-Glucopyranoside, 3-ethyl-4-hydroxy-4-methylpentyl 6-O-[(2S,3R,4R)-tetrahydro-3,4-dihydroxy-4-(hydroxymethyl)-2-furanyl]-\n",
      "Added cleaned compound name: 3,6-bis(3,4,5-trimethoxyphenyl)-1,3,3a,4,6,6a-hexahydrofuro[3,4-c]furan\n",
      "Added cleaned compound name: 3,6-bis(3,4,5-trimethoxyphenyl)-1,3,3a,4,6,6a-hexahydrofuro[3,4-c]furan\n",
      "Added cleaned compound name: w/o MS2: Lyso-Sphingomyelin\n",
      "Added cleaned compound name: 1-Myristoyl-sn-glycero-3-phosphocholine\n",
      "Added cleaned compound name: Decaethylene glycol  [IIN-based on: CCMSLIB00003135910]\n",
      "Added cleaned compound name: 4-[5-[[4-[5-[acetyl(hydroxy)amino]pentylamino]-4-oxobutanoyl]-hydroxyamino]pentylamino]-4-oxobutanoic acid\n",
      "Added cleaned compound name: 1-(9Z-Octadecenoyl)-sn-glycero-3-phosphoethanolamine\n",
      "Added cleaned compound name: Decaethylene glycol  [IIN-based on: CCMSLIB00003135910]\n",
      "Removed formula C12H21F7N2O6S2 from compound name.\n",
      "Added formula C12H21F7N2O6S2 to metadata.\n",
      "Added cleaned compound name: w/o MS2:PFSM-amine\n",
      "Added cleaned compound name: 3-(1-Acetoxy-3-methylbutyl)-6-{2-hydroxy-4-methyl-6-[(1E)-3-oxo-1-buten-1-yl]phenoxy}-2-methoxybenzoic acid\n",
      "Added cleaned compound name: N-[[(1E,4E)-1,5-bis[4-(trifluoromethyl)phenyl]penta-1,4-dien-3-ylidene]amino]-5,5-dimethyl-4,6-dihydro-1H-pyrimidin-2-amine\n",
      "Added cleaned compound name: GR 127935 hydrochloride hydrate\n",
      "Added cleaned compound name: Methyl (2R,3aR,4aS,5R,6R,9aR,10S,10aR)-2-(3-furyl)-5-hydroxy-10-(2-methoxy-2-oxoethyl)-1,6,9a,10a-tetramethyl-9-oxo-3,3a,4a,5,5a,6,9,9a,10,10a-decahydro-2H-cyclopenta[b]naphtho[2,3-d]furan-6-carboxylate\n",
      "Added cleaned compound name: (1'R,3'R,8'R,12'E,18'E,20'Z,24'R,25'S)-5',13',25'-Trimethyl-11'H,17'H,22'H-spiro[oxirane-2,26'-[2,10,16,23]tetraoxatetracyclo[22.2.1.0~3,8~.0~8,25~]heptacosa[4,12,18,20]tetraene]-11',17',22'-trione\n",
      "Added cleaned compound name: (1'R,3'R,8'R,12'E,18'E,20'Z,24'R,25'S)-5',13',25'-Trimethyl-11'H,17'H,22'H-spiro[oxirane-2,26'-[2,10,16,23]tetraoxatetracyclo[22.2.1.0~3,8~.0~8,25~]heptacosa[4,12,18,20]tetraene]-11',17',22'-trione\n",
      "Added cleaned compound name: (1'R,3'R,8'R,12'E,18'E,20'Z,24'R,25'S)-5',13',25'-Trimethyl-11'H,17'H,22'H-spiro[oxirane-2,26'-[2,10,16,23]tetraoxatetracyclo[22.2.1.0~3,8~.0~8,25~]heptacosa[4,12,18,20]tetraene]-11',17',22'-trione\n",
      "Added cleaned compound name: Muconomycin B\n",
      "Added cleaned compound name: Spermidine-feruloyl-hydroxyferuloyl\n",
      "Added cleaned compound name: Undecaethylene glycol  [IIN-based on: CCMSLIB00003138750]\n",
      "Added cleaned compound name: (2S)-2-[[(2R)-2-[[1-[(2-methylpropan-2-yl)oxycarbonyl]-4-phenylpiperidine-4-carbonyl]amino]propanoyl]amino]-3-phenylpropanoic acid\n",
      "Added cleaned compound name: Undecaethylene glycol  [IIN-based on: CCMSLIB00003135327]\n",
      "Removed formula C31H62N1O6 from compound name.\n",
      "Added formula C31H62N1O6 to metadata.\n",
      "Added cleaned compound name: 1-Kestose\n",
      "Added cleaned compound name: Methyl (2S)-[(5S,6S,10S,12S,13R,15S,19S)-6-(3-furyl)-15,18-dihydroxy-1,5,16-trimethyl-8,14-dioxo-7,11-dioxahexacyclo[14.2.1.0~2,12~.0~5,10~.0~10,12~.0~13,18~]nonadec-19-yl](hydroxy)acetate\n"
     ]
    },
    {
     "name": "stdout",
     "output_type": "stream",
     "text": [
      "Added cleaned compound name: (4E,10E)-13,20-Dihydroxy-8,14-dimethoxy-4,10,12,16-tetramethyl-3-oxo-2-azabicyclo[16.3.1]docosa-1(22),4,10,18,20-pentaen-9-yl carbamate\n",
      "Added cleaned compound name: 4-tert-butyl-N-[6-(2-hydroxyethoxy)-5-(2-methoxyphenoxy)-2-pyrimidin-2-ylpyrimidin-4-yl]benzenesulfonamide\n",
      "Added cleaned compound name: (E)-5-(4-methoxy-5-methyl-6-oxopyran-2-yl)-3-methylhex-4-enoic acid [IIN-based on: CCMSLIB00000845558]\n",
      "Added cleaned compound name: Cyclopenta[c]pyran-4-carboxylic acid, 1,4a,5,7a-tetrahydro-7-(hydroxymethyl)-1-[[6-O-[(2E)-3-(4-hydroxyphenyl)-1-oxo-2-propen-1-yl]-beta-D-glucopyranosyl]oxy]-, methyl ester\n",
      "Added cleaned compound name: (3R,5R)-7-[2-(4-fluorophenyl)-3-phenyl-4-(phenylcarbamoyl)-5-propan-2-ylpyrrol-1-yl]-3,5-dihydroxyheptanoic acid\n",
      "Added cleaned compound name: 3-[2-(3,4-Dihydroxyphenyl)-5,7-dihydroxy-4-oxo-4H-1-benzopyran-8\n",
      "Added cleaned compound name: 2H-Cyclopenta[b]naphtho[2,3-d]furan-10-acetic acid, 5-(acetyloxy)-2-(3-furanyl)-3,3a,4a,5,5a,6,9,9a,10,10a-decahydro-6-(methoxycarbonyl)-1,6,9a,10a-tetramethyl-9-oxo-, methyl ester, (2R,3aR,4aS,5R,6R,9aR,10S,10aR)-\n",
      "Added cleaned compound name: 13-hydroxy-6-(1-hydroxyethyl)-3-(hydroxymethyl)-12,14-dimethyl-15-nonyl-9-propan-2-yl-1-oxa-4,7,10-triazacyclopentadecane-2,5,8,11-tetrone\n",
      "Added cleaned compound name: 2-(21-amino-3,20-dihydroxydocosan-2-yl)oxy-6-(hydroxymethyl)oxane-3,4,5-triol [IIN-based on: CCMSLIB00000845505]\n",
      "Added cleaned compound name: (2S)-2-[[1-[(2S)-2-[(4-methylphenyl)sulfonylamino]-4-methylsulfanylbutanoyl]piperidine-4-carbonyl]amino]-3-phenylpropanoic acid\n",
      "Added cleaned compound name: 2-Propenoic acid, 3-[5-(acetyloxy)-9-(3-furanyl)dodecahydro-4-hydroxy-3,3,5a,9a-tetramethyl-7-oxofuro[3',4':5,6]naphth[2,1-c]oxireno[d]pyran-11b(1H)-yl]-, methyl ester, (2E)-\n",
      "Added cleaned compound name: w/o MS2: 2-Linoleoyl-1-palmitoyl-sn-glycero-3-phosphoethanolamine\n",
      "Added cleaned compound name: [IIN-based on: CCMSLIB00000847542]\n",
      "Added cleaned compound name: 13-hydroxy-6-(1-hydroxyethyl)-3-(hydroxymethyl)-12,14-dimethyl-15-nonyl-9-propan-2-yl-1-oxa-4,7,10-triazacyclopentadecane-2,5,8,11-tetrone\n",
      "Added cleaned compound name: 13-hydroxy-6-(1-hydroxyethyl)-3-(hydroxymethyl)-12,14-dimethyl-15-nonyl-9-propan-2-yl-1-oxa-4,7,10-triazacyclopentadecane-2,5,8,11-tetrone\n",
      "Added cleaned compound name: 13-hydroxy-6-(1-hydroxyethyl)-3-(hydroxymethyl)-12,14-dimethyl-15-nonyl-9-propan-2-yl-1-oxa-4,7,10-triazacyclopentadecane-2,5,8,11-tetrone\n",
      "Added cleaned compound name: w/o MS2: Narcissin\n",
      "Added cleaned compound name: S4:17(P3:15/F1:2)\n",
      "Removed formula C37H74N2O6P1 from compound name.\n",
      "Added formula C37H74N2O6P1 to metadata.\n",
      "Added cleaned compound name: [2-[4-hydroxy-2,5-bis(hydroxymethyl)-3-(2-methylpropanoyloxy)oxolan-2-yl]oxy-6-(hydroxymethyl)-4,5-bis(2-methylpropanoyloxy)oxan-3-yl] decanoate [IIN-based on: CCMSLIB00000848581]\n",
      "Added cleaned compound name: w/o MS2: 1-Palmitoyl-2-myristoyl-sn-glycero-3-phosphocholine\n",
      "Added cleaned compound name: Pelargonodin 3-rutinoside-5-glucoside\n",
      "Added cleaned compound name: w/o MS2: 1-Stearoyl-2-linoleoyl-sn-glycero-3-phosphoethanolamine\n",
      "Added cleaned compound name: 1,2-Dihexadecanoyl-sn-glycero-3-phosphocholine\n",
      "Added cleaned compound name: 1-Hexadecanoyl-2-octadecadienoyl-sn-glycero-3-phosphocholine\n",
      "Added cleaned compound name: 1-Hexadecanoyl-2-octadecadienoyl-sn-glycero-3-phosphocholine\n",
      "Added cleaned compound name: 1-Hexadecanoyl-2-octadecadienoyl-sn-glycero-3-phosphocholine\n",
      "Added cleaned compound name: 1-Hexadecanoyl-2-octadecadienoyl-sn-glycero-3-phosphocholine\n",
      "Added cleaned compound name: 1-Hexadecanoyl-2-octadecadienoyl-sn-glycero-3-phosphocholine\n",
      "Added cleaned compound name: 1-Hexadecanoyl-2-octadecadienoyl-sn-glycero-3-phosphocholine\n",
      "Added cleaned compound name: 1-Oleoyl-2-palmitoyl-sn-glycero-3-phosphocholine\n",
      "Added cleaned compound name: Eicosapentaenoyl PAF C-16\n",
      "Added cleaned compound name: 2-[2-[19-acetamido-6-(3,4-dicarboxybutanoyloxy)-16,18-dihydroxy-5,9-dimethylicosan-7-yl]oxy-2-oxoethyl]butanedioic acid\n",
      "Added cleaned compound name: 1-(1Z-Octadecenyl)-2-(9Z-octadecenoyl)-sn-glycero-3-phosphocholine\n",
      "Added cleaned compound name: [2,3-dihydroxy-1-(7-methoxy-2-oxochromen-6-yl)-3-methylbutyl] 3-methylbutanoate [IIN-based on: CCMSLIB00000845895]\n",
      "Added cleaned compound name: 1-Hexadecanoyl-2-(9Z-octadecenoyl)-sn-glycero-3-phosphocholine  [IIN-based: Match]\n",
      "Added cleaned compound name: 1,20-Dihydroxy-26-oxo-22,26-epoxyergosta-5,24-dien-3-yl 6-O-hexopyranosylhexopyranoside\n",
      "Added cleaned compound name: Arachidonoylthio-PC\n",
      "Added cleaned compound name: Arachidonoylthio-PC\n",
      "Added cleaned compound name: Arachidonoylthio-PC\n",
      "Added cleaned compound name: Arachidonoylthio-PC\n",
      "Added cleaned compound name: Arachidonoylthio-PC\n",
      "Added cleaned compound name: 2-[5-[2-[2-[5-[2-[2-[5-[2-[2-[5-(2-hydroxybutyl)oxolan-2-yl]propanoyloxy]propyl]oxolan-2-yl]propanoyloxy]propyl]oxolan-2-yl]propanoyloxy]propyl]oxolan-2-yl]propanoic acid\n",
      "Added cleaned compound name: Ergosta-5,24-dien-26-one, 22,26-epoxy-3-[(6-O-hexopyranosylhexopyranosyl)oxy]-1-hydroxy-\n",
      "Added cleaned compound name: w/o MS2:LQB00601 PE 40:6\n",
      "Added cleaned compound name: w/o MS2:LQB00601 PE 40:6\n",
      "Added cleaned compound name: w/o MS2:LQB00601 PE 40:6\n",
      "Added cleaned compound name: w/o MS2:LQB00601 PE 40:6\n",
      "Added cleaned compound name: w/o MS2: Docosahexaenoyl PAF C-16\n",
      "Added cleaned compound name: [(9R,10R)-10-acetyloxy-8,8-dimethyl-2-oxo-9,10-dihydropyrano[2,3-f]chromen-9-yl] 2-methylbutanoate [IIN-based on: CCMSLIB00000848748]\n",
      "Added cleaned compound name: Ergosta-5,24-dien-26-one, 22,26-epoxy-3-[(6-O-hexopyranosylhexopyranosyl)oxy]-1,28-dihydroxy-\n",
      "Added cleaned compound name: Licoricesaponin H2\n",
      "Added cleaned compound name: w/o MS2: 1-Palmitoyl-2-docosahexaenoyl-sn-glycero-3-phosphocholine  [IIN-based on: CCMSLIB00003139425]\n",
      "Added cleaned compound name: w/o MS2: 1-Palmitoyl-2-docosahexaenoyl-sn-glycero-3-phosphocholine  [IIN-based on: CCMSLIB00003139425]\n",
      "Added cleaned compound name: (1aS,2S,6S,6aS)-6-({6-Deoxy-3-O-(beta-D-glucopyranosyl)-4-O-[(2E)-3-(4-methoxyphenyl)-2-propenoyl]-alpha-L-mannopyranosyl}oxy)-1a-(hydroxymethyl)-1a,1b,2,5a,6,6a-hexahydrooxireno[4,5]cyclopenta[1,2-c]pyran-2-yl beta-D-glucopyranoside\n",
      "Added cleaned compound name: 2H-Oxireno[1,10a]phenanthro[3,2-b]furan-10(11bH)-one, 5,7-bis(acetyloxy)-3,3a,4,5,6,7,7a,7b,8,8a-decahydro-4,4,7a,11-tetramethyl-, (1aS,3aR,5S,7S,7aR,7bS,8aR,11bR)- [IIN-based on: CCMSLIB00000853048]\n",
      "Added cleaned compound name: 2H-Oxireno[1,10a]phenanthro[3,2-b]furan-10(11bH)-one, 5,7-bis(acetyloxy)-3,3a,4,5,6,7,7a,7b,8,8a-decahydro-4,4,7a,11-tetramethyl-, (1aS,3aR,5S,7S,7aR,7bS,8aR,11bR)- [IIN-based on: CCMSLIB00000853048]\n",
      "Added cleaned compound name: w/o MS2:LQA00080 PC(16:1/14,15-EpETE)\n",
      "Added cleaned compound name: w/o MS2:LQA00041 PC(16:0/18-HETE)\n",
      "Added cleaned compound name: w/o MS2:LQA00041 PC(16:0/18-HETE)\n",
      "Added cleaned compound name: 2H-Oxireno[1,10a]phenanthro[3,2-b]furan-10(11bH)-one, 5,7-bis(acetyloxy)-3,3a,4,5,6,7,7a,7b,8,8a-decahydro-4,4,7a,11-tetramethyl-, (1aS,3aR,5S,7S,7aR,7bS,8aR,11bR)- [IIN-based on: CCMSLIB00000853048]\n",
      "Added cleaned compound name: 2H-Oxireno[1,10a]phenanthro[3,2-b]furan-10(11bH)-one, 5,7-bis(acetyloxy)-3,3a,4,5,6,7,7a,7b,8,8a-decahydro-4,4,7a,11-tetramethyl-, (1aS,3aR,5S,7S,7aR,7bS,8aR,11bR)- [IIN-based on: CCMSLIB00000853048]\n",
      "Added cleaned compound name: [IIN-based on: CCMSLIB00000846637]\n",
      "Removed adduct [M+H]+; from compound name.\n",
      "Added adduct [M+H]+; to metadata.\n",
      "Added cleaned compound name: w/o MS2:N-Dimethyl-Lysine-CoA; (Acyl-CoA)\n",
      "Added cleaned compound name: (1S,3R,4R,7R,9R,11R,15S,16R,17R,18S,19E,21E,25E,27E,29E,31E,33R,35S,36R,37S)-33-[(3-Amino-3,6-dideoxy-?-D-mannopyranosyl)oxy]-1,3,4,7,9,11,17,37-octahydroxy-15,16,18-trimethyl-13-oxo-14,39-di\n",
      "Added cleaned compound name: Cyanidin-3-di-glucoside-5-glucoside sinapic\n",
      "Removed adduct [M+H]+; from compound name.\n",
      "Added adduct [M+H]+; to metadata.\n",
      "Added cleaned compound name: w/o MS2:1(R)-1-Acetamido-2-(3-Carboxyphenyl)Ethyl Boronic Acid-CoA; (Acyl-CoA)\n",
      "Removed formula C22H2F47O9 from compound name.\n",
      "Added formula C22H2F47O9 to metadata.\n",
      "Added cleaned compound name: w/o MS2:PFCA-diether_Hsubstituted\n",
      "Removed formula C27HF55O5S from compound name.\n",
      "Added formula C27HF55O5S to metadata.\n",
      "Added cleaned compound name: w/o MS2:PFSA-ether\n",
      "Added cleaned compound name: 1-aminocyclopentane-1-carboxylic acid\n"
     ]
    },
    {
     "name": "stdout",
     "output_type": "stream",
     "text": [
      "Added cleaned compound name: Diethyl phthalate\n",
      "Added cleaned compound name: 1,1-bis(oxidanylidene)-1,2-benzothiazol-3-one\n",
      "Added cleaned compound name: 1,1-bis(oxidanylidene)-1,2-benzothiazol-3-one\n",
      "Added cleaned compound name: w/o MS2: Dacarbazine\n",
      "Added cleaned compound name: w/o MS2:[Precursor mass wrong]  Lauric acid leelamide\n",
      "Added cleaned compound name: Diethyl phthalate  [IIN-based: Match]\n",
      "Added cleaned compound name: 2-(6-hydroxy-6-methylheptyl)-2H-furan-5-one\n",
      "Added cleaned compound name: (2S)-6-(2-hydroxyethyl)-2-(hydroxymethyl)-5,7-dimethyl-2,3-dihydroinden-1-one\n",
      "Added cleaned compound name: 2-(7-hydroxy-6-methyloctyl)-2H-furan-5-one\n",
      "Added cleaned compound name: 3-(5,6-dihydroxyheptyl)-4-methyl-2H-furan-5-one [IIN-based: Match]\n",
      "Added cleaned compound name: 2-Methylbutyrylcarnitine\n",
      "Added cleaned compound name: 2,4,6-tris(prop-2-enoxy)-1,3,5-triazine\n",
      "Added cleaned compound name: 3-[(1R,2R)-2-[(dimethylamino)methyl]-1-hydroxycyclohexyl]phenol\n",
      "Added cleaned compound name: Chlorhexidine dihydrochloride3697-42-5\n",
      "Added cleaned compound name: Palmitamide\n",
      "Added cleaned compound name: (2R,3R,6R)-5-[(1E,3E)-hepta-1,3-dienyl]-2,3-dihydroxy-6-(hydroxymethyl)cyclohexan-1-one\n",
      "Added cleaned compound name: N-Fructosyl isoleucine\n",
      "Added cleaned compound name: Triphenylphosphine oxide  [IIN-based on: CCMSLIB00003136800]\n",
      "Added cleaned compound name: (2S,8R)-8-hydroxy-2-[(1S)-1-hydroxyheptyl]-2,3,4,6,7,8-hexahydrochromen-5-one\n",
      "Added cleaned compound name: 3-[4-methyl-1-(2-methylpropanoyl)-3-oxocyclohexyl]butanoic acid\n",
      "Added cleaned compound name: 3-[4-methyl-1-(2-methylpropanoyl)-3-oxocyclohexyl]butanoic acid\n",
      "Added cleaned compound name: w/o MS2:Catechin\n",
      "Added cleaned compound name: w/o MS2:Catechin\n",
      "Added cleaned compound name: Palmitoyl ethanolamide\n",
      "Added cleaned compound name: Dibutyl phthalate  [IIN-based on: CCMSLIB00003137108]\n",
      "Added cleaned compound name: Benzyldodecyldimethylammonium\n",
      "Added cleaned compound name: Benzyldodecyldimethylammonium\n",
      "Added cleaned compound name: [(7R,8R)-7-hydroxy-4-oxido-5,6,7,8-tetrahydro-3H-pyrrolizin-4-ium-1-yl]methyl (2S)-2-hydroxy-2-[(1R)-1-hydroxyethyl]-3-methylbutanoate\n",
      "Added cleaned compound name: Pentanoic acid, 3-methyl-, 5-hydroxy-3-(hydroxymethyl)-6-(1-methylethyl)-2-oxo-3-cyclohexen-1-yl ester\n",
      "Added cleaned compound name: w/o MS2: Chlorothalonil-TP R417888|2-carbamoyl-3,5,6-trichloro-4-cyanobenzenesulfonic acid\n",
      "Added cleaned compound name: Prenylamine lactate69-43-2\n",
      "Added cleaned compound name: w/o MS2: Decynediol, tetramethyl, di(2-hydroxyethyl) ether\n",
      "Removed adduct Cat from compound name.\n",
      "Added adduct [Cat] to metadata.\n",
      "Added cleaned compound name: Benzyltetradecyldimethylammonium\n",
      "Added cleaned compound name: Lauramidopropyl betaine|3-(Dodecanoylamino)propyl(carboxymethyl)dimethylammonium|carboxymethyl-[3-(dodecanoylamino)propyl]-dimethylazanium M\n",
      "Added cleaned compound name: [5-acetyloxy-3-(hydroxymethyl)-2-oxo-6-propan-2-ylcyclohex-3-en-1-yl] 3-methylpentanoate\n",
      "Added cleaned compound name: Cyclopentasiloxane, decamethyl-\n",
      "Added cleaned compound name: Cyclopentasiloxane, decamethyl-\n",
      "Added cleaned compound name: Cyclopentasiloxane, decamethyl-\n",
      "Added cleaned compound name: 2(1H)-Naphthalenone, 8-[5-(acetyloxy)-3-methylpentyl]octahydro-4,4,8a-trimethyl-7-methylene-\n",
      "Added cleaned compound name: 5-[5-hydroxy-3-(hydroxymethyl)pentyl]-8a-(hydroxymethyl)-5,6-dimethyl-3,4,4a,6,7,8-hexahydronaphthalene-1-carboxylic acid\n",
      "Added cleaned compound name: 3-hexadecyl-4-methoxy-5-methyloxolan-2-one\n",
      "Added cleaned compound name: 3-hexadecyl-4-methoxy-5-methyloxolan-2-one\n",
      "Added cleaned compound name: (2E,4E)-12-hydroxy-13-(hydroxymethyl)-14-methoxy-3,5,7-trimethyl-14-oxotetradeca-2,4-dienoic acid\n",
      "Added cleaned compound name: 5-hydroxy-2,2-dimethyl-7,10-bis(2-methylbut-3-en-2-yl)pyrano[3,2-g]chromen-8-one [IIN-based: Match]\n",
      "Added cleaned compound name: 13-(3-(2-methoxyphenyl)-1-azapropyl) isoalantolactone\n",
      "Added cleaned compound name: 8-[4-(4-pyrimidin-2-ylpiperazin-1-yl)butyl]-8-azaspiro[4.5]decane-7,9-dione\n",
      "Added cleaned compound name: Dioctyl phthalate\n",
      "Added cleaned compound name: (2Z)-2-[(E)-6-(hydroxymethyl)-2,4,8,10-tetramethyldodec-2-enylidene]-4-methylpentanedioic acid [IIN-based: Match]\n",
      "Added cleaned compound name: (3S,3aR,6S,6aR)-3,6-bis(3,4-dimethoxyphenyl)-1,3,3a,4,6,6a-hexahydrofuro[3,4-c]furan\n",
      "Added cleaned compound name: (2E,4E,14E)-13-hydroperoxy-1-piperidin-1-ylicosa-2,4,14-trien-1-one\n",
      "Added cleaned compound name: (E,2S,3R,4R,5S)-4-acetyloxy-2-amino-3,5,14-trihydroxyicos-6-enoic acid [IIN-based on: CCMSLIB00000847931]\n",
      "Added cleaned compound name: 6-[3-[(3,4-dimethoxyphenyl)methyl]-4-methoxy-2-(methoxymethyl)butyl]-4-methoxy-1,3-benzodioxole\n",
      "Added cleaned compound name: 2-[5-[2-[2-[5-(2-oxopropyl)oxolan-2-yl]propanoyloxy]butyl]oxolan-2-yl]propanoic acid [IIN-based on: CCMSLIB00000845801]\n",
      "Added cleaned compound name: (E,2S,3R,4R,5S)-2-acetamido-3,4,5,14-tetrahydroxyicos-6-enoic acid\n",
      "Added cleaned compound name: 6-[3-[(3,4-dimethoxyphenyl)methyl]-4-methoxy-2-(methoxymethyl)butyl]-4-methoxy-1,3-benzodioxole [IIN-based on: CCMSLIB00000848625]\n",
      "Added cleaned compound name: 2H-Oxireno[1,10a]phenanthro[3,2-b]furan-10(11bH)-one, 5,7-bis(acetyloxy)-3,3a,4,5,6,7,7a,7b,8,8a-decahydro-4,4,7a,11-tetramethyl-, (1aS,3aR,5S,7S,7aR,7bS,8aR,11bR)- [IIN-based on: CCMSLIB00000853048]\n",
      "Added cleaned compound name: \n",
      "Added cleaned compound name: 2-azaniumylethyl [(2R)-3-hexadecanoyloxy-2-hydroxypropyl] phosphate\n",
      "Added cleaned compound name: 4-[3-methyl-5-(5,6,7-trihydroxy-1,2,4a,5-tetramethyl-3,4,6,7,8,8a-hexahydro-2H-naphthalen-1-yl)pentoxy]-4-oxobutanoic acid [IIN-based: Match]\n",
      "Added cleaned compound name: Decaethylene glycol  [IIN-based on: CCMSLIB00003135910]\n",
      "Added cleaned compound name: Undecaethylene glycol  [IIN-based on: CCMSLIB00003138750]\n",
      "Removed formula C31H62N1O6 from compound name.\n",
      "Added formula C31H62N1O6 to metadata.\n",
      "Added cleaned compound name: 3-[2-(3,4-Dihydroxyphenyl)-5,7-dihydroxy-4-oxo-4H-1-benzopyran-8\n",
      "Added cleaned compound name: w/o MS2: 2-Linoleoyl-1-palmitoyl-sn-glycero-3-phosphoethanolamine\n",
      "Added cleaned compound name: S4:17(P3:15/F1:2)\n",
      "Removed formula C37H74N2O6P1 from compound name.\n",
      "Added formula C37H74N2O6P1 to metadata.\n",
      "Added cleaned compound name: w/o MS2: 1,2-Dipalmitoyl-sn-glycero-3-phospho-(1'-rac-glycerol)\n",
      "Added cleaned compound name: [IIN-based on: CCMSLIB00000846619]\n",
      "Added cleaned compound name: w/o MS2: 1-(9Z-Octadecenoyl)-2-tetradecanoyl-sn-glycero-3-phosphocholine\n",
      "Added cleaned compound name: 1-Hexadecanoyl-2-octadecanoyl-sn-glycero-3-phosphocholine\n",
      "Added cleaned compound name: Arachidonoylthio-PC\n",
      "Added cleaned compound name: Arachidonoylthio-PC\n",
      "Added cleaned compound name: Arachidonoylthio-PC\n",
      "Added cleaned compound name: 1-Octadecanoyl-2-octadecenoyl-sn-glycero-3-phosphocholine\n",
      "Added cleaned compound name: 2H-Oxireno[1,10a]phenanthro[3,2-b]furan-10(11bH)-one, 5,7-bis(acetyloxy)-3,3a,4,5,6,7,7a,7b,8,8a-decahydro-4,4,7a,11-tetramethyl-, (1aS,3aR,5S,7S,7aR,7bS,8aR,11bR)- [IIN-based on: CCMSLIB00000853048]\n",
      "Added cleaned compound name: 2H-Oxireno[1,10a]phenanthro[3,2-b]furan-10(11bH)-one, 5,7-bis(acetyloxy)-3,3a,4,5,6,7,7a,7b,8,8a-decahydro-4,4,7a,11-tetramethyl-, (1aS,3aR,5S,7S,7aR,7bS,8aR,11bR)- [IIN-based on: CCMSLIB00000853048]\n",
      "Removed adduct [M+H]+; from compound name.\n",
      "Added adduct [M+H]+; to metadata.\n",
      "Added cleaned compound name: w/o MS2:N-Dimethyl-Lysine-CoA; (Acyl-CoA)\n",
      "Removed adduct [M]+ from compound name.\n",
      "Added adduct [M]+ to metadata.\n",
      "Added cleaned compound name: w/o MS2: Ethanol, 2-(2-butoxyethoxy)-  [IIN-based on: CCMSLIB00003135965]\n",
      "Added cleaned compound name: Ethanol, 2-(2-butoxyethoxy)-  [IIN-based on: CCMSLIB00003135965]\n",
      "Added cleaned compound name: (2Z)-3-methoxy-5-methyl-4-oxohexa-2,5-dienoic acid\n",
      "Added cleaned compound name: Ethanol, 2-(2-butoxyethoxy)-  [IIN-based on: CCMSLIB00003135965]\n",
      "Added cleaned compound name: 41372-20-7\n",
      "Added cleaned compound name: 4-hydroxy-5-(1,2,3-trihydroxy-3-phenylpropyl)oxolan-2-one\n",
      "Added cleaned compound name: Dibutyl phthalate  [IIN-based on: CCMSLIB00003137108]\n",
      "Added cleaned compound name: w/o MS2: Dibutyl phthalate  [IIN-based on: CCMSLIB00003137108]\n",
      "Added cleaned compound name: w/o MS2: Pentapropylene glycol\n",
      "Added cleaned compound name: w/o MS2: 3-Hydroxy-6,2',3'-trimethoxyflavone\n",
      "Added cleaned compound name: w/o MS2: 3-Hydroxy-6,2',3'-trimethoxyflavone\n",
      "Added cleaned compound name: tolterodine\n",
      "Added cleaned compound name: 3-(2,4-dihydroxypentyl)-6,8-dimethoxyisochromen-1-one [IIN-based on: CCMSLIB00000847759]\n",
      "Added cleaned compound name: 8-hydroxy-8-(3-octyloxiran-2-yl)octanoic acid [IIN-based on: CCMSLIB00000846585]\n",
      "Added cleaned compound name: 8-hydroxy-8-(3-octyloxiran-2-yl)octanoic acid [IIN-based on: CCMSLIB00000846585]\n",
      "Added cleaned compound name: 8-hydroxy-8-(3-octyloxiran-2-yl)octanoic acid [IIN-based on: CCMSLIB00000846585]\n",
      "Added cleaned compound name: (E)-1-(4-hydroxy-3-methoxyphenyl)tetradec-4-en-3-one\n",
      "Added cleaned compound name: \n",
      "Added cleaned compound name: (7E,13E)-9,15-dihydroxy-4,10,16-trimethyl-1,5,11-trioxacyclohexadeca-7,13-diene-2,6,12-trione [IIN-based on: CCMSLIB00000848984]\n",
      "Added cleaned compound name: 3-hexadecyl-4-methoxy-5-methyloxolan-2-one\n",
      "Added cleaned compound name: (7E,13E)-9,15-dihydroxy-4,10,16-trimethyl-1,5,11-trioxacyclohexadeca-7,13-diene-2,6,12-trione [IIN-based on: CCMSLIB00000848984]\n",
      "Added cleaned compound name: w/o MS2: Gln-Ile-Lys\n",
      "Removed formula C4HF13O3S2 from compound name.\n",
      "Added formula C4HF13O3S2 to metadata.\n",
      "Added cleaned compound name: w/o MS2:PFSA-pentafluorosulfide\n",
      "Added cleaned compound name: 6-[3-[(3,4-dimethoxyphenyl)methyl]-4-methoxy-2-(methoxymethyl)butyl]-4-methoxy-1,3-benzodioxole\n"
     ]
    },
    {
     "name": "stdout",
     "output_type": "stream",
     "text": [
      "Added cleaned compound name: 6-[3-[(3,4-dimethoxyphenyl)methyl]-4-methoxy-2-(methoxymethyl)butyl]-4-methoxy-1,3-benzodioxole [IIN-based on: CCMSLIB00000848625]\n",
      "Added cleaned compound name: Nonaethylene glycol  [IIN-based on: CCMSLIB00003135822]\n",
      "Added cleaned compound name: Nonaethylene glycol  [IIN-based on: CCMSLIB00003135822]\n",
      "Added cleaned compound name: 2H-Oxireno[1,10a]phenanthro[3,2-b]furan-10(11bH)-one, 5,7-bis(acetyloxy)-3,3a,4,5,6,7,7a,7b,8,8a-decahydro-4,4,7a,11-tetramethyl-, (1aS,3aR,5S,7S,7aR,7bS,8aR,11bR)- [IIN-based on: CCMSLIB00000853048]\n",
      "Added cleaned compound name: Nonaethylene glycol  [IIN-based on: CCMSLIB00003137287]\n",
      "Added cleaned compound name: 6.N-Benzoylphenylalanylphenylalinol acetate\n",
      "Added cleaned compound name: 3-[4-({2-[(2E)-2-Buten-2-yl]-6,8-dimethyl-1,2,4a,5,6,7,8,8a-octahydro-1-naphthalenyl}carbonyl)-3-hydroxy-5-oxo-2,5-dihydro-1H-pyrrol-2-yl]-2-hydroxy-2-methylpropanoic acid\n",
      "Added cleaned compound name: 3-[4-({2-[(2E)-2-Buten-2-yl]-6,8-dimethyl-1,2,4a,5,6,7,8,8a-octahydro-1-naphthalenyl}carbonyl)-3-hydroxy-5-oxo-2,5-dihydro-1H-pyrrol-2-yl]-2-hydroxy-2-methylpropanoic acid\n",
      "Added cleaned compound name: [1-(3,4-dimethoxyphenyl)-2-(2,6-dimethoxy-4-prop-2-enylphenoxy)propyl] acetate\n",
      "Added cleaned compound name: beta-D-Glucopyranoside, 3-ethyl-4-hydroxy-4-methylpentyl 6-O-[(2S,3R,4R)-tetrahydro-3,4-dihydroxy-4-(hydroxymethyl)-2-furanyl]-\n",
      "Added cleaned compound name: Decaethylene glycol  [IIN-based on: CCMSLIB00003135910]\n",
      "Added cleaned compound name: 4-[5-[[4-[5-[acetyl(hydroxy)amino]pentylamino]-4-oxobutanoyl]-hydroxyamino]pentylamino]-4-oxobutanoic acid\n",
      "Added cleaned compound name: 1-(9Z-Octadecenoyl)-sn-glycero-3-phosphoethanolamine\n",
      "Added cleaned compound name: Decaethylene glycol  [IIN-based on: CCMSLIB00003135910]\n",
      "Added cleaned compound name: 3-(1-Acetoxy-3-methylbutyl)-6-{2-hydroxy-4-methyl-6-[(1E)-3-oxo-1-buten-1-yl]phenoxy}-2-methoxybenzoic acid\n",
      "Added cleaned compound name: Methyl (2R,3aR,4aS,5R,6R,9aR,10S,10aR)-2-(3-furyl)-5-hydroxy-10-(2-methoxy-2-oxoethyl)-1,6,9a,10a-tetramethyl-9-oxo-3,3a,4a,5,5a,6,9,9a,10,10a-decahydro-2H-cyclopenta[b]naphtho[2,3-d]furan-6-carboxylate\n",
      "Added cleaned compound name: (1'R,3'R,8'R,12'E,18'E,20'Z,24'R,25'S)-5',13',25'-Trimethyl-11'H,17'H,22'H-spiro[oxirane-2,26'-[2,10,16,23]tetraoxatetracyclo[22.2.1.0~3,8~.0~8,25~]heptacosa[4,12,18,20]tetraene]-11',17',22'-trione\n",
      "Added cleaned compound name: (1'R,3'R,8'R,12'E,18'E,20'Z,24'R,25'S)-5',13',25'-Trimethyl-11'H,17'H,22'H-spiro[oxirane-2,26'-[2,10,16,23]tetraoxatetracyclo[22.2.1.0~3,8~.0~8,25~]heptacosa[4,12,18,20]tetraene]-11',17',22'-trione\n",
      "Added cleaned compound name: Muconomycin B\n",
      "Added cleaned compound name: Spermidine-feruloyl-hydroxyferuloyl\n",
      "Added cleaned compound name: Undecaethylene glycol  [IIN-based on: CCMSLIB00003135327]\n",
      "Added cleaned compound name: Methyl (2S)-[(5S,6S,10S,12S,13R,15S,19S)-6-(3-furyl)-15,18-dihydroxy-1,5,16-trimethyl-8,14-dioxo-7,11-dioxahexacyclo[14.2.1.0~2,12~.0~5,10~.0~10,12~.0~13,18~]nonadec-19-yl](hydroxy)acetate\n",
      "Added cleaned compound name: Methyl (2S)-[(5S,6S,10S,12S,13R,15S,19S)-6-(3-furyl)-15,18-dihydroxy-1,5,16-trimethyl-8,14-dioxo-7,11-dioxahexacyclo[14.2.1.0~2,12~.0~5,10~.0~10,12~.0~13,18~]nonadec-19-yl](hydroxy)acetate\n",
      "Added cleaned compound name: [(2S,3R,4S,5S,6R)-4,5-dihydroxy-6-[(4-hydroxybenzoyl)oxymethyl]-2-(4-hydroxyphenoxy)oxan-3-yl] 3,4,5-trihydroxybenzoate\n",
      "Added cleaned compound name: 3-ethenyl-4-[2-(3,4,5-trihydroxybenzoyl)oxyethyl]-2-[3,4,5-trihydroxy-6-(hydroxymethyl)oxan-2-yl]oxy-3,4-dihydro-2H-pyran-5-carboxylic acid\n",
      "Added cleaned compound name: 4-tert-butyl-N-[6-(2-hydroxyethoxy)-5-(2-methoxyphenoxy)-2-pyrimidin-2-ylpyrimidin-4-yl]benzenesulfonamide\n",
      "Added cleaned compound name: (E)-5-(4-methoxy-5-methyl-6-oxopyran-2-yl)-3-methylhex-4-enoic acid [IIN-based on: CCMSLIB00000845558]\n",
      "Added cleaned compound name: Cyclopenta[c]pyran-4-carboxylic acid, 1,4a,5,7a-tetrahydro-7-(hydroxymethyl)-1-[[6-O-[(2E)-3-(4-hydroxyphenyl)-1-oxo-2-propen-1-yl]-beta-D-glucopyranosyl]oxy]-, methyl ester\n",
      "Added cleaned compound name: (2S)-2-[[1-[(2S)-2-[(4-methylphenyl)sulfonylamino]-4-methylsulfanylbutanoyl]piperidine-4-carbonyl]amino]-3-phenylpropanoic acid\n",
      "Added cleaned compound name: [IIN-based on: CCMSLIB00000847542]\n",
      "Added cleaned compound name: w/o MS2: Narcissin\n",
      "Added cleaned compound name: [2-[(2S,3R,4S,5S,6R)-3,4,5-trihydroxy-6-(hydroxymethyl)oxan-2-yl]oxyphenyl]methyl 2-hydroxy-6-[(2S,3R,4S,5S,6R)-3,4,5-trihydroxy-6-(hydroxymethyl)oxan-2-yl]oxybenzoate\n",
      "Added cleaned compound name: 1,2-Dihexadecanoyl-sn-glycero-3-phosphocholine\n",
      "Added cleaned compound name: w/o MS2: 1,2-Dihexadecanoyl-sn-glycero-3-phosphocholine\n",
      "Removed formula C42H81N1O8P1 from compound name.\n",
      "Added formula C42H81N1O8P1 to metadata.\n",
      "Added cleaned compound name: 1-Hexadecanoyl-2-octadecadienoyl-sn-glycero-3-phosphocholine\n",
      "Added cleaned compound name: 1-Hexadecanoyl-2-octadecadienoyl-sn-glycero-3-phosphocholine\n",
      "Added cleaned compound name: 1-Hexadecanoyl-2-octadecadienoyl-sn-glycero-3-phosphocholine\n",
      "Removed formula C43H88N2O6P1 from compound name.\n",
      "Added formula C43H88N2O6P1 to metadata.\n",
      "Added cleaned compound name: 1-Oleoyl-2-palmitoyl-sn-glycero-3-phosphocholine\n",
      "Added cleaned compound name: w/o MS2: 1-Hexadecanoyl-2-octadecanoyl-sn-glycero-3-phosphocholine\n",
      "Added cleaned compound name: w/o MS2: 1-Hexadecanoyl-2-octadecanoyl-sn-glycero-3-phosphocholine\n",
      "Added cleaned compound name: w/o MS2: 1-Hexadecanoyl-2-octadecanoyl-sn-glycero-3-phosphocholine\n",
      "Added cleaned compound name: Quercetin-dihexoside-rhamnoside-isomer\n",
      "Removed formula C44H81N1O8P1 from compound name.\n",
      "Added formula C44H81N1O8P1 to metadata.\n",
      "Added cleaned compound name: \n",
      "Added cleaned compound name: Arachidonoylthio-PC\n",
      "Added cleaned compound name: 2-[5-[2-[2-[5-[2-[2-[5-[2-[2-[5-(2-hydroxybutyl)oxolan-2-yl]propanoyloxy]propyl]oxolan-2-yl]propanoyloxy]propyl]oxolan-2-yl]propanoyloxy]propyl]oxolan-2-yl]propanoic acid\n",
      "Added cleaned compound name: w/o MS2: 1-Palmitoyl-2-docosahexaenoyl-sn-glycero-3-phosphocholine  [IIN-based on: CCMSLIB00003139425]\n",
      "Added cleaned compound name: w/o MS2: 1-Palmitoyl-2-docosahexaenoyl-sn-glycero-3-phosphocholine  [IIN-based on: CCMSLIB00003139425]\n",
      "Removed formula C48H87N1O8P1 from compound name.\n",
      "Added formula C48H87N1O8P1 to metadata.\n",
      "Added cleaned compound name: 2H-Oxireno[1,10a]phenanthro[3,2-b]furan-10(11bH)-one, 5,7-bis(acetyloxy)-3,3a,4,5,6,7,7a,7b,8,8a-decahydro-4,4,7a,11-tetramethyl-, (1aS,3aR,5S,7S,7aR,7bS,8aR,11bR)- [IIN-based on: CCMSLIB00000853048]\n",
      "Added cleaned compound name: w/o MS2:LQA00041 PC(16:0/18-HETE)\n",
      "Added cleaned compound name: 2H-Oxireno[1,10a]phenanthro[3,2-b]furan-10(11bH)-one, 5,7-bis(acetyloxy)-3,3a,4,5,6,7,7a,7b,8,8a-decahydro-4,4,7a,11-tetramethyl-, (1aS,3aR,5S,7S,7aR,7bS,8aR,11bR)- [IIN-based on: CCMSLIB00000853048]\n",
      "Removed adduct [M+H]+; from compound name.\n",
      "Added adduct [M+H]+; to metadata.\n",
      "Added cleaned compound name: w/o MS2:N-Dimethyl-Lysine-CoA; (Acyl-CoA)\n",
      "Added cleaned compound name: Diaminomethylideneurea\n",
      "Added cleaned compound name: w/o MS2: Diethylene glycol monobutyl ether|2-(2-butoxyethoxy)ethanol\n",
      "Added cleaned compound name: w/o MS2: Diethylene glycol monobutyl ether|2-(2-butoxyethoxy)ethanol\n",
      "Added cleaned compound name: L-Tyrosine\n",
      "Added cleaned compound name: Methyl 3-hydroxy-8-methyl-8-azabicyclo[3.2.1]octane-4-carboxylate\n",
      "Added cleaned compound name: Val-Pro\n",
      "Added cleaned compound name: Ser-Leu\n",
      "Added cleaned compound name: Ile-Pro\n",
      "Added cleaned compound name: Val-Ile\n",
      "Added cleaned compound name: Thr-Leu\n",
      "Added cleaned compound name: 2-[[(2R)-2,3-dihydroxypropoxy]-hydroxyphosphoryl]oxyeth\n",
      "Added cleaned compound name: Phe-Pro\n",
      "Added cleaned compound name: Phe-Pro\n",
      "Added cleaned compound name: Phe-Val\n",
      "Added cleaned compound name: Thr-Phe\n",
      "Added cleaned compound name: 41372-20-7\n",
      "Added cleaned compound name: His-Ile\n",
      "Added cleaned compound name: Homatropine\n",
      "Added cleaned compound name: Phe-Leu\n",
      "Added cleaned compound name: 9(10)-EpOME\n",
      "Added cleaned compound name: Arg-Ile\n",
      "Added cleaned compound name: 2-[2-methyl-3-(trifluoromethyl)anilino]pyridine-3-carboxylic acid\n",
      "Added cleaned compound name: Phe-Met\n",
      "Added cleaned compound name: Met-Phe\n",
      "Added cleaned compound name: Conjugated linoleic Acid (10E,12Z)  [IIN-based on: CCMSLIB00003136426]\n",
      "Added cleaned compound name: 3,4,5,6-tetrachlorophthalic acid\n",
      "Added cleaned compound name: 2-Phenylethyl beta-D-glucopyranoside\n",
      "Added cleaned compound name: 1-Hexadecylpyridinium\n",
      "Added cleaned compound name: w/o MS2: Chlorothalonil-TP R417888|2-carbamoyl-3,5,6-trichloro-4-cyanobenzenesulfonic acid\n",
      "Removed formula C6H2F10O4 from compound name.\n",
      "Added formula C6H2F10O4 to metadata.\n",
      "Added cleaned compound name: w/o MS2:PFCA-diether_Hsubstituted\n",
      "Added cleaned compound name: 2-[2-[(2-acetamido-4-methylpentanoyl)amino]propanoylamino]-3-hydroxypropanoic acid [IIN-based: Match]\n",
      "Added cleaned compound name: Trp-Met\n",
      "Added cleaned compound name: 8-hydroxy-8-(3-octyloxiran-2-yl)octanoic acid [IIN-based on: CCMSLIB00000846585]\n",
      "Removed formula C6H2F10O3S from compound name.\n",
      "Added formula C6H2F10O3S to metadata.\n",
      "Added cleaned compound name: w/o MS2:PFSA-H\n",
      "Added cleaned compound name: Lactulose\n",
      "Added cleaned compound name: Methylprednisolone\n",
      "Added cleaned compound name: (-)-Riboflavin\n",
      "Added cleaned compound name: (2E,4E,14E)-13-hydroperoxy-1-piperidin-1-ylicosa-2,4,14-trien-1-one\n",
      "Added cleaned compound name: Oleoyl L-carnitine\n",
      "Added cleaned compound name: 4-[[[2-[(4,8,8-trimethyl-2-oxo-9,10-dihydropyrano[2,3-h]chromen-5-yl)oxy]acetyl]amino]methyl]cyclohexane-1-carboxylic acid\"\n"
     ]
    },
    {
     "name": "stdout",
     "output_type": "stream",
     "text": [
      "Added cleaned compound name: 3,6-bis(3,4,5-trimethoxyphenyl)-1,3,3a,4,6,6a-hexahydrofuro[3,4-c]furan\n",
      "Added cleaned compound name: 3,6-bis(3,4,5-trimethoxyphenyl)-1,3,3a,4,6,6a-hexahydrofuro[3,4-c]furan\n",
      "Added cleaned compound name: w/o MS2: Lyso-Sphingomyelin\n",
      "Added cleaned compound name: 1-Myristoyl-sn-glycero-3-phosphocholine\n",
      "Removed formula C12H21F7N2O6S2 from compound name.\n",
      "Added formula C12H21F7N2O6S2 to metadata.\n",
      "Added cleaned compound name: w/o MS2:PFSM-amine\n",
      "Added cleaned compound name: (1'R,3'R,8'R,12'E,18'E,20'Z,24'R,25'S)-5',13',25'-Trimethyl-11'H,17'H,22'H-spiro[oxirane-2,26'-[2,10,16,23]tetraoxatetracyclo[22.2.1.0~3,8~.0~8,25~]heptacosa[4,12,18,20]tetraene]-11',17',22'-trione\n",
      "Added cleaned compound name: (2S)-2-[[(2R)-2-[[1-[(2-methylpropan-2-yl)oxycarbonyl]-4-phenylpiperidine-4-carbonyl]amino]propanoyl]amino]-3-phenylpropanoic acid\n",
      "Added cleaned compound name: 1-Kestose\n",
      "Added cleaned compound name: (4E,10E)-13,20-Dihydroxy-8,14-dimethoxy-4,10,12,16-tetramethyl-3-oxo-2-azabicyclo[16.3.1]docosa-1(22),4,10,18,20-pentaen-9-yl carbamate\n",
      "Added cleaned compound name: 2H-Cyclopenta[b]naphtho[2,3-d]furan-10-acetic acid, 5-(acetyloxy)-2-(3-furanyl)-3,3a,4a,5,5a,6,9,9a,10,10a-decahydro-6-(methoxycarbonyl)-1,6,9a,10a-tetramethyl-9-oxo-, methyl ester, (2R,3aR,4aS,5R,6R,9aR,10S,10aR)-\n",
      "Added cleaned compound name: 2-Propenoic acid, 3-[5-(acetyloxy)-9-(3-furanyl)dodecahydro-4-hydroxy-3,3,5a,9a-tetramethyl-7-oxofuro[3',4':5,6]naphth[2,1-c]oxireno[d]pyran-11b(1H)-yl]-, methyl ester, (2E)-\n",
      "Added cleaned compound name: 2-Propenoic acid, 3-[5-(acetyloxy)-9-(3-furanyl)dodecahydro-4-hydroxy-3,3,5a,9a-tetramethyl-7-oxofuro[3',4':5,6]naphth[2,1-c]oxireno[d]pyran-11b(1H)-yl]-, methyl ester, (2E)-\n",
      "Added cleaned compound name: 13-hydroxy-6-(1-hydroxyethyl)-3-(hydroxymethyl)-12,14-dimethyl-15-nonyl-9-propan-2-yl-1-oxa-4,7,10-triazacyclopentadecane-2,5,8,11-tetrone\n",
      "Added cleaned compound name: 13-hydroxy-6-(1-hydroxyethyl)-3-(hydroxymethyl)-12,14-dimethyl-15-nonyl-9-propan-2-yl-1-oxa-4,7,10-triazacyclopentadecane-2,5,8,11-tetrone\n",
      "Added cleaned compound name: SM(d18:1/18:0)\n",
      "Added cleaned compound name: SM(d18:1/18:0)\n",
      "Added cleaned compound name: Pelargonodin 3-rutinoside-5-glucoside\n",
      "Added cleaned compound name: 1-Hexadecanoyl-2-octadecadienoyl-sn-glycero-3-phosphocholine\n",
      "Added cleaned compound name: 1-(1Z-Octadecenyl)-2-(9Z-octadecenoyl)-sn-glycero-3-phosphocholine\n",
      "Added cleaned compound name: [2,3-dihydroxy-1-(7-methoxy-2-oxochromen-6-yl)-3-methylbutyl] 3-methylbutanoate [IIN-based on: CCMSLIB00000845895]\n",
      "Added cleaned compound name: 1-Hexadecanoyl-2-(9Z-octadecenoyl)-sn-glycero-3-phosphocholine  [IIN-based: Match]\n",
      "Added cleaned compound name: Arachidonoylthio-PC\n",
      "Added cleaned compound name: 2-[5-[2-[2-[5-[2-[2-[5-[2-[2-[5-(2-hydroxybutyl)oxolan-2-yl]propanoyloxy]propyl]oxolan-2-yl]propanoyloxy]propyl]oxolan-2-yl]propanoyloxy]propyl]oxolan-2-yl]propanoic acid\n",
      "Added cleaned compound name: 2-[5-[2-[2-[5-[2-[2-[5-[2-[2-[5-(2-hydroxybutyl)oxolan-2-yl]propanoyloxy]propyl]oxolan-2-yl]propanoyloxy]propyl]oxolan-2-yl]propanoyloxy]propyl]oxolan-2-yl]propanoic acid\n",
      "Added cleaned compound name: w/o MS2: 1-Palmitoyl-2-docosahexaenoyl-sn-glycero-3-phosphocholine  [IIN-based on: CCMSLIB00003139425]\n",
      "Added cleaned compound name: (1aS,2S,6S,6aS)-6-({6-Deoxy-3-O-(beta-D-glucopyranosyl)-4-O-[(2E)-3-(4-methoxyphenyl)-2-propenoyl]-alpha-L-mannopyranosyl}oxy)-1a-(hydroxymethyl)-1a,1b,2,5a,6,6a-hexahydrooxireno[4,5]cyclopenta[1,2-c]pyran-2-yl beta-D-glucopyranoside\n",
      "Added cleaned compound name: w/o MS2:LQA00080 PC(16:1/14,15-EpETE)\n",
      "Added cleaned compound name: w/o MS2:LQA00041 PC(16:0/18-HETE)\n",
      "Added cleaned compound name: [IIN-based on: CCMSLIB00000846637]\n",
      "Added cleaned compound name: [IIN-based on: CCMSLIB00000846637]\n",
      "Added cleaned compound name: (1S,3R,4R,7R,9R,11R,15S,16R,17R,18S,19E,21E,25E,27E,29E,31E,33R,35S,36R,37S)-33-[(3-Amino-3,6-dideoxy-?-D-mannopyranosyl)oxy]-1,3,4,7,9,11,17,37-octahydroxy-15,16,18-trimethyl-13-oxo-14,39-di\n",
      "Added cleaned compound name: Cyanidin-3-di-glucoside-5-glucoside sinapic\n",
      "Removed adduct [M+H]+; from compound name.\n",
      "Added adduct [M+H]+; to metadata.\n",
      "Added cleaned compound name: w/o MS2:1(R)-1-Acetamido-2-(3-Carboxyphenyl)Ethyl Boronic Acid-CoA; (Acyl-CoA)\n",
      "Removed formula C22H2F47O9 from compound name.\n",
      "Added formula C22H2F47O9 to metadata.\n",
      "Added cleaned compound name: w/o MS2:PFCA-diether_Hsubstituted\n",
      "Removed formula C27HF55O5S from compound name.\n",
      "Added formula C27HF55O5S to metadata.\n",
      "Added cleaned compound name: w/o MS2:PFSA-ether\n"
     ]
    }
   ],
   "source": [
    "query_spectra_n = [filtering.remove_peaks_around_precursor_mz\n",
    "                 (filtering.normalize_intensities(\n",
    "                     filtering.default_filters(spec))) \n",
    "                 for spec in df_e_n_spectra]\n",
    "\n",
    "\n",
    "reference_spectra_n = [filtering.remove_peaks_around_precursor_mz\n",
    "                 (filtering.normalize_intensities(\n",
    "                     filtering.default_filters(spec)))\n",
    "                     for spec in df_d_n_spectra]\n",
    "\n",
    "################## positive mode ##############\n",
    "\n",
    "query_spectra_p = [filtering.remove_peaks_around_precursor_mz\n",
    "                 (filtering.normalize_intensities(\n",
    "                     filtering.default_filters(spec))) \n",
    "                 for spec in df_e_p_spectra]\n",
    "\n",
    "\n",
    "reference_spectra_p = [filtering.remove_peaks_around_precursor_mz\n",
    "                 (filtering.normalize_intensities(\n",
    "                     filtering.default_filters(spec)))\n",
    "                     for spec in df_d_p_spectra]\n"
   ]
  },
  {
   "cell_type": "markdown",
   "id": "02941038",
   "metadata": {},
   "source": [
    "## spectra comparision"
   ]
  },
  {
   "cell_type": "code",
   "execution_count": 26,
   "id": "b157e286",
   "metadata": {
    "ExecuteTime": {
     "end_time": "2023-01-06T08:19:08.196022Z",
     "start_time": "2023-01-06T08:18:28.265535Z"
    }
   },
   "outputs": [
    {
     "data": {
      "application/vnd.jupyter.widget-view+json": {
       "model_id": "133ae512a8b34fcda9b164a9b4fd7b0c",
       "version_major": 2,
       "version_minor": 0
      },
      "text/plain": [
       "  0%|          | 0/2159 [00:00<?, ?it/s]"
      ]
     },
     "metadata": {},
     "output_type": "display_data"
    },
    {
     "data": {
      "application/vnd.jupyter.widget-view+json": {
       "model_id": "ba9c37d9d0244c0ab026d79bb799005e",
       "version_major": 2,
       "version_minor": 0
      },
      "text/plain": [
       "  0%|          | 0/2264 [00:00<?, ?it/s]"
      ]
     },
     "metadata": {},
     "output_type": "display_data"
    },
    {
     "name": "stdout",
     "output_type": "stream",
     "text": [
      "(30509, 4) (40083, 4)\n"
     ]
    }
   ],
   "source": [
    "greedy_scores_n = []\n",
    "for qs in tqdm(query_spectra_n):\n",
    "    for rs in reference_spectra_n:\n",
    "        if abs(qs.metadata['precursor_mz'] - rs.metadata['precursor_mz']) > 2:        \n",
    "            continue\n",
    "        score = cosine(qs, rs, 0.2, False)\n",
    "        greedy_scores_n.append((qs.metadata.get('compound_name') + '_' + str(len(qs.peaks.mz)), qs, score[0], len(score[1])))\n",
    "\n",
    "greedy_scores_n = pd.DataFrame(greedy_scores_n, columns = ['query_id','query_spec','score','number_matching_fragments'])\n",
    "\n",
    "\n",
    "greedy_scores_p = []\n",
    "for qs in tqdm(query_spectra_p):\n",
    "    for rs in reference_spectra_p:\n",
    "        if abs(qs.metadata['precursor_mz'] - rs.metadata['precursor_mz']) > 2:        \n",
    "            continue\n",
    "        score = cosine(qs, rs, 0.2, False)\n",
    "        greedy_scores_p.append((qs.metadata.get('compound_name') + '_' + str(len(qs.peaks.mz)), qs, score[0], len(score[1])))\n",
    "\n",
    "greedy_scores_p = pd.DataFrame(greedy_scores_p, columns = ['query_id','query_spec','score','number_matching_fragments'])\n",
    "\n",
    "print(greedy_scores_n.shape, greedy_scores_p.shape)"
   ]
  },
  {
   "cell_type": "code",
   "execution_count": 27,
   "id": "2595444d",
   "metadata": {
    "ExecuteTime": {
     "end_time": "2023-01-06T08:19:08.211645Z",
     "start_time": "2023-01-06T08:19:08.198031Z"
    }
   },
   "outputs": [
    {
     "data": {
      "text/html": [
       "<div>\n",
       "<style scoped>\n",
       "    .dataframe tbody tr th:only-of-type {\n",
       "        vertical-align: middle;\n",
       "    }\n",
       "\n",
       "    .dataframe tbody tr th {\n",
       "        vertical-align: top;\n",
       "    }\n",
       "\n",
       "    .dataframe thead th {\n",
       "        text-align: right;\n",
       "    }\n",
       "</style>\n",
       "<table border=\"1\" class=\"dataframe\">\n",
       "  <thead>\n",
       "    <tr style=\"text-align: right;\">\n",
       "      <th></th>\n",
       "      <th>query_id</th>\n",
       "      <th>query_spec</th>\n",
       "      <th>score</th>\n",
       "      <th>number_matching_fragments</th>\n",
       "    </tr>\n",
       "  </thead>\n",
       "  <tbody>\n",
       "    <tr>\n",
       "      <th>0</th>\n",
       "      <td>L-(+)-Erythrulose_12</td>\n",
       "      <td>&lt;matchms.Spectrum.Spectrum object at 0x0000022...</td>\n",
       "      <td>0.512678</td>\n",
       "      <td>5</td>\n",
       "    </tr>\n",
       "    <tr>\n",
       "      <th>1</th>\n",
       "      <td>L-(+)-Erythrulose_12</td>\n",
       "      <td>&lt;matchms.Spectrum.Spectrum object at 0x0000022...</td>\n",
       "      <td>1.000000</td>\n",
       "      <td>12</td>\n",
       "    </tr>\n",
       "  </tbody>\n",
       "</table>\n",
       "</div>"
      ],
      "text/plain": [
       "               query_id                                         query_spec  \\\n",
       "0  L-(+)-Erythrulose_12  <matchms.Spectrum.Spectrum object at 0x0000022...   \n",
       "1  L-(+)-Erythrulose_12  <matchms.Spectrum.Spectrum object at 0x0000022...   \n",
       "\n",
       "      score  number_matching_fragments  \n",
       "0  0.512678                          5  \n",
       "1  1.000000                         12  "
      ]
     },
     "execution_count": 27,
     "metadata": {},
     "output_type": "execute_result"
    }
   ],
   "source": [
    "greedy_scores_n.head(2)"
   ]
  },
  {
   "cell_type": "code",
   "execution_count": 28,
   "id": "d6fbd827",
   "metadata": {
    "ExecuteTime": {
     "end_time": "2023-01-06T08:19:10.236109Z",
     "start_time": "2023-01-06T08:19:10.221193Z"
    }
   },
   "outputs": [
    {
     "data": {
      "text/html": [
       "<div>\n",
       "<style scoped>\n",
       "    .dataframe tbody tr th:only-of-type {\n",
       "        vertical-align: middle;\n",
       "    }\n",
       "\n",
       "    .dataframe tbody tr th {\n",
       "        vertical-align: top;\n",
       "    }\n",
       "\n",
       "    .dataframe thead th {\n",
       "        text-align: right;\n",
       "    }\n",
       "</style>\n",
       "<table border=\"1\" class=\"dataframe\">\n",
       "  <thead>\n",
       "    <tr style=\"text-align: right;\">\n",
       "      <th></th>\n",
       "      <th>query_id</th>\n",
       "      <th>query_spec</th>\n",
       "      <th>score</th>\n",
       "      <th>number_matching_fragments</th>\n",
       "    </tr>\n",
       "  </thead>\n",
       "  <tbody>\n",
       "    <tr>\n",
       "      <th>0</th>\n",
       "      <td>Cyclohexylamine_6</td>\n",
       "      <td>&lt;matchms.Spectrum.Spectrum object at 0x0000022...</td>\n",
       "      <td>0.080763</td>\n",
       "      <td>4</td>\n",
       "    </tr>\n",
       "    <tr>\n",
       "      <th>1</th>\n",
       "      <td>Cyclohexylamine_6</td>\n",
       "      <td>&lt;matchms.Spectrum.Spectrum object at 0x0000022...</td>\n",
       "      <td>0.028337</td>\n",
       "      <td>2</td>\n",
       "    </tr>\n",
       "  </tbody>\n",
       "</table>\n",
       "</div>"
      ],
      "text/plain": [
       "            query_id                                         query_spec  \\\n",
       "0  Cyclohexylamine_6  <matchms.Spectrum.Spectrum object at 0x0000022...   \n",
       "1  Cyclohexylamine_6  <matchms.Spectrum.Spectrum object at 0x0000022...   \n",
       "\n",
       "      score  number_matching_fragments  \n",
       "0  0.080763                          4  \n",
       "1  0.028337                          2  "
      ]
     },
     "execution_count": 28,
     "metadata": {},
     "output_type": "execute_result"
    }
   ],
   "source": [
    "greedy_scores_p.head(2)"
   ]
  },
  {
   "cell_type": "code",
   "execution_count": 29,
   "id": "1c60be80",
   "metadata": {
    "ExecuteTime": {
     "end_time": "2023-01-06T08:19:10.845832Z",
     "start_time": "2023-01-06T08:19:10.837806Z"
    }
   },
   "outputs": [
    {
     "data": {
      "text/plain": [
       "\"\\n# modified_score has not been used in the downstream analysis because this is slow.\\nmodified_scores = []\\nfor qs in tqdm(query_spectra):\\n    for rs in reference_spectra:\\n        score = cosine(qs, rs, 0.2, True)\\n        modified_scores.append((qs.metadata.get('compound_name')+'_'+str(len(qs.peaks.mz)), qs, score[0], len(score[1])))\\n\\nmodified_scores = pd.DataFrame(modified_scores, columns = ['query_id','query_spec','score','number_matching_fragments'])\\n\\nmodified_scores.shape\\n\""
      ]
     },
     "execution_count": 29,
     "metadata": {},
     "output_type": "execute_result"
    }
   ],
   "source": [
    "#skip\n",
    "\"\"\"\n",
    "# modified_score has not been used in the downstream analysis because this is slow.\n",
    "modified_scores = []\n",
    "for qs in tqdm(query_spectra):\n",
    "    for rs in reference_spectra:\n",
    "        score = cosine(qs, rs, 0.2, True)\n",
    "        modified_scores.append((qs.metadata.get('compound_name')+'_'+str(len(qs.peaks.mz)), qs, score[0], len(score[1])))\n",
    "\n",
    "modified_scores = pd.DataFrame(modified_scores, columns = ['query_id','query_spec','score','number_matching_fragments'])\n",
    "\n",
    "modified_scores.shape\n",
    "\"\"\""
   ]
  },
  {
   "cell_type": "code",
   "execution_count": 30,
   "id": "69b042ee",
   "metadata": {
    "ExecuteTime": {
     "end_time": "2023-01-06T08:19:11.233710Z",
     "start_time": "2023-01-06T08:19:11.230234Z"
    }
   },
   "outputs": [],
   "source": [
    "#skip\n",
    "#modified_scores.head(2)"
   ]
  },
  {
   "cell_type": "code",
   "execution_count": 31,
   "id": "ca99ac50",
   "metadata": {
    "ExecuteTime": {
     "end_time": "2023-01-06T08:19:11.780033Z",
     "start_time": "2023-01-06T08:19:11.758067Z"
    }
   },
   "outputs": [
    {
     "name": "stdout",
     "output_type": "stream",
     "text": [
      "1201 1551\n"
     ]
    }
   ],
   "source": [
    "selection_greedy_n = greedy_scores_n[(greedy_scores_n.score < 0.7) & (\n",
    "    greedy_scores_n.number_matching_fragments < 5)].drop_duplicates(subset='query_id')\n",
    "\n",
    "selection_greedy_p = greedy_scores_p[(greedy_scores_p.score < 0.7) & (\n",
    "    greedy_scores_p.number_matching_fragments < 5)].drop_duplicates(subset='query_id')\n",
    "\n",
    "print(len(selection_greedy_n), len(selection_greedy_p))\n"
   ]
  },
  {
   "cell_type": "code",
   "execution_count": 32,
   "id": "c38227ff",
   "metadata": {
    "ExecuteTime": {
     "end_time": "2023-01-06T08:19:12.619872Z",
     "start_time": "2023-01-06T08:19:12.287509Z"
    }
   },
   "outputs": [
    {
     "data": {
      "image/png": "[encoded data removed]",
      "text/plain": [
       "<Figure size 432x288 with 1 Axes>"
      ]
     },
     "execution_count": 32,
     "metadata": {},
     "output_type": "execute_result"
    },
    {
     "data": {
      "image/png": "[encoded data removed]",
      "text/plain": [
       "<Figure size 432x288 with 1 Axes>"
      ]
     },
     "metadata": {
      "needs_background": "light"
     },
     "output_type": "display_data"
    }
   ],
   "source": [
    "selection_greedy_n.query_spec.iloc[0].plot()"
   ]
  },
  {
   "cell_type": "code",
   "execution_count": 33,
   "id": "18aaab48",
   "metadata": {
    "ExecuteTime": {
     "end_time": "2023-01-06T08:19:14.395139Z",
     "start_time": "2023-01-06T08:19:14.123418Z"
    }
   },
   "outputs": [
    {
     "data": {
      "image/png": "[encoded data removed]",
      "text/plain": [
       "<Figure size 432x288 with 1 Axes>"
      ]
     },
     "execution_count": 33,
     "metadata": {},
     "output_type": "execute_result"
    },
    {
     "data": {
      "image/png": "[encoded data removed]",
      "text/plain": [
       "<Figure size 432x288 with 1 Axes>"
      ]
     },
     "metadata": {
      "needs_background": "light"
     },
     "output_type": "display_data"
    }
   ],
   "source": [
    "selection_greedy_p.query_spec.iloc[0].plot()"
   ]
  },
  {
   "cell_type": "markdown",
   "id": "61ab39fa",
   "metadata": {},
   "source": [
    "## Output"
   ]
  },
  {
   "cell_type": "code",
   "execution_count": 34,
   "id": "b5bc8177",
   "metadata": {
    "ExecuteTime": {
     "end_time": "2023-01-06T08:19:21.570268Z",
     "start_time": "2023-01-06T08:19:20.672851Z"
    }
   },
   "outputs": [
    {
     "name": "stdout",
     "output_type": "stream",
     "text": [
      "1201 1551\n"
     ]
    }
   ],
   "source": [
    "with open('./MSDIAL_OUTPUT/P2_N/P2+LM_output_greedy_less_than_07.mgf', \"w\", encoding=\"utf-8\") as f_out:\n",
    "        py_mgf.write(selection_greedy_n.query_spec.apply(to_dict).values, f_out)\n",
    "f_out.close()\n",
    "\n",
    "with open('./MSDIAL_OUTPUT/P2_P/P2+LM_output_greedy_less_than_07.mgf', \"w\", encoding=\"utf-8\") as f_out:\n",
    "        py_mgf.write(selection_greedy_p.query_spec.apply(to_dict).values, f_out)\n",
    "f_out.close()\n",
    "\n",
    "\n",
    "\n",
    "# P2+LM_output_greedy_less_than 0.7 list\n",
    "e_d_match_n = selection_greedy_n.query_spec.to_list()\n",
    "e_d_match_p = selection_greedy_p.query_spec.to_list()\n",
    "\n",
    "print(len(e_d_match_n), len(e_d_match_p))"
   ]
  },
  {
   "cell_type": "markdown",
   "id": "07b32a89",
   "metadata": {},
   "source": [
    "# Match yyy only spectra (f) with the spectra obtained from noise and yyy+HP spectra with <.7 cosine (e_d_match)"
   ]
  },
  {
   "cell_type": "markdown",
   "id": "45d99cbc",
   "metadata": {
    "ExecuteTime": {
     "end_time": "2023-01-05T07:23:50.217031Z",
     "start_time": "2023-01-05T07:23:50.207647Z"
    }
   },
   "source": [
    "## Spectra data normalisation"
   ]
  },
  {
   "cell_type": "code",
   "execution_count": 35,
   "id": "0d24e2be",
   "metadata": {
    "ExecuteTime": {
     "end_time": "2023-01-06T08:19:31.869305Z",
     "start_time": "2023-01-06T08:19:29.805997Z"
    }
   },
   "outputs": [
    {
     "name": "stdout",
     "output_type": "stream",
     "text": [
      "Added cleaned compound name: 4-Hydroxybenzoic acid\n",
      "Added cleaned compound name: 4-Hydroxybenzoic acid\n",
      "Removed formula CH2F3O4P from compound name.\n",
      "Added formula CH2F3O4P to metadata.\n",
      "Added cleaned compound name: w/o MS2:PFAP-PAP\n",
      "Removed formula CH2F3O4P from compound name.\n",
      "Added formula CH2F3O4P to metadata.\n",
      "Added cleaned compound name: w/o MS2:PFAP-PAP\n",
      "Removed formula CH2F3O4P from compound name.\n",
      "Added formula CH2F3O4P to metadata.\n",
      "Added cleaned compound name: w/o MS2:PFAP-PAP\n",
      "Added cleaned compound name: Methoxytyrosine\n",
      "Added cleaned compound name: Hydroxysebacic acid\n",
      "Added cleaned compound name: Butanedioic acid, 2-(4,4-dimethyl-2-methylenepentyl)-\n",
      "Added cleaned compound name: 3-(1-hydroxy-2-oxobutylidene)-6-[(E)-prop-1-enyl]pyran-2,4-dione\n",
      "Removed formula C6H2F8O2 from compound name.\n",
      "Added formula C6H2F8O2 to metadata.\n",
      "Added cleaned compound name: w/o MS2:PFCA-perfluoroalkyl_Hsubstituted_1DB\n",
      "Removed formula C5HF9O2 from compound name.\n",
      "Added formula C5HF9O2 to metadata.\n",
      "Added cleaned compound name: w/o MS2:PFCA-perfluoroalkyl_branched\n",
      "Removed formula C6H3F9O2 from compound name.\n",
      "Added formula C6H3F9O2 to metadata.\n",
      "Added cleaned compound name: FT-PFCA\n",
      "Removed formula C6H3F9O2 from compound name.\n",
      "Added formula C6H3F9O2 to metadata.\n",
      "Added cleaned compound name: w/o MS2:FT-PFCA\n",
      "Added cleaned compound name: [(1R)-2-adenin-9-yl-1-methyl-ethoxy]methylphosphonic acid\n",
      "Added cleaned compound name: Pregna-4,16-diene-3,20-dione\n",
      "Added cleaned compound name: Dodecylbenzenesulfonic acid\n",
      "Removed adduct [M-H]- from compound name.\n",
      "Added adduct [M-H]- to metadata.\n",
      "Added cleaned compound name: 53FTA; LC-ESI-QQ; MS2; CE10\n",
      "Removed formula C6H2F10O3S from compound name.\n",
      "Added formula C6H2F10O3S to metadata.\n",
      "Added cleaned compound name: w/o MS2:PFSA-H\n",
      "Removed formula C7H2F12O2 from compound name.\n",
      "Added formula C7H2F12O2 to metadata.\n",
      "Added cleaned compound name: w/o MS2:PFCA-H\n",
      "Removed formula C7H2F12O2 from compound name.\n",
      "Added formula C7H2F12O2 to metadata.\n",
      "Added cleaned compound name: w/o MS2:PFCA-H\n",
      "Added cleaned compound name: 8-hydroxy-8-(3-octyloxiran-2-yl)octanoic acid [IIN-based on: CCMSLIB00000846585]\n",
      "Added cleaned compound name: (13aR)-2,3,9,10-tetramethoxy-6,8,13,13a-tetrahydro-5H-isoquinolino[2,1-b]isoquinoline\n",
      "Removed formula C8H2F12O2 from compound name.\n",
      "Added formula C8H2F12O2 to metadata.\n",
      "Added cleaned compound name: PFCA-perfluoroalkyl_Hsubstituted_1DB\n",
      "Removed formula C8H5F11O3 from compound name.\n",
      "Added formula C8H5F11O3 to metadata.\n",
      "Added cleaned compound name: w/o MS2:PFCA-H\n",
      "Added cleaned compound name: (E)-3-(4-hydroxy-3-methoxyphenyl)-N-[2-(4-hydroxyphenyl)ethyl]prop-2-enamide\n",
      "Added cleaned compound name: 7-[(6-hydroxy-2,5,5,8a-tetramethyl-1,4,4a,6,7,8-hexahydronaphthalen-1-yl)methoxy]chromen-2-one\n",
      "Added cleaned compound name: 5-[5-hydroxy-3-(hydroxymethyl)pentyl]-8a-(hydroxymethyl)-5,6-dimethyl-3,4,4a,6,7,8-hexahydronaphthalene-1-carboxylic acid [IIN-based on: CCMSLIB00000847958]\n",
      "Removed formula C5HF12O4P from compound name.\n",
      "Added formula C5HF12O4P to metadata.\n",
      "Added cleaned compound name: w/o MS2:PFAP-diPAP\n",
      "Added cleaned compound name: Cyclopentaneacetic acid, 3-(hexopyranosyloxy)-2-[(2Z)-2-penten-1-yl]-\n",
      "Added cleaned compound name: 4-(4-Hydroxy-2,6,6-trimethyl-1-cyclohexen-1-yl)-2-butanyl beta-D-glucopyranoside\n",
      "Added cleaned compound name: 4-(4-Hydroxy-2,6,6-trimethyl-1-cyclohexen-1-yl)-2-butanyl beta-D-glucopyranoside\n",
      "Added cleaned compound name: 6-Hydroxy-3-[(1E)-3-hydroxy-1-buten-1-yl]-2,4,4-trimethylcyclohexyl beta-D-glucopyranoside\n",
      "Added cleaned compound name: Cyanidin 3-xyloside\n",
      "Removed formula C6HF13O5S from compound name.\n",
      "Added formula C6HF13O5S to metadata.\n",
      "Added cleaned compound name: w/o MS2:PFSA-ether\n",
      "Removed formula C7H2F14O3S from compound name.\n",
      "Added formula C7H2F14O3S to metadata.\n",
      "Added cleaned compound name: w/o MS2:PFSA-H\n",
      "Added cleaned compound name: 2-[5-[2-[2-[5-(2-hydroxypropyl)oxolan-2-yl]propanoyloxy]propyl]oxolan-2-yl]propanoic acid [IIN-based on: CCMSLIB00000845048]\n",
      "Added cleaned compound name: 16-hydroxy-4,4,8,10,14-pentamethyl-17-(4,5,6-trihydroxy-6-methylheptan-2-yl)-1,2,5,6,7,9,11,12,15,16-decahydrocyclopenta[a]phenanthren-3-one [IIN-based on: CCMSLIB00000848752]\n",
      "Removed adduct [M-H]- from compound name.\n",
      "Added adduct [M-H]- to metadata.\n",
      "Added cleaned compound name: 73FTA; LC-ESI-QQ; MS2; CE30\n",
      "Removed adduct [M-H]- from compound name.\n",
      "Added adduct [M-H]- to metadata.\n",
      "Added cleaned compound name: 73FTA; LC-ESI-QQ; MS2; CE30\n",
      "Removed formula C9H2F16O2 from compound name.\n",
      "Added formula C9H2F16O2 to metadata.\n",
      "Added cleaned compound name: w/o MS2:PFCA-H\n",
      "Added cleaned compound name: \n",
      "Removed formula C8HF15O4S from compound name.\n",
      "Added formula C8HF15O4S to metadata.\n",
      "Added cleaned compound name: w/o MS2:PFSA-carbonyl\n",
      "Added cleaned compound name: \n",
      "Added cleaned compound name: Oxireno[4',5']pyrano[4',3':5,6]naphth[2,1-c]oxepin-3,10,12(1H,5aH,10aH)-trione, 8-(3-furanyl)-5b,6,7,7a,8,11b,13,13a-octahydro-1,1,5a,7a,11b-pentamethyl-, (5aR,7aS,8S,10aS,11aR,11bR)-\n",
      "Added cleaned compound name: [2-(4-hydroxy-3-methoxyphenyl)-4-[(4-hydroxy-3-methoxyphenyl)methyl]oxolan-3-yl]methyl (E)-3-(4-hydroxyphenyl)prop-2-enoate\n",
      "Added cleaned compound name: [4-[3,4,5-trihydroxy-6-(hydroxymethyl)oxan-2-yl]oxyphenyl]methyl 3-acetyloxy-2-hydroxy-2-[(4-hydroxyphenyl)methyl]butanoate [IIN-based: Match]\n",
      "Added cleaned compound name: 9-Hydroxy-9-[({(2E)-2-(hydroxymethyl)-3-[3-(hydroxymethyl)-6-isopropyl-2-cyclohexen-1-yl]-2-propenoyl}oxy)methyl]-6-isopropyl-1-oxo-1,3,5a,6,7,8,9,9a-octahydro-2-benzoxepine-4-carboxylic acid\n",
      "Added cleaned compound name: [1-[3-(3-hydroxy-2,2-dimethyl-1,2'-dioxospiro[3aH-imidazo[1,2-a]indole-4,5'-oxolane]-3'-yl)-4-oxoquinazolin-2-yl]-2-methylpropyl] acetate\"\n",
      "Added cleaned compound name: [1-[3-(3-hydroxy-2,2-dimethyl-1,2'-dioxospiro[3aH-imidazo[1,2-a]indole-4,5'-oxolane]-3'-yl)-4-oxoquinazolin-2-yl]-2-methylpropyl] acetate\"\n",
      "Added cleaned compound name: \n",
      "Added cleaned compound name: Methyl (2S)-[(5S,6S,10S,12S,13R,15S,19S)-6-(3-furyl)-15,18-dihydroxy-1,5,16-trimethyl-8,14-dioxo-7,11-dioxahexacyclo[14.2.1.0~2,12~.0~5,10~.0~10,12~.0~13,18~]nonadec-19-yl](hydroxy)acetate\n",
      "Added cleaned compound name: Phillyrin\n",
      "Added cleaned compound name: 2-(hydroxymethyl)-1-methoxy-3-[(2S,3R,4S,5S,6R)-3,4,5-trihydroxy-6-[[(2S,3R,4S,5R)-3,4,5-trihydroxyoxan-2-yl]oxymethyl]oxan-2-yl]oxyanthracene-9,10-dione\n",
      "Added cleaned compound name: (3R)-4-[6-[(2S,4aS,5aR,9R,9aR,10aR)-2,9-dimethyl-3-oxo-4,4a,5a,6,7,9,9a,10a-octahydrodipyrano[4,2-a:4',3'-e][1,4]dioxin-7-yl]-1,5-dihydroxy-9,10-dioxoanthracen-2-yl]-3-hydroxy-3-methylbutanoic acid\n",
      "Added cleaned compound name: 7,11-Methano-2H-cycloocta[3,4]benzo[1,2-c]pyran-8-acetic acid, 10-(benzoyloxy)-4-(3-furanyl)-1,4,4a,5,6,6a,7,8,9,10,11,12-dodecahydro-4a,7,9,9-tetramethyl-2,13-dioxo-, methyl ester, (4R,4aR,7R,8S,10R,11R)-\n",
      "Added cleaned compound name: [(2R,3R,4R,5R,6S)-4,5-dihydroxy-6-methyl-2-[[(2R,3S,4S,5R,6S)-3,4,5-trihydroxy-6-[(E)-3-phenylprop-2-enoyl]oxyoxan-2-yl]methoxy]oxan-3-yl] (E)-3-phenylprop-2-enoate\n",
      "Added cleaned compound name: Biochanin A beta-d-diglucoside\n",
      "Added cleaned compound name: [(2R,3S,4R,5R,6R)-6-[2-(3,4-dihydroxyphenyl)ethoxy]-4,5-dihydroxy-2-[[(2R,3R,4R,5R,6S)-3,4,5-trihydroxy-6-methyloxan-2-yl]oxymethyl]oxan-3-yl] (E)-3-(3,4-dihydroxyphenyl)prop-2-enoate\n",
      "Removed formula C14H13F19N2O2S from compound name.\n",
      "Added formula C14H13F19N2O2S to metadata.\n",
      "Added cleaned compound name: w/o MS2:PFSM-amine\n",
      "Added cleaned compound name: (3S)-8-hydroxy-3-methyl-3,4-dihydro-2H-benzo[a]anthracene-1,7,12-trione [IIN-based on: CCMSLIB00000848009]\n",
      "Removed formula C9HF23O3S2 from compound name.\n",
      "Added formula C9HF23O3S2 to metadata.\n",
      "Added cleaned compound name: w/o MS2:PFSA-pentafluorosulfide\n",
      "Removed formula C9HF23O3S2 from compound name.\n",
      "Added formula C9HF23O3S2 to metadata.\n",
      "Added cleaned compound name: w/o MS2:PFSA-pentafluorosulfide\n",
      "Added cleaned compound name: [3-methyl-1-[3-methyl-1-[3-methyl-1-oxo-1-(2,3,4,5,6-pentahydroxyhexoxy)pentan-2-yl]oxy-1-oxopentan-2-yl]oxy-1-oxopentan-2-yl] 2-hydroxy-3-methylpentanoate [IIN-based on: CCMSLIB00000845116]\n",
      "Added cleaned compound name: [3-methyl-1-[3-methyl-1-[3-methyl-1-oxo-1-(2,3,4,5,6-pentahydroxyhexoxy)pentan-2-yl]oxy-1-oxopentan-2-yl]oxy-1-oxopentan-2-yl] 2-hydroxy-3-methylpentanoate [IIN-based on: CCMSLIB00000845116]\n",
      "Added cleaned compound name: (2E,6E)-3,7,11,15,19,23,27,31,35-nonamethylhexatriaconta-2,6,34-triene-1,10,11,15,19,23,27,31-octol [IIN-based on: CCMSLIB00000847513]\n"
     ]
    },
    {
     "name": "stdout",
     "output_type": "stream",
     "text": [
      "Added cleaned compound name: w/o MS2:BML00234 {3,4,5-triacetyloxy-6-[5-acetyloxy-3-(4-methoxyphenyl)-4-oxochromen-6-yloxy]-2 H-3,4,5,6-tetrahydropyran-2-yl}methyl acetate\n",
      "Added cleaned compound name: (2S,4R,9beta,16alpha,17xi,23E)-2-(beta-D-Glucopyranosyloxy)-16,20-dihydroxy-9,10,14-trimethyl-1,11,22-trioxo-4,9-cyclo-9,10-secocholesta-5,23-dien-25-yl acetate\n",
      "Added cleaned compound name: Coumarin base + 1O, 1MeO, O-(C26H31O12)\n",
      "Added cleaned compound name: Card-20(22)-enolide, 3-[(2,6-dideoxy-4-O-beta-D-glucopyranosyl-3-O-methyl-beta-D-ribo-hexopyranosyl)oxy]-5,14-dihydroxy-19-oxo-, (3beta,5beta)-\n",
      "Added cleaned compound name: 2-[6-(2-methylbut-3-en-2-yl)-7-oxo-2,3-dihydrofuro[3,2-g]chromen-2-yl]propan-2-yl acetate [IIN-based on: CCMSLIB00000848402]\n",
      "Added cleaned compound name: w/o MS2:2-TTRAHLIA [DMED-FAHFA]; [24:3-(2-O-24:0)]\n",
      "Added cleaned compound name: (E)-3-(4-hydroxyphenyl)-N-[3-[[(E)-3-(4-hydroxyphenyl)prop-2-enoyl]-[4-[[(E)-3-(4-hydroxyphenyl)prop-2-enoyl]-[3-[[(E)-3-(4-hydroxyphenyl)prop-2-enoyl]amino]propyl]amino]butyl]amino]propyl]prop-2-enamide [IIN-based on: CCMSLIB00000847637]\n",
      "Added cleaned compound name: Ergost-24-en-26-one, 3-[[4-O-(6-deoxyhexopyranosyl)hexopyranosyl]oxy]-6,7:22,26-diepoxy-1,5,16-trihydroxy-\n",
      "Added cleaned compound name: (1S,4R,7S,10S,13S,16S)-10-(4-Methoxybenzyl)-4,7,9,13,15,29-hexamethyl-2,5,8,11,14,30-hexaoxo-22-oxa-3,6,9,12,15,29-hexaazatetracyclo[14.12.2.2~18,21~.1~23,27~]tritriaconta-18,20,23(31),24,26,32-hexaen-24-yl beta-D-glucopyranoside\n",
      "Added cleaned compound name: beta-D-Glucopyranoside, (3beta,22beta,25R)-26-(beta-D-glucopyranosyloxy)-22-hydroxyfurost-5-en-3-yl O-6-deoxy-alpha-L-mannopyranosyl-(1->2)-O-[6-deoxy-alpha-L-mannopyranosyl-(1->4)]-\n",
      "Added cleaned compound name: w/o MS2: Diethylene glycol monobutyl ether|2-(2-butoxyethoxy)ethanol\n",
      "Added cleaned compound name: (2Z)-3-methoxy-5-methyl-4-oxohexa-2,5-dienoic acid\n",
      "Added cleaned compound name: Diethyl phthalate\n",
      "Added cleaned compound name: Ethanol, 2-(2-butoxyethoxy)-  [IIN-based on: CCMSLIB00003135965]\n",
      "Added cleaned compound name: Diethyl phthalate  [IIN-based: Match]\n",
      "Added cleaned compound name: 1,3-Dicyclohexylurea\n",
      "Added cleaned compound name: 2-(7-hydroxy-6-methyloctyl)-2H-furan-5-one\n",
      "Added cleaned compound name: 3-(3,4-dichlorophenyl)-1-methoxy-1-methylurea\n",
      "Added cleaned compound name: 2,4,6-tris(prop-2-enoxy)-1,3,5-triazine\n",
      "Added cleaned compound name: 3-[(1R,2R)-2-[(dimethylamino)methyl]-1-hydroxycyclohexyl]phenol\n",
      "Added cleaned compound name: N-(1-hydroxy-3-phenylpropan-2-yl)benzamide [IIN-based: Match]\n",
      "Added cleaned compound name: Palmitamide\n",
      "Added cleaned compound name: 2-(6-methyl-7-oxooctyl)-2H-furan-5-one [IIN-based on: CCMSLIB00000848756]\n",
      "Added cleaned compound name: 41372-20-7\n",
      "Added cleaned compound name: 41372-20-7\n",
      "Added cleaned compound name: Triphenylphosphine oxide  [IIN-based on: CCMSLIB00003136800]\n",
      "Added cleaned compound name: 9(10)-EpOME\n",
      "Added cleaned compound name: 4-hydroxy-5-(1,2,3-trihydroxy-3-phenylpropyl)oxolan-2-one\n",
      "Added cleaned compound name: w/o MS2:Catechin\n",
      "Added cleaned compound name: w/o MS2:Catechin\n",
      "Added cleaned compound name: Dibutyl phthalate  [IIN-based on: CCMSLIB00003137108]\n",
      "Added cleaned compound name: Benzyldodecyldimethylammonium\n",
      "Added cleaned compound name: w/o MS2: Pentapropylene glycol\n",
      "Added cleaned compound name: w/o MS2: 3-Hydroxy-6,2',3'-trimethoxyflavone\n",
      "Added cleaned compound name: [(7R,8R)-7-hydroxy-4-oxido-5,6,7,8-tetrahydro-3H-pyrrolizin-4-ium-1-yl]methyl (2S)-2-hydroxy-2-[(1R)-1-hydroxyethyl]-3-methylbutanoate\n",
      "Added cleaned compound name: Pentanoic acid, 3-methyl-, 5-hydroxy-3-(hydroxymethyl)-6-(1-methylethyl)-2-oxo-3-cyclohexen-1-yl ester\n",
      "Added cleaned compound name: tolterodine\n",
      "Added cleaned compound name: w/o MS2: Chlorothalonil-TP R417888|2-carbamoyl-3,5,6-trichloro-4-cyanobenzenesulfonic acid\n",
      "Added cleaned compound name: w/o MS2: Chlorothalonil-TP R417888|2-carbamoyl-3,5,6-trichloro-4-cyanobenzenesulfonic acid\n",
      "Removed formula C6H2F10O4 from compound name.\n",
      "Added formula C6H2F10O4 to metadata.\n",
      "Added cleaned compound name: w/o MS2:PFCA-diether_Hsubstituted\n",
      "Added cleaned compound name: 3-(2,4-dihydroxypentyl)-6,8-dimethoxyisochromen-1-one [IIN-based on: CCMSLIB00000847759]\n",
      "Removed adduct Cat from compound name.\n",
      "Added adduct [Cat] to metadata.\n",
      "Added cleaned compound name: Benzyltetradecyldimethylammonium\n",
      "Added cleaned compound name: (E)-3-(4-hydroxy-3-methoxyphenyl)-N-[2-(4-hydroxyphenyl)ethyl]prop-2-enamide [IIN-based on: CCMSLIB00000845924]\n",
      "Added cleaned compound name: 8-hydroxy-8-(3-octyloxiran-2-yl)octanoic acid [IIN-based on: CCMSLIB00000846585]\n",
      "Added cleaned compound name: 8-hydroxy-8-(3-octyloxiran-2-yl)octanoic acid [IIN-based on: CCMSLIB00000846585]\n",
      "Removed formula C6H2F10O3S from compound name.\n",
      "Added formula C6H2F10O3S to metadata.\n",
      "Added cleaned compound name: w/o MS2:PFSA-H\n",
      "Added cleaned compound name: Lauramidopropyl betaine|3-(Dodecanoylamino)propyl(carboxymethyl)dimethylammonium|carboxymethyl-[3-(dodecanoylamino)propyl]-dimethylazanium M\n",
      "Added cleaned compound name: (E)-1-(4-hydroxy-3-methoxyphenyl)tetradec-4-en-3-one\n",
      "Added cleaned compound name: \n",
      "Added cleaned compound name: Lactulose\n",
      "Added cleaned compound name: (7E,13E)-9,15-dihydroxy-4,10,16-trimethyl-1,5,11-trioxacyclohexadeca-7,13-diene-2,6,12-trione [IIN-based on: CCMSLIB00000848984]\n",
      "Added cleaned compound name: Cyclopentasiloxane, decamethyl-\n",
      "Added cleaned compound name: 5-[5-hydroxy-3-(hydroxymethyl)pentyl]-8a-(hydroxymethyl)-5,6-dimethyl-3,4,4a,6,7,8-hexahydronaphthalene-1-carboxylic acid\n",
      "Added cleaned compound name: 3-hexadecyl-4-methoxy-5-methyloxolan-2-one\n",
      "Added cleaned compound name: (7E,13E)-9,15-dihydroxy-4,10,16-trimethyl-1,5,11-trioxacyclohexadeca-7,13-diene-2,6,12-trione [IIN-based on: CCMSLIB00000848984]\n",
      "Added cleaned compound name: 8-[4-(4-pyrimidin-2-ylpiperazin-1-yl)butyl]-8-azaspiro[4.5]decane-7,9-dione\n",
      "Added cleaned compound name: w/o MS2: Gln-Ile-Lys\n",
      "Added cleaned compound name: (3S,3aR,6S,6aR)-3,6-bis(3,4-dimethoxyphenyl)-1,3,3a,4,6,6a-hexahydrofuro[3,4-c]furan\n",
      "Added cleaned compound name: (2E,4E,14E)-13-hydroperoxy-1-piperidin-1-ylicosa-2,4,14-trien-1-one\n",
      "Removed formula C4HF13O3S2 from compound name.\n",
      "Added formula C4HF13O3S2 to metadata.\n",
      "Added cleaned compound name: w/o MS2:PFSA-pentafluorosulfide\n",
      "Added cleaned compound name: (E,2S,3R,4R,5S)-4-acetyloxy-2-amino-3,5,14-trihydroxyicos-6-enoic acid [IIN-based on: CCMSLIB00000847931]\n",
      "Added cleaned compound name: 6-[3-[(3,4-dimethoxyphenyl)methyl]-4-methoxy-2-(methoxymethyl)butyl]-4-methoxy-1,3-benzodioxole\n",
      "Added cleaned compound name: 6-[3-[(3,4-dimethoxyphenyl)methyl]-4-methoxy-2-(methoxymethyl)butyl]-4-methoxy-1,3-benzodioxole\n",
      "Added cleaned compound name: 6-[3-[(3,4-dimethoxyphenyl)methyl]-4-methoxy-2-(methoxymethyl)butyl]-4-methoxy-1,3-benzodioxole [IIN-based on: CCMSLIB00000848625]\n",
      "Added cleaned compound name: 6-[3-[(3,4-dimethoxyphenyl)methyl]-4-methoxy-2-(methoxymethyl)butyl]-4-methoxy-1,3-benzodioxole [IIN-based on: CCMSLIB00000848625]\n",
      "Added cleaned compound name: Nonaethylene glycol  [IIN-based on: CCMSLIB00003135822]\n",
      "Added cleaned compound name: 2H-Oxireno[1,10a]phenanthro[3,2-b]furan-10(11bH)-one, 5,7-bis(acetyloxy)-3,3a,4,5,6,7,7a,7b,8,8a-decahydro-4,4,7a,11-tetramethyl-, (1aS,3aR,5S,7S,7aR,7bS,8aR,11bR)- [IIN-based on: CCMSLIB00000853048]\n",
      "Added cleaned compound name: 2H-Oxireno[1,10a]phenanthro[3,2-b]furan-10(11bH)-one, 5,7-bis(acetyloxy)-3,3a,4,5,6,7,7a,7b,8,8a-decahydro-4,4,7a,11-tetramethyl-, (1aS,3aR,5S,7S,7aR,7bS,8aR,11bR)- [IIN-based on: CCMSLIB00000853048]\n",
      "Added cleaned compound name: Nonaethylene glycol  [IIN-based on: CCMSLIB00003137287]\n",
      "Added cleaned compound name: 6.N-Benzoylphenylalanylphenylalinol acetate\n",
      "Added cleaned compound name: 3-[4-({2-[(2E)-2-Buten-2-yl]-6,8-dimethyl-1,2,4a,5,6,7,8,8a-octahydro-1-naphthalenyl}carbonyl)-3-hydroxy-5-oxo-2,5-dihydro-1H-pyrrol-2-yl]-2-hydroxy-2-methylpropanoic acid\n",
      "Added cleaned compound name: 3-[4-({2-[(2E)-2-Buten-2-yl]-6,8-dimethyl-1,2,4a,5,6,7,8,8a-octahydro-1-naphthalenyl}carbonyl)-3-hydroxy-5-oxo-2,5-dihydro-1H-pyrrol-2-yl]-2-hydroxy-2-methylpropanoic acid\n",
      "Added cleaned compound name: beta-D-Glucopyranoside, 3-ethyl-4-hydroxy-4-methylpentyl 6-O-[(2S,3R,4R)-tetrahydro-3,4-dihydroxy-4-(hydroxymethyl)-2-furanyl]-\n",
      "Added cleaned compound name: Decaethylene glycol  [IIN-based on: CCMSLIB00003135910]\n",
      "Added cleaned compound name: 4-[5-[[4-[5-[acetyl(hydroxy)amino]pentylamino]-4-oxobutanoyl]-hydroxyamino]pentylamino]-4-oxobutanoic acid\n",
      "Added cleaned compound name: Decaethylene glycol  [IIN-based on: CCMSLIB00003135910]\n",
      "Removed formula C12H21F7N2O6S2 from compound name.\n",
      "Added formula C12H21F7N2O6S2 to metadata.\n",
      "Added cleaned compound name: w/o MS2:PFSM-amine\n",
      "Added cleaned compound name: 3-(1-Acetoxy-3-methylbutyl)-6-{2-hydroxy-4-methyl-6-[(1E)-3-oxo-1-buten-1-yl]phenoxy}-2-methoxybenzoic acid\n",
      "Added cleaned compound name: N-[[(1E,4E)-1,5-bis[4-(trifluoromethyl)phenyl]penta-1,4-dien-3-ylidene]amino]-5,5-dimethyl-4,6-dihydro-1H-pyrimidin-2-amine\n",
      "Added cleaned compound name: Methyl (2R,3aR,4aS,5R,6R,9aR,10S,10aR)-2-(3-furyl)-5-hydroxy-10-(2-methoxy-2-oxoethyl)-1,6,9a,10a-tetramethyl-9-oxo-3,3a,4a,5,5a,6,9,9a,10,10a-decahydro-2H-cyclopenta[b]naphtho[2,3-d]furan-6-carboxylate\n",
      "Added cleaned compound name: (1'R,3'R,8'R,12'E,18'E,20'Z,24'R,25'S)-5',13',25'-Trimethyl-11'H,17'H,22'H-spiro[oxirane-2,26'-[2,10,16,23]tetraoxatetracyclo[22.2.1.0~3,8~.0~8,25~]heptacosa[4,12,18,20]tetraene]-11',17',22'-trione\n",
      "Added cleaned compound name: Muconomycin B\n",
      "Added cleaned compound name: Spermidine-feruloyl-hydroxyferuloyl\n",
      "Added cleaned compound name: Undecaethylene glycol  [IIN-based on: CCMSLIB00003138750]\n",
      "Added cleaned compound name: Undecaethylene glycol  [IIN-based on: CCMSLIB00003135327]\n",
      "Added cleaned compound name: Undecaethylene glycol  [IIN-based on: CCMSLIB00003135327]\n",
      "Removed formula C31H62N1O6 from compound name.\n",
      "Added formula C31H62N1O6 to metadata.\n",
      "Added cleaned compound name: w/o MS2: 1-Heptadecanoyl-sn-glycero-3-phosphocholine\n"
     ]
    },
    {
     "name": "stdout",
     "output_type": "stream",
     "text": [
      "Added cleaned compound name: Methyl (2S)-[(5S,6S,10S,12S,13R,15S,19S)-6-(3-furyl)-15,18-dihydroxy-1,5,16-trimethyl-8,14-dioxo-7,11-dioxahexacyclo[14.2.1.0~2,12~.0~5,10~.0~10,12~.0~13,18~]nonadec-19-yl](hydroxy)acetate\n",
      "Added cleaned compound name: Methyl (2S)-[(5S,6S,10S,12S,13R,15S,19S)-6-(3-furyl)-15,18-dihydroxy-1,5,16-trimethyl-8,14-dioxo-7,11-dioxahexacyclo[14.2.1.0~2,12~.0~5,10~.0~10,12~.0~13,18~]nonadec-19-yl](hydroxy)acetate\n",
      "Added cleaned compound name: 3-ethenyl-4-[2-(3,4,5-trihydroxybenzoyl)oxyethyl]-2-[3,4,5-trihydroxy-6-(hydroxymethyl)oxan-2-yl]oxy-3,4-dihydro-2H-pyran-5-carboxylic acid\n",
      "Added cleaned compound name: 4-tert-butyl-N-[6-(2-hydroxyethoxy)-5-(2-methoxyphenoxy)-2-pyrimidin-2-ylpyrimidin-4-yl]benzenesulfonamide\n",
      "Added cleaned compound name: (E)-5-(4-methoxy-5-methyl-6-oxopyran-2-yl)-3-methylhex-4-enoic acid [IIN-based on: CCMSLIB00000845558]\n",
      "Added cleaned compound name: Cyclopenta[c]pyran-4-carboxylic acid, 1,4a,5,7a-tetrahydro-7-(hydroxymethyl)-1-[[6-O-[(2E)-3-(4-hydroxyphenyl)-1-oxo-2-propen-1-yl]-beta-D-glucopyranosyl]oxy]-, methyl ester\n",
      "Added cleaned compound name: (2S)-2-[[1-[(2S)-2-[(4-methylphenyl)sulfonylamino]-4-methylsulfanylbutanoyl]piperidine-4-carbonyl]amino]-3-phenylpropanoic acid\n",
      "Added cleaned compound name: 2-Propenoic acid, 3-[5-(acetyloxy)-9-(3-furanyl)dodecahydro-4-hydroxy-3,3,5a,9a-tetramethyl-7-oxofuro[3',4':5,6]naphth[2,1-c]oxireno[d]pyran-11b(1H)-yl]-, methyl ester, (2E)-\n",
      "Added cleaned compound name: w/o MS2: Narcissin\n",
      "Added cleaned compound name: [2-[(2S,3R,4S,5S,6R)-3,4,5-trihydroxy-6-(hydroxymethyl)oxan-2-yl]oxyphenyl]methyl 2-hydroxy-6-[(2S,3R,4S,5S,6R)-3,4,5-trihydroxy-6-(hydroxymethyl)oxan-2-yl]oxybenzoate\n",
      "Added cleaned compound name: Carda-4,20(22)-dienolide, 6-(acetyloxy)-3-[(6-deoxy-3-O-methyl-beta-D-galactopyranosyl)oxy]-8,14-dihydroxy-, (3beta,8xi,9xi)-\n",
      "Added cleaned compound name: S4:17(P3:15/F1:2)\n",
      "Removed formula C37H74N2O6P1 from compound name.\n",
      "Added formula C37H74N2O6P1 to metadata.\n",
      "Added cleaned compound name: w/o MS2: 1,2-Dipalmitoyl-sn-glycero-3-phospho-(1'-rac-glycerol)\n",
      "Added cleaned compound name: SM(d18:1/18:0)\n",
      "Added cleaned compound name: Triacylglycerol 12:0-12:0-18:1\n",
      "Added cleaned compound name: w/o MS2: 1-Stearoyl-2-linoleoyl-sn-glycero-3-phosphoethanolamine\n",
      "Removed formula C42H85N1O7P1 from compound name.\n",
      "Added formula C42H85N1O7P1 to metadata.\n",
      "Added cleaned compound name: w/o MS2: 1,2-Dihexadecanoyl-sn-glycero-3-phosphocholine\n",
      "Removed formula C42H81N1O8P1 from compound name.\n",
      "Added formula C42H81N1O8P1 to metadata.\n",
      "Added cleaned compound name: 1-Hexadecanoyl-2-octadecadienoyl-sn-glycero-3-phosphocholine\n",
      "Added cleaned compound name: 1-Hexadecanoyl-2-octadecadienoyl-sn-glycero-3-phosphocholine\n",
      "Removed formula C43H88N2O6P1 from compound name.\n",
      "Added formula C43H88N2O6P1 to metadata.\n",
      "Removed formula C42H83N1O8P1 from compound name.\n",
      "Added formula C42H83N1O8P1 to metadata.\n",
      "Added cleaned compound name: 1-Oleoyl-2-palmitoyl-sn-glycero-3-phosphocholine\n",
      "Added cleaned compound name: 1-Oleoyl-2-palmitoyl-sn-glycero-3-phosphocholine\n",
      "Added cleaned compound name: 1-Hexadecanoyl-2-octadecanoyl-sn-glycero-3-phosphocholine\n",
      "Added cleaned compound name: w/o MS2: 1-Hexadecanoyl-2-octadecadienoyl-sn-glycero-3-phosphocholine  [IIN-based on: CCMSLIB00003140150]\n",
      "Added cleaned compound name: Quercetin-dihexoside-rhamnoside-isomer\n",
      "Added cleaned compound name: 1,20-Dihydroxy-26-oxo-22,26-epoxyergosta-5,24-dien-3-yl 6-O-hexopyranosylhexopyranoside\n",
      "Added cleaned compound name: \n",
      "Added cleaned compound name: Arachidonoylthio-PC\n",
      "Added cleaned compound name: Arachidonoylthio-PC\n",
      "Added cleaned compound name: 2-[5-[2-[2-[5-[2-[2-[5-[2-[2-[5-(2-hydroxybutyl)oxolan-2-yl]propanoyloxy]propyl]oxolan-2-yl]propanoyloxy]propyl]oxolan-2-yl]propanoyloxy]propyl]oxolan-2-yl]propanoic acid\n",
      "Added cleaned compound name: 1-Octadecanoyl-2-octadecenoyl-sn-glycero-3-phosphocholine\n",
      "Added cleaned compound name: Ergosta-5,24-dien-26-one, 22,26-epoxy-3-[(6-O-hexopyranosylhexopyranosyl)oxy]-1-hydroxy-\n",
      "Added cleaned compound name: [(9R,10R)-10-acetyloxy-8,8-dimethyl-2-oxo-9,10-dihydropyrano[2,3-f]chromen-9-yl] 2-methylbutanoate [IIN-based on: CCMSLIB00000848748]\n",
      "Added cleaned compound name: Ergosta-5,24-dien-26-one, 22,26-epoxy-3-[(6-O-hexopyranosylhexopyranosyl)oxy]-1,28-dihydroxy-\n",
      "Added cleaned compound name: 2-[5-[2-[2-[5-[2-[2-[5-[2-[2-[5-(2-hydroxybutyl)oxolan-2-yl]propanoyloxy]propyl]oxolan-2-yl]propanoyloxy]propyl]oxolan-2-yl]propanoyloxy]propyl]oxolan-2-yl]propanoic acid\n",
      "Added cleaned compound name: 2-[5-[2-[2-[5-[2-[2-[5-[2-[2-[5-(2-hydroxybutyl)oxolan-2-yl]propanoyloxy]propyl]oxolan-2-yl]propanoyloxy]propyl]oxolan-2-yl]propanoyloxy]propyl]oxolan-2-yl]propanoic acid\n",
      "Added cleaned compound name: 2-[5-[2-[2-[5-[2-[2-[5-[2-[2-[5-(2-hydroxybutyl)oxolan-2-yl]propanoyloxy]propyl]oxolan-2-yl]propanoyloxy]propyl]oxolan-2-yl]propanoyloxy]propyl]oxolan-2-yl]propanoic acid\n",
      "Added cleaned compound name: Licoricesaponin H2\n",
      "Added cleaned compound name: w/o MS2: 1-Palmitoyl-2-docosahexaenoyl-sn-glycero-3-phosphocholine  [IIN-based on: CCMSLIB00003139425]\n",
      "Added cleaned compound name: w/o MS2: 1-Palmitoyl-2-docosahexaenoyl-sn-glycero-3-phosphocholine  [IIN-based on: CCMSLIB00003139425]\n",
      "Added cleaned compound name: (1aS,2S,6S,6aS)-6-({6-Deoxy-3-O-(beta-D-glucopyranosyl)-4-O-[(2E)-3-(4-methoxyphenyl)-2-propenoyl]-alpha-L-mannopyranosyl}oxy)-1a-(hydroxymethyl)-1a,1b,2,5a,6,6a-hexahydrooxireno[4,5]cyclopenta[1,2-c]pyran-2-yl beta-D-glucopyranoside\n",
      "Added cleaned compound name: 2H-Oxireno[1,10a]phenanthro[3,2-b]furan-10(11bH)-one, 5,7-bis(acetyloxy)-3,3a,4,5,6,7,7a,7b,8,8a-decahydro-4,4,7a,11-tetramethyl-, (1aS,3aR,5S,7S,7aR,7bS,8aR,11bR)- [IIN-based on: CCMSLIB00000853048]\n",
      "Added cleaned compound name: 2H-Oxireno[1,10a]phenanthro[3,2-b]furan-10(11bH)-one, 5,7-bis(acetyloxy)-3,3a,4,5,6,7,7a,7b,8,8a-decahydro-4,4,7a,11-tetramethyl-, (1aS,3aR,5S,7S,7aR,7bS,8aR,11bR)- [IIN-based on: CCMSLIB00000853048]\n",
      "Removed adduct [M+H]+; from compound name.\n",
      "Added adduct [M+H]+; to metadata.\n",
      "Added cleaned compound name: w/o MS2:N-Dimethyl-Lysine-CoA; (Acyl-CoA)\n",
      "Removed adduct [M+H]+; from compound name.\n",
      "Added adduct [M+H]+; to metadata.\n",
      "Added cleaned compound name: w/o MS2:1(R)-1-Acetamido-2-(3-Carboxyphenyl)Ethyl Boronic Acid-CoA; (Acyl-CoA)\n"
     ]
    }
   ],
   "source": [
    "query_spectra_n = [filtering.remove_peaks_around_precursor_mz\n",
    "                 (filtering.normalize_intensities(\n",
    "                     filtering.default_filters(spec)))\n",
    "                 for spec in df_f_n_spectra]\n",
    "\n",
    "\"\"\"\n",
    "reference_spectra = [filtering.remove_peaks_around_precursor_mz\n",
    "                 (filtering.normalize_intensities(\n",
    "                     filtering.default_filters(spec)))\n",
    "                     for spec in e_d_match]\n",
    "\"\"\"\n",
    "reference_spectra_n = e_d_match_n # as this is alredy normalized and cleaned.\n",
    "\n",
    "####################### Positive mode ##############\n",
    "\n",
    "\n",
    "query_spectra_p = [filtering.remove_peaks_around_precursor_mz\n",
    "                 (filtering.normalize_intensities(\n",
    "                     filtering.default_filters(spec)))\n",
    "                 for spec in df_f_p_spectra]\n",
    "\n",
    "reference_spectra_p = e_d_match_p # as this is alredy normalized and cleaned.\n"
   ]
  },
  {
   "cell_type": "markdown",
   "id": "7c0b7a58",
   "metadata": {},
   "source": [
    "## Spectra Comparision"
   ]
  },
  {
   "cell_type": "code",
   "execution_count": 36,
   "id": "c76dfcb6",
   "metadata": {
    "ExecuteTime": {
     "end_time": "2023-01-06T08:19:47.697318Z",
     "start_time": "2023-01-06T08:19:39.330616Z"
    }
   },
   "outputs": [
    {
     "data": {
      "application/vnd.jupyter.widget-view+json": {
       "model_id": "094492b9f7764150bab2c499860a62de",
       "version_major": 2,
       "version_minor": 0
      },
      "text/plain": [
       "  0%|          | 0/999 [00:00<?, ?it/s]"
      ]
     },
     "metadata": {},
     "output_type": "display_data"
    },
    {
     "data": {
      "application/vnd.jupyter.widget-view+json": {
       "model_id": "880ac74e86d04e20b1733bbb6b3fcb02",
       "version_major": 2,
       "version_minor": 0
      },
      "text/plain": [
       "  0%|          | 0/1472 [00:00<?, ?it/s]"
      ]
     },
     "metadata": {},
     "output_type": "display_data"
    },
    {
     "name": "stdout",
     "output_type": "stream",
     "text": [
      "(7223, 4) (14417, 4)\n"
     ]
    }
   ],
   "source": [
    "greedy_scores_n = []\n",
    "for qs in tqdm(query_spectra_n):\n",
    "    for rs in reference_spectra_n:\n",
    "        if abs(qs.metadata['precursor_mz'] - rs.metadata['precursor_mz']) > 2:        \n",
    "            continue\n",
    "        score = cosine(qs, rs, 0.2, False)\n",
    "        greedy_scores_n.append((qs.metadata.get('compound_name') + '_' + str(len(qs.peaks.mz)), qs, score[0], len(score[1])))\n",
    "\n",
    "greedy_scores_n = pd.DataFrame(greedy_scores_n, columns = ['query_id','query_spec','score','number_matching_fragments'])\n",
    "\n",
    "greedy_scores_p = []\n",
    "for qs in tqdm(query_spectra_p):\n",
    "    for rs in reference_spectra_p:\n",
    "        if abs(qs.metadata['precursor_mz'] - rs.metadata['precursor_mz']) > 2:        \n",
    "            continue\n",
    "        score = cosine(qs, rs, 0.2, False)\n",
    "        greedy_scores_p.append((qs.metadata.get('compound_name') + '_' + str(len(qs.peaks.mz)), qs, score[0], len(score[1])))\n",
    "\n",
    "greedy_scores_p = pd.DataFrame(greedy_scores_p, columns = ['query_id','query_spec','score','number_matching_fragments'])\n",
    "\n",
    "print(greedy_scores_n.shape, greedy_scores_p.shape)"
   ]
  },
  {
   "cell_type": "code",
   "execution_count": 37,
   "id": "e53fa1a9",
   "metadata": {
    "ExecuteTime": {
     "end_time": "2023-01-06T08:19:47.728494Z",
     "start_time": "2023-01-06T08:19:47.699155Z"
    }
   },
   "outputs": [
    {
     "data": {
      "text/html": [
       "<div>\n",
       "<style scoped>\n",
       "    .dataframe tbody tr th:only-of-type {\n",
       "        vertical-align: middle;\n",
       "    }\n",
       "\n",
       "    .dataframe tbody tr th {\n",
       "        vertical-align: top;\n",
       "    }\n",
       "\n",
       "    .dataframe thead th {\n",
       "        text-align: right;\n",
       "    }\n",
       "</style>\n",
       "<table border=\"1\" class=\"dataframe\">\n",
       "  <thead>\n",
       "    <tr style=\"text-align: right;\">\n",
       "      <th></th>\n",
       "      <th>query_id</th>\n",
       "      <th>query_spec</th>\n",
       "      <th>score</th>\n",
       "      <th>number_matching_fragments</th>\n",
       "    </tr>\n",
       "  </thead>\n",
       "  <tbody>\n",
       "    <tr>\n",
       "      <th>0</th>\n",
       "      <td>Unknown_15</td>\n",
       "      <td>&lt;matchms.Spectrum.Spectrum object at 0x0000022...</td>\n",
       "      <td>0.512678</td>\n",
       "      <td>5</td>\n",
       "    </tr>\n",
       "    <tr>\n",
       "      <th>1</th>\n",
       "      <td>Unknown_18</td>\n",
       "      <td>&lt;matchms.Spectrum.Spectrum object at 0x0000022...</td>\n",
       "      <td>0.122400</td>\n",
       "      <td>2</td>\n",
       "    </tr>\n",
       "  </tbody>\n",
       "</table>\n",
       "</div>"
      ],
      "text/plain": [
       "     query_id                                         query_spec     score  \\\n",
       "0  Unknown_15  <matchms.Spectrum.Spectrum object at 0x0000022...  0.512678   \n",
       "1  Unknown_18  <matchms.Spectrum.Spectrum object at 0x0000022...  0.122400   \n",
       "\n",
       "   number_matching_fragments  \n",
       "0                          5  \n",
       "1                          2  "
      ]
     },
     "execution_count": 37,
     "metadata": {},
     "output_type": "execute_result"
    }
   ],
   "source": [
    "greedy_scores_n.head(2)"
   ]
  },
  {
   "cell_type": "code",
   "execution_count": 38,
   "id": "8d56f3ab",
   "metadata": {
    "ExecuteTime": {
     "end_time": "2023-01-06T08:19:48.863644Z",
     "start_time": "2023-01-06T08:19:48.848221Z"
    }
   },
   "outputs": [
    {
     "data": {
      "text/html": [
       "<div>\n",
       "<style scoped>\n",
       "    .dataframe tbody tr th:only-of-type {\n",
       "        vertical-align: middle;\n",
       "    }\n",
       "\n",
       "    .dataframe tbody tr th {\n",
       "        vertical-align: top;\n",
       "    }\n",
       "\n",
       "    .dataframe thead th {\n",
       "        text-align: right;\n",
       "    }\n",
       "</style>\n",
       "<table border=\"1\" class=\"dataframe\">\n",
       "  <thead>\n",
       "    <tr style=\"text-align: right;\">\n",
       "      <th></th>\n",
       "      <th>query_id</th>\n",
       "      <th>query_spec</th>\n",
       "      <th>score</th>\n",
       "      <th>number_matching_fragments</th>\n",
       "    </tr>\n",
       "  </thead>\n",
       "  <tbody>\n",
       "    <tr>\n",
       "      <th>0</th>\n",
       "      <td>Cyclohexylamine_6</td>\n",
       "      <td>&lt;matchms.Spectrum.Spectrum object at 0x0000022...</td>\n",
       "      <td>1.000000</td>\n",
       "      <td>6</td>\n",
       "    </tr>\n",
       "    <tr>\n",
       "      <th>1</th>\n",
       "      <td>Cyclohexylamine_6</td>\n",
       "      <td>&lt;matchms.Spectrum.Spectrum object at 0x0000022...</td>\n",
       "      <td>0.463114</td>\n",
       "      <td>2</td>\n",
       "    </tr>\n",
       "  </tbody>\n",
       "</table>\n",
       "</div>"
      ],
      "text/plain": [
       "            query_id                                         query_spec  \\\n",
       "0  Cyclohexylamine_6  <matchms.Spectrum.Spectrum object at 0x0000022...   \n",
       "1  Cyclohexylamine_6  <matchms.Spectrum.Spectrum object at 0x0000022...   \n",
       "\n",
       "      score  number_matching_fragments  \n",
       "0  1.000000                          6  \n",
       "1  0.463114                          2  "
      ]
     },
     "execution_count": 38,
     "metadata": {},
     "output_type": "execute_result"
    }
   ],
   "source": [
    "greedy_scores_p.head(2)"
   ]
  },
  {
   "cell_type": "code",
   "execution_count": 39,
   "id": "ed95fe53",
   "metadata": {
    "ExecuteTime": {
     "end_time": "2023-01-06T08:19:49.440822Z",
     "start_time": "2023-01-06T08:19:49.421136Z"
    }
   },
   "outputs": [],
   "source": [
    "selection_greedy_n = greedy_scores_n[(greedy_scores_n.score < 0.7) & (\n",
    "    greedy_scores_n.number_matching_fragments < 5)].drop_duplicates(subset='query_id')\n",
    "\n",
    "selection_greedy_p = greedy_scores_p[(greedy_scores_p.score < 0.7) & (\n",
    "    greedy_scores_p.number_matching_fragments < 5)].drop_duplicates(subset='query_id')"
   ]
  },
  {
   "cell_type": "code",
   "execution_count": 40,
   "id": "2228844f",
   "metadata": {
    "ExecuteTime": {
     "end_time": "2023-01-06T08:19:50.485807Z",
     "start_time": "2023-01-06T08:19:50.052501Z"
    }
   },
   "outputs": [
    {
     "data": {
      "image/png": "[encoded data removed]",
      "text/plain": [
       "<Figure size 432x288 with 1 Axes>"
      ]
     },
     "execution_count": 40,
     "metadata": {},
     "output_type": "execute_result"
    },
    {
     "data": {
      "image/png": "[encoded data removed]",
      "text/plain": [
       "<Figure size 432x288 with 1 Axes>"
      ]
     },
     "metadata": {
      "needs_background": "light"
     },
     "output_type": "display_data"
    }
   ],
   "source": [
    "selection_greedy_n.query_spec.iloc[0].plot()"
   ]
  },
  {
   "cell_type": "code",
   "execution_count": 41,
   "id": "2cee60f4",
   "metadata": {
    "ExecuteTime": {
     "end_time": "2023-01-06T08:19:51.514357Z",
     "start_time": "2023-01-06T08:19:51.075378Z"
    }
   },
   "outputs": [
    {
     "data": {
      "image/png": "[encoded data removed]",
      "text/plain": [
       "<Figure size 432x288 with 1 Axes>"
      ]
     },
     "execution_count": 41,
     "metadata": {},
     "output_type": "execute_result"
    },
    {
     "data": {
      "image/png": "[encoded data removed]",
      "text/plain": [
       "<Figure size 432x288 with 1 Axes>"
      ]
     },
     "metadata": {
      "needs_background": "light"
     },
     "output_type": "display_data"
    }
   ],
   "source": [
    "selection_greedy_p.query_spec.iloc[0].plot()"
   ]
  },
  {
   "cell_type": "markdown",
   "id": "54e43ea9",
   "metadata": {},
   "source": [
    "## output"
   ]
  },
  {
   "cell_type": "code",
   "execution_count": 42,
   "id": "6bffa141",
   "metadata": {
    "ExecuteTime": {
     "end_time": "2023-01-06T08:19:53.900992Z",
     "start_time": "2023-01-06T08:19:53.476187Z"
    }
   },
   "outputs": [
    {
     "name": "stdout",
     "output_type": "stream",
     "text": [
      "555 920\n"
     ]
    }
   ],
   "source": [
    "with open('./MSDIAL_OUTPUT/P2_N/P2_N_biotrnasformant.mgf', \"w\", encoding=\"utf-8\") as f_out:\n",
    "        py_mgf.write(selection_greedy_n.query_spec.apply(to_dict).values, f_out)\n",
    "f_out.close()\n",
    "\n",
    "with open('./MSDIAL_OUTPUT/P2_P/P2_P_biotrnasformant.mgf', \"w\", encoding=\"utf-8\") as f_out:\n",
    "        py_mgf.write(selection_greedy_p.query_spec.apply(to_dict).values, f_out)\n",
    "f_out.close()\n",
    "\n",
    "\n",
    "\n",
    "# P2_output_greedy_less_than 0.7 list\n",
    "e_d_f_match_n = selection_greedy_n.query_spec.to_list()\n",
    "e_d_f_match_p = selection_greedy_p.query_spec.to_list()\n",
    "\n",
    "print(len(e_d_f_match_n), len(e_d_f_match_p))"
   ]
  },
  {
   "cell_type": "code",
   "execution_count": 43,
   "id": "45575734",
   "metadata": {
    "ExecuteTime": {
     "end_time": "2023-01-06T08:19:55.036411Z",
     "start_time": "2023-01-06T08:19:55.029330Z"
    }
   },
   "outputs": [
    {
     "data": {
      "text/plain": [
       "1475"
      ]
     },
     "execution_count": 43,
     "metadata": {},
     "output_type": "execute_result"
    }
   ],
   "source": [
    "# Combined biotransformed spectra\n",
    "g_spectra = e_d_f_match_n + e_d_f_match_p\n",
    "\n",
    "len(g_spectra)"
   ]
  },
  {
   "cell_type": "markdown",
   "id": "b92f3784",
   "metadata": {},
   "source": [
    "# Liver  InSilico Data Analysis\n",
    "[data](https://drive.google.com/drive/folders/1lB8dd3JnUWkn9fk9bD6qKZvrhULPLhOO)\n",
    "\n",
    "This is the in-silico way of biotransformation\n",
    "\n",
    "Data: C:\\Users\\kunda\\OneDrive\\Desktop\\WORK\\Biotransformation"
   ]
  },
  {
   "cell_type": "markdown",
   "id": "4cedc20d",
   "metadata": {},
   "source": [
    "## Preprocess the data as given in the preprocessing step\n",
    "\tOutput: list of smiles which crossponds to the list of compunds from a yyy.\n",
    "\n",
    "STEPS:\n",
    "1. Change the the code name with actual name and run the following commands\n",
    "   grep -i \"P2\"  9000_priority_yyy_chemicals_with_names.txt >P2\n",
    "   grep -i \"P10\" 9000_priority_yyy_chemicals_with_names.txt >P10\n",
    "   grep -i \"P18\" 9000_priority_yyy_chemicals_with_names.txt >P18\n",
    "\n",
    "2. cat P2 P10 P19  > chemicals_from_P2_P10_and_P18.txt\t#Concatenate the files obtained from first step.\n",
    "\n",
    "3. Extract all the lines from chemicals_from_P2_P10_and_P18.txt that contain the smiles informations for the compunds using excel or any other means and save in the chemicals_from_P2_P10_and_P18_with_smiles.txt. \n",
    "\n",
    "4. grep the lines that belongs to P2, P10 and P18 in the chemicals_from_P2_P10_and_P18_with_smiles.txt and save in the P2_with_smiles P10_with_smiles and P18_with_smiles.\n",
    "    grep \"P2\" chemicals_from_P2_P10_and_P18_with_smiles.txt > P2_with_smiles ## Change P2 with actual name in the command and similarly for P10 and P18.\n",
    "\n",
    "5. Remove redundancy from P2_with_smiles, P10_with_smiles and P18_with_smiles and save in the files P2_with_smiles_unique, P10_with_smiles_unique and P18_with_smiles_unique respectively\n",
    "    sort -u P2_with_smiles  >P2_with_smiles_unique \t# similarly for P10 and P18\n",
    "\n",
    "6. Save the list of smiles for the compounds present each yyy in \n",
    "   cut -f11 P2 >P2_unique_smiles_only\t# and so for P10 and P18\n",
    "\n"
   ]
  },
  {
   "cell_type": "markdown",
   "id": "a3d6e195",
   "metadata": {},
   "source": [
    "## Once having a list of smiles Biotransformation study can done with following command:\n",
    "\n",
    "\tjava -jar biotransformer-1.1.5.jar  -k pred -b allHuman -ismi \"CC[C@H](CC[C@@H](C)[C@H]1CC[C@H]2[C@@H]3CC=C4C[C@@H](O)CC[C@]4(C)[C@H]3CC[C@@]21C)C(C)C\" -osdf outfile1 -s 2 -t 0.01 -a\n",
    "\n",
    "\tOutput: output for the biotransformer is an sdf file for example here it is outfile1.sdf\n",
    "\n",
    "  In our study we have 383 compunds from P2, P10 and P18. So we run in a bach and the bash script for that is biotransformer.sh.\n",
    "  So, we have 383 output file as outfile1, outfile2,.... to outfile383.\n",
    "  outfile1 - outfle69 belongs to P2 (outfile55 could not be predicted) So further analysis will be for 68 compound only.\n",
    "  outfile70 - outfile240 belongs to P10 and\n",
    "  outfile241 - outfile383 belongs to P18\n",
    "\n",
    "  \n",
    "## Rename these biotransformed output by giving .sdf extension to them.(This is an extra step as we have not provided the extension in the biotransformation output).\n",
    "\teg. outfile1 outfile.sdf. Command for doing this is\n",
    "\n",
    "\tfor i in outfile*; do mv \"$i\" \"$i\".sdf; done;\n",
    "\n",
    "   Convert these output from biotrnsformer in sdf to smiles with openbabel gui.\n",
    "\n",
    "\tInput : outfile*.sdf\n",
    "\tOutput : outfile*\n",
    "## predict the spectra using the CFM-ID with the command given below and the bash file are give in in each yyy folder.\n",
    "\tcfm-predict '/cfmid/P2/outfile1.txt' 0.001 /trained_models_cfmid4.0/[M-H]-/param_output.log /trained_models_cfmid4.0/[M-H]-/param_config.txt 1 '/cfmid/P2/outfile1'\n",
    "\n",
    "\ta.) The parse the output of the CFM-ID using the the parse_cfmid.py. bash file for parsing are in the corrosponding yyy folder.\n",
    "\n",
    "## convert the .msp file to .mgf file\n",
    "\tfirst concatenate all msp file from a yyy into single file and then use the MSP2MGF v1.3 a tool to convert .msp to .mgf.\n",
    "\n"
   ]
  },
  {
   "cell_type": "markdown",
   "id": "11f1777a",
   "metadata": {},
   "source": [
    "# match biotransformed compund spectra (g) with spectra from cfmid"
   ]
  },
  {
   "cell_type": "markdown",
   "id": "871bd3e4",
   "metadata": {},
   "source": [
    "## read biotransformed spectra as reference to match"
   ]
  },
  {
   "cell_type": "code",
   "execution_count": 44,
   "id": "51688a52",
   "metadata": {
    "ExecuteTime": {
     "end_time": "2023-01-06T08:19:57.445503Z",
     "start_time": "2023-01-06T08:19:57.157290Z"
    }
   },
   "outputs": [],
   "source": [
    "with open(\"C:/Users/kunda/OneDrive/Desktop/WORK/Biotransformation/5_msp_to_mgf/P2/combined/P2_combined.mgf\", \"r\") as fq:\n",
    "    content = fq.read()\n",
    "with open(\"C:/Users/kunda/OneDrive/Desktop/WORK/Biotransformation/5_msp_to_mgf/P2/combined/P2_combined_formated.mgf\", \"w\") as fq:\n",
    "    fq.write(content.replace('#',''))"
   ]
  },
  {
   "cell_type": "code",
   "execution_count": 45,
   "id": "0db56eac",
   "metadata": {
    "ExecuteTime": {
     "end_time": "2023-01-06T08:19:59.457471Z",
     "start_time": "2023-01-06T08:19:57.446718Z"
    }
   },
   "outputs": [
    {
     "data": {
      "application/vnd.jupyter.widget-view+json": {
       "model_id": "154f38d972ea4448a371c8ae2928b235",
       "version_major": 2,
       "version_minor": 0
      },
      "text/plain": [
       "0it [00:00, ?it/s]"
      ]
     },
     "metadata": {},
     "output_type": "display_data"
    },
    {
     "data": {
      "text/plain": [
       "19110"
      ]
     },
     "execution_count": 45,
     "metadata": {},
     "output_type": "execute_result"
    }
   ],
   "source": [
    "bt_spectra = [spec for spec in tqdm(load_from_mgf(\"C:/Users/kunda/OneDrive/Desktop/WORK/Biotransformation/5_msp_to_mgf/P2/combined/P2_combined_formated.mgf\"))]\n",
    "len(bt_spectra)"
   ]
  },
  {
   "cell_type": "code",
   "execution_count": 46,
   "id": "0a0bb5cf",
   "metadata": {
    "ExecuteTime": {
     "end_time": "2023-01-06T08:20:02.384952Z",
     "start_time": "2023-01-06T08:20:02.378805Z"
    }
   },
   "outputs": [
    {
     "data": {
      "text/plain": [
       "{'title': 'CC[C@H](CC[C@@H](C)[C@H]1CC[C@H]2[C@@H]3CC=C4C[C@@H](O)CC[C@]4(C)[C@H]3C(C[C@]12C)O)C(C)C',\n",
       " 'precursormz': '431.388357306583',\n",
       " 'precursor_charge': '1',\n",
       " 'source': 'in-silico',\n",
       " 'spectrum_type': 'MS2',\n",
       " 'source_lib': 'cfmid 4 --> P2_POS',\n",
       " 'smiles': 'CC[C@H](CC[C@@H](C)[C@H]1CC[C@H]2[C@@H]3CC=C4C[C@@H](O)CC[C@]4(C)[C@H]3C(C[C@]12C)O)C(C)C',\n",
       " 'inchikey': 'PGVWHUNZBZBWCK-QZLHUJHHSA-N',\n",
       " 'precursor_type': 'M+H',\n",
       " 'collision_energy': '10'}"
      ]
     },
     "execution_count": 46,
     "metadata": {},
     "output_type": "execute_result"
    }
   ],
   "source": [
    "bt_spectra[0].metadata"
   ]
  },
  {
   "cell_type": "code",
   "execution_count": 47,
   "id": "e7b62b4a",
   "metadata": {
    "ExecuteTime": {
     "end_time": "2023-01-06T08:20:04.219902Z",
     "start_time": "2023-01-06T08:20:03.245503Z"
    }
   },
   "outputs": [
    {
     "data": {
      "text/plain": [
       "19110"
      ]
     },
     "execution_count": 47,
     "metadata": {},
     "output_type": "execute_result"
    }
   ],
   "source": [
    "#format the insilico spectra\n",
    "\n",
    "fomated_bt_spectra =[]\n",
    "for spec in bt_spectra:\n",
    "    metadata = spec.metadata\n",
    "    metadata['compound_name'] = metadata.pop('title')\n",
    "    metadata['precursor_mz'] = metadata.pop('precursormz')\n",
    "    metadata['precursor_type'] = metadata.pop('precursor_type') \n",
    "    fomated_bt_spectra.append(Spectrum(mz=spec.peaks.mz,\n",
    "                            intensities=spec.peaks.mz,\n",
    "                            metadata=metadata))\n",
    "len(fomated_bt_spectra)"
   ]
  },
  {
   "cell_type": "code",
   "execution_count": 48,
   "id": "8bd04c26",
   "metadata": {
    "ExecuteTime": {
     "end_time": "2023-01-06T08:20:04.235219Z",
     "start_time": "2023-01-06T08:20:04.223225Z"
    }
   },
   "outputs": [
    {
     "data": {
      "text/plain": [
       "{'precursor_charge': '1',\n",
       " 'source': 'in-silico',\n",
       " 'spectrum_type': 'MS2',\n",
       " 'source_lib': 'cfmid 4 --> P2_POS',\n",
       " 'smiles': 'CC[C@H](CC[C@@H](C)[C@H]1CC[C@H]2[C@@H]3CC=C4C[C@@H](O)CC[C@]4(C)[C@H]3C(C[C@]12C)O)C(C)C',\n",
       " 'inchikey': 'PGVWHUNZBZBWCK-QZLHUJHHSA-N',\n",
       " 'collision_energy': '10',\n",
       " 'compound_name': 'CC[C@H](CC[C@@H](C)[C@H]1CC[C@H]2[C@@H]3CC=C4C[C@@H](O)CC[C@]4(C)[C@H]3C(C[C@]12C)O)C(C)C',\n",
       " 'precursor_mz': '431.388357306583',\n",
       " 'precursor_type': 'M+H'}"
      ]
     },
     "execution_count": 48,
     "metadata": {},
     "output_type": "execute_result"
    }
   ],
   "source": [
    "fomated_bt_spectra[0].metadata"
   ]
  },
  {
   "cell_type": "code",
   "execution_count": 49,
   "id": "ac7cfaa2",
   "metadata": {
    "ExecuteTime": {
     "end_time": "2023-01-06T08:20:05.524756Z",
     "start_time": "2023-01-06T08:20:05.107376Z"
    }
   },
   "outputs": [
    {
     "data": {
      "image/png": "[encoded data removed]",
      "text/plain": [
       "<Figure size 432x288 with 1 Axes>"
      ]
     },
     "execution_count": 49,
     "metadata": {},
     "output_type": "execute_result"
    },
    {
     "data": {
      "image/png": "[encoded data removed]",
      "text/plain": [
       "<Figure size 432x288 with 1 Axes>"
      ]
     },
     "metadata": {
      "needs_background": "light"
     },
     "output_type": "display_data"
    }
   ],
   "source": [
    "bt_spectra[0].plot()\n"
   ]
  },
  {
   "cell_type": "markdown",
   "id": "7cb36dad",
   "metadata": {},
   "source": [
    "## Spectra data normalisation"
   ]
  },
  {
   "cell_type": "code",
   "execution_count": 50,
   "id": "8b26c8be",
   "metadata": {
    "ExecuteTime": {
     "end_time": "2023-01-06T08:20:21.785499Z",
     "start_time": "2023-01-06T08:20:07.407408Z"
    }
   },
   "outputs": [
    {
     "name": "stdout",
     "output_type": "stream",
     "text": [
      "Removed formula N1C2CCC1CC(O)C2 from compound name.\n",
      "Added formula N1C2CCC1CC(O)C2 to metadata.\n",
      "Removed formula N1C2CCC1CC(O)C2 from compound name.\n",
      "Added formula N1C2CCC1CC(O)C2 to metadata.\n",
      "Removed formula N1C2CCC1CC(O)C2 from compound name.\n",
      "Added formula N1C2CCC1CC(O)C2 to metadata.\n",
      "Removed formula N1C2CCC1CC(O)(C2)O from compound name.\n",
      "Added formula N1C2CCC1CC(O)(C2)O to metadata.\n",
      "Removed formula N1C2CCC1CC(O)(C2)O from compound name.\n",
      "Added formula N1C2CCC1CC(O)(C2)O to metadata.\n",
      "Removed formula N1C2CCC1CC(O)(C2)O from compound name.\n",
      "Added formula N1C2CCC1CC(O)(C2)O to metadata.\n",
      "Removed formula CN1C2CCC1CC(O)(C2)O from compound name.\n",
      "Added formula CN1C2CCC1CC(O)(C2)O to metadata.\n",
      "Removed formula CN1C2CCC1CC(O)(C2)O from compound name.\n",
      "Added formula CN1C2CCC1CC(O)(C2)O to metadata.\n",
      "Removed formula CN1C2CCC1CC(O)(C2)O from compound name.\n",
      "Added formula CN1C2CCC1CC(O)(C2)O to metadata.\n",
      "Removed formula CN1C2CCC1CC(O)C2 from compound name.\n",
      "Added formula CN1C2CCC1CC(O)C2 to metadata.\n",
      "Removed formula CN1C2CCC1CC(O)C2 from compound name.\n",
      "Added formula CN1C2CCC1CC(O)C2 to metadata.\n",
      "Removed formula CN1C2CCC1CC(O)C2 from compound name.\n",
      "Added formula CN1C2CCC1CC(O)C2 to metadata.\n",
      "Removed formula CN1C2CCC1C(C(O)C2)O from compound name.\n",
      "Added formula CN1C2CCC1C(C(O)C2)O to metadata.\n",
      "Removed formula CN1C2CCC1C(C(O)C2)O from compound name.\n",
      "Added formula CN1C2CCC1C(C(O)C2)O to metadata.\n",
      "Removed formula CN1C2CCC1C(C(O)C2)O from compound name.\n",
      "Added formula CN1C2CCC1C(C(O)C2)O to metadata.\n",
      "Removed formula CN1C2C(CC1CC(O)C2)O from compound name.\n",
      "Added formula CN1C2C(CC1CC(O)C2)O to metadata.\n",
      "Removed formula CN1C2C(CC1CC(O)C2)O from compound name.\n",
      "Added formula CN1C2C(CC1CC(O)C2)O to metadata.\n",
      "Removed formula CN1C2C(CC1CC(O)C2)O from compound name.\n",
      "Added formula CN1C2C(CC1CC(O)C2)O to metadata.\n",
      "Removed formula CN1C2(CCC1CC(O)C2)O from compound name.\n",
      "Added formula CN1C2(CCC1CC(O)C2)O to metadata.\n",
      "Removed formula CN1C2(CCC1CC(O)C2)O from compound name.\n",
      "Added formula CN1C2(CCC1CC(O)C2)O to metadata.\n",
      "Removed formula CN1C2(CCC1CC(O)C2)O from compound name.\n",
      "Added formula CN1C2(CCC1CC(O)C2)O to metadata.\n",
      "Removed formula N1C2CCC1CC(O)C2 from compound name.\n",
      "Added formula N1C2CCC1CC(O)C2 to metadata.\n",
      "Removed formula N1C2CCC1CC(O)C2 from compound name.\n",
      "Added formula N1C2CCC1CC(O)C2 to metadata.\n",
      "Removed formula N1C2CCC1CC(O)C2 from compound name.\n",
      "Added formula N1C2CCC1CC(O)C2 to metadata.\n",
      "Removed formula N1C2CCC1CC(O)(C2)O from compound name.\n",
      "Added formula N1C2CCC1CC(O)(C2)O to metadata.\n",
      "Removed formula N1C2CCC1CC(O)(C2)O from compound name.\n",
      "Added formula N1C2CCC1CC(O)(C2)O to metadata.\n",
      "Removed formula N1C2CCC1CC(O)(C2)O from compound name.\n",
      "Added formula N1C2CCC1CC(O)(C2)O to metadata.\n",
      "Removed formula CN1C2CCC1CC(O)(C2)O from compound name.\n",
      "Added formula CN1C2CCC1CC(O)(C2)O to metadata.\n",
      "Removed formula CN1C2CCC1CC(O)(C2)O from compound name.\n",
      "Added formula CN1C2CCC1CC(O)(C2)O to metadata.\n",
      "Removed formula CN1C2CCC1CC(O)(C2)O from compound name.\n",
      "Added formula CN1C2CCC1CC(O)(C2)O to metadata.\n",
      "Removed formula CN1C2CCC1CC(O)C2 from compound name.\n",
      "Added formula CN1C2CCC1CC(O)C2 to metadata.\n",
      "Removed formula CN1C2CCC1CC(O)C2 from compound name.\n",
      "Added formula CN1C2CCC1CC(O)C2 to metadata.\n",
      "Removed formula CN1C2CCC1CC(O)C2 from compound name.\n",
      "Added formula CN1C2CCC1CC(O)C2 to metadata.\n",
      "Removed formula CN1C2CCC1C(C(O)C2)O from compound name.\n",
      "Added formula CN1C2CCC1C(C(O)C2)O to metadata.\n",
      "Removed formula CN1C2CCC1C(C(O)C2)O from compound name.\n",
      "Added formula CN1C2CCC1C(C(O)C2)O to metadata.\n",
      "Removed formula CN1C2CCC1C(C(O)C2)O from compound name.\n",
      "Added formula CN1C2CCC1C(C(O)C2)O to metadata.\n",
      "Removed formula CN1C2C(CC1CC(O)C2)O from compound name.\n",
      "Added formula CN1C2C(CC1CC(O)C2)O to metadata.\n",
      "Removed formula CN1C2C(CC1CC(O)C2)O from compound name.\n",
      "Added formula CN1C2C(CC1CC(O)C2)O to metadata.\n",
      "Removed formula CN1C2C(CC1CC(O)C2)O from compound name.\n",
      "Added formula CN1C2C(CC1CC(O)C2)O to metadata.\n",
      "Removed formula CN1C2(CCC1CC(O)C2)O from compound name.\n",
      "Added formula CN1C2(CCC1CC(O)C2)O to metadata.\n",
      "Removed formula CN1C2(CCC1CC(O)C2)O from compound name.\n",
      "Added formula CN1C2(CCC1CC(O)C2)O to metadata.\n",
      "Removed formula CN1C2(CCC1CC(O)C2)O from compound name.\n",
      "Added formula CN1C2(CCC1CC(O)C2)O to metadata.\n",
      "Removed formula C(C1C(C(C(C(O1)O)O)O)O)O from compound name.\n",
      "Added formula C(C1C(C(C(C(O1)O)O)O)O)O to metadata.\n",
      "Removed formula C(C1C(C(C(C(O1)O)O)O)O)O from compound name.\n",
      "Added formula C(C1C(C(C(C(O1)O)O)O)O)O to metadata.\n",
      "Removed formula C(C1C(C(C(C(O1)O)O)O)O)O from compound name.\n",
      "Added formula C(C1C(C(C(C(O1)O)O)O)O)O to metadata.\n",
      "Removed formula C(C1C(C(C(C(O1)O)O)O)O)O from compound name.\n",
      "Added formula C(C1C(C(C(C(O1)O)O)O)O)O to metadata.\n",
      "Removed formula C(C1C(C(C(C(O1)O)O)O)O)O from compound name.\n",
      "Added formula C(C1C(C(C(C(O1)O)O)O)O)O to metadata.\n",
      "Removed formula C(C1C(C(C(C(O1)O)O)O)O)O from compound name.\n",
      "Added formula C(C1C(C(C(C(O1)O)O)O)O)O to metadata.\n"
     ]
    },
    {
     "data": {
      "text/plain": [
       "19110"
      ]
     },
     "execution_count": 50,
     "metadata": {},
     "output_type": "execute_result"
    }
   ],
   "source": [
    "#biotransformed spectra as query\n",
    "reference_spectra_bt = [filtering.remove_peaks_around_precursor_mz\n",
    "                 (filtering.normalize_intensities(\n",
    "                     filtering.default_filters(spec)))\n",
    "                     for spec in fomated_bt_spectra]\n",
    "len(reference_spectra_bt)"
   ]
  },
  {
   "cell_type": "markdown",
   "id": "0898ee5d",
   "metadata": {},
   "source": [
    "## Spectra Comparision"
   ]
  },
  {
   "cell_type": "code",
   "execution_count": 51,
   "id": "9233c554",
   "metadata": {
    "ExecuteTime": {
     "end_time": "2023-01-06T08:20:23.839070Z",
     "start_time": "2023-01-06T08:20:23.827969Z"
    }
   },
   "outputs": [],
   "source": [
    "query_spectra = g_spectra"
   ]
  },
  {
   "cell_type": "code",
   "execution_count": 52,
   "id": "82c31687",
   "metadata": {
    "ExecuteTime": {
     "end_time": "2023-01-06T08:21:32.714679Z",
     "start_time": "2023-01-06T08:20:24.737061Z"
    }
   },
   "outputs": [
    {
     "data": {
      "application/vnd.jupyter.widget-view+json": {
       "model_id": "dfb7ce54862248b9b03b3182a94a5156",
       "version_major": 2,
       "version_minor": 0
      },
      "text/plain": [
       "  0%|          | 0/1475 [00:00<?, ?it/s]"
      ]
     },
     "metadata": {},
     "output_type": "display_data"
    }
   ],
   "source": [
    "greedy_scores = []\n",
    "for qs in tqdm(query_spectra):\n",
    "    for rs in reference_spectra_bt:\n",
    "        if abs(qs.metadata['precursor_mz'] - rs.metadata['precursor_mz']) > 2:        \n",
    "#        if abs(rs.metadata['precursor_mz'] - qs.metadata['precursor_mz']) > 2:\n",
    "            continue\n",
    "        score = cosine(qs, rs, 0.2, False)\n",
    "        #greedy_scores.append((rs.metadata.get('title') + '_' + str(len(rs.peaks.mz)), rs, score[0], len(score[1])))\n",
    "        greedy_scores.append((qs.metadata.get('compound_name') + '_' + str(len(qs.peaks.mz)), qs, score[0], len(score[1])))"
   ]
  },
  {
   "cell_type": "code",
   "execution_count": 53,
   "id": "85c954c2",
   "metadata": {
    "ExecuteTime": {
     "end_time": "2023-01-06T08:26:10.920616Z",
     "start_time": "2023-01-06T08:26:10.840083Z"
    }
   },
   "outputs": [
    {
     "data": {
      "text/plain": [
       "(133506, 4)"
      ]
     },
     "execution_count": 53,
     "metadata": {},
     "output_type": "execute_result"
    }
   ],
   "source": [
    "greedy_scores = pd.DataFrame(greedy_scores, columns = ['query_id','query_spec','score','number_matching_fragments'])\n",
    "greedy_scores.shape"
   ]
  },
  {
   "cell_type": "code",
   "execution_count": 54,
   "id": "ced006a3",
   "metadata": {
    "ExecuteTime": {
     "end_time": "2023-01-06T08:26:11.230075Z",
     "start_time": "2023-01-06T08:26:11.209426Z"
    }
   },
   "outputs": [
    {
     "data": {
      "text/html": [
       "<div>\n",
       "<style scoped>\n",
       "    .dataframe tbody tr th:only-of-type {\n",
       "        vertical-align: middle;\n",
       "    }\n",
       "\n",
       "    .dataframe tbody tr th {\n",
       "        vertical-align: top;\n",
       "    }\n",
       "\n",
       "    .dataframe thead th {\n",
       "        text-align: right;\n",
       "    }\n",
       "</style>\n",
       "<table border=\"1\" class=\"dataframe\">\n",
       "  <thead>\n",
       "    <tr style=\"text-align: right;\">\n",
       "      <th></th>\n",
       "      <th>query_id</th>\n",
       "      <th>query_spec</th>\n",
       "      <th>score</th>\n",
       "      <th>number_matching_fragments</th>\n",
       "    </tr>\n",
       "  </thead>\n",
       "  <tbody>\n",
       "    <tr>\n",
       "      <th>0</th>\n",
       "      <td>Unknown_18</td>\n",
       "      <td>&lt;matchms.Spectrum.Spectrum object at 0x0000022...</td>\n",
       "      <td>0.052871</td>\n",
       "      <td>1</td>\n",
       "    </tr>\n",
       "    <tr>\n",
       "      <th>1</th>\n",
       "      <td>Unknown_18</td>\n",
       "      <td>&lt;matchms.Spectrum.Spectrum object at 0x0000022...</td>\n",
       "      <td>0.045163</td>\n",
       "      <td>1</td>\n",
       "    </tr>\n",
       "  </tbody>\n",
       "</table>\n",
       "</div>"
      ],
      "text/plain": [
       "     query_id                                         query_spec     score  \\\n",
       "0  Unknown_18  <matchms.Spectrum.Spectrum object at 0x0000022...  0.052871   \n",
       "1  Unknown_18  <matchms.Spectrum.Spectrum object at 0x0000022...  0.045163   \n",
       "\n",
       "   number_matching_fragments  \n",
       "0                          1  \n",
       "1                          1  "
      ]
     },
     "execution_count": 54,
     "metadata": {},
     "output_type": "execute_result"
    }
   ],
   "source": [
    "greedy_scores.head(2)"
   ]
  },
  {
   "cell_type": "markdown",
   "id": "75c61afb",
   "metadata": {},
   "source": [
    "## output 1"
   ]
  },
  {
   "cell_type": "code",
   "execution_count": 55,
   "id": "d12b93d1",
   "metadata": {
    "ExecuteTime": {
     "end_time": "2023-01-06T08:26:12.553851Z",
     "start_time": "2023-01-06T08:26:12.532029Z"
    }
   },
   "outputs": [
    {
     "data": {
      "text/plain": [
       "32"
      ]
     },
     "execution_count": 55,
     "metadata": {},
     "output_type": "execute_result"
    }
   ],
   "source": [
    "selection_greedy = greedy_scores[(greedy_scores.score > 0.7) & (\n",
    "    greedy_scores.number_matching_fragments > 0)].drop_duplicates(subset='query_id')\n",
    "len(selection_greedy)"
   ]
  },
  {
   "cell_type": "code",
   "execution_count": 56,
   "id": "d56cfa98",
   "metadata": {
    "ExecuteTime": {
     "end_time": "2023-01-06T08:26:14.143221Z",
     "start_time": "2023-01-06T08:26:14.118293Z"
    }
   },
   "outputs": [
    {
     "data": {
      "text/plain": [
       "32"
      ]
     },
     "execution_count": 56,
     "metadata": {},
     "output_type": "execute_result"
    }
   ],
   "source": [
    "with open('./MSDIAL_OUTPUT/P2_N/True_identified_biotransformed_combined_pn.mgf', \"w\", encoding=\"utf-8\") as f_out:\n",
    "        py_mgf.write(selection_greedy.query_spec.apply(to_dict).values, f_out)\n",
    "f_out.close()\n",
    "\n",
    "# True identified biotransformed spectra\n",
    "true_iden_biot_spectra = selection_greedy.query_spec.to_list()\n",
    "len(true_iden_biot_spectra)"
   ]
  },
  {
   "cell_type": "markdown",
   "id": "94f7d68c",
   "metadata": {},
   "source": [
    "## output 2"
   ]
  },
  {
   "cell_type": "code",
   "execution_count": 57,
   "id": "6c3e58d2",
   "metadata": {
    "ExecuteTime": {
     "end_time": "2023-01-06T08:26:16.927401Z",
     "start_time": "2023-01-06T08:26:16.854428Z"
    }
   },
   "outputs": [
    {
     "data": {
      "text/plain": [
       "1225"
      ]
     },
     "execution_count": 57,
     "metadata": {},
     "output_type": "execute_result"
    }
   ],
   "source": [
    "selection_greedy = greedy_scores[(greedy_scores.score < 0.7) & (\n",
    "    greedy_scores.number_matching_fragments < 5)].drop_duplicates(subset='query_id')\n",
    "len(selection_greedy)"
   ]
  },
  {
   "cell_type": "code",
   "execution_count": 58,
   "id": "14311201",
   "metadata": {
    "ExecuteTime": {
     "end_time": "2023-01-06T08:26:17.845812Z",
     "start_time": "2023-01-06T08:26:17.385557Z"
    }
   },
   "outputs": [
    {
     "data": {
      "text/plain": [
       "1225"
      ]
     },
     "execution_count": 58,
     "metadata": {},
     "output_type": "execute_result"
    }
   ],
   "source": [
    "with open('./MSDIAL_OUTPUT/P2_N/Unknown_combined_pn.mgf', \"w\", encoding=\"utf-8\") as f_out:\n",
    "        py_mgf.write(selection_greedy.query_spec.apply(to_dict).values, f_out)\n",
    "f_out.close()\n",
    "\n",
    "# Unknown spectra\n",
    "iden_unknown_spectra = selection_greedy.query_spec.to_list()\n",
    "len(iden_unknown_spectra)"
   ]
  },
  {
   "cell_type": "code",
   "execution_count": 59,
   "id": "ef731b06",
   "metadata": {
    "ExecuteTime": {
     "end_time": "2023-01-06T08:26:18.063636Z",
     "start_time": "2023-01-06T08:26:18.047829Z"
    }
   },
   "outputs": [
    {
     "data": {
      "text/plain": [
       "{'Alignment ID': 6,\n",
       " 'precursor_mz': 102.95654,\n",
       " 'retentiontime': 1.007,\n",
       " 'compound_name': 'Unknown',\n",
       " 'precursortype': '[M-H]-',\n",
       " 'ionmode': 'n/a',\n",
       " 'charge': 0}"
      ]
     },
     "execution_count": 59,
     "metadata": {},
     "output_type": "execute_result"
    }
   ],
   "source": [
    "iden_unknown_spectra[0].metadata"
   ]
  },
  {
   "cell_type": "markdown",
   "id": "85a1a70c",
   "metadata": {},
   "source": [
    "## format output 2 according to sirius"
   ]
  },
  {
   "cell_type": "code",
   "execution_count": 60,
   "id": "c695ff77",
   "metadata": {
    "ExecuteTime": {
     "end_time": "2023-01-06T08:26:19.792478Z",
     "start_time": "2023-01-06T08:26:19.705841Z"
    }
   },
   "outputs": [
    {
     "data": {
      "text/plain": [
       "1225"
      ]
     },
     "execution_count": 60,
     "metadata": {},
     "output_type": "execute_result"
    }
   ],
   "source": [
    "sirius_input_spectra =[]\n",
    "for spec in iden_unknown_spectra:\n",
    "    metadata = spec.metadata\n",
    "    metadata['PEPMASS'] = metadata.pop('precursor_mz')\n",
    "    metadata['CHARGE'] = metadata.pop('charge') \n",
    "    sirius_input_spectra.append(Spectrum(mz=spec.peaks.mz,\n",
    "                            intensities=spec.peaks.mz,\n",
    "                            metadata=metadata))\n",
    "len(sirius_input_spectra )"
   ]
  },
  {
   "cell_type": "code",
   "execution_count": 61,
   "id": "691d1f8c",
   "metadata": {
    "ExecuteTime": {
     "end_time": "2023-01-06T08:26:20.229053Z",
     "start_time": "2023-01-06T08:26:20.219900Z"
    }
   },
   "outputs": [
    {
     "data": {
      "text/plain": [
       "{'Alignment ID': 6,\n",
       " 'retentiontime': 1.007,\n",
       " 'compound_name': 'Unknown',\n",
       " 'precursortype': '[M-H]-',\n",
       " 'ionmode': 'n/a',\n",
       " 'PEPMASS': 102.95654,\n",
       " 'CHARGE': 0}"
      ]
     },
     "execution_count": 61,
     "metadata": {},
     "output_type": "execute_result"
    }
   ],
   "source": [
    "sirius_input_spectra[0].metadata"
   ]
  },
  {
   "cell_type": "code",
   "execution_count": 62,
   "id": "c6bce289",
   "metadata": {
    "ExecuteTime": {
     "end_time": "2023-01-06T08:26:21.253300Z",
     "start_time": "2023-01-06T08:26:20.830538Z"
    }
   },
   "outputs": [
    {
     "data": {
      "application/vnd.jupyter.widget-view+json": {
       "model_id": "06df3dc666d7472f8478c1dcbb1ab28e",
       "version_major": 2,
       "version_minor": 0
      },
      "text/plain": [
       "  0%|          | 0/1225 [00:00<?, ?it/s]"
      ]
     },
     "metadata": {},
     "output_type": "display_data"
    }
   ],
   "source": [
    "with open('./MSDIAL_OUTPUT/P2_N/P2_sirius_input_spectra.mgf', \"w\", encoding=\"utf-8\") as f_out:\n",
    "    for i in tqdm(sirius_input_spectra):\n",
    "        #print(spectra.index(spectrum))\n",
    "        #i.plot()\n",
    "        #print(i.peaks.intensities)\n",
    "        #print(i.peaks.mz)\n",
    "        spectrum_dict = {\"m/z array\": i.peaks.mz,\n",
    "                             \"intensity array\": i.peaks.intensities,\n",
    "                             \"params\": i.metadata}\n",
    "        py_mgf.write([spectrum_dict], f_out)\n",
    "f_out.close()\n"
   ]
  },
  {
   "cell_type": "markdown",
   "id": "aea32224",
   "metadata": {},
   "source": [
    "# Run sirius"
   ]
  },
  {
   "cell_type": "markdown",
   "id": "a2eeb104",
   "metadata": {},
   "source": [
    "## run this command\n",
    "\n",
    "./bin/sirius --input demo-data/mgf/P2_sirius_input_spectra.mgf --output P2_output formula -p orbitrap structure"
   ]
  },
  {
   "cell_type": "code",
   "execution_count": 85,
   "id": "560302bd",
   "metadata": {
    "ExecuteTime": {
     "end_time": "2023-01-08T17:30:28.547347Z",
     "start_time": "2023-01-08T17:30:28.469093Z"
    }
   },
   "outputs": [],
   "source": [
    "#%run pylibmassfiles/src/converter.py -o C:/Users/kunda/Liver/MSDIAL_OUTPUT/P2_N/P2_output.mat C:/Users/kunda/Liver/MSDIAL_OUTPUT/P2_N/P2_sirius_input_spectra.mgf"
   ]
  },
  {
   "cell_type": "markdown",
   "id": "fde92174",
   "metadata": {},
   "source": [
    "# Run MS-Finder"
   ]
  },
  {
   "cell_type": "code",
   "execution_count": 1,
   "id": "9a7be701",
   "metadata": {
    "ExecuteTime": {
     "end_time": "2023-01-06T16:54:22.741963Z",
     "start_time": "2023-01-06T16:52:46.432194Z"
    }
   },
   "outputs": [],
   "source": [
    "!C:/Users/kunda/Downloads/Msfinder/MsfinderConsoleApp.exe predict -i C:/Users/kunda/Liver/MSDIAL_OUTPUT/P2_N/P2_output -o C:/Users/kunda/Liver/MSDIAL_OUTPUT/P2_N/P2_output -m C:/Users/kunda/Liver/MSDIAL_OUTPUT/P2_N/MsfinderConsoleApp-Param.txt"
   ]
  },
  {
   "cell_type": "code",
   "execution_count": 2,
   "id": "5182d0b0",
   "metadata": {
    "ExecuteTime": {
     "end_time": "2023-01-07T12:41:14.285630Z",
     "start_time": "2023-01-06T17:16:35.189660Z"
    }
   },
   "outputs": [],
   "source": [
    "!C:/Users/kunda/Downloads/Msfinder/MsfinderConsoleApp.exe mssearch -i C:/Users/kunda/Liver/MSDIAL_OUTPUT/P2_N/P2_output -o C:/Users/kunda/Liver/MSDIAL_OUTPUT/P2_N/P2_output -m C:/Users/kunda/Liver/MSDIAL_OUTPUT/P2_N/MsfinderConsoleApp-Param.txt"
   ]
  },
  {
   "cell_type": "code",
   "execution_count": null,
   "id": "83f1588b",
   "metadata": {},
   "outputs": [],
   "source": []
  }
 ],
 "metadata": {
  "kernelspec": {
   "display_name": "Python 3 (ipykernel)",
   "language": "python",
   "name": "python3"
  },
  "language_info": {
   "codemirror_mode": {
    "name": "ipython",
    "version": 3
   },
   "file_extension": ".py",
   "mimetype": "text/x-python",
   "name": "python",
   "nbconvert_exporter": "python",
   "pygments_lexer": "ipython3",
   "version": "3.10.9"
  },
  "toc": {
   "base_numbering": 1,
   "nav_menu": {},
   "number_sections": true,
   "sideBar": true,
   "skip_h1_title": false,
   "title_cell": "Table of Contents",
   "title_sidebar": "Contents",
   "toc_cell": false,
   "toc_position": {},
   "toc_section_display": true,
   "toc_window_display": true
  }
 },
 "nbformat": 4,
 "nbformat_minor": 5
}
